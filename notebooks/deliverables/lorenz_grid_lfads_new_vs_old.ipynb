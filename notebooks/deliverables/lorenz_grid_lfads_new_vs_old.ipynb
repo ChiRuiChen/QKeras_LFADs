{
 "cells": [
  {
   "cell_type": "code",
   "execution_count": 1,
   "id": "32525bbe",
   "metadata": {},
   "outputs": [],
   "source": [
    "import h5py\n",
    "import os\n",
    "import numpy as np\n",
    "import tensorflow as tf\n",
    "from sklearn.linear_model import Ridge\n",
    "from pprint import pprint\n",
    "import json\n",
    "import pandas as pd\n",
    "from plotly.subplots import make_subplots\n",
    "import plotly.graph_objects as go\n",
    "import plotly.express as px\n",
    "\n",
    "if not os.path.isdir('results/lorenz_grid_lfads_new_vs_old'):\n",
    "    os.mkdir('results/lorenz_grid_lfads_new_vs_old')"
   ]
  },
  {
   "cell_type": "code",
   "execution_count": 2,
   "id": "5e298746",
   "metadata": {},
   "outputs": [
    {
     "name": "stdout",
     "output_type": "stream",
     "text": [
      "Directories:\n",
      " train_trials=100|baselinerate=10|behaviour_sigma=1.0\n",
      " train_trials=100|baselinerate=15|behaviour_sigma=1.0\n",
      " train_trials=50|baselinerate=5|behaviour_sigma=2.0\n",
      " train_trials=200|baselinerate=15|behaviour_sigma=1.0\n",
      " train_trials=100|baselinerate=10|behaviour_sigma=2.0\n",
      " train_trials=200|baselinerate=10|behaviour_sigma=2.0\n",
      " train_trials=50|baselinerate=10|behaviour_sigma=0.5\n",
      " train_trials=200|baselinerate=5|behaviour_sigma=2.0\n",
      " train_trials=200|baselinerate=10|behaviour_sigma=0.5\n",
      " train_trials=100|baselinerate=5|behaviour_sigma=1.0\n",
      " train_trials=50|baselinerate=10|behaviour_sigma=2.0\n",
      " train_trials=100|baselinerate=15|behaviour_sigma=2.0\n",
      " train_trials=100|baselinerate=15|behaviour_sigma=0.5\n",
      " train_trials=200|baselinerate=10|behaviour_sigma=1.0\n",
      " train_trials=200|baselinerate=5|behaviour_sigma=0.5\n",
      " train_trials=100|baselinerate=5|behaviour_sigma=0.5\n",
      " train_trials=100|baselinerate=5|behaviour_sigma=2.0\n",
      " train_trials=50|baselinerate=15|behaviour_sigma=0.5\n",
      " train_trials=200|baselinerate=15|behaviour_sigma=0.5\n",
      " train_trials=200|baselinerate=15|behaviour_sigma=2.0\n",
      " train_trials=50|baselinerate=15|behaviour_sigma=1.0\n",
      " train_trials=50|baselinerate=15|behaviour_sigma=2.0\n",
      " train_trials=100|baselinerate=10|behaviour_sigma=0.5\n",
      " train_trials=50|baselinerate=5|behaviour_sigma=0.5\n",
      " train_trials=200|baselinerate=5|behaviour_sigma=1.0\n",
      " train_trials=50|baselinerate=10|behaviour_sigma=1.0\n",
      " train_trials=50|baselinerate=5|behaviour_sigma=1.0\n"
     ]
    }
   ],
   "source": [
    "grid_dir = './results/lorenz_grid_lfads_new_vs_old/results'\n",
    "subdirs = list(os.walk(grid_dir))[0][1]\n",
    "print('Directories:\\n', '\\n '.join(subdirs))"
   ]
  },
  {
   "cell_type": "markdown",
   "id": "91408031",
   "metadata": {},
   "source": [
    "## Old LFADS Implementation"
   ]
  },
  {
   "cell_type": "code",
   "execution_count": 3,
   "id": "259e7314",
   "metadata": {},
   "outputs": [
    {
     "name": "stdout",
     "output_type": "stream",
     "text": [
      "{'train_trials=100|baselinerate=10|behaviour_sigma=1.0': {'test': {'latent_r2': 0.881334133840644,\n",
      "                                                                   'neural_likelihood': 1186.8332918701171},\n",
      "                                                          'train': {'latent_r2': 0.9570005916059897,\n",
      "                                                                    'neural_likelihood': 1161.9935009765625},\n",
      "                                                          'validation': {'latent_r2': 0.8930675359436979,\n",
      "                                                                         'neural_likelihood': 1169.861806640625}},\n",
      " 'train_trials=100|baselinerate=10|behaviour_sigma=2.0': {'test': {'latent_r2': 0.8824828878780975,\n",
      "                                                                   'neural_likelihood': 1190.2368182373048},\n",
      "                                                          'train': {'latent_r2': 0.9596548173466684,\n",
      "                                                                    'neural_likelihood': 1179.4283111572265},\n",
      "                                                          'validation': {'latent_r2': 0.8845768773502748,\n",
      "                                                                         'neural_likelihood': 1192.60384765625}},\n",
      " 'train_trials=100|baselinerate=15|behaviour_sigma=0.5': {'test': {'latent_r2': 0.8927127439927164,\n",
      "                                                                   'neural_likelihood': 1532.1918310546876},\n",
      "                                                          'train': {'latent_r2': 0.9776465977136986,\n",
      "                                                                    'neural_likelihood': 1465.7047058105468},\n",
      "                                                          'validation': {'latent_r2': 0.9005302888162084,\n",
      "                                                                         'neural_likelihood': 1504.7451672363281}},\n",
      " 'train_trials=100|baselinerate=15|behaviour_sigma=1.0': {'test': {'latent_r2': 0.920196827839439,\n",
      "                                                                   'neural_likelihood': 1524.1455076904297},\n",
      "                                                          'train': {'latent_r2': 0.9805965156793924,\n",
      "                                                                    'neural_likelihood': 1491.1723461914062},\n",
      "                                                          'validation': {'latent_r2': 0.9127192066005402,\n",
      "                                                                         'neural_likelihood': 1527.9928308105468}},\n",
      " 'train_trials=100|baselinerate=15|behaviour_sigma=2.0': {'test': {'latent_r2': 0.9093596496135333,\n",
      "                                                                   'neural_likelihood': 1555.750100341797},\n",
      "                                                          'train': {'latent_r2': 0.9787321323728397,\n",
      "                                                                    'neural_likelihood': 1492.4664697265625},\n",
      "                                                          'validation': {'latent_r2': 0.9152840360767197,\n",
      "                                                                         'neural_likelihood': 1547.3028955078125}},\n",
      " 'train_trials=100|baselinerate=5|behaviour_sigma=0.5': {'test': {'latent_r2': 0.6542917594898268,\n",
      "                                                                  'neural_likelihood': 760.2524998168946},\n",
      "                                                         'train': {'latent_r2': 0.6907769009192584,\n",
      "                                                                   'neural_likelihood': 743.7037567138672},\n",
      "                                                         'validation': {'latent_r2': 0.6537758960227545,\n",
      "                                                                        'neural_likelihood': 757.7089117431641}},\n",
      " 'train_trials=100|baselinerate=5|behaviour_sigma=1.0': {'test': {'latent_r2': 0.8544446524084677,\n",
      "                                                                  'neural_likelihood': 759.2157068481446},\n",
      "                                                         'train': {'latent_r2': 0.9277611419169558,\n",
      "                                                                   'neural_likelihood': 731.5096966552734},\n",
      "                                                         'validation': {'latent_r2': 0.8546915602664776,\n",
      "                                                                        'neural_likelihood': 757.8383477783203}},\n",
      " 'train_trials=100|baselinerate=5|behaviour_sigma=2.0': {'test': {'latent_r2': 0.7315769325803372,\n",
      "                                                                  'neural_likelihood': 754.333716796875},\n",
      "                                                         'train': {'latent_r2': 0.7755970861328055,\n",
      "                                                                   'neural_likelihood': 745.2588653564453},\n",
      "                                                         'validation': {'latent_r2': 0.7088347680467224,\n",
      "                                                                        'neural_likelihood': 750.3643560791015}},\n",
      " 'train_trials=200|baselinerate=10|behaviour_sigma=0.5': {'test': {'latent_r2': 0.9473283855321234,\n",
      "                                                                   'neural_likelihood': 1168.889768005371},\n",
      "                                                          'train': {'latent_r2': 0.9737734194557364,\n",
      "                                                                    'neural_likelihood': 1170.7288717651368},\n",
      "                                                          'validation': {'latent_r2': 0.9435481232123528,\n",
      "                                                                         'neural_likelihood': 1159.2446408081055}},\n",
      " 'train_trials=200|baselinerate=10|behaviour_sigma=1.0': {'test': {'latent_r2': 0.956563872155642,\n",
      "                                                                   'neural_likelihood': 1181.2531486816406},\n",
      "                                                          'train': {'latent_r2': 0.977614987992477,\n",
      "                                                                    'neural_likelihood': 1166.4976812744142},\n",
      "                                                          'validation': {'latent_r2': 0.9521907001683763,\n",
      "                                                                         'neural_likelihood': 1181.3595190429687}},\n",
      " 'train_trials=200|baselinerate=10|behaviour_sigma=2.0': {'test': {'latent_r2': 0.9445253061310473,\n",
      "                                                                   'neural_likelihood': 1191.8492061157226},\n",
      "                                                          'train': {'latent_r2': 0.9745144683743405,\n",
      "                                                                    'neural_likelihood': 1182.3970303344727},\n",
      "                                                          'validation': {'latent_r2': 0.9468198738781309,\n",
      "                                                                         'neural_likelihood': 1189.3123724365234}},\n",
      " 'train_trials=200|baselinerate=15|behaviour_sigma=0.5': {'test': {'latent_r2': 0.9578789011189476,\n",
      "                                                                   'neural_likelihood': 1528.2217153320312},\n",
      "                                                          'train': {'latent_r2': 0.9818823367773741,\n",
      "                                                                    'neural_likelihood': 1526.9804650878907},\n",
      "                                                          'validation': {'latent_r2': 0.9595821556633239,\n",
      "                                                                         'neural_likelihood': 1524.9385723876953}},\n",
      " 'train_trials=200|baselinerate=15|behaviour_sigma=1.0': {'test': {'latent_r2': 0.9655547133285947,\n",
      "                                                                   'neural_likelihood': 1527.290138305664},\n",
      "                                                          'train': {'latent_r2': 0.9866542665304654,\n",
      "                                                                    'neural_likelihood': 1525.147164916992},\n",
      "                                                          'validation': {'latent_r2': 0.9644668073578969,\n",
      "                                                                         'neural_likelihood': 1527.950933227539}},\n",
      " 'train_trials=200|baselinerate=15|behaviour_sigma=2.0': {'test': {'latent_r2': 0.9642894763550367,\n",
      "                                                                   'neural_likelihood': 1540.7617385253907},\n",
      "                                                          'train': {'latent_r2': 0.9862433549802377,\n",
      "                                                                    'neural_likelihood': 1523.840653076172},\n",
      "                                                          'validation': {'latent_r2': 0.96314257755358,\n",
      "                                                                         'neural_likelihood': 1544.2471795654296}},\n",
      " 'train_trials=200|baselinerate=5|behaviour_sigma=0.5': {'test': {'latent_r2': 0.9273250927682338,\n",
      "                                                                  'neural_likelihood': 734.0224219360351},\n",
      "                                                         'train': {'latent_r2': 0.9443018456267817,\n",
      "                                                                   'neural_likelihood': 724.5954208374023},\n",
      "                                                         'validation': {'latent_r2': 0.9249200889675575,\n",
      "                                                                        'neural_likelihood': 729.5386279296876}},\n",
      " 'train_trials=200|baselinerate=5|behaviour_sigma=1.0': {'test': {'latent_r2': 0.7306457573598345,\n",
      "                                                                  'neural_likelihood': 758.7997730712891},\n",
      "                                                         'train': {'latent_r2': 0.7445130703536018,\n",
      "                                                                   'neural_likelihood': 750.2495724487304},\n",
      "                                                         'validation': {'latent_r2': 0.7229181188629087,\n",
      "                                                                        'neural_likelihood': 760.8974258422852}},\n",
      " 'train_trials=200|baselinerate=5|behaviour_sigma=2.0': {'test': {'latent_r2': 0.8233338246015489,\n",
      "                                                                  'neural_likelihood': 754.9375088500976},\n",
      "                                                         'train': {'latent_r2': 0.8464444408020635,\n",
      "                                                                   'neural_likelihood': 756.3615124511718},\n",
      "                                                         'validation': {'latent_r2': 0.843677555518896,\n",
      "                                                                        'neural_likelihood': 763.5129318237305}},\n",
      " 'train_trials=50|baselinerate=10|behaviour_sigma=0.5': {'test': {'latent_r2': 0.782543383131377,\n",
      "                                                                  'neural_likelihood': 1228.0525827636718},\n",
      "                                                         'train': {'latent_r2': 0.9377412396310945,\n",
      "                                                                   'neural_likelihood': 1197.2562390136718},\n",
      "                                                         'validation': {'latent_r2': 0.7353139919732965,\n",
      "                                                                        'neural_likelihood': 1215.647977294922}},\n",
      " 'train_trials=50|baselinerate=10|behaviour_sigma=1.0': {'test': {'latent_r2': 0.7871149001356945,\n",
      "                                                                  'neural_likelihood': 1224.2385633544923},\n",
      "                                                         'train': {'latent_r2': 0.9418162463665567,\n",
      "                                                                   'neural_likelihood': 1190.7249536132813},\n",
      "                                                         'validation': {'latent_r2': 0.7936192068514089,\n",
      "                                                                        'neural_likelihood': 1237.436015625}},\n",
      " 'train_trials=50|baselinerate=10|behaviour_sigma=2.0': {'test': {'latent_r2': 0.8189276859972827,\n",
      "                                                                  'neural_likelihood': 1211.0376229248047},\n",
      "                                                         'train': {'latent_r2': 0.941029011313221,\n",
      "                                                                   'neural_likelihood': 1176.3767456054688},\n",
      "                                                         'validation': {'latent_r2': 0.8047193187874402,\n",
      "                                                                        'neural_likelihood': 1194.6696313476561}},\n",
      " 'train_trials=50|baselinerate=15|behaviour_sigma=0.5': {'test': {'latent_r2': 0.8477032146531809,\n",
      "                                                                  'neural_likelihood': 1581.7280960693358},\n",
      "                                                         'train': {'latent_r2': 0.9677344200017124,\n",
      "                                                                   'neural_likelihood': 1543.1343383789062},\n",
      "                                                         'validation': {'latent_r2': 0.8671949334276428,\n",
      "                                                                        'neural_likelihood': 1538.0692260742187}},\n",
      " 'train_trials=50|baselinerate=15|behaviour_sigma=1.0': {'test': {'latent_r2': 0.8341909632588747,\n",
      "                                                                  'neural_likelihood': 1595.724064453125},\n",
      "                                                         'train': {'latent_r2': 0.9708431162376143,\n",
      "                                                                   'neural_likelihood': 1537.4977758789062},\n",
      "                                                         'validation': {'latent_r2': 0.8468690153447314,\n",
      "                                                                        'neural_likelihood': 1554.3763598632813}},\n",
      " 'train_trials=50|baselinerate=15|behaviour_sigma=2.0': {'test': {'latent_r2': 0.8177676797116792,\n",
      "                                                                  'neural_likelihood': 1587.0565804443359},\n",
      "                                                         'train': {'latent_r2': 0.967922107722339,\n",
      "                                                                   'neural_likelihood': 1522.22068359375},\n",
      "                                                         'validation': {'latent_r2': 0.8038043285433216,\n",
      "                                                                        'neural_likelihood': 1585.8041870117188}},\n",
      " 'train_trials=50|baselinerate=5|behaviour_sigma=0.5': {'test': {'latent_r2': 0.536083513159191,\n",
      "                                                                 'neural_likelihood': 784.6400449829101},\n",
      "                                                        'train': {'latent_r2': 0.6007521504167066,\n",
      "                                                                  'neural_likelihood': 756.2833996582032},\n",
      "                                                        'validation': {'latent_r2': 0.5196026231263629,\n",
      "                                                                       'neural_likelihood': 794.083837890625}},\n",
      " 'train_trials=50|baselinerate=5|behaviour_sigma=1.0': {'test': {'latent_r2': 0.6238831568204636,\n",
      "                                                                 'neural_likelihood': 771.2958394775391},\n",
      "                                                        'train': {'latent_r2': 0.6827188427142421,\n",
      "                                                                  'neural_likelihood': 755.8917114257813},\n",
      "                                                        'validation': {'latent_r2': 0.5864978583843123,\n",
      "                                                                       'neural_likelihood': 760.9063049316406}},\n",
      " 'train_trials=50|baselinerate=5|behaviour_sigma=2.0': {'test': {'latent_r2': 0.639788364038453,\n",
      "                                                                 'neural_likelihood': 751.5518990478515},\n",
      "                                                        'train': {'latent_r2': 0.8489000274429698,\n",
      "                                                                  'neural_likelihood': 729.9855444335938},\n",
      "                                                        'validation': {'latent_r2': 0.6396372726921253,\n",
      "                                                                       'neural_likelihood': 751.292265625}}}\n"
     ]
    }
   ],
   "source": [
    "datasets = [('train', 'train'), ('valid', 'validation'), ('test', 'test')]\n",
    "old_stats = {}\n",
    "\n",
    "for subdir in subdirs:\n",
    "    subdir_stats = {}\n",
    "    ground_truth_file = h5py.File(os.path.join(grid_dir,\n",
    "                                  subdir,\n",
    "                                  'dataset.h5'), 'r')\n",
    "    ridge_model = None\n",
    "    for dataset_old, dataset in datasets:\n",
    "        filename = os.path.join(grid_dir,\n",
    "                                      subdir, \n",
    "                                      'results_old', \n",
    "                                      'model_runs__%s_posterior_sample_and_average' % (\n",
    "                                      dataset_old))\n",
    "        if not os.path.isfile(filename):\n",
    "            continue\n",
    "        file = h5py.File(filename, 'r')\n",
    "        subdir_stats[dataset] = {}\n",
    "        subdir_stats[dataset]['neural_likelihood'] = np.mean(file['nll_bound_vaes'])\n",
    "        factors = np.asarray(file['factors'])\n",
    "        latent = np.asarray(ground_truth_file['%s_latent' % (dataset_old)])\n",
    "    \n",
    "        z_unsrt = factors.T.reshape(factors.T.shape[0], factors.T.shape[1] * factors.T.shape[2]).T\n",
    "        l = latent.T.reshape(latent.T.shape[0], latent.T.shape[1] * latent.T.shape[2]).T\n",
    "        if ridge_model is None:\n",
    "            ridge_model = Ridge(alpha=1.0)\n",
    "            ridge_model.fit(z_unsrt, l)\n",
    "        z_srt = ridge_model.predict(z_unsrt)\n",
    "        unexplained_error = tf.reduce_sum(tf.square(l - z_srt)).numpy()\n",
    "        total_error = tf.reduce_sum(tf.square(l - tf.reduce_mean(l, axis=[0,1]))).numpy()\n",
    "        l_r2 = 1 - (unexplained_error / (total_error + 1e-10))\n",
    "        subdir_stats[dataset]['latent_r2'] = l_r2\n",
    "    old_stats[subdir] = subdir_stats\n",
    "\n",
    "old_stats = {k: v for k, v in old_stats.items() if v}\n",
    "pprint(old_stats)"
   ]
  },
  {
   "cell_type": "markdown",
   "id": "6a7c20e9",
   "metadata": {},
   "source": [
    "## New LFADS Implementation"
   ]
  },
  {
   "cell_type": "code",
   "execution_count": 4,
   "id": "4b142321",
   "metadata": {},
   "outputs": [
    {
     "data": {
      "text/plain": [
       "'train_trials=50|baselinerate=5|behaviour_sigma=1.0'"
      ]
     },
     "execution_count": 4,
     "metadata": {},
     "output_type": "execute_result"
    }
   ],
   "source": [
    "subdir"
   ]
  },
  {
   "cell_type": "code",
   "execution_count": 5,
   "id": "4c34ed41",
   "metadata": {},
   "outputs": [
    {
     "name": "stdout",
     "output_type": "stream",
     "text": [
      "{'train_trials=100|baselinerate=10|behaviour_sigma=0.5': {'test': {'latent_r2': 0.9184358616756175,\n",
      "                                                                   'neural_likelihood': 1178.2435},\n",
      "                                                          'train': {'latent_r2': 0.9468965911015064,\n",
      "                                                                    'neural_likelihood': 1171.0834375},\n",
      "                                                          'validation': {'latent_r2': 0.9212446640867732,\n",
      "                                                                         'neural_likelihood': 1172.021640625}},\n",
      " 'train_trials=100|baselinerate=10|behaviour_sigma=1.0': {'test': {'latent_r2': 0.9174415205669474,\n",
      "                                                                   'neural_likelihood': 1163.80125},\n",
      "                                                          'train': {'latent_r2': 0.9495409036104827,\n",
      "                                                                    'neural_likelihood': 1150.66546875},\n",
      "                                                          'validation': {'latent_r2': 0.9182515172047255,\n",
      "                                                                         'neural_likelihood': 1148.515625}},\n",
      " 'train_trials=100|baselinerate=10|behaviour_sigma=2.0': {'test': {'latent_r2': 0.9112657555930073,\n",
      "                                                                   'neural_likelihood': 1172.423},\n",
      "                                                          'train': {'latent_r2': 0.9476497586821444,\n",
      "                                                                    'neural_likelihood': 1169.561875},\n",
      "                                                          'validation': {'latent_r2': 0.9145550499183858,\n",
      "                                                                         'neural_likelihood': 1174.76921875}},\n",
      " 'train_trials=100|baselinerate=15|behaviour_sigma=0.5': {'test': {'latent_r2': 0.9108396035864859,\n",
      "                                                                   'neural_likelihood': 1507.04975},\n",
      "                                                          'train': {'latent_r2': 0.961525290299284,\n",
      "                                                                    'neural_likelihood': 1456.19109375},\n",
      "                                                          'validation': {'latent_r2': 0.9234872654288379,\n",
      "                                                                         'neural_likelihood': 1480.7578125}},\n",
      " 'train_trials=100|baselinerate=15|behaviour_sigma=1.0': {'test': {'latent_r2': 0.9224349425414274,\n",
      "                                                                   'neural_likelihood': 1504.696375},\n",
      "                                                          'train': {'latent_r2': 0.959400384183254,\n",
      "                                                                    'neural_likelihood': 1483.51703125},\n",
      "                                                          'validation': {'latent_r2': 0.9272587761938638,\n",
      "                                                                         'neural_likelihood': 1504.43734375}},\n",
      " 'train_trials=100|baselinerate=15|behaviour_sigma=2.0': {'test': {'latent_r2': 0.9088857858821655,\n",
      "                                                                   'neural_likelihood': 1534.532125},\n",
      "                                                          'train': {'latent_r2': 0.954222924630704,\n",
      "                                                                    'neural_likelihood': 1486.9925},\n",
      "                                                          'validation': {'latent_r2': 0.9205548207448601,\n",
      "                                                                         'neural_likelihood': 1523.06296875}},\n",
      " 'train_trials=100|baselinerate=5|behaviour_sigma=0.5': {'test': {'latent_r2': 0.9002204864236683,\n",
      "                                                                  'neural_likelihood': 736.195},\n",
      "                                                         'train': {'latent_r2': 0.9184695693232502,\n",
      "                                                                   'neural_likelihood': 726.0753125},\n",
      "                                                         'validation': {'latent_r2': 0.9050609080081511,\n",
      "                                                                        'neural_likelihood': 732.549375}},\n",
      " 'train_trials=100|baselinerate=5|behaviour_sigma=1.0': {'test': {'latent_r2': 0.8830257964323985,\n",
      "                                                                  'neural_likelihood': 743.3838125},\n",
      "                                                         'train': {'latent_r2': 0.9189268914866182,\n",
      "                                                                   'neural_likelihood': 721.66921875},\n",
      "                                                         'validation': {'latent_r2': 0.8923299722571768,\n",
      "                                                                        'neural_likelihood': 741.814765625}},\n",
      " 'train_trials=100|baselinerate=5|behaviour_sigma=2.0': {'test': {'latent_r2': 0.8806117199815683,\n",
      "                                                                  'neural_likelihood': 733.8940625},\n",
      "                                                         'train': {'latent_r2': 0.9165966823586384,\n",
      "                                                                   'neural_likelihood': 726.359921875},\n",
      "                                                         'validation': {'latent_r2': 0.8601378007294729,\n",
      "                                                                        'neural_likelihood': 730.19453125}},\n",
      " 'train_trials=200|baselinerate=10|behaviour_sigma=0.5': {'test': {'latent_r2': 0.9291197296375728,\n",
      "                                                                   'neural_likelihood': 1159.945375},\n",
      "                                                          'train': {'latent_r2': 0.9409111161873143,\n",
      "                                                                    'neural_likelihood': 1165.77953125},\n",
      "                                                          'validation': {'latent_r2': 0.9289239145253056,\n",
      "                                                                         'neural_likelihood': 1149.53109375}},\n",
      " 'train_trials=200|baselinerate=10|behaviour_sigma=1.0': {'test': {'latent_r2': 0.9465677078229368,\n",
      "                                                                   'neural_likelihood': 1169.047},\n",
      "                                                          'train': {'latent_r2': 0.95365127924208,\n",
      "                                                                    'neural_likelihood': 1158.729765625},\n",
      "                                                          'validation': {'latent_r2': 0.9422634297482217,\n",
      "                                                                         'neural_likelihood': 1168.8090625}},\n",
      " 'train_trials=200|baselinerate=10|behaviour_sigma=2.0': {'test': {'latent_r2': 0.9268273375302732,\n",
      "                                                                   'neural_likelihood': 1180.739125},\n",
      "                                                          'train': {'latent_r2': 0.9375421336223624,\n",
      "                                                                    'neural_likelihood': 1177.080078125},\n",
      "                                                          'validation': {'latent_r2': 0.9267316541248958,\n",
      "                                                                         'neural_likelihood': 1178.513203125}},\n",
      " 'train_trials=200|baselinerate=15|behaviour_sigma=0.5': {'test': {'latent_r2': 0.9505556871743428,\n",
      "                                                                   'neural_likelihood': 1512.813625},\n",
      "                                                          'train': {'latent_r2': 0.9635496263220762,\n",
      "                                                                    'neural_likelihood': 1516.2934375},\n",
      "                                                          'validation': {'latent_r2': 0.9521514767257064,\n",
      "                                                                         'neural_likelihood': 1510.4028125}},\n",
      " 'train_trials=200|baselinerate=15|behaviour_sigma=1.0': {'test': {'latent_r2': 0.9487740652601498,\n",
      "                                                                   'neural_likelihood': 1513.96875},\n",
      "                                                          'train': {'latent_r2': 0.9599240148769592,\n",
      "                                                                    'neural_likelihood': 1517.8184375},\n",
      "                                                          'validation': {'latent_r2': 0.9450261923781159,\n",
      "                                                                         'neural_likelihood': 1516.5278125}},\n",
      " 'train_trials=200|baselinerate=15|behaviour_sigma=2.0': {'test': {'latent_r2': 0.9618094080590507,\n",
      "                                                                   'neural_likelihood': 1523.51325},\n",
      "                                                          'train': {'latent_r2': 0.9751916522194276,\n",
      "                                                                    'neural_likelihood': 1512.55328125},\n",
      "                                                          'validation': {'latent_r2': 0.9612385578864964,\n",
      "                                                                         'neural_likelihood': 1525.82765625}},\n",
      " 'train_trials=200|baselinerate=5|behaviour_sigma=0.5': {'test': {'latent_r2': 0.911627786887504,\n",
      "                                                                  'neural_likelihood': 726.2115625},\n",
      "                                                         'train': {'latent_r2': 0.9262951645480485,\n",
      "                                                                   'neural_likelihood': 718.316796875},\n",
      "                                                         'validation': {'latent_r2': 0.9169306573097261,\n",
      "                                                                        'neural_likelihood': 721.674921875}},\n",
      " 'train_trials=200|baselinerate=5|behaviour_sigma=1.0': {'test': {'latent_r2': 0.9094947711214131,\n",
      "                                                                  'neural_likelihood': 738.311125},\n",
      "                                                         'train': {'latent_r2': 0.9288815906971133,\n",
      "                                                                   'neural_likelihood': 730.934609375},\n",
      "                                                         'validation': {'latent_r2': 0.9035333624099975,\n",
      "                                                                        'neural_likelihood': 740.482890625}},\n",
      " 'train_trials=200|baselinerate=5|behaviour_sigma=2.0': {'test': {'latent_r2': 0.911804891464504,\n",
      "                                                                  'neural_likelihood': 737.405125},\n",
      "                                                         'train': {'latent_r2': 0.9169966064791514,\n",
      "                                                                   'neural_likelihood': 740.5796875},\n",
      "                                                         'validation': {'latent_r2': 0.9221292992365983,\n",
      "                                                                        'neural_likelihood': 745.75765625}},\n",
      " 'train_trials=50|baselinerate=10|behaviour_sigma=0.5': {'test': {'latent_r2': 0.845714749900305,\n",
      "                                                                  'neural_likelihood': 1199.906625},\n",
      "                                                         'train': {'latent_r2': 0.9285925400693983,\n",
      "                                                                   'neural_likelihood': 1181.79640625},\n",
      "                                                         'validation': {'latent_r2': 0.8234865650281077,\n",
      "                                                                        'neural_likelihood': 1186.6253125}},\n",
      " 'train_trials=50|baselinerate=10|behaviour_sigma=1.0': {'test': {'latent_r2': 0.8145915955592846,\n",
      "                                                                  'neural_likelihood': 1198.506875},\n",
      "                                                         'train': {'latent_r2': 0.9321704524183817,\n",
      "                                                                   'neural_likelihood': 1176.02125},\n",
      "                                                         'validation': {'latent_r2': 0.8159146804773708,\n",
      "                                                                        'neural_likelihood': 1209.1896875}},\n",
      " 'train_trials=50|baselinerate=10|behaviour_sigma=2.0': {'test': {'latent_r2': 0.8513111178958928,\n",
      "                                                                  'neural_likelihood': 1187.304375},\n",
      "                                                         'train': {'latent_r2': 0.9375418183160824,\n",
      "                                                                   'neural_likelihood': 1163.55203125},\n",
      "                                                         'validation': {'latent_r2': 0.8507860415743349,\n",
      "                                                                        'neural_likelihood': 1170.036875}},\n",
      " 'train_trials=50|baselinerate=15|behaviour_sigma=0.5': {'test': {'latent_r2': 0.812208393250279,\n",
      "                                                                  'neural_likelihood': 1566.255875},\n",
      "                                                         'train': {'latent_r2': 0.9474622218520528,\n",
      "                                                                   'neural_likelihood': 1531.7825},\n",
      "                                                         'validation': {'latent_r2': 0.8279047418300494,\n",
      "                                                                        'neural_likelihood': 1525.91609375}},\n",
      " 'train_trials=50|baselinerate=15|behaviour_sigma=1.0': {'test': {'latent_r2': 0.8117111190857603,\n",
      "                                                                  'neural_likelihood': 1583.04675},\n",
      "                                                         'train': {'latent_r2': 0.9476356491308162,\n",
      "                                                                   'neural_likelihood': 1531.8821875},\n",
      "                                                         'validation': {'latent_r2': 0.8291966057117149,\n",
      "                                                                        'neural_likelihood': 1538.6196875}},\n",
      " 'train_trials=50|baselinerate=15|behaviour_sigma=2.0': {'test': {'latent_r2': 0.8460561707296762,\n",
      "                                                                  'neural_likelihood': 1553.27325},\n",
      "                                                         'train': {'latent_r2': 0.9437421246978495,\n",
      "                                                                   'neural_likelihood': 1518.15875},\n",
      "                                                         'validation': {'latent_r2': 0.8309101469916846,\n",
      "                                                                        'neural_likelihood': 1551.93984375}},\n",
      " 'train_trials=50|baselinerate=5|behaviour_sigma=0.5': {'test': {'latent_r2': 0.8125157332322487,\n",
      "                                                                 'neural_likelihood': 754.888},\n",
      "                                                        'train': {'latent_r2': 0.8843712012528945,\n",
      "                                                                  'neural_likelihood': 732.26109375},\n",
      "                                                        'validation': {'latent_r2': 0.7943460933693991,\n",
      "                                                                       'neural_likelihood': 765.049921875}},\n",
      " 'train_trials=50|baselinerate=5|behaviour_sigma=1.0': {'test': {'latent_r2': 0.8067480846251038,\n",
      "                                                                 'neural_likelihood': 743.8174375},\n",
      "                                                        'train': {'latent_r2': 0.8545576694061319,\n",
      "                                                                  'neural_likelihood': 730.503125},\n",
      "                                                        'validation': {'latent_r2': 0.8012517120289887,\n",
      "                                                                       'neural_likelihood': 732.6009375}},\n",
      " 'train_trials=50|baselinerate=5|behaviour_sigma=2.0': {'test': {'latent_r2': 0.8402792628593045,\n",
      "                                                                 'neural_likelihood': 723.1175625},\n",
      "                                                        'train': {'latent_r2': 0.9063664751808629,\n",
      "                                                                  'neural_likelihood': 714.24578125},\n",
      "                                                        'validation': {'latent_r2': 0.8647280694664555,\n",
      "                                                                       'neural_likelihood': 721.583046875}}}\n"
     ]
    }
   ],
   "source": [
    "new_stats = {}\n",
    "setup = {}\n",
    "\n",
    "for subdir in subdirs:\n",
    "    try:\n",
    "        with open(os.path.join(grid_dir, subdir, 'results_lfads', 'performance.json'), 'r') as pfp:\n",
    "            perf_data = json.load(pfp)\n",
    "        new_stats[subdir] = {k: {vk: vv for vk, vv in v.items() if vv is not None} \n",
    "                             for k, v in perf_data.items()}\n",
    "    except BaseException as e:\n",
    "        pass\n",
    "\n",
    "    with open(os.path.join(grid_dir, subdir, 'results_lfads', 'metadata.json'), 'r') as mfp:\n",
    "        metadata = json.load(mfp)\n",
    "    setup[subdir] = {k: v for k, v in metadata.items() if v is not None}\n",
    "    \n",
    "pprint(new_stats)"
   ]
  },
  {
   "cell_type": "markdown",
   "id": "de0fe6c2",
   "metadata": {},
   "source": [
    "## Plotting"
   ]
  },
  {
   "cell_type": "code",
   "execution_count": 6,
   "id": "b1accd89",
   "metadata": {},
   "outputs": [
    {
     "data": {
      "text/html": [
       "<div>\n",
       "<style scoped>\n",
       "    .dataframe tbody tr th:only-of-type {\n",
       "        vertical-align: middle;\n",
       "    }\n",
       "\n",
       "    .dataframe tbody tr th {\n",
       "        vertical-align: top;\n",
       "    }\n",
       "\n",
       "    .dataframe thead th {\n",
       "        text-align: right;\n",
       "    }\n",
       "</style>\n",
       "<table border=\"1\" class=\"dataframe\">\n",
       "  <thead>\n",
       "    <tr style=\"text-align: right;\">\n",
       "      <th></th>\n",
       "      <th>trials</th>\n",
       "      <th>baseline_rate</th>\n",
       "      <th>behaviour_sigma</th>\n",
       "      <th>train_r2</th>\n",
       "      <th>train_likelihood</th>\n",
       "      <th>validation_r2</th>\n",
       "      <th>validation_likelihood</th>\n",
       "      <th>test_r2</th>\n",
       "      <th>test_likelihood</th>\n",
       "    </tr>\n",
       "  </thead>\n",
       "  <tbody>\n",
       "    <tr>\n",
       "      <th>train_trials=50|baselinerate=5|behaviour_sigma=0.5</th>\n",
       "      <td>50</td>\n",
       "      <td>5</td>\n",
       "      <td>0.5</td>\n",
       "      <td>0.884371</td>\n",
       "      <td>732.261094</td>\n",
       "      <td>0.794346</td>\n",
       "      <td>765.049922</td>\n",
       "      <td>0.812516</td>\n",
       "      <td>754.888000</td>\n",
       "    </tr>\n",
       "    <tr>\n",
       "      <th>train_trials=50|baselinerate=5|behaviour_sigma=1.0</th>\n",
       "      <td>50</td>\n",
       "      <td>5</td>\n",
       "      <td>1.0</td>\n",
       "      <td>0.854558</td>\n",
       "      <td>730.503125</td>\n",
       "      <td>0.801252</td>\n",
       "      <td>732.600937</td>\n",
       "      <td>0.806748</td>\n",
       "      <td>743.817437</td>\n",
       "    </tr>\n",
       "    <tr>\n",
       "      <th>train_trials=50|baselinerate=5|behaviour_sigma=2.0</th>\n",
       "      <td>50</td>\n",
       "      <td>5</td>\n",
       "      <td>2.0</td>\n",
       "      <td>0.906366</td>\n",
       "      <td>714.245781</td>\n",
       "      <td>0.864728</td>\n",
       "      <td>721.583047</td>\n",
       "      <td>0.840279</td>\n",
       "      <td>723.117562</td>\n",
       "    </tr>\n",
       "    <tr>\n",
       "      <th>train_trials=50|baselinerate=10|behaviour_sigma=0.5</th>\n",
       "      <td>50</td>\n",
       "      <td>10</td>\n",
       "      <td>0.5</td>\n",
       "      <td>0.928593</td>\n",
       "      <td>1181.796406</td>\n",
       "      <td>0.823487</td>\n",
       "      <td>1186.625313</td>\n",
       "      <td>0.845715</td>\n",
       "      <td>1199.906625</td>\n",
       "    </tr>\n",
       "    <tr>\n",
       "      <th>train_trials=50|baselinerate=10|behaviour_sigma=1.0</th>\n",
       "      <td>50</td>\n",
       "      <td>10</td>\n",
       "      <td>1.0</td>\n",
       "      <td>0.932170</td>\n",
       "      <td>1176.021250</td>\n",
       "      <td>0.815915</td>\n",
       "      <td>1209.189687</td>\n",
       "      <td>0.814592</td>\n",
       "      <td>1198.506875</td>\n",
       "    </tr>\n",
       "    <tr>\n",
       "      <th>train_trials=50|baselinerate=10|behaviour_sigma=2.0</th>\n",
       "      <td>50</td>\n",
       "      <td>10</td>\n",
       "      <td>2.0</td>\n",
       "      <td>0.937542</td>\n",
       "      <td>1163.552031</td>\n",
       "      <td>0.850786</td>\n",
       "      <td>1170.036875</td>\n",
       "      <td>0.851311</td>\n",
       "      <td>1187.304375</td>\n",
       "    </tr>\n",
       "    <tr>\n",
       "      <th>train_trials=50|baselinerate=15|behaviour_sigma=0.5</th>\n",
       "      <td>50</td>\n",
       "      <td>15</td>\n",
       "      <td>0.5</td>\n",
       "      <td>0.947462</td>\n",
       "      <td>1531.782500</td>\n",
       "      <td>0.827905</td>\n",
       "      <td>1525.916094</td>\n",
       "      <td>0.812208</td>\n",
       "      <td>1566.255875</td>\n",
       "    </tr>\n",
       "    <tr>\n",
       "      <th>train_trials=50|baselinerate=15|behaviour_sigma=1.0</th>\n",
       "      <td>50</td>\n",
       "      <td>15</td>\n",
       "      <td>1.0</td>\n",
       "      <td>0.947636</td>\n",
       "      <td>1531.882188</td>\n",
       "      <td>0.829197</td>\n",
       "      <td>1538.619688</td>\n",
       "      <td>0.811711</td>\n",
       "      <td>1583.046750</td>\n",
       "    </tr>\n",
       "    <tr>\n",
       "      <th>train_trials=50|baselinerate=15|behaviour_sigma=2.0</th>\n",
       "      <td>50</td>\n",
       "      <td>15</td>\n",
       "      <td>2.0</td>\n",
       "      <td>0.943742</td>\n",
       "      <td>1518.158750</td>\n",
       "      <td>0.830910</td>\n",
       "      <td>1551.939844</td>\n",
       "      <td>0.846056</td>\n",
       "      <td>1553.273250</td>\n",
       "    </tr>\n",
       "    <tr>\n",
       "      <th>train_trials=100|baselinerate=5|behaviour_sigma=0.5</th>\n",
       "      <td>100</td>\n",
       "      <td>5</td>\n",
       "      <td>0.5</td>\n",
       "      <td>0.918470</td>\n",
       "      <td>726.075312</td>\n",
       "      <td>0.905061</td>\n",
       "      <td>732.549375</td>\n",
       "      <td>0.900220</td>\n",
       "      <td>736.195000</td>\n",
       "    </tr>\n",
       "    <tr>\n",
       "      <th>train_trials=100|baselinerate=5|behaviour_sigma=1.0</th>\n",
       "      <td>100</td>\n",
       "      <td>5</td>\n",
       "      <td>1.0</td>\n",
       "      <td>0.918927</td>\n",
       "      <td>721.669219</td>\n",
       "      <td>0.892330</td>\n",
       "      <td>741.814766</td>\n",
       "      <td>0.883026</td>\n",
       "      <td>743.383812</td>\n",
       "    </tr>\n",
       "    <tr>\n",
       "      <th>train_trials=100|baselinerate=5|behaviour_sigma=2.0</th>\n",
       "      <td>100</td>\n",
       "      <td>5</td>\n",
       "      <td>2.0</td>\n",
       "      <td>0.916597</td>\n",
       "      <td>726.359922</td>\n",
       "      <td>0.860138</td>\n",
       "      <td>730.194531</td>\n",
       "      <td>0.880612</td>\n",
       "      <td>733.894063</td>\n",
       "    </tr>\n",
       "    <tr>\n",
       "      <th>train_trials=100|baselinerate=10|behaviour_sigma=0.5</th>\n",
       "      <td>100</td>\n",
       "      <td>10</td>\n",
       "      <td>0.5</td>\n",
       "      <td>0.946897</td>\n",
       "      <td>1171.083437</td>\n",
       "      <td>0.921245</td>\n",
       "      <td>1172.021641</td>\n",
       "      <td>0.918436</td>\n",
       "      <td>1178.243500</td>\n",
       "    </tr>\n",
       "    <tr>\n",
       "      <th>train_trials=100|baselinerate=10|behaviour_sigma=1.0</th>\n",
       "      <td>100</td>\n",
       "      <td>10</td>\n",
       "      <td>1.0</td>\n",
       "      <td>0.949541</td>\n",
       "      <td>1150.665469</td>\n",
       "      <td>0.918252</td>\n",
       "      <td>1148.515625</td>\n",
       "      <td>0.917442</td>\n",
       "      <td>1163.801250</td>\n",
       "    </tr>\n",
       "    <tr>\n",
       "      <th>train_trials=100|baselinerate=10|behaviour_sigma=2.0</th>\n",
       "      <td>100</td>\n",
       "      <td>10</td>\n",
       "      <td>2.0</td>\n",
       "      <td>0.947650</td>\n",
       "      <td>1169.561875</td>\n",
       "      <td>0.914555</td>\n",
       "      <td>1174.769219</td>\n",
       "      <td>0.911266</td>\n",
       "      <td>1172.423000</td>\n",
       "    </tr>\n",
       "    <tr>\n",
       "      <th>train_trials=100|baselinerate=15|behaviour_sigma=0.5</th>\n",
       "      <td>100</td>\n",
       "      <td>15</td>\n",
       "      <td>0.5</td>\n",
       "      <td>0.961525</td>\n",
       "      <td>1456.191094</td>\n",
       "      <td>0.923487</td>\n",
       "      <td>1480.757812</td>\n",
       "      <td>0.910840</td>\n",
       "      <td>1507.049750</td>\n",
       "    </tr>\n",
       "    <tr>\n",
       "      <th>train_trials=100|baselinerate=15|behaviour_sigma=1.0</th>\n",
       "      <td>100</td>\n",
       "      <td>15</td>\n",
       "      <td>1.0</td>\n",
       "      <td>0.959400</td>\n",
       "      <td>1483.517031</td>\n",
       "      <td>0.927259</td>\n",
       "      <td>1504.437344</td>\n",
       "      <td>0.922435</td>\n",
       "      <td>1504.696375</td>\n",
       "    </tr>\n",
       "    <tr>\n",
       "      <th>train_trials=100|baselinerate=15|behaviour_sigma=2.0</th>\n",
       "      <td>100</td>\n",
       "      <td>15</td>\n",
       "      <td>2.0</td>\n",
       "      <td>0.954223</td>\n",
       "      <td>1486.992500</td>\n",
       "      <td>0.920555</td>\n",
       "      <td>1523.062969</td>\n",
       "      <td>0.908886</td>\n",
       "      <td>1534.532125</td>\n",
       "    </tr>\n",
       "    <tr>\n",
       "      <th>train_trials=200|baselinerate=5|behaviour_sigma=0.5</th>\n",
       "      <td>200</td>\n",
       "      <td>5</td>\n",
       "      <td>0.5</td>\n",
       "      <td>0.926295</td>\n",
       "      <td>718.316797</td>\n",
       "      <td>0.916931</td>\n",
       "      <td>721.674922</td>\n",
       "      <td>0.911628</td>\n",
       "      <td>726.211563</td>\n",
       "    </tr>\n",
       "    <tr>\n",
       "      <th>train_trials=200|baselinerate=5|behaviour_sigma=1.0</th>\n",
       "      <td>200</td>\n",
       "      <td>5</td>\n",
       "      <td>1.0</td>\n",
       "      <td>0.928882</td>\n",
       "      <td>730.934609</td>\n",
       "      <td>0.903533</td>\n",
       "      <td>740.482891</td>\n",
       "      <td>0.909495</td>\n",
       "      <td>738.311125</td>\n",
       "    </tr>\n",
       "    <tr>\n",
       "      <th>train_trials=200|baselinerate=5|behaviour_sigma=2.0</th>\n",
       "      <td>200</td>\n",
       "      <td>5</td>\n",
       "      <td>2.0</td>\n",
       "      <td>0.916997</td>\n",
       "      <td>740.579687</td>\n",
       "      <td>0.922129</td>\n",
       "      <td>745.757656</td>\n",
       "      <td>0.911805</td>\n",
       "      <td>737.405125</td>\n",
       "    </tr>\n",
       "    <tr>\n",
       "      <th>train_trials=200|baselinerate=10|behaviour_sigma=0.5</th>\n",
       "      <td>200</td>\n",
       "      <td>10</td>\n",
       "      <td>0.5</td>\n",
       "      <td>0.940911</td>\n",
       "      <td>1165.779531</td>\n",
       "      <td>0.928924</td>\n",
       "      <td>1149.531094</td>\n",
       "      <td>0.929120</td>\n",
       "      <td>1159.945375</td>\n",
       "    </tr>\n",
       "    <tr>\n",
       "      <th>train_trials=200|baselinerate=10|behaviour_sigma=1.0</th>\n",
       "      <td>200</td>\n",
       "      <td>10</td>\n",
       "      <td>1.0</td>\n",
       "      <td>0.953651</td>\n",
       "      <td>1158.729766</td>\n",
       "      <td>0.942263</td>\n",
       "      <td>1168.809062</td>\n",
       "      <td>0.946568</td>\n",
       "      <td>1169.047000</td>\n",
       "    </tr>\n",
       "    <tr>\n",
       "      <th>train_trials=200|baselinerate=10|behaviour_sigma=2.0</th>\n",
       "      <td>200</td>\n",
       "      <td>10</td>\n",
       "      <td>2.0</td>\n",
       "      <td>0.937542</td>\n",
       "      <td>1177.080078</td>\n",
       "      <td>0.926732</td>\n",
       "      <td>1178.513203</td>\n",
       "      <td>0.926827</td>\n",
       "      <td>1180.739125</td>\n",
       "    </tr>\n",
       "    <tr>\n",
       "      <th>train_trials=200|baselinerate=15|behaviour_sigma=0.5</th>\n",
       "      <td>200</td>\n",
       "      <td>15</td>\n",
       "      <td>0.5</td>\n",
       "      <td>0.963550</td>\n",
       "      <td>1516.293437</td>\n",
       "      <td>0.952151</td>\n",
       "      <td>1510.402812</td>\n",
       "      <td>0.950556</td>\n",
       "      <td>1512.813625</td>\n",
       "    </tr>\n",
       "    <tr>\n",
       "      <th>train_trials=200|baselinerate=15|behaviour_sigma=1.0</th>\n",
       "      <td>200</td>\n",
       "      <td>15</td>\n",
       "      <td>1.0</td>\n",
       "      <td>0.959924</td>\n",
       "      <td>1517.818438</td>\n",
       "      <td>0.945026</td>\n",
       "      <td>1516.527812</td>\n",
       "      <td>0.948774</td>\n",
       "      <td>1513.968750</td>\n",
       "    </tr>\n",
       "    <tr>\n",
       "      <th>train_trials=200|baselinerate=15|behaviour_sigma=2.0</th>\n",
       "      <td>200</td>\n",
       "      <td>15</td>\n",
       "      <td>2.0</td>\n",
       "      <td>0.975192</td>\n",
       "      <td>1512.553281</td>\n",
       "      <td>0.961239</td>\n",
       "      <td>1525.827656</td>\n",
       "      <td>0.961809</td>\n",
       "      <td>1523.513250</td>\n",
       "    </tr>\n",
       "  </tbody>\n",
       "</table>\n",
       "</div>"
      ],
      "text/plain": [
       "                                                    trials  baseline_rate  \\\n",
       "train_trials=50|baselinerate=5|behaviour_sigma=0.5      50              5   \n",
       "train_trials=50|baselinerate=5|behaviour_sigma=1.0      50              5   \n",
       "train_trials=50|baselinerate=5|behaviour_sigma=2.0      50              5   \n",
       "train_trials=50|baselinerate=10|behaviour_sigma...      50             10   \n",
       "train_trials=50|baselinerate=10|behaviour_sigma...      50             10   \n",
       "train_trials=50|baselinerate=10|behaviour_sigma...      50             10   \n",
       "train_trials=50|baselinerate=15|behaviour_sigma...      50             15   \n",
       "train_trials=50|baselinerate=15|behaviour_sigma...      50             15   \n",
       "train_trials=50|baselinerate=15|behaviour_sigma...      50             15   \n",
       "train_trials=100|baselinerate=5|behaviour_sigma...     100              5   \n",
       "train_trials=100|baselinerate=5|behaviour_sigma...     100              5   \n",
       "train_trials=100|baselinerate=5|behaviour_sigma...     100              5   \n",
       "train_trials=100|baselinerate=10|behaviour_sigm...     100             10   \n",
       "train_trials=100|baselinerate=10|behaviour_sigm...     100             10   \n",
       "train_trials=100|baselinerate=10|behaviour_sigm...     100             10   \n",
       "train_trials=100|baselinerate=15|behaviour_sigm...     100             15   \n",
       "train_trials=100|baselinerate=15|behaviour_sigm...     100             15   \n",
       "train_trials=100|baselinerate=15|behaviour_sigm...     100             15   \n",
       "train_trials=200|baselinerate=5|behaviour_sigma...     200              5   \n",
       "train_trials=200|baselinerate=5|behaviour_sigma...     200              5   \n",
       "train_trials=200|baselinerate=5|behaviour_sigma...     200              5   \n",
       "train_trials=200|baselinerate=10|behaviour_sigm...     200             10   \n",
       "train_trials=200|baselinerate=10|behaviour_sigm...     200             10   \n",
       "train_trials=200|baselinerate=10|behaviour_sigm...     200             10   \n",
       "train_trials=200|baselinerate=15|behaviour_sigm...     200             15   \n",
       "train_trials=200|baselinerate=15|behaviour_sigm...     200             15   \n",
       "train_trials=200|baselinerate=15|behaviour_sigm...     200             15   \n",
       "\n",
       "                                                    behaviour_sigma  train_r2  \\\n",
       "train_trials=50|baselinerate=5|behaviour_sigma=0.5              0.5  0.884371   \n",
       "train_trials=50|baselinerate=5|behaviour_sigma=1.0              1.0  0.854558   \n",
       "train_trials=50|baselinerate=5|behaviour_sigma=2.0              2.0  0.906366   \n",
       "train_trials=50|baselinerate=10|behaviour_sigma...              0.5  0.928593   \n",
       "train_trials=50|baselinerate=10|behaviour_sigma...              1.0  0.932170   \n",
       "train_trials=50|baselinerate=10|behaviour_sigma...              2.0  0.937542   \n",
       "train_trials=50|baselinerate=15|behaviour_sigma...              0.5  0.947462   \n",
       "train_trials=50|baselinerate=15|behaviour_sigma...              1.0  0.947636   \n",
       "train_trials=50|baselinerate=15|behaviour_sigma...              2.0  0.943742   \n",
       "train_trials=100|baselinerate=5|behaviour_sigma...              0.5  0.918470   \n",
       "train_trials=100|baselinerate=5|behaviour_sigma...              1.0  0.918927   \n",
       "train_trials=100|baselinerate=5|behaviour_sigma...              2.0  0.916597   \n",
       "train_trials=100|baselinerate=10|behaviour_sigm...              0.5  0.946897   \n",
       "train_trials=100|baselinerate=10|behaviour_sigm...              1.0  0.949541   \n",
       "train_trials=100|baselinerate=10|behaviour_sigm...              2.0  0.947650   \n",
       "train_trials=100|baselinerate=15|behaviour_sigm...              0.5  0.961525   \n",
       "train_trials=100|baselinerate=15|behaviour_sigm...              1.0  0.959400   \n",
       "train_trials=100|baselinerate=15|behaviour_sigm...              2.0  0.954223   \n",
       "train_trials=200|baselinerate=5|behaviour_sigma...              0.5  0.926295   \n",
       "train_trials=200|baselinerate=5|behaviour_sigma...              1.0  0.928882   \n",
       "train_trials=200|baselinerate=5|behaviour_sigma...              2.0  0.916997   \n",
       "train_trials=200|baselinerate=10|behaviour_sigm...              0.5  0.940911   \n",
       "train_trials=200|baselinerate=10|behaviour_sigm...              1.0  0.953651   \n",
       "train_trials=200|baselinerate=10|behaviour_sigm...              2.0  0.937542   \n",
       "train_trials=200|baselinerate=15|behaviour_sigm...              0.5  0.963550   \n",
       "train_trials=200|baselinerate=15|behaviour_sigm...              1.0  0.959924   \n",
       "train_trials=200|baselinerate=15|behaviour_sigm...              2.0  0.975192   \n",
       "\n",
       "                                                    train_likelihood  \\\n",
       "train_trials=50|baselinerate=5|behaviour_sigma=0.5        732.261094   \n",
       "train_trials=50|baselinerate=5|behaviour_sigma=1.0        730.503125   \n",
       "train_trials=50|baselinerate=5|behaviour_sigma=2.0        714.245781   \n",
       "train_trials=50|baselinerate=10|behaviour_sigma...       1181.796406   \n",
       "train_trials=50|baselinerate=10|behaviour_sigma...       1176.021250   \n",
       "train_trials=50|baselinerate=10|behaviour_sigma...       1163.552031   \n",
       "train_trials=50|baselinerate=15|behaviour_sigma...       1531.782500   \n",
       "train_trials=50|baselinerate=15|behaviour_sigma...       1531.882188   \n",
       "train_trials=50|baselinerate=15|behaviour_sigma...       1518.158750   \n",
       "train_trials=100|baselinerate=5|behaviour_sigma...        726.075312   \n",
       "train_trials=100|baselinerate=5|behaviour_sigma...        721.669219   \n",
       "train_trials=100|baselinerate=5|behaviour_sigma...        726.359922   \n",
       "train_trials=100|baselinerate=10|behaviour_sigm...       1171.083437   \n",
       "train_trials=100|baselinerate=10|behaviour_sigm...       1150.665469   \n",
       "train_trials=100|baselinerate=10|behaviour_sigm...       1169.561875   \n",
       "train_trials=100|baselinerate=15|behaviour_sigm...       1456.191094   \n",
       "train_trials=100|baselinerate=15|behaviour_sigm...       1483.517031   \n",
       "train_trials=100|baselinerate=15|behaviour_sigm...       1486.992500   \n",
       "train_trials=200|baselinerate=5|behaviour_sigma...        718.316797   \n",
       "train_trials=200|baselinerate=5|behaviour_sigma...        730.934609   \n",
       "train_trials=200|baselinerate=5|behaviour_sigma...        740.579687   \n",
       "train_trials=200|baselinerate=10|behaviour_sigm...       1165.779531   \n",
       "train_trials=200|baselinerate=10|behaviour_sigm...       1158.729766   \n",
       "train_trials=200|baselinerate=10|behaviour_sigm...       1177.080078   \n",
       "train_trials=200|baselinerate=15|behaviour_sigm...       1516.293437   \n",
       "train_trials=200|baselinerate=15|behaviour_sigm...       1517.818438   \n",
       "train_trials=200|baselinerate=15|behaviour_sigm...       1512.553281   \n",
       "\n",
       "                                                    validation_r2  \\\n",
       "train_trials=50|baselinerate=5|behaviour_sigma=0.5       0.794346   \n",
       "train_trials=50|baselinerate=5|behaviour_sigma=1.0       0.801252   \n",
       "train_trials=50|baselinerate=5|behaviour_sigma=2.0       0.864728   \n",
       "train_trials=50|baselinerate=10|behaviour_sigma...       0.823487   \n",
       "train_trials=50|baselinerate=10|behaviour_sigma...       0.815915   \n",
       "train_trials=50|baselinerate=10|behaviour_sigma...       0.850786   \n",
       "train_trials=50|baselinerate=15|behaviour_sigma...       0.827905   \n",
       "train_trials=50|baselinerate=15|behaviour_sigma...       0.829197   \n",
       "train_trials=50|baselinerate=15|behaviour_sigma...       0.830910   \n",
       "train_trials=100|baselinerate=5|behaviour_sigma...       0.905061   \n",
       "train_trials=100|baselinerate=5|behaviour_sigma...       0.892330   \n",
       "train_trials=100|baselinerate=5|behaviour_sigma...       0.860138   \n",
       "train_trials=100|baselinerate=10|behaviour_sigm...       0.921245   \n",
       "train_trials=100|baselinerate=10|behaviour_sigm...       0.918252   \n",
       "train_trials=100|baselinerate=10|behaviour_sigm...       0.914555   \n",
       "train_trials=100|baselinerate=15|behaviour_sigm...       0.923487   \n",
       "train_trials=100|baselinerate=15|behaviour_sigm...       0.927259   \n",
       "train_trials=100|baselinerate=15|behaviour_sigm...       0.920555   \n",
       "train_trials=200|baselinerate=5|behaviour_sigma...       0.916931   \n",
       "train_trials=200|baselinerate=5|behaviour_sigma...       0.903533   \n",
       "train_trials=200|baselinerate=5|behaviour_sigma...       0.922129   \n",
       "train_trials=200|baselinerate=10|behaviour_sigm...       0.928924   \n",
       "train_trials=200|baselinerate=10|behaviour_sigm...       0.942263   \n",
       "train_trials=200|baselinerate=10|behaviour_sigm...       0.926732   \n",
       "train_trials=200|baselinerate=15|behaviour_sigm...       0.952151   \n",
       "train_trials=200|baselinerate=15|behaviour_sigm...       0.945026   \n",
       "train_trials=200|baselinerate=15|behaviour_sigm...       0.961239   \n",
       "\n",
       "                                                    validation_likelihood  \\\n",
       "train_trials=50|baselinerate=5|behaviour_sigma=0.5             765.049922   \n",
       "train_trials=50|baselinerate=5|behaviour_sigma=1.0             732.600937   \n",
       "train_trials=50|baselinerate=5|behaviour_sigma=2.0             721.583047   \n",
       "train_trials=50|baselinerate=10|behaviour_sigma...            1186.625313   \n",
       "train_trials=50|baselinerate=10|behaviour_sigma...            1209.189687   \n",
       "train_trials=50|baselinerate=10|behaviour_sigma...            1170.036875   \n",
       "train_trials=50|baselinerate=15|behaviour_sigma...            1525.916094   \n",
       "train_trials=50|baselinerate=15|behaviour_sigma...            1538.619688   \n",
       "train_trials=50|baselinerate=15|behaviour_sigma...            1551.939844   \n",
       "train_trials=100|baselinerate=5|behaviour_sigma...             732.549375   \n",
       "train_trials=100|baselinerate=5|behaviour_sigma...             741.814766   \n",
       "train_trials=100|baselinerate=5|behaviour_sigma...             730.194531   \n",
       "train_trials=100|baselinerate=10|behaviour_sigm...            1172.021641   \n",
       "train_trials=100|baselinerate=10|behaviour_sigm...            1148.515625   \n",
       "train_trials=100|baselinerate=10|behaviour_sigm...            1174.769219   \n",
       "train_trials=100|baselinerate=15|behaviour_sigm...            1480.757812   \n",
       "train_trials=100|baselinerate=15|behaviour_sigm...            1504.437344   \n",
       "train_trials=100|baselinerate=15|behaviour_sigm...            1523.062969   \n",
       "train_trials=200|baselinerate=5|behaviour_sigma...             721.674922   \n",
       "train_trials=200|baselinerate=5|behaviour_sigma...             740.482891   \n",
       "train_trials=200|baselinerate=5|behaviour_sigma...             745.757656   \n",
       "train_trials=200|baselinerate=10|behaviour_sigm...            1149.531094   \n",
       "train_trials=200|baselinerate=10|behaviour_sigm...            1168.809062   \n",
       "train_trials=200|baselinerate=10|behaviour_sigm...            1178.513203   \n",
       "train_trials=200|baselinerate=15|behaviour_sigm...            1510.402812   \n",
       "train_trials=200|baselinerate=15|behaviour_sigm...            1516.527812   \n",
       "train_trials=200|baselinerate=15|behaviour_sigm...            1525.827656   \n",
       "\n",
       "                                                     test_r2  test_likelihood  \n",
       "train_trials=50|baselinerate=5|behaviour_sigma=0.5  0.812516       754.888000  \n",
       "train_trials=50|baselinerate=5|behaviour_sigma=1.0  0.806748       743.817437  \n",
       "train_trials=50|baselinerate=5|behaviour_sigma=2.0  0.840279       723.117562  \n",
       "train_trials=50|baselinerate=10|behaviour_sigma...  0.845715      1199.906625  \n",
       "train_trials=50|baselinerate=10|behaviour_sigma...  0.814592      1198.506875  \n",
       "train_trials=50|baselinerate=10|behaviour_sigma...  0.851311      1187.304375  \n",
       "train_trials=50|baselinerate=15|behaviour_sigma...  0.812208      1566.255875  \n",
       "train_trials=50|baselinerate=15|behaviour_sigma...  0.811711      1583.046750  \n",
       "train_trials=50|baselinerate=15|behaviour_sigma...  0.846056      1553.273250  \n",
       "train_trials=100|baselinerate=5|behaviour_sigma...  0.900220       736.195000  \n",
       "train_trials=100|baselinerate=5|behaviour_sigma...  0.883026       743.383812  \n",
       "train_trials=100|baselinerate=5|behaviour_sigma...  0.880612       733.894063  \n",
       "train_trials=100|baselinerate=10|behaviour_sigm...  0.918436      1178.243500  \n",
       "train_trials=100|baselinerate=10|behaviour_sigm...  0.917442      1163.801250  \n",
       "train_trials=100|baselinerate=10|behaviour_sigm...  0.911266      1172.423000  \n",
       "train_trials=100|baselinerate=15|behaviour_sigm...  0.910840      1507.049750  \n",
       "train_trials=100|baselinerate=15|behaviour_sigm...  0.922435      1504.696375  \n",
       "train_trials=100|baselinerate=15|behaviour_sigm...  0.908886      1534.532125  \n",
       "train_trials=200|baselinerate=5|behaviour_sigma...  0.911628       726.211563  \n",
       "train_trials=200|baselinerate=5|behaviour_sigma...  0.909495       738.311125  \n",
       "train_trials=200|baselinerate=5|behaviour_sigma...  0.911805       737.405125  \n",
       "train_trials=200|baselinerate=10|behaviour_sigm...  0.929120      1159.945375  \n",
       "train_trials=200|baselinerate=10|behaviour_sigm...  0.946568      1169.047000  \n",
       "train_trials=200|baselinerate=10|behaviour_sigm...  0.926827      1180.739125  \n",
       "train_trials=200|baselinerate=15|behaviour_sigm...  0.950556      1512.813625  \n",
       "train_trials=200|baselinerate=15|behaviour_sigm...  0.948774      1513.968750  \n",
       "train_trials=200|baselinerate=15|behaviour_sigm...  0.961809      1523.513250  "
      ]
     },
     "execution_count": 6,
     "metadata": {},
     "output_type": "execute_result"
    }
   ],
   "source": [
    "new_df = pd.DataFrame([{'trials': setup[k]['dataset']['train_pct'],\n",
    "  'baseline_rate': setup[k]['dataset']['base_rate'],\n",
    "  'behaviour_sigma': setup[k]['dataset']['behaviour_sigma'],\n",
    "  'train_r2': v['train']['latent_r2'], \n",
    "  'train_likelihood': v['train']['neural_likelihood'],\n",
    "  'validation_r2': v['validation']['latent_r2'], \n",
    "  'validation_likelihood': v['validation']['neural_likelihood'], \n",
    "  'test_r2': v['test']['latent_r2'],\n",
    "  'test_likelihood': v['test']['neural_likelihood']}\n",
    "    for k, v in new_stats.items()], index=list(new_stats.keys()))\n",
    "new_df.sort_values(['trials', 'baseline_rate', 'behaviour_sigma'], inplace=True)\n",
    "new_df.to_csv('results/lorenz_grid_lfads_new_vs_old/new_results.csv')\n",
    "new_df"
   ]
  },
  {
   "cell_type": "code",
   "execution_count": 7,
   "id": "0120d2c9",
   "metadata": {},
   "outputs": [
    {
     "data": {
      "text/html": [
       "<div>\n",
       "<style scoped>\n",
       "    .dataframe tbody tr th:only-of-type {\n",
       "        vertical-align: middle;\n",
       "    }\n",
       "\n",
       "    .dataframe tbody tr th {\n",
       "        vertical-align: top;\n",
       "    }\n",
       "\n",
       "    .dataframe thead th {\n",
       "        text-align: right;\n",
       "    }\n",
       "</style>\n",
       "<table border=\"1\" class=\"dataframe\">\n",
       "  <thead>\n",
       "    <tr style=\"text-align: right;\">\n",
       "      <th></th>\n",
       "      <th>trials</th>\n",
       "      <th>baseline_rate</th>\n",
       "      <th>behaviour_sigma</th>\n",
       "      <th>train_r2</th>\n",
       "      <th>train_likelihood</th>\n",
       "      <th>validation_r2</th>\n",
       "      <th>validation_likelihood</th>\n",
       "      <th>test_r2</th>\n",
       "      <th>test_likelihood</th>\n",
       "    </tr>\n",
       "  </thead>\n",
       "  <tbody>\n",
       "    <tr>\n",
       "      <th>train_trials=50|baselinerate=5|behaviour_sigma=0.5</th>\n",
       "      <td>50</td>\n",
       "      <td>5</td>\n",
       "      <td>0.5</td>\n",
       "      <td>0.600752</td>\n",
       "      <td>756.283400</td>\n",
       "      <td>0.519603</td>\n",
       "      <td>794.083838</td>\n",
       "      <td>0.536084</td>\n",
       "      <td>784.640045</td>\n",
       "    </tr>\n",
       "    <tr>\n",
       "      <th>train_trials=50|baselinerate=5|behaviour_sigma=1.0</th>\n",
       "      <td>50</td>\n",
       "      <td>5</td>\n",
       "      <td>1.0</td>\n",
       "      <td>0.682719</td>\n",
       "      <td>755.891711</td>\n",
       "      <td>0.586498</td>\n",
       "      <td>760.906305</td>\n",
       "      <td>0.623883</td>\n",
       "      <td>771.295839</td>\n",
       "    </tr>\n",
       "    <tr>\n",
       "      <th>train_trials=50|baselinerate=5|behaviour_sigma=2.0</th>\n",
       "      <td>50</td>\n",
       "      <td>5</td>\n",
       "      <td>2.0</td>\n",
       "      <td>0.848900</td>\n",
       "      <td>729.985544</td>\n",
       "      <td>0.639637</td>\n",
       "      <td>751.292266</td>\n",
       "      <td>0.639788</td>\n",
       "      <td>751.551899</td>\n",
       "    </tr>\n",
       "    <tr>\n",
       "      <th>train_trials=50|baselinerate=10|behaviour_sigma=0.5</th>\n",
       "      <td>50</td>\n",
       "      <td>10</td>\n",
       "      <td>0.5</td>\n",
       "      <td>0.937741</td>\n",
       "      <td>1197.256239</td>\n",
       "      <td>0.735314</td>\n",
       "      <td>1215.647977</td>\n",
       "      <td>0.782543</td>\n",
       "      <td>1228.052583</td>\n",
       "    </tr>\n",
       "    <tr>\n",
       "      <th>train_trials=50|baselinerate=10|behaviour_sigma=1.0</th>\n",
       "      <td>50</td>\n",
       "      <td>10</td>\n",
       "      <td>1.0</td>\n",
       "      <td>0.941816</td>\n",
       "      <td>1190.724954</td>\n",
       "      <td>0.793619</td>\n",
       "      <td>1237.436016</td>\n",
       "      <td>0.787115</td>\n",
       "      <td>1224.238563</td>\n",
       "    </tr>\n",
       "    <tr>\n",
       "      <th>train_trials=50|baselinerate=10|behaviour_sigma=2.0</th>\n",
       "      <td>50</td>\n",
       "      <td>10</td>\n",
       "      <td>2.0</td>\n",
       "      <td>0.941029</td>\n",
       "      <td>1176.376746</td>\n",
       "      <td>0.804719</td>\n",
       "      <td>1194.669631</td>\n",
       "      <td>0.818928</td>\n",
       "      <td>1211.037623</td>\n",
       "    </tr>\n",
       "    <tr>\n",
       "      <th>train_trials=50|baselinerate=15|behaviour_sigma=0.5</th>\n",
       "      <td>50</td>\n",
       "      <td>15</td>\n",
       "      <td>0.5</td>\n",
       "      <td>0.967734</td>\n",
       "      <td>1543.134338</td>\n",
       "      <td>0.867195</td>\n",
       "      <td>1538.069226</td>\n",
       "      <td>0.847703</td>\n",
       "      <td>1581.728096</td>\n",
       "    </tr>\n",
       "    <tr>\n",
       "      <th>train_trials=50|baselinerate=15|behaviour_sigma=1.0</th>\n",
       "      <td>50</td>\n",
       "      <td>15</td>\n",
       "      <td>1.0</td>\n",
       "      <td>0.970843</td>\n",
       "      <td>1537.497776</td>\n",
       "      <td>0.846869</td>\n",
       "      <td>1554.376360</td>\n",
       "      <td>0.834191</td>\n",
       "      <td>1595.724064</td>\n",
       "    </tr>\n",
       "    <tr>\n",
       "      <th>train_trials=50|baselinerate=15|behaviour_sigma=2.0</th>\n",
       "      <td>50</td>\n",
       "      <td>15</td>\n",
       "      <td>2.0</td>\n",
       "      <td>0.967922</td>\n",
       "      <td>1522.220684</td>\n",
       "      <td>0.803804</td>\n",
       "      <td>1585.804187</td>\n",
       "      <td>0.817768</td>\n",
       "      <td>1587.056580</td>\n",
       "    </tr>\n",
       "    <tr>\n",
       "      <th>train_trials=100|baselinerate=5|behaviour_sigma=0.5</th>\n",
       "      <td>100</td>\n",
       "      <td>5</td>\n",
       "      <td>0.5</td>\n",
       "      <td>0.690777</td>\n",
       "      <td>743.703757</td>\n",
       "      <td>0.653776</td>\n",
       "      <td>757.708912</td>\n",
       "      <td>0.654292</td>\n",
       "      <td>760.252500</td>\n",
       "    </tr>\n",
       "    <tr>\n",
       "      <th>train_trials=100|baselinerate=5|behaviour_sigma=1.0</th>\n",
       "      <td>100</td>\n",
       "      <td>5</td>\n",
       "      <td>1.0</td>\n",
       "      <td>0.927761</td>\n",
       "      <td>731.509697</td>\n",
       "      <td>0.854692</td>\n",
       "      <td>757.838348</td>\n",
       "      <td>0.854445</td>\n",
       "      <td>759.215707</td>\n",
       "    </tr>\n",
       "    <tr>\n",
       "      <th>train_trials=100|baselinerate=5|behaviour_sigma=2.0</th>\n",
       "      <td>100</td>\n",
       "      <td>5</td>\n",
       "      <td>2.0</td>\n",
       "      <td>0.775597</td>\n",
       "      <td>745.258865</td>\n",
       "      <td>0.708835</td>\n",
       "      <td>750.364356</td>\n",
       "      <td>0.731577</td>\n",
       "      <td>754.333717</td>\n",
       "    </tr>\n",
       "    <tr>\n",
       "      <th>train_trials=100|baselinerate=10|behaviour_sigma=1.0</th>\n",
       "      <td>100</td>\n",
       "      <td>10</td>\n",
       "      <td>1.0</td>\n",
       "      <td>0.957001</td>\n",
       "      <td>1161.993501</td>\n",
       "      <td>0.893068</td>\n",
       "      <td>1169.861807</td>\n",
       "      <td>0.881334</td>\n",
       "      <td>1186.833292</td>\n",
       "    </tr>\n",
       "    <tr>\n",
       "      <th>train_trials=100|baselinerate=10|behaviour_sigma=2.0</th>\n",
       "      <td>100</td>\n",
       "      <td>10</td>\n",
       "      <td>2.0</td>\n",
       "      <td>0.959655</td>\n",
       "      <td>1179.428311</td>\n",
       "      <td>0.884577</td>\n",
       "      <td>1192.603848</td>\n",
       "      <td>0.882483</td>\n",
       "      <td>1190.236818</td>\n",
       "    </tr>\n",
       "    <tr>\n",
       "      <th>train_trials=100|baselinerate=15|behaviour_sigma=0.5</th>\n",
       "      <td>100</td>\n",
       "      <td>15</td>\n",
       "      <td>0.5</td>\n",
       "      <td>0.977647</td>\n",
       "      <td>1465.704706</td>\n",
       "      <td>0.900530</td>\n",
       "      <td>1504.745167</td>\n",
       "      <td>0.892713</td>\n",
       "      <td>1532.191831</td>\n",
       "    </tr>\n",
       "    <tr>\n",
       "      <th>train_trials=100|baselinerate=15|behaviour_sigma=1.0</th>\n",
       "      <td>100</td>\n",
       "      <td>15</td>\n",
       "      <td>1.0</td>\n",
       "      <td>0.980597</td>\n",
       "      <td>1491.172346</td>\n",
       "      <td>0.912719</td>\n",
       "      <td>1527.992831</td>\n",
       "      <td>0.920197</td>\n",
       "      <td>1524.145508</td>\n",
       "    </tr>\n",
       "    <tr>\n",
       "      <th>train_trials=100|baselinerate=15|behaviour_sigma=2.0</th>\n",
       "      <td>100</td>\n",
       "      <td>15</td>\n",
       "      <td>2.0</td>\n",
       "      <td>0.978732</td>\n",
       "      <td>1492.466470</td>\n",
       "      <td>0.915284</td>\n",
       "      <td>1547.302896</td>\n",
       "      <td>0.909360</td>\n",
       "      <td>1555.750100</td>\n",
       "    </tr>\n",
       "    <tr>\n",
       "      <th>train_trials=200|baselinerate=5|behaviour_sigma=0.5</th>\n",
       "      <td>200</td>\n",
       "      <td>5</td>\n",
       "      <td>0.5</td>\n",
       "      <td>0.944302</td>\n",
       "      <td>724.595421</td>\n",
       "      <td>0.924920</td>\n",
       "      <td>729.538628</td>\n",
       "      <td>0.927325</td>\n",
       "      <td>734.022422</td>\n",
       "    </tr>\n",
       "    <tr>\n",
       "      <th>train_trials=200|baselinerate=5|behaviour_sigma=1.0</th>\n",
       "      <td>200</td>\n",
       "      <td>5</td>\n",
       "      <td>1.0</td>\n",
       "      <td>0.744513</td>\n",
       "      <td>750.249572</td>\n",
       "      <td>0.722918</td>\n",
       "      <td>760.897426</td>\n",
       "      <td>0.730646</td>\n",
       "      <td>758.799773</td>\n",
       "    </tr>\n",
       "    <tr>\n",
       "      <th>train_trials=200|baselinerate=5|behaviour_sigma=2.0</th>\n",
       "      <td>200</td>\n",
       "      <td>5</td>\n",
       "      <td>2.0</td>\n",
       "      <td>0.846444</td>\n",
       "      <td>756.361512</td>\n",
       "      <td>0.843678</td>\n",
       "      <td>763.512932</td>\n",
       "      <td>0.823334</td>\n",
       "      <td>754.937509</td>\n",
       "    </tr>\n",
       "    <tr>\n",
       "      <th>train_trials=200|baselinerate=10|behaviour_sigma=0.5</th>\n",
       "      <td>200</td>\n",
       "      <td>10</td>\n",
       "      <td>0.5</td>\n",
       "      <td>0.973773</td>\n",
       "      <td>1170.728872</td>\n",
       "      <td>0.943548</td>\n",
       "      <td>1159.244641</td>\n",
       "      <td>0.947328</td>\n",
       "      <td>1168.889768</td>\n",
       "    </tr>\n",
       "    <tr>\n",
       "      <th>train_trials=200|baselinerate=10|behaviour_sigma=1.0</th>\n",
       "      <td>200</td>\n",
       "      <td>10</td>\n",
       "      <td>1.0</td>\n",
       "      <td>0.977615</td>\n",
       "      <td>1166.497681</td>\n",
       "      <td>0.952191</td>\n",
       "      <td>1181.359519</td>\n",
       "      <td>0.956564</td>\n",
       "      <td>1181.253149</td>\n",
       "    </tr>\n",
       "    <tr>\n",
       "      <th>train_trials=200|baselinerate=10|behaviour_sigma=2.0</th>\n",
       "      <td>200</td>\n",
       "      <td>10</td>\n",
       "      <td>2.0</td>\n",
       "      <td>0.974514</td>\n",
       "      <td>1182.397030</td>\n",
       "      <td>0.946820</td>\n",
       "      <td>1189.312372</td>\n",
       "      <td>0.944525</td>\n",
       "      <td>1191.849206</td>\n",
       "    </tr>\n",
       "    <tr>\n",
       "      <th>train_trials=200|baselinerate=15|behaviour_sigma=0.5</th>\n",
       "      <td>200</td>\n",
       "      <td>15</td>\n",
       "      <td>0.5</td>\n",
       "      <td>0.981882</td>\n",
       "      <td>1526.980465</td>\n",
       "      <td>0.959582</td>\n",
       "      <td>1524.938572</td>\n",
       "      <td>0.957879</td>\n",
       "      <td>1528.221715</td>\n",
       "    </tr>\n",
       "    <tr>\n",
       "      <th>train_trials=200|baselinerate=15|behaviour_sigma=1.0</th>\n",
       "      <td>200</td>\n",
       "      <td>15</td>\n",
       "      <td>1.0</td>\n",
       "      <td>0.986654</td>\n",
       "      <td>1525.147165</td>\n",
       "      <td>0.964467</td>\n",
       "      <td>1527.950933</td>\n",
       "      <td>0.965555</td>\n",
       "      <td>1527.290138</td>\n",
       "    </tr>\n",
       "    <tr>\n",
       "      <th>train_trials=200|baselinerate=15|behaviour_sigma=2.0</th>\n",
       "      <td>200</td>\n",
       "      <td>15</td>\n",
       "      <td>2.0</td>\n",
       "      <td>0.986243</td>\n",
       "      <td>1523.840653</td>\n",
       "      <td>0.963143</td>\n",
       "      <td>1544.247180</td>\n",
       "      <td>0.964289</td>\n",
       "      <td>1540.761739</td>\n",
       "    </tr>\n",
       "  </tbody>\n",
       "</table>\n",
       "</div>"
      ],
      "text/plain": [
       "                                                    trials  baseline_rate  \\\n",
       "train_trials=50|baselinerate=5|behaviour_sigma=0.5      50              5   \n",
       "train_trials=50|baselinerate=5|behaviour_sigma=1.0      50              5   \n",
       "train_trials=50|baselinerate=5|behaviour_sigma=2.0      50              5   \n",
       "train_trials=50|baselinerate=10|behaviour_sigma...      50             10   \n",
       "train_trials=50|baselinerate=10|behaviour_sigma...      50             10   \n",
       "train_trials=50|baselinerate=10|behaviour_sigma...      50             10   \n",
       "train_trials=50|baselinerate=15|behaviour_sigma...      50             15   \n",
       "train_trials=50|baselinerate=15|behaviour_sigma...      50             15   \n",
       "train_trials=50|baselinerate=15|behaviour_sigma...      50             15   \n",
       "train_trials=100|baselinerate=5|behaviour_sigma...     100              5   \n",
       "train_trials=100|baselinerate=5|behaviour_sigma...     100              5   \n",
       "train_trials=100|baselinerate=5|behaviour_sigma...     100              5   \n",
       "train_trials=100|baselinerate=10|behaviour_sigm...     100             10   \n",
       "train_trials=100|baselinerate=10|behaviour_sigm...     100             10   \n",
       "train_trials=100|baselinerate=15|behaviour_sigm...     100             15   \n",
       "train_trials=100|baselinerate=15|behaviour_sigm...     100             15   \n",
       "train_trials=100|baselinerate=15|behaviour_sigm...     100             15   \n",
       "train_trials=200|baselinerate=5|behaviour_sigma...     200              5   \n",
       "train_trials=200|baselinerate=5|behaviour_sigma...     200              5   \n",
       "train_trials=200|baselinerate=5|behaviour_sigma...     200              5   \n",
       "train_trials=200|baselinerate=10|behaviour_sigm...     200             10   \n",
       "train_trials=200|baselinerate=10|behaviour_sigm...     200             10   \n",
       "train_trials=200|baselinerate=10|behaviour_sigm...     200             10   \n",
       "train_trials=200|baselinerate=15|behaviour_sigm...     200             15   \n",
       "train_trials=200|baselinerate=15|behaviour_sigm...     200             15   \n",
       "train_trials=200|baselinerate=15|behaviour_sigm...     200             15   \n",
       "\n",
       "                                                    behaviour_sigma  train_r2  \\\n",
       "train_trials=50|baselinerate=5|behaviour_sigma=0.5              0.5  0.600752   \n",
       "train_trials=50|baselinerate=5|behaviour_sigma=1.0              1.0  0.682719   \n",
       "train_trials=50|baselinerate=5|behaviour_sigma=2.0              2.0  0.848900   \n",
       "train_trials=50|baselinerate=10|behaviour_sigma...              0.5  0.937741   \n",
       "train_trials=50|baselinerate=10|behaviour_sigma...              1.0  0.941816   \n",
       "train_trials=50|baselinerate=10|behaviour_sigma...              2.0  0.941029   \n",
       "train_trials=50|baselinerate=15|behaviour_sigma...              0.5  0.967734   \n",
       "train_trials=50|baselinerate=15|behaviour_sigma...              1.0  0.970843   \n",
       "train_trials=50|baselinerate=15|behaviour_sigma...              2.0  0.967922   \n",
       "train_trials=100|baselinerate=5|behaviour_sigma...              0.5  0.690777   \n",
       "train_trials=100|baselinerate=5|behaviour_sigma...              1.0  0.927761   \n",
       "train_trials=100|baselinerate=5|behaviour_sigma...              2.0  0.775597   \n",
       "train_trials=100|baselinerate=10|behaviour_sigm...              1.0  0.957001   \n",
       "train_trials=100|baselinerate=10|behaviour_sigm...              2.0  0.959655   \n",
       "train_trials=100|baselinerate=15|behaviour_sigm...              0.5  0.977647   \n",
       "train_trials=100|baselinerate=15|behaviour_sigm...              1.0  0.980597   \n",
       "train_trials=100|baselinerate=15|behaviour_sigm...              2.0  0.978732   \n",
       "train_trials=200|baselinerate=5|behaviour_sigma...              0.5  0.944302   \n",
       "train_trials=200|baselinerate=5|behaviour_sigma...              1.0  0.744513   \n",
       "train_trials=200|baselinerate=5|behaviour_sigma...              2.0  0.846444   \n",
       "train_trials=200|baselinerate=10|behaviour_sigm...              0.5  0.973773   \n",
       "train_trials=200|baselinerate=10|behaviour_sigm...              1.0  0.977615   \n",
       "train_trials=200|baselinerate=10|behaviour_sigm...              2.0  0.974514   \n",
       "train_trials=200|baselinerate=15|behaviour_sigm...              0.5  0.981882   \n",
       "train_trials=200|baselinerate=15|behaviour_sigm...              1.0  0.986654   \n",
       "train_trials=200|baselinerate=15|behaviour_sigm...              2.0  0.986243   \n",
       "\n",
       "                                                    train_likelihood  \\\n",
       "train_trials=50|baselinerate=5|behaviour_sigma=0.5        756.283400   \n",
       "train_trials=50|baselinerate=5|behaviour_sigma=1.0        755.891711   \n",
       "train_trials=50|baselinerate=5|behaviour_sigma=2.0        729.985544   \n",
       "train_trials=50|baselinerate=10|behaviour_sigma...       1197.256239   \n",
       "train_trials=50|baselinerate=10|behaviour_sigma...       1190.724954   \n",
       "train_trials=50|baselinerate=10|behaviour_sigma...       1176.376746   \n",
       "train_trials=50|baselinerate=15|behaviour_sigma...       1543.134338   \n",
       "train_trials=50|baselinerate=15|behaviour_sigma...       1537.497776   \n",
       "train_trials=50|baselinerate=15|behaviour_sigma...       1522.220684   \n",
       "train_trials=100|baselinerate=5|behaviour_sigma...        743.703757   \n",
       "train_trials=100|baselinerate=5|behaviour_sigma...        731.509697   \n",
       "train_trials=100|baselinerate=5|behaviour_sigma...        745.258865   \n",
       "train_trials=100|baselinerate=10|behaviour_sigm...       1161.993501   \n",
       "train_trials=100|baselinerate=10|behaviour_sigm...       1179.428311   \n",
       "train_trials=100|baselinerate=15|behaviour_sigm...       1465.704706   \n",
       "train_trials=100|baselinerate=15|behaviour_sigm...       1491.172346   \n",
       "train_trials=100|baselinerate=15|behaviour_sigm...       1492.466470   \n",
       "train_trials=200|baselinerate=5|behaviour_sigma...        724.595421   \n",
       "train_trials=200|baselinerate=5|behaviour_sigma...        750.249572   \n",
       "train_trials=200|baselinerate=5|behaviour_sigma...        756.361512   \n",
       "train_trials=200|baselinerate=10|behaviour_sigm...       1170.728872   \n",
       "train_trials=200|baselinerate=10|behaviour_sigm...       1166.497681   \n",
       "train_trials=200|baselinerate=10|behaviour_sigm...       1182.397030   \n",
       "train_trials=200|baselinerate=15|behaviour_sigm...       1526.980465   \n",
       "train_trials=200|baselinerate=15|behaviour_sigm...       1525.147165   \n",
       "train_trials=200|baselinerate=15|behaviour_sigm...       1523.840653   \n",
       "\n",
       "                                                    validation_r2  \\\n",
       "train_trials=50|baselinerate=5|behaviour_sigma=0.5       0.519603   \n",
       "train_trials=50|baselinerate=5|behaviour_sigma=1.0       0.586498   \n",
       "train_trials=50|baselinerate=5|behaviour_sigma=2.0       0.639637   \n",
       "train_trials=50|baselinerate=10|behaviour_sigma...       0.735314   \n",
       "train_trials=50|baselinerate=10|behaviour_sigma...       0.793619   \n",
       "train_trials=50|baselinerate=10|behaviour_sigma...       0.804719   \n",
       "train_trials=50|baselinerate=15|behaviour_sigma...       0.867195   \n",
       "train_trials=50|baselinerate=15|behaviour_sigma...       0.846869   \n",
       "train_trials=50|baselinerate=15|behaviour_sigma...       0.803804   \n",
       "train_trials=100|baselinerate=5|behaviour_sigma...       0.653776   \n",
       "train_trials=100|baselinerate=5|behaviour_sigma...       0.854692   \n",
       "train_trials=100|baselinerate=5|behaviour_sigma...       0.708835   \n",
       "train_trials=100|baselinerate=10|behaviour_sigm...       0.893068   \n",
       "train_trials=100|baselinerate=10|behaviour_sigm...       0.884577   \n",
       "train_trials=100|baselinerate=15|behaviour_sigm...       0.900530   \n",
       "train_trials=100|baselinerate=15|behaviour_sigm...       0.912719   \n",
       "train_trials=100|baselinerate=15|behaviour_sigm...       0.915284   \n",
       "train_trials=200|baselinerate=5|behaviour_sigma...       0.924920   \n",
       "train_trials=200|baselinerate=5|behaviour_sigma...       0.722918   \n",
       "train_trials=200|baselinerate=5|behaviour_sigma...       0.843678   \n",
       "train_trials=200|baselinerate=10|behaviour_sigm...       0.943548   \n",
       "train_trials=200|baselinerate=10|behaviour_sigm...       0.952191   \n",
       "train_trials=200|baselinerate=10|behaviour_sigm...       0.946820   \n",
       "train_trials=200|baselinerate=15|behaviour_sigm...       0.959582   \n",
       "train_trials=200|baselinerate=15|behaviour_sigm...       0.964467   \n",
       "train_trials=200|baselinerate=15|behaviour_sigm...       0.963143   \n",
       "\n",
       "                                                    validation_likelihood  \\\n",
       "train_trials=50|baselinerate=5|behaviour_sigma=0.5             794.083838   \n",
       "train_trials=50|baselinerate=5|behaviour_sigma=1.0             760.906305   \n",
       "train_trials=50|baselinerate=5|behaviour_sigma=2.0             751.292266   \n",
       "train_trials=50|baselinerate=10|behaviour_sigma...            1215.647977   \n",
       "train_trials=50|baselinerate=10|behaviour_sigma...            1237.436016   \n",
       "train_trials=50|baselinerate=10|behaviour_sigma...            1194.669631   \n",
       "train_trials=50|baselinerate=15|behaviour_sigma...            1538.069226   \n",
       "train_trials=50|baselinerate=15|behaviour_sigma...            1554.376360   \n",
       "train_trials=50|baselinerate=15|behaviour_sigma...            1585.804187   \n",
       "train_trials=100|baselinerate=5|behaviour_sigma...             757.708912   \n",
       "train_trials=100|baselinerate=5|behaviour_sigma...             757.838348   \n",
       "train_trials=100|baselinerate=5|behaviour_sigma...             750.364356   \n",
       "train_trials=100|baselinerate=10|behaviour_sigm...            1169.861807   \n",
       "train_trials=100|baselinerate=10|behaviour_sigm...            1192.603848   \n",
       "train_trials=100|baselinerate=15|behaviour_sigm...            1504.745167   \n",
       "train_trials=100|baselinerate=15|behaviour_sigm...            1527.992831   \n",
       "train_trials=100|baselinerate=15|behaviour_sigm...            1547.302896   \n",
       "train_trials=200|baselinerate=5|behaviour_sigma...             729.538628   \n",
       "train_trials=200|baselinerate=5|behaviour_sigma...             760.897426   \n",
       "train_trials=200|baselinerate=5|behaviour_sigma...             763.512932   \n",
       "train_trials=200|baselinerate=10|behaviour_sigm...            1159.244641   \n",
       "train_trials=200|baselinerate=10|behaviour_sigm...            1181.359519   \n",
       "train_trials=200|baselinerate=10|behaviour_sigm...            1189.312372   \n",
       "train_trials=200|baselinerate=15|behaviour_sigm...            1524.938572   \n",
       "train_trials=200|baselinerate=15|behaviour_sigm...            1527.950933   \n",
       "train_trials=200|baselinerate=15|behaviour_sigm...            1544.247180   \n",
       "\n",
       "                                                     test_r2  test_likelihood  \n",
       "train_trials=50|baselinerate=5|behaviour_sigma=0.5  0.536084       784.640045  \n",
       "train_trials=50|baselinerate=5|behaviour_sigma=1.0  0.623883       771.295839  \n",
       "train_trials=50|baselinerate=5|behaviour_sigma=2.0  0.639788       751.551899  \n",
       "train_trials=50|baselinerate=10|behaviour_sigma...  0.782543      1228.052583  \n",
       "train_trials=50|baselinerate=10|behaviour_sigma...  0.787115      1224.238563  \n",
       "train_trials=50|baselinerate=10|behaviour_sigma...  0.818928      1211.037623  \n",
       "train_trials=50|baselinerate=15|behaviour_sigma...  0.847703      1581.728096  \n",
       "train_trials=50|baselinerate=15|behaviour_sigma...  0.834191      1595.724064  \n",
       "train_trials=50|baselinerate=15|behaviour_sigma...  0.817768      1587.056580  \n",
       "train_trials=100|baselinerate=5|behaviour_sigma...  0.654292       760.252500  \n",
       "train_trials=100|baselinerate=5|behaviour_sigma...  0.854445       759.215707  \n",
       "train_trials=100|baselinerate=5|behaviour_sigma...  0.731577       754.333717  \n",
       "train_trials=100|baselinerate=10|behaviour_sigm...  0.881334      1186.833292  \n",
       "train_trials=100|baselinerate=10|behaviour_sigm...  0.882483      1190.236818  \n",
       "train_trials=100|baselinerate=15|behaviour_sigm...  0.892713      1532.191831  \n",
       "train_trials=100|baselinerate=15|behaviour_sigm...  0.920197      1524.145508  \n",
       "train_trials=100|baselinerate=15|behaviour_sigm...  0.909360      1555.750100  \n",
       "train_trials=200|baselinerate=5|behaviour_sigma...  0.927325       734.022422  \n",
       "train_trials=200|baselinerate=5|behaviour_sigma...  0.730646       758.799773  \n",
       "train_trials=200|baselinerate=5|behaviour_sigma...  0.823334       754.937509  \n",
       "train_trials=200|baselinerate=10|behaviour_sigm...  0.947328      1168.889768  \n",
       "train_trials=200|baselinerate=10|behaviour_sigm...  0.956564      1181.253149  \n",
       "train_trials=200|baselinerate=10|behaviour_sigm...  0.944525      1191.849206  \n",
       "train_trials=200|baselinerate=15|behaviour_sigm...  0.957879      1528.221715  \n",
       "train_trials=200|baselinerate=15|behaviour_sigm...  0.965555      1527.290138  \n",
       "train_trials=200|baselinerate=15|behaviour_sigm...  0.964289      1540.761739  "
      ]
     },
     "execution_count": 7,
     "metadata": {},
     "output_type": "execute_result"
    }
   ],
   "source": [
    "old_df = pd.DataFrame([{'trials': setup[k]['dataset']['train_pct'],\n",
    "  'baseline_rate': setup[k]['dataset']['base_rate'],\n",
    "  'behaviour_sigma': setup[k]['dataset']['behaviour_sigma'],\n",
    "  'train_r2': v['train']['latent_r2'], \n",
    "  'train_likelihood': v['train']['neural_likelihood'],\n",
    "  'validation_r2': v['validation']['latent_r2'], \n",
    "  'validation_likelihood': v['validation']['neural_likelihood'], \n",
    "  'test_r2': v['test']['latent_r2'],\n",
    "  'test_likelihood': v['test']['neural_likelihood']}\n",
    "    for k, v in old_stats.items()], index=list(old_stats.keys()))\n",
    "old_df.sort_values(['trials', 'baseline_rate', 'behaviour_sigma'], inplace=True)\n",
    "old_df.to_csv('results/lorenz_grid_lfads_new_vs_old/old_results.csv')\n",
    "old_df"
   ]
  },
  {
   "cell_type": "code",
   "execution_count": 27,
   "id": "b9c55554",
   "metadata": {},
   "outputs": [
    {
     "data": {
      "application/vnd.plotly.v1+json": {
       "config": {
        "plotlyServerURL": "https://plot.ly"
       },
       "data": [
        {
         "colorscale": [
          [
           0,
           "rgb(247,251,255)"
          ],
          [
           0.125,
           "rgb(222,235,247)"
          ],
          [
           0.25,
           "rgb(198,219,239)"
          ],
          [
           0.375,
           "rgb(158,202,225)"
          ],
          [
           0.5,
           "rgb(107,174,214)"
          ],
          [
           0.625,
           "rgb(66,146,198)"
          ],
          [
           0.75,
           "rgb(33,113,181)"
          ],
          [
           0.875,
           "rgb(8,81,156)"
          ],
          [
           1,
           "rgb(8,48,107)"
          ]
         ],
         "type": "heatmap",
         "x": [
          "5",
          "10",
          "15"
         ],
         "xaxis": "x",
         "y": [
          "50",
          "100",
          "200"
         ],
         "yaxis": "y",
         "z": [
          [
           0.5999183446727026,
           0.796195323088118,
           0.8332206192079116
          ],
          [
           0.7467711148262106,
           0.8819085108593707,
           0.9074230738152296
          ],
          [
           0.8271015582432057,
           0.9494725212729375,
           0.9625743636008597
          ]
         ],
         "zmax": 0.9625743636008597,
         "zmin": 0.5999183446727026
        },
        {
         "colorscale": [
          [
           0,
           "rgb(247,251,255)"
          ],
          [
           0.125,
           "rgb(222,235,247)"
          ],
          [
           0.25,
           "rgb(198,219,239)"
          ],
          [
           0.375,
           "rgb(158,202,225)"
          ],
          [
           0.5,
           "rgb(107,174,214)"
          ],
          [
           0.625,
           "rgb(66,146,198)"
          ],
          [
           0.75,
           "rgb(33,113,181)"
          ],
          [
           0.875,
           "rgb(8,81,156)"
          ],
          [
           1,
           "rgb(8,48,107)"
          ]
         ],
         "type": "heatmap",
         "x": [
          "5",
          "10",
          "15"
         ],
         "xaxis": "x2",
         "y": [
          "50",
          "100",
          "200"
         ],
         "yaxis": "y2",
         "z": [
          [
           0.8198476935722191,
           0.8372058211184941,
           0.8233252276885717
          ],
          [
           0.887952667612545,
           0.9157143792785241,
           0.9140534440033597
          ],
          [
           0.9109758164911405,
           0.9341715916635943,
           0.9537130534978479
          ]
         ],
         "zmax": 0.9625743636008597,
         "zmin": 0.5999183446727026
        }
       ],
       "layout": {
        "annotations": [
         {
          "font": {
           "color": "black",
           "size": 12
          },
          "showarrow": false,
          "text": "0.60",
          "x": 0,
          "xref": "x",
          "y": 0
         },
         {
          "font": {
           "color": "white",
           "size": 12
          },
          "showarrow": false,
          "text": "0.80",
          "x": 1,
          "xref": "x",
          "y": 0
         },
         {
          "font": {
           "color": "white",
           "size": 12
          },
          "showarrow": false,
          "text": "0.83",
          "x": 2,
          "xref": "x",
          "y": 0
         },
         {
          "font": {
           "color": "white",
           "size": 12
          },
          "showarrow": false,
          "text": "0.75",
          "x": 0,
          "xref": "x",
          "y": 1
         },
         {
          "font": {
           "color": "white",
           "size": 12
          },
          "showarrow": false,
          "text": "0.88",
          "x": 1,
          "xref": "x",
          "y": 1
         },
         {
          "font": {
           "color": "white",
           "size": 12
          },
          "showarrow": false,
          "text": "0.91",
          "x": 2,
          "xref": "x",
          "y": 1
         },
         {
          "font": {
           "color": "white",
           "size": 12
          },
          "showarrow": false,
          "text": "0.83",
          "x": 0,
          "xref": "x",
          "y": 2
         },
         {
          "font": {
           "color": "white",
           "size": 12
          },
          "showarrow": false,
          "text": "0.95",
          "x": 1,
          "xref": "x",
          "y": 2
         },
         {
          "font": {
           "color": "white",
           "size": 12
          },
          "showarrow": false,
          "text": "0.96",
          "x": 2,
          "xref": "x",
          "y": 2
         },
         {
          "font": {
           "color": "white",
           "size": 12
          },
          "showarrow": false,
          "text": "0.82",
          "x": 0,
          "xref": "x2",
          "y": 0
         },
         {
          "font": {
           "color": "white",
           "size": 12
          },
          "showarrow": false,
          "text": "0.84",
          "x": 1,
          "xref": "x2",
          "y": 0
         },
         {
          "font": {
           "color": "white",
           "size": 12
          },
          "showarrow": false,
          "text": "0.82",
          "x": 2,
          "xref": "x2",
          "y": 0
         },
         {
          "font": {
           "color": "white",
           "size": 12
          },
          "showarrow": false,
          "text": "0.89",
          "x": 0,
          "xref": "x2",
          "y": 1
         },
         {
          "font": {
           "color": "white",
           "size": 12
          },
          "showarrow": false,
          "text": "0.92",
          "x": 1,
          "xref": "x2",
          "y": 1
         },
         {
          "font": {
           "color": "white",
           "size": 12
          },
          "showarrow": false,
          "text": "0.91",
          "x": 2,
          "xref": "x2",
          "y": 1
         },
         {
          "font": {
           "color": "white",
           "size": 12
          },
          "showarrow": false,
          "text": "0.91",
          "x": 0,
          "xref": "x2",
          "y": 2
         },
         {
          "font": {
           "color": "white",
           "size": 12
          },
          "showarrow": false,
          "text": "0.93",
          "x": 1,
          "xref": "x2",
          "y": 2
         },
         {
          "font": {
           "color": "white",
           "size": 12
          },
          "showarrow": false,
          "text": "0.95",
          "x": 2,
          "xref": "x2",
          "y": 2
         },
         {
          "showarrow": false,
          "text": "Tensorflow 1 - Original",
          "x": 0.77,
          "xref": "x domain",
          "y": 1.08,
          "yref": "y domain"
         },
         {
          "showarrow": false,
          "text": "Tensorflow 2 - New",
          "x": 2.1,
          "xref": "x domain",
          "y": 1.08,
          "yref": "y domain"
         }
        ],
        "template": {
         "data": {
          "bar": [
           {
            "error_x": {
             "color": "#2a3f5f"
            },
            "error_y": {
             "color": "#2a3f5f"
            },
            "marker": {
             "line": {
              "color": "#E5ECF6",
              "width": 0.5
             }
            },
            "type": "bar"
           }
          ],
          "barpolar": [
           {
            "marker": {
             "line": {
              "color": "#E5ECF6",
              "width": 0.5
             }
            },
            "type": "barpolar"
           }
          ],
          "carpet": [
           {
            "aaxis": {
             "endlinecolor": "#2a3f5f",
             "gridcolor": "white",
             "linecolor": "white",
             "minorgridcolor": "white",
             "startlinecolor": "#2a3f5f"
            },
            "baxis": {
             "endlinecolor": "#2a3f5f",
             "gridcolor": "white",
             "linecolor": "white",
             "minorgridcolor": "white",
             "startlinecolor": "#2a3f5f"
            },
            "type": "carpet"
           }
          ],
          "choropleth": [
           {
            "colorbar": {
             "outlinewidth": 0,
             "ticks": ""
            },
            "type": "choropleth"
           }
          ],
          "contour": [
           {
            "colorbar": {
             "outlinewidth": 0,
             "ticks": ""
            },
            "colorscale": [
             [
              0,
              "#0d0887"
             ],
             [
              0.1111111111111111,
              "#46039f"
             ],
             [
              0.2222222222222222,
              "#7201a8"
             ],
             [
              0.3333333333333333,
              "#9c179e"
             ],
             [
              0.4444444444444444,
              "#bd3786"
             ],
             [
              0.5555555555555556,
              "#d8576b"
             ],
             [
              0.6666666666666666,
              "#ed7953"
             ],
             [
              0.7777777777777778,
              "#fb9f3a"
             ],
             [
              0.8888888888888888,
              "#fdca26"
             ],
             [
              1,
              "#f0f921"
             ]
            ],
            "type": "contour"
           }
          ],
          "contourcarpet": [
           {
            "colorbar": {
             "outlinewidth": 0,
             "ticks": ""
            },
            "type": "contourcarpet"
           }
          ],
          "heatmap": [
           {
            "colorbar": {
             "outlinewidth": 0,
             "ticks": ""
            },
            "colorscale": [
             [
              0,
              "#0d0887"
             ],
             [
              0.1111111111111111,
              "#46039f"
             ],
             [
              0.2222222222222222,
              "#7201a8"
             ],
             [
              0.3333333333333333,
              "#9c179e"
             ],
             [
              0.4444444444444444,
              "#bd3786"
             ],
             [
              0.5555555555555556,
              "#d8576b"
             ],
             [
              0.6666666666666666,
              "#ed7953"
             ],
             [
              0.7777777777777778,
              "#fb9f3a"
             ],
             [
              0.8888888888888888,
              "#fdca26"
             ],
             [
              1,
              "#f0f921"
             ]
            ],
            "type": "heatmap"
           }
          ],
          "heatmapgl": [
           {
            "colorbar": {
             "outlinewidth": 0,
             "ticks": ""
            },
            "colorscale": [
             [
              0,
              "#0d0887"
             ],
             [
              0.1111111111111111,
              "#46039f"
             ],
             [
              0.2222222222222222,
              "#7201a8"
             ],
             [
              0.3333333333333333,
              "#9c179e"
             ],
             [
              0.4444444444444444,
              "#bd3786"
             ],
             [
              0.5555555555555556,
              "#d8576b"
             ],
             [
              0.6666666666666666,
              "#ed7953"
             ],
             [
              0.7777777777777778,
              "#fb9f3a"
             ],
             [
              0.8888888888888888,
              "#fdca26"
             ],
             [
              1,
              "#f0f921"
             ]
            ],
            "type": "heatmapgl"
           }
          ],
          "histogram": [
           {
            "marker": {
             "colorbar": {
              "outlinewidth": 0,
              "ticks": ""
             }
            },
            "type": "histogram"
           }
          ],
          "histogram2d": [
           {
            "colorbar": {
             "outlinewidth": 0,
             "ticks": ""
            },
            "colorscale": [
             [
              0,
              "#0d0887"
             ],
             [
              0.1111111111111111,
              "#46039f"
             ],
             [
              0.2222222222222222,
              "#7201a8"
             ],
             [
              0.3333333333333333,
              "#9c179e"
             ],
             [
              0.4444444444444444,
              "#bd3786"
             ],
             [
              0.5555555555555556,
              "#d8576b"
             ],
             [
              0.6666666666666666,
              "#ed7953"
             ],
             [
              0.7777777777777778,
              "#fb9f3a"
             ],
             [
              0.8888888888888888,
              "#fdca26"
             ],
             [
              1,
              "#f0f921"
             ]
            ],
            "type": "histogram2d"
           }
          ],
          "histogram2dcontour": [
           {
            "colorbar": {
             "outlinewidth": 0,
             "ticks": ""
            },
            "colorscale": [
             [
              0,
              "#0d0887"
             ],
             [
              0.1111111111111111,
              "#46039f"
             ],
             [
              0.2222222222222222,
              "#7201a8"
             ],
             [
              0.3333333333333333,
              "#9c179e"
             ],
             [
              0.4444444444444444,
              "#bd3786"
             ],
             [
              0.5555555555555556,
              "#d8576b"
             ],
             [
              0.6666666666666666,
              "#ed7953"
             ],
             [
              0.7777777777777778,
              "#fb9f3a"
             ],
             [
              0.8888888888888888,
              "#fdca26"
             ],
             [
              1,
              "#f0f921"
             ]
            ],
            "type": "histogram2dcontour"
           }
          ],
          "mesh3d": [
           {
            "colorbar": {
             "outlinewidth": 0,
             "ticks": ""
            },
            "type": "mesh3d"
           }
          ],
          "parcoords": [
           {
            "line": {
             "colorbar": {
              "outlinewidth": 0,
              "ticks": ""
             }
            },
            "type": "parcoords"
           }
          ],
          "pie": [
           {
            "automargin": true,
            "type": "pie"
           }
          ],
          "scatter": [
           {
            "marker": {
             "colorbar": {
              "outlinewidth": 0,
              "ticks": ""
             }
            },
            "type": "scatter"
           }
          ],
          "scatter3d": [
           {
            "line": {
             "colorbar": {
              "outlinewidth": 0,
              "ticks": ""
             }
            },
            "marker": {
             "colorbar": {
              "outlinewidth": 0,
              "ticks": ""
             }
            },
            "type": "scatter3d"
           }
          ],
          "scattercarpet": [
           {
            "marker": {
             "colorbar": {
              "outlinewidth": 0,
              "ticks": ""
             }
            },
            "type": "scattercarpet"
           }
          ],
          "scattergeo": [
           {
            "marker": {
             "colorbar": {
              "outlinewidth": 0,
              "ticks": ""
             }
            },
            "type": "scattergeo"
           }
          ],
          "scattergl": [
           {
            "marker": {
             "colorbar": {
              "outlinewidth": 0,
              "ticks": ""
             }
            },
            "type": "scattergl"
           }
          ],
          "scattermapbox": [
           {
            "marker": {
             "colorbar": {
              "outlinewidth": 0,
              "ticks": ""
             }
            },
            "type": "scattermapbox"
           }
          ],
          "scatterpolar": [
           {
            "marker": {
             "colorbar": {
              "outlinewidth": 0,
              "ticks": ""
             }
            },
            "type": "scatterpolar"
           }
          ],
          "scatterpolargl": [
           {
            "marker": {
             "colorbar": {
              "outlinewidth": 0,
              "ticks": ""
             }
            },
            "type": "scatterpolargl"
           }
          ],
          "scatterternary": [
           {
            "marker": {
             "colorbar": {
              "outlinewidth": 0,
              "ticks": ""
             }
            },
            "type": "scatterternary"
           }
          ],
          "surface": [
           {
            "colorbar": {
             "outlinewidth": 0,
             "ticks": ""
            },
            "colorscale": [
             [
              0,
              "#0d0887"
             ],
             [
              0.1111111111111111,
              "#46039f"
             ],
             [
              0.2222222222222222,
              "#7201a8"
             ],
             [
              0.3333333333333333,
              "#9c179e"
             ],
             [
              0.4444444444444444,
              "#bd3786"
             ],
             [
              0.5555555555555556,
              "#d8576b"
             ],
             [
              0.6666666666666666,
              "#ed7953"
             ],
             [
              0.7777777777777778,
              "#fb9f3a"
             ],
             [
              0.8888888888888888,
              "#fdca26"
             ],
             [
              1,
              "#f0f921"
             ]
            ],
            "type": "surface"
           }
          ],
          "table": [
           {
            "cells": {
             "fill": {
              "color": "#EBF0F8"
             },
             "line": {
              "color": "white"
             }
            },
            "header": {
             "fill": {
              "color": "#C8D4E3"
             },
             "line": {
              "color": "white"
             }
            },
            "type": "table"
           }
          ]
         },
         "layout": {
          "annotationdefaults": {
           "arrowcolor": "#2a3f5f",
           "arrowhead": 0,
           "arrowwidth": 1
          },
          "autotypenumbers": "strict",
          "coloraxis": {
           "colorbar": {
            "outlinewidth": 0,
            "ticks": ""
           }
          },
          "colorscale": {
           "diverging": [
            [
             0,
             "#8e0152"
            ],
            [
             0.1,
             "#c51b7d"
            ],
            [
             0.2,
             "#de77ae"
            ],
            [
             0.3,
             "#f1b6da"
            ],
            [
             0.4,
             "#fde0ef"
            ],
            [
             0.5,
             "#f7f7f7"
            ],
            [
             0.6,
             "#e6f5d0"
            ],
            [
             0.7,
             "#b8e186"
            ],
            [
             0.8,
             "#7fbc41"
            ],
            [
             0.9,
             "#4d9221"
            ],
            [
             1,
             "#276419"
            ]
           ],
           "sequential": [
            [
             0,
             "#0d0887"
            ],
            [
             0.1111111111111111,
             "#46039f"
            ],
            [
             0.2222222222222222,
             "#7201a8"
            ],
            [
             0.3333333333333333,
             "#9c179e"
            ],
            [
             0.4444444444444444,
             "#bd3786"
            ],
            [
             0.5555555555555556,
             "#d8576b"
            ],
            [
             0.6666666666666666,
             "#ed7953"
            ],
            [
             0.7777777777777778,
             "#fb9f3a"
            ],
            [
             0.8888888888888888,
             "#fdca26"
            ],
            [
             1,
             "#f0f921"
            ]
           ],
           "sequentialminus": [
            [
             0,
             "#0d0887"
            ],
            [
             0.1111111111111111,
             "#46039f"
            ],
            [
             0.2222222222222222,
             "#7201a8"
            ],
            [
             0.3333333333333333,
             "#9c179e"
            ],
            [
             0.4444444444444444,
             "#bd3786"
            ],
            [
             0.5555555555555556,
             "#d8576b"
            ],
            [
             0.6666666666666666,
             "#ed7953"
            ],
            [
             0.7777777777777778,
             "#fb9f3a"
            ],
            [
             0.8888888888888888,
             "#fdca26"
            ],
            [
             1,
             "#f0f921"
            ]
           ]
          },
          "colorway": [
           "#636efa",
           "#EF553B",
           "#00cc96",
           "#ab63fa",
           "#FFA15A",
           "#19d3f3",
           "#FF6692",
           "#B6E880",
           "#FF97FF",
           "#FECB52"
          ],
          "font": {
           "color": "#2a3f5f"
          },
          "geo": {
           "bgcolor": "white",
           "lakecolor": "white",
           "landcolor": "#E5ECF6",
           "showlakes": true,
           "showland": true,
           "subunitcolor": "white"
          },
          "hoverlabel": {
           "align": "left"
          },
          "hovermode": "closest",
          "mapbox": {
           "style": "light"
          },
          "paper_bgcolor": "white",
          "plot_bgcolor": "#E5ECF6",
          "polar": {
           "angularaxis": {
            "gridcolor": "white",
            "linecolor": "white",
            "ticks": ""
           },
           "bgcolor": "#E5ECF6",
           "radialaxis": {
            "gridcolor": "white",
            "linecolor": "white",
            "ticks": ""
           }
          },
          "scene": {
           "xaxis": {
            "backgroundcolor": "#E5ECF6",
            "gridcolor": "white",
            "gridwidth": 2,
            "linecolor": "white",
            "showbackground": true,
            "ticks": "",
            "zerolinecolor": "white"
           },
           "yaxis": {
            "backgroundcolor": "#E5ECF6",
            "gridcolor": "white",
            "gridwidth": 2,
            "linecolor": "white",
            "showbackground": true,
            "ticks": "",
            "zerolinecolor": "white"
           },
           "zaxis": {
            "backgroundcolor": "#E5ECF6",
            "gridcolor": "white",
            "gridwidth": 2,
            "linecolor": "white",
            "showbackground": true,
            "ticks": "",
            "zerolinecolor": "white"
           }
          },
          "shapedefaults": {
           "line": {
            "color": "#2a3f5f"
           }
          },
          "ternary": {
           "aaxis": {
            "gridcolor": "white",
            "linecolor": "white",
            "ticks": ""
           },
           "baxis": {
            "gridcolor": "white",
            "linecolor": "white",
            "ticks": ""
           },
           "bgcolor": "#E5ECF6",
           "caxis": {
            "gridcolor": "white",
            "linecolor": "white",
            "ticks": ""
           }
          },
          "title": {
           "x": 0.05
          },
          "xaxis": {
           "automargin": true,
           "gridcolor": "white",
           "linecolor": "white",
           "ticks": "",
           "title": {
            "standoff": 15
           },
           "zerolinecolor": "white",
           "zerolinewidth": 2
          },
          "yaxis": {
           "automargin": true,
           "gridcolor": "white",
           "linecolor": "white",
           "ticks": "",
           "title": {
            "standoff": 15
           },
           "zerolinecolor": "white",
           "zerolinewidth": 2
          }
         }
        },
        "title": {
         "text": "Latent Reconstruction Performance",
         "x": 0.5
        },
        "xaxis": {
         "anchor": "y",
         "domain": [
          0,
          0.425
         ],
         "title": {
          "text": "Baseline Firing Rate [Hz]"
         }
        },
        "xaxis2": {
         "anchor": "y2",
         "domain": [
          0.575,
          1
         ],
         "title": {
          "text": "Baseline Firing Rate [Hz]"
         }
        },
        "yaxis": {
         "anchor": "x",
         "domain": [
          0,
          1
         ],
         "title": {
          "text": "Training Trials"
         }
        },
        "yaxis2": {
         "anchor": "x2",
         "domain": [
          0,
          1
         ],
         "title": {
          "text": "Training Trials"
         }
        }
       }
      },
      "text/html": [
       "<div>                            <div id=\"b42cc4dc-9e81-47cd-8111-f57d8a127305\" class=\"plotly-graph-div\" style=\"height:525px; width:100%;\"></div>            <script type=\"text/javascript\">                require([\"plotly\"], function(Plotly) {                    window.PLOTLYENV=window.PLOTLYENV || {};                                    if (document.getElementById(\"b42cc4dc-9e81-47cd-8111-f57d8a127305\")) {                    Plotly.newPlot(                        \"b42cc4dc-9e81-47cd-8111-f57d8a127305\",                        [{\"colorscale\": [[0.0, \"rgb(247,251,255)\"], [0.125, \"rgb(222,235,247)\"], [0.25, \"rgb(198,219,239)\"], [0.375, \"rgb(158,202,225)\"], [0.5, \"rgb(107,174,214)\"], [0.625, \"rgb(66,146,198)\"], [0.75, \"rgb(33,113,181)\"], [0.875, \"rgb(8,81,156)\"], [1.0, \"rgb(8,48,107)\"]], \"type\": \"heatmap\", \"x\": [\"5\", \"10\", \"15\"], \"xaxis\": \"x\", \"y\": [\"50\", \"100\", \"200\"], \"yaxis\": \"y\", \"z\": [[0.5999183446727026, 0.796195323088118, 0.8332206192079116], [0.7467711148262106, 0.8819085108593707, 0.9074230738152296], [0.8271015582432057, 0.9494725212729375, 0.9625743636008597]], \"zmax\": 0.9625743636008597, \"zmin\": 0.5999183446727026}, {\"colorscale\": [[0.0, \"rgb(247,251,255)\"], [0.125, \"rgb(222,235,247)\"], [0.25, \"rgb(198,219,239)\"], [0.375, \"rgb(158,202,225)\"], [0.5, \"rgb(107,174,214)\"], [0.625, \"rgb(66,146,198)\"], [0.75, \"rgb(33,113,181)\"], [0.875, \"rgb(8,81,156)\"], [1.0, \"rgb(8,48,107)\"]], \"type\": \"heatmap\", \"x\": [\"5\", \"10\", \"15\"], \"xaxis\": \"x2\", \"y\": [\"50\", \"100\", \"200\"], \"yaxis\": \"y2\", \"z\": [[0.8198476935722191, 0.8372058211184941, 0.8233252276885717], [0.887952667612545, 0.9157143792785241, 0.9140534440033597], [0.9109758164911405, 0.9341715916635943, 0.9537130534978479]], \"zmax\": 0.9625743636008597, \"zmin\": 0.5999183446727026}],                        {\"annotations\": [{\"font\": {\"color\": \"black\", \"size\": 12}, \"showarrow\": false, \"text\": \"0.60\", \"x\": 0, \"xref\": \"x\", \"y\": 0}, {\"font\": {\"color\": \"white\", \"size\": 12}, \"showarrow\": false, \"text\": \"0.80\", \"x\": 1, \"xref\": \"x\", \"y\": 0}, {\"font\": {\"color\": \"white\", \"size\": 12}, \"showarrow\": false, \"text\": \"0.83\", \"x\": 2, \"xref\": \"x\", \"y\": 0}, {\"font\": {\"color\": \"white\", \"size\": 12}, \"showarrow\": false, \"text\": \"0.75\", \"x\": 0, \"xref\": \"x\", \"y\": 1}, {\"font\": {\"color\": \"white\", \"size\": 12}, \"showarrow\": false, \"text\": \"0.88\", \"x\": 1, \"xref\": \"x\", \"y\": 1}, {\"font\": {\"color\": \"white\", \"size\": 12}, \"showarrow\": false, \"text\": \"0.91\", \"x\": 2, \"xref\": \"x\", \"y\": 1}, {\"font\": {\"color\": \"white\", \"size\": 12}, \"showarrow\": false, \"text\": \"0.83\", \"x\": 0, \"xref\": \"x\", \"y\": 2}, {\"font\": {\"color\": \"white\", \"size\": 12}, \"showarrow\": false, \"text\": \"0.95\", \"x\": 1, \"xref\": \"x\", \"y\": 2}, {\"font\": {\"color\": \"white\", \"size\": 12}, \"showarrow\": false, \"text\": \"0.96\", \"x\": 2, \"xref\": \"x\", \"y\": 2}, {\"font\": {\"color\": \"white\", \"size\": 12}, \"showarrow\": false, \"text\": \"0.82\", \"x\": 0, \"xref\": \"x2\", \"y\": 0}, {\"font\": {\"color\": \"white\", \"size\": 12}, \"showarrow\": false, \"text\": \"0.84\", \"x\": 1, \"xref\": \"x2\", \"y\": 0}, {\"font\": {\"color\": \"white\", \"size\": 12}, \"showarrow\": false, \"text\": \"0.82\", \"x\": 2, \"xref\": \"x2\", \"y\": 0}, {\"font\": {\"color\": \"white\", \"size\": 12}, \"showarrow\": false, \"text\": \"0.89\", \"x\": 0, \"xref\": \"x2\", \"y\": 1}, {\"font\": {\"color\": \"white\", \"size\": 12}, \"showarrow\": false, \"text\": \"0.92\", \"x\": 1, \"xref\": \"x2\", \"y\": 1}, {\"font\": {\"color\": \"white\", \"size\": 12}, \"showarrow\": false, \"text\": \"0.91\", \"x\": 2, \"xref\": \"x2\", \"y\": 1}, {\"font\": {\"color\": \"white\", \"size\": 12}, \"showarrow\": false, \"text\": \"0.91\", \"x\": 0, \"xref\": \"x2\", \"y\": 2}, {\"font\": {\"color\": \"white\", \"size\": 12}, \"showarrow\": false, \"text\": \"0.93\", \"x\": 1, \"xref\": \"x2\", \"y\": 2}, {\"font\": {\"color\": \"white\", \"size\": 12}, \"showarrow\": false, \"text\": \"0.95\", \"x\": 2, \"xref\": \"x2\", \"y\": 2}, {\"showarrow\": false, \"text\": \"Tensorflow 1 - Original\", \"x\": 0.77, \"xref\": \"x domain\", \"y\": 1.08, \"yref\": \"y domain\"}, {\"showarrow\": false, \"text\": \"Tensorflow 2 - New\", \"x\": 2.1, \"xref\": \"x domain\", \"y\": 1.08, \"yref\": \"y domain\"}], \"template\": {\"data\": {\"bar\": [{\"error_x\": {\"color\": \"#2a3f5f\"}, \"error_y\": {\"color\": \"#2a3f5f\"}, \"marker\": {\"line\": {\"color\": \"#E5ECF6\", \"width\": 0.5}}, \"type\": \"bar\"}], \"barpolar\": [{\"marker\": {\"line\": {\"color\": \"#E5ECF6\", \"width\": 0.5}}, \"type\": \"barpolar\"}], \"carpet\": [{\"aaxis\": {\"endlinecolor\": \"#2a3f5f\", \"gridcolor\": \"white\", \"linecolor\": \"white\", \"minorgridcolor\": \"white\", \"startlinecolor\": \"#2a3f5f\"}, \"baxis\": {\"endlinecolor\": \"#2a3f5f\", \"gridcolor\": \"white\", \"linecolor\": \"white\", \"minorgridcolor\": \"white\", \"startlinecolor\": \"#2a3f5f\"}, \"type\": \"carpet\"}], \"choropleth\": [{\"colorbar\": {\"outlinewidth\": 0, \"ticks\": \"\"}, \"type\": \"choropleth\"}], \"contour\": [{\"colorbar\": {\"outlinewidth\": 0, \"ticks\": \"\"}, \"colorscale\": [[0.0, \"#0d0887\"], [0.1111111111111111, \"#46039f\"], [0.2222222222222222, \"#7201a8\"], [0.3333333333333333, \"#9c179e\"], [0.4444444444444444, \"#bd3786\"], [0.5555555555555556, \"#d8576b\"], [0.6666666666666666, \"#ed7953\"], [0.7777777777777778, \"#fb9f3a\"], [0.8888888888888888, \"#fdca26\"], [1.0, \"#f0f921\"]], \"type\": \"contour\"}], \"contourcarpet\": [{\"colorbar\": {\"outlinewidth\": 0, \"ticks\": \"\"}, \"type\": \"contourcarpet\"}], \"heatmap\": [{\"colorbar\": {\"outlinewidth\": 0, \"ticks\": \"\"}, \"colorscale\": [[0.0, \"#0d0887\"], [0.1111111111111111, \"#46039f\"], [0.2222222222222222, \"#7201a8\"], [0.3333333333333333, \"#9c179e\"], [0.4444444444444444, \"#bd3786\"], [0.5555555555555556, \"#d8576b\"], [0.6666666666666666, \"#ed7953\"], [0.7777777777777778, \"#fb9f3a\"], [0.8888888888888888, \"#fdca26\"], [1.0, \"#f0f921\"]], \"type\": \"heatmap\"}], \"heatmapgl\": [{\"colorbar\": {\"outlinewidth\": 0, \"ticks\": \"\"}, \"colorscale\": [[0.0, \"#0d0887\"], [0.1111111111111111, \"#46039f\"], [0.2222222222222222, \"#7201a8\"], [0.3333333333333333, \"#9c179e\"], [0.4444444444444444, \"#bd3786\"], [0.5555555555555556, \"#d8576b\"], [0.6666666666666666, \"#ed7953\"], [0.7777777777777778, \"#fb9f3a\"], [0.8888888888888888, \"#fdca26\"], [1.0, \"#f0f921\"]], \"type\": \"heatmapgl\"}], \"histogram\": [{\"marker\": {\"colorbar\": {\"outlinewidth\": 0, \"ticks\": \"\"}}, \"type\": \"histogram\"}], \"histogram2d\": [{\"colorbar\": {\"outlinewidth\": 0, \"ticks\": \"\"}, \"colorscale\": [[0.0, \"#0d0887\"], [0.1111111111111111, \"#46039f\"], [0.2222222222222222, \"#7201a8\"], [0.3333333333333333, \"#9c179e\"], [0.4444444444444444, \"#bd3786\"], [0.5555555555555556, \"#d8576b\"], [0.6666666666666666, \"#ed7953\"], [0.7777777777777778, \"#fb9f3a\"], [0.8888888888888888, \"#fdca26\"], [1.0, \"#f0f921\"]], \"type\": \"histogram2d\"}], \"histogram2dcontour\": [{\"colorbar\": {\"outlinewidth\": 0, \"ticks\": \"\"}, \"colorscale\": [[0.0, \"#0d0887\"], [0.1111111111111111, \"#46039f\"], [0.2222222222222222, \"#7201a8\"], [0.3333333333333333, \"#9c179e\"], [0.4444444444444444, \"#bd3786\"], [0.5555555555555556, \"#d8576b\"], [0.6666666666666666, \"#ed7953\"], [0.7777777777777778, \"#fb9f3a\"], [0.8888888888888888, \"#fdca26\"], [1.0, \"#f0f921\"]], \"type\": \"histogram2dcontour\"}], \"mesh3d\": [{\"colorbar\": {\"outlinewidth\": 0, \"ticks\": \"\"}, \"type\": \"mesh3d\"}], \"parcoords\": [{\"line\": {\"colorbar\": {\"outlinewidth\": 0, \"ticks\": \"\"}}, \"type\": \"parcoords\"}], \"pie\": [{\"automargin\": true, \"type\": \"pie\"}], \"scatter\": [{\"marker\": {\"colorbar\": {\"outlinewidth\": 0, \"ticks\": \"\"}}, \"type\": \"scatter\"}], \"scatter3d\": [{\"line\": {\"colorbar\": {\"outlinewidth\": 0, \"ticks\": \"\"}}, \"marker\": {\"colorbar\": {\"outlinewidth\": 0, \"ticks\": \"\"}}, \"type\": \"scatter3d\"}], \"scattercarpet\": [{\"marker\": {\"colorbar\": {\"outlinewidth\": 0, \"ticks\": \"\"}}, \"type\": \"scattercarpet\"}], \"scattergeo\": [{\"marker\": {\"colorbar\": {\"outlinewidth\": 0, \"ticks\": \"\"}}, \"type\": \"scattergeo\"}], \"scattergl\": [{\"marker\": {\"colorbar\": {\"outlinewidth\": 0, \"ticks\": \"\"}}, \"type\": \"scattergl\"}], \"scattermapbox\": [{\"marker\": {\"colorbar\": {\"outlinewidth\": 0, \"ticks\": \"\"}}, \"type\": \"scattermapbox\"}], \"scatterpolar\": [{\"marker\": {\"colorbar\": {\"outlinewidth\": 0, \"ticks\": \"\"}}, \"type\": \"scatterpolar\"}], \"scatterpolargl\": [{\"marker\": {\"colorbar\": {\"outlinewidth\": 0, \"ticks\": \"\"}}, \"type\": \"scatterpolargl\"}], \"scatterternary\": [{\"marker\": {\"colorbar\": {\"outlinewidth\": 0, \"ticks\": \"\"}}, \"type\": \"scatterternary\"}], \"surface\": [{\"colorbar\": {\"outlinewidth\": 0, \"ticks\": \"\"}, \"colorscale\": [[0.0, \"#0d0887\"], [0.1111111111111111, \"#46039f\"], [0.2222222222222222, \"#7201a8\"], [0.3333333333333333, \"#9c179e\"], [0.4444444444444444, \"#bd3786\"], [0.5555555555555556, \"#d8576b\"], [0.6666666666666666, \"#ed7953\"], [0.7777777777777778, \"#fb9f3a\"], [0.8888888888888888, \"#fdca26\"], [1.0, \"#f0f921\"]], \"type\": \"surface\"}], \"table\": [{\"cells\": {\"fill\": {\"color\": \"#EBF0F8\"}, \"line\": {\"color\": \"white\"}}, \"header\": {\"fill\": {\"color\": \"#C8D4E3\"}, \"line\": {\"color\": \"white\"}}, \"type\": \"table\"}]}, \"layout\": {\"annotationdefaults\": {\"arrowcolor\": \"#2a3f5f\", \"arrowhead\": 0, \"arrowwidth\": 1}, \"autotypenumbers\": \"strict\", \"coloraxis\": {\"colorbar\": {\"outlinewidth\": 0, \"ticks\": \"\"}}, \"colorscale\": {\"diverging\": [[0, \"#8e0152\"], [0.1, \"#c51b7d\"], [0.2, \"#de77ae\"], [0.3, \"#f1b6da\"], [0.4, \"#fde0ef\"], [0.5, \"#f7f7f7\"], [0.6, \"#e6f5d0\"], [0.7, \"#b8e186\"], [0.8, \"#7fbc41\"], [0.9, \"#4d9221\"], [1, \"#276419\"]], \"sequential\": [[0.0, \"#0d0887\"], [0.1111111111111111, \"#46039f\"], [0.2222222222222222, \"#7201a8\"], [0.3333333333333333, \"#9c179e\"], [0.4444444444444444, \"#bd3786\"], [0.5555555555555556, \"#d8576b\"], [0.6666666666666666, \"#ed7953\"], [0.7777777777777778, \"#fb9f3a\"], [0.8888888888888888, \"#fdca26\"], [1.0, \"#f0f921\"]], \"sequentialminus\": [[0.0, \"#0d0887\"], [0.1111111111111111, \"#46039f\"], [0.2222222222222222, \"#7201a8\"], [0.3333333333333333, \"#9c179e\"], [0.4444444444444444, \"#bd3786\"], [0.5555555555555556, \"#d8576b\"], [0.6666666666666666, \"#ed7953\"], [0.7777777777777778, \"#fb9f3a\"], [0.8888888888888888, \"#fdca26\"], [1.0, \"#f0f921\"]]}, \"colorway\": [\"#636efa\", \"#EF553B\", \"#00cc96\", \"#ab63fa\", \"#FFA15A\", \"#19d3f3\", \"#FF6692\", \"#B6E880\", \"#FF97FF\", \"#FECB52\"], \"font\": {\"color\": \"#2a3f5f\"}, \"geo\": {\"bgcolor\": \"white\", \"lakecolor\": \"white\", \"landcolor\": \"#E5ECF6\", \"showlakes\": true, \"showland\": true, \"subunitcolor\": \"white\"}, \"hoverlabel\": {\"align\": \"left\"}, \"hovermode\": \"closest\", \"mapbox\": {\"style\": \"light\"}, \"paper_bgcolor\": \"white\", \"plot_bgcolor\": \"#E5ECF6\", \"polar\": {\"angularaxis\": {\"gridcolor\": \"white\", \"linecolor\": \"white\", \"ticks\": \"\"}, \"bgcolor\": \"#E5ECF6\", \"radialaxis\": {\"gridcolor\": \"white\", \"linecolor\": \"white\", \"ticks\": \"\"}}, \"scene\": {\"xaxis\": {\"backgroundcolor\": \"#E5ECF6\", \"gridcolor\": \"white\", \"gridwidth\": 2, \"linecolor\": \"white\", \"showbackground\": true, \"ticks\": \"\", \"zerolinecolor\": \"white\"}, \"yaxis\": {\"backgroundcolor\": \"#E5ECF6\", \"gridcolor\": \"white\", \"gridwidth\": 2, \"linecolor\": \"white\", \"showbackground\": true, \"ticks\": \"\", \"zerolinecolor\": \"white\"}, \"zaxis\": {\"backgroundcolor\": \"#E5ECF6\", \"gridcolor\": \"white\", \"gridwidth\": 2, \"linecolor\": \"white\", \"showbackground\": true, \"ticks\": \"\", \"zerolinecolor\": \"white\"}}, \"shapedefaults\": {\"line\": {\"color\": \"#2a3f5f\"}}, \"ternary\": {\"aaxis\": {\"gridcolor\": \"white\", \"linecolor\": \"white\", \"ticks\": \"\"}, \"baxis\": {\"gridcolor\": \"white\", \"linecolor\": \"white\", \"ticks\": \"\"}, \"bgcolor\": \"#E5ECF6\", \"caxis\": {\"gridcolor\": \"white\", \"linecolor\": \"white\", \"ticks\": \"\"}}, \"title\": {\"x\": 0.05}, \"xaxis\": {\"automargin\": true, \"gridcolor\": \"white\", \"linecolor\": \"white\", \"ticks\": \"\", \"title\": {\"standoff\": 15}, \"zerolinecolor\": \"white\", \"zerolinewidth\": 2}, \"yaxis\": {\"automargin\": true, \"gridcolor\": \"white\", \"linecolor\": \"white\", \"ticks\": \"\", \"title\": {\"standoff\": 15}, \"zerolinecolor\": \"white\", \"zerolinewidth\": 2}}}, \"title\": {\"text\": \"Latent Reconstruction Performance\", \"x\": 0.5}, \"xaxis\": {\"anchor\": \"y\", \"domain\": [0.0, 0.425], \"title\": {\"text\": \"Baseline Firing Rate [Hz]\"}}, \"xaxis2\": {\"anchor\": \"y2\", \"domain\": [0.575, 1.0], \"title\": {\"text\": \"Baseline Firing Rate [Hz]\"}}, \"yaxis\": {\"anchor\": \"x\", \"domain\": [0.0, 1.0], \"title\": {\"text\": \"Training Trials\"}}, \"yaxis2\": {\"anchor\": \"x2\", \"domain\": [0.0, 1.0], \"title\": {\"text\": \"Training Trials\"}}},                        {\"responsive\": true}                    ).then(function(){\n",
       "                            \n",
       "var gd = document.getElementById('b42cc4dc-9e81-47cd-8111-f57d8a127305');\n",
       "var x = new MutationObserver(function (mutations, observer) {{\n",
       "        var display = window.getComputedStyle(gd).display;\n",
       "        if (!display || display === 'none') {{\n",
       "            console.log([gd, 'removed!']);\n",
       "            Plotly.purge(gd);\n",
       "            observer.disconnect();\n",
       "        }}\n",
       "}});\n",
       "\n",
       "// Listen for the removal of the full notebook cells\n",
       "var notebookContainer = gd.closest('#notebook-container');\n",
       "if (notebookContainer) {{\n",
       "    x.observe(notebookContainer, {childList: true});\n",
       "}}\n",
       "\n",
       "// Listen for the clearing of the current output cell\n",
       "var outputEl = gd.closest('.output');\n",
       "if (outputEl) {{\n",
       "    x.observe(outputEl, {childList: true});\n",
       "}}\n",
       "\n",
       "                        })                };                });            </script>        </div>"
      ]
     },
     "metadata": {},
     "output_type": "display_data"
    },
    {
     "data": {
      "application/vnd.plotly.v1+json": {
       "config": {
        "plotlyServerURL": "https://plot.ly"
       },
       "data": [
        {
         "colorscale": [
          [
           0,
           "rgb(247,251,255)"
          ],
          [
           0.125,
           "rgb(222,235,247)"
          ],
          [
           0.25,
           "rgb(198,219,239)"
          ],
          [
           0.375,
           "rgb(158,202,225)"
          ],
          [
           0.5,
           "rgb(107,174,214)"
          ],
          [
           0.625,
           "rgb(66,146,198)"
          ],
          [
           0.75,
           "rgb(33,113,181)"
          ],
          [
           0.875,
           "rgb(8,81,156)"
          ],
          [
           1,
           "rgb(8,48,107)"
          ]
         ],
         "type": "heatmap",
         "x": [
          "5",
          "10",
          "15"
         ],
         "xaxis": "x",
         "y": [
          "50",
          "100",
          "200"
         ],
         "yaxis": "y",
         "z": [
          [
           0.21992934889951654,
           0.04101049803037604,
           -0.009895391519339825
          ],
          [
           0.14118155278633437,
           0.03380586841915334,
           0.006630370188130175
          ],
          [
           0.08387425824793471,
           -0.01530092960934315,
           -0.008861310103011832
          ]
         ]
        }
       ],
       "layout": {
        "annotations": [
         {
          "font": {
           "color": "white",
           "size": 12
          },
          "showarrow": false,
          "text": "0.22",
          "x": 0,
          "xref": "x",
          "y": 0
         },
         {
          "font": {
           "color": "black",
           "size": 12
          },
          "showarrow": false,
          "text": "0.04",
          "x": 1,
          "xref": "x",
          "y": 0
         },
         {
          "font": {
           "color": "black",
           "size": 12
          },
          "showarrow": false,
          "text": "-0.01",
          "x": 2,
          "xref": "x",
          "y": 0
         },
         {
          "font": {
           "color": "white",
           "size": 12
          },
          "showarrow": false,
          "text": "0.14",
          "x": 0,
          "xref": "x",
          "y": 1
         },
         {
          "font": {
           "color": "black",
           "size": 12
          },
          "showarrow": false,
          "text": "0.03",
          "x": 1,
          "xref": "x",
          "y": 1
         },
         {
          "font": {
           "color": "black",
           "size": 12
          },
          "showarrow": false,
          "text": "0.01",
          "x": 2,
          "xref": "x",
          "y": 1
         },
         {
          "font": {
           "color": "white",
           "size": 12
          },
          "showarrow": false,
          "text": "0.08",
          "x": 0,
          "xref": "x",
          "y": 2
         },
         {
          "font": {
           "color": "black",
           "size": 12
          },
          "showarrow": false,
          "text": "-0.02",
          "x": 1,
          "xref": "x",
          "y": 2
         },
         {
          "font": {
           "color": "black",
           "size": 12
          },
          "showarrow": false,
          "text": "-0.01",
          "x": 2,
          "xref": "x",
          "y": 2
         }
        ],
        "template": {
         "data": {
          "bar": [
           {
            "error_x": {
             "color": "#2a3f5f"
            },
            "error_y": {
             "color": "#2a3f5f"
            },
            "marker": {
             "line": {
              "color": "#E5ECF6",
              "width": 0.5
             }
            },
            "type": "bar"
           }
          ],
          "barpolar": [
           {
            "marker": {
             "line": {
              "color": "#E5ECF6",
              "width": 0.5
             }
            },
            "type": "barpolar"
           }
          ],
          "carpet": [
           {
            "aaxis": {
             "endlinecolor": "#2a3f5f",
             "gridcolor": "white",
             "linecolor": "white",
             "minorgridcolor": "white",
             "startlinecolor": "#2a3f5f"
            },
            "baxis": {
             "endlinecolor": "#2a3f5f",
             "gridcolor": "white",
             "linecolor": "white",
             "minorgridcolor": "white",
             "startlinecolor": "#2a3f5f"
            },
            "type": "carpet"
           }
          ],
          "choropleth": [
           {
            "colorbar": {
             "outlinewidth": 0,
             "ticks": ""
            },
            "type": "choropleth"
           }
          ],
          "contour": [
           {
            "colorbar": {
             "outlinewidth": 0,
             "ticks": ""
            },
            "colorscale": [
             [
              0,
              "#0d0887"
             ],
             [
              0.1111111111111111,
              "#46039f"
             ],
             [
              0.2222222222222222,
              "#7201a8"
             ],
             [
              0.3333333333333333,
              "#9c179e"
             ],
             [
              0.4444444444444444,
              "#bd3786"
             ],
             [
              0.5555555555555556,
              "#d8576b"
             ],
             [
              0.6666666666666666,
              "#ed7953"
             ],
             [
              0.7777777777777778,
              "#fb9f3a"
             ],
             [
              0.8888888888888888,
              "#fdca26"
             ],
             [
              1,
              "#f0f921"
             ]
            ],
            "type": "contour"
           }
          ],
          "contourcarpet": [
           {
            "colorbar": {
             "outlinewidth": 0,
             "ticks": ""
            },
            "type": "contourcarpet"
           }
          ],
          "heatmap": [
           {
            "colorbar": {
             "outlinewidth": 0,
             "ticks": ""
            },
            "colorscale": [
             [
              0,
              "#0d0887"
             ],
             [
              0.1111111111111111,
              "#46039f"
             ],
             [
              0.2222222222222222,
              "#7201a8"
             ],
             [
              0.3333333333333333,
              "#9c179e"
             ],
             [
              0.4444444444444444,
              "#bd3786"
             ],
             [
              0.5555555555555556,
              "#d8576b"
             ],
             [
              0.6666666666666666,
              "#ed7953"
             ],
             [
              0.7777777777777778,
              "#fb9f3a"
             ],
             [
              0.8888888888888888,
              "#fdca26"
             ],
             [
              1,
              "#f0f921"
             ]
            ],
            "type": "heatmap"
           }
          ],
          "heatmapgl": [
           {
            "colorbar": {
             "outlinewidth": 0,
             "ticks": ""
            },
            "colorscale": [
             [
              0,
              "#0d0887"
             ],
             [
              0.1111111111111111,
              "#46039f"
             ],
             [
              0.2222222222222222,
              "#7201a8"
             ],
             [
              0.3333333333333333,
              "#9c179e"
             ],
             [
              0.4444444444444444,
              "#bd3786"
             ],
             [
              0.5555555555555556,
              "#d8576b"
             ],
             [
              0.6666666666666666,
              "#ed7953"
             ],
             [
              0.7777777777777778,
              "#fb9f3a"
             ],
             [
              0.8888888888888888,
              "#fdca26"
             ],
             [
              1,
              "#f0f921"
             ]
            ],
            "type": "heatmapgl"
           }
          ],
          "histogram": [
           {
            "marker": {
             "colorbar": {
              "outlinewidth": 0,
              "ticks": ""
             }
            },
            "type": "histogram"
           }
          ],
          "histogram2d": [
           {
            "colorbar": {
             "outlinewidth": 0,
             "ticks": ""
            },
            "colorscale": [
             [
              0,
              "#0d0887"
             ],
             [
              0.1111111111111111,
              "#46039f"
             ],
             [
              0.2222222222222222,
              "#7201a8"
             ],
             [
              0.3333333333333333,
              "#9c179e"
             ],
             [
              0.4444444444444444,
              "#bd3786"
             ],
             [
              0.5555555555555556,
              "#d8576b"
             ],
             [
              0.6666666666666666,
              "#ed7953"
             ],
             [
              0.7777777777777778,
              "#fb9f3a"
             ],
             [
              0.8888888888888888,
              "#fdca26"
             ],
             [
              1,
              "#f0f921"
             ]
            ],
            "type": "histogram2d"
           }
          ],
          "histogram2dcontour": [
           {
            "colorbar": {
             "outlinewidth": 0,
             "ticks": ""
            },
            "colorscale": [
             [
              0,
              "#0d0887"
             ],
             [
              0.1111111111111111,
              "#46039f"
             ],
             [
              0.2222222222222222,
              "#7201a8"
             ],
             [
              0.3333333333333333,
              "#9c179e"
             ],
             [
              0.4444444444444444,
              "#bd3786"
             ],
             [
              0.5555555555555556,
              "#d8576b"
             ],
             [
              0.6666666666666666,
              "#ed7953"
             ],
             [
              0.7777777777777778,
              "#fb9f3a"
             ],
             [
              0.8888888888888888,
              "#fdca26"
             ],
             [
              1,
              "#f0f921"
             ]
            ],
            "type": "histogram2dcontour"
           }
          ],
          "mesh3d": [
           {
            "colorbar": {
             "outlinewidth": 0,
             "ticks": ""
            },
            "type": "mesh3d"
           }
          ],
          "parcoords": [
           {
            "line": {
             "colorbar": {
              "outlinewidth": 0,
              "ticks": ""
             }
            },
            "type": "parcoords"
           }
          ],
          "pie": [
           {
            "automargin": true,
            "type": "pie"
           }
          ],
          "scatter": [
           {
            "marker": {
             "colorbar": {
              "outlinewidth": 0,
              "ticks": ""
             }
            },
            "type": "scatter"
           }
          ],
          "scatter3d": [
           {
            "line": {
             "colorbar": {
              "outlinewidth": 0,
              "ticks": ""
             }
            },
            "marker": {
             "colorbar": {
              "outlinewidth": 0,
              "ticks": ""
             }
            },
            "type": "scatter3d"
           }
          ],
          "scattercarpet": [
           {
            "marker": {
             "colorbar": {
              "outlinewidth": 0,
              "ticks": ""
             }
            },
            "type": "scattercarpet"
           }
          ],
          "scattergeo": [
           {
            "marker": {
             "colorbar": {
              "outlinewidth": 0,
              "ticks": ""
             }
            },
            "type": "scattergeo"
           }
          ],
          "scattergl": [
           {
            "marker": {
             "colorbar": {
              "outlinewidth": 0,
              "ticks": ""
             }
            },
            "type": "scattergl"
           }
          ],
          "scattermapbox": [
           {
            "marker": {
             "colorbar": {
              "outlinewidth": 0,
              "ticks": ""
             }
            },
            "type": "scattermapbox"
           }
          ],
          "scatterpolar": [
           {
            "marker": {
             "colorbar": {
              "outlinewidth": 0,
              "ticks": ""
             }
            },
            "type": "scatterpolar"
           }
          ],
          "scatterpolargl": [
           {
            "marker": {
             "colorbar": {
              "outlinewidth": 0,
              "ticks": ""
             }
            },
            "type": "scatterpolargl"
           }
          ],
          "scatterternary": [
           {
            "marker": {
             "colorbar": {
              "outlinewidth": 0,
              "ticks": ""
             }
            },
            "type": "scatterternary"
           }
          ],
          "surface": [
           {
            "colorbar": {
             "outlinewidth": 0,
             "ticks": ""
            },
            "colorscale": [
             [
              0,
              "#0d0887"
             ],
             [
              0.1111111111111111,
              "#46039f"
             ],
             [
              0.2222222222222222,
              "#7201a8"
             ],
             [
              0.3333333333333333,
              "#9c179e"
             ],
             [
              0.4444444444444444,
              "#bd3786"
             ],
             [
              0.5555555555555556,
              "#d8576b"
             ],
             [
              0.6666666666666666,
              "#ed7953"
             ],
             [
              0.7777777777777778,
              "#fb9f3a"
             ],
             [
              0.8888888888888888,
              "#fdca26"
             ],
             [
              1,
              "#f0f921"
             ]
            ],
            "type": "surface"
           }
          ],
          "table": [
           {
            "cells": {
             "fill": {
              "color": "#EBF0F8"
             },
             "line": {
              "color": "white"
             }
            },
            "header": {
             "fill": {
              "color": "#C8D4E3"
             },
             "line": {
              "color": "white"
             }
            },
            "type": "table"
           }
          ]
         },
         "layout": {
          "annotationdefaults": {
           "arrowcolor": "#2a3f5f",
           "arrowhead": 0,
           "arrowwidth": 1
          },
          "autotypenumbers": "strict",
          "coloraxis": {
           "colorbar": {
            "outlinewidth": 0,
            "ticks": ""
           }
          },
          "colorscale": {
           "diverging": [
            [
             0,
             "#8e0152"
            ],
            [
             0.1,
             "#c51b7d"
            ],
            [
             0.2,
             "#de77ae"
            ],
            [
             0.3,
             "#f1b6da"
            ],
            [
             0.4,
             "#fde0ef"
            ],
            [
             0.5,
             "#f7f7f7"
            ],
            [
             0.6,
             "#e6f5d0"
            ],
            [
             0.7,
             "#b8e186"
            ],
            [
             0.8,
             "#7fbc41"
            ],
            [
             0.9,
             "#4d9221"
            ],
            [
             1,
             "#276419"
            ]
           ],
           "sequential": [
            [
             0,
             "#0d0887"
            ],
            [
             0.1111111111111111,
             "#46039f"
            ],
            [
             0.2222222222222222,
             "#7201a8"
            ],
            [
             0.3333333333333333,
             "#9c179e"
            ],
            [
             0.4444444444444444,
             "#bd3786"
            ],
            [
             0.5555555555555556,
             "#d8576b"
            ],
            [
             0.6666666666666666,
             "#ed7953"
            ],
            [
             0.7777777777777778,
             "#fb9f3a"
            ],
            [
             0.8888888888888888,
             "#fdca26"
            ],
            [
             1,
             "#f0f921"
            ]
           ],
           "sequentialminus": [
            [
             0,
             "#0d0887"
            ],
            [
             0.1111111111111111,
             "#46039f"
            ],
            [
             0.2222222222222222,
             "#7201a8"
            ],
            [
             0.3333333333333333,
             "#9c179e"
            ],
            [
             0.4444444444444444,
             "#bd3786"
            ],
            [
             0.5555555555555556,
             "#d8576b"
            ],
            [
             0.6666666666666666,
             "#ed7953"
            ],
            [
             0.7777777777777778,
             "#fb9f3a"
            ],
            [
             0.8888888888888888,
             "#fdca26"
            ],
            [
             1,
             "#f0f921"
            ]
           ]
          },
          "colorway": [
           "#636efa",
           "#EF553B",
           "#00cc96",
           "#ab63fa",
           "#FFA15A",
           "#19d3f3",
           "#FF6692",
           "#B6E880",
           "#FF97FF",
           "#FECB52"
          ],
          "font": {
           "color": "#2a3f5f"
          },
          "geo": {
           "bgcolor": "white",
           "lakecolor": "white",
           "landcolor": "#E5ECF6",
           "showlakes": true,
           "showland": true,
           "subunitcolor": "white"
          },
          "hoverlabel": {
           "align": "left"
          },
          "hovermode": "closest",
          "mapbox": {
           "style": "light"
          },
          "paper_bgcolor": "white",
          "plot_bgcolor": "#E5ECF6",
          "polar": {
           "angularaxis": {
            "gridcolor": "white",
            "linecolor": "white",
            "ticks": ""
           },
           "bgcolor": "#E5ECF6",
           "radialaxis": {
            "gridcolor": "white",
            "linecolor": "white",
            "ticks": ""
           }
          },
          "scene": {
           "xaxis": {
            "backgroundcolor": "#E5ECF6",
            "gridcolor": "white",
            "gridwidth": 2,
            "linecolor": "white",
            "showbackground": true,
            "ticks": "",
            "zerolinecolor": "white"
           },
           "yaxis": {
            "backgroundcolor": "#E5ECF6",
            "gridcolor": "white",
            "gridwidth": 2,
            "linecolor": "white",
            "showbackground": true,
            "ticks": "",
            "zerolinecolor": "white"
           },
           "zaxis": {
            "backgroundcolor": "#E5ECF6",
            "gridcolor": "white",
            "gridwidth": 2,
            "linecolor": "white",
            "showbackground": true,
            "ticks": "",
            "zerolinecolor": "white"
           }
          },
          "shapedefaults": {
           "line": {
            "color": "#2a3f5f"
           }
          },
          "ternary": {
           "aaxis": {
            "gridcolor": "white",
            "linecolor": "white",
            "ticks": ""
           },
           "baxis": {
            "gridcolor": "white",
            "linecolor": "white",
            "ticks": ""
           },
           "bgcolor": "#E5ECF6",
           "caxis": {
            "gridcolor": "white",
            "linecolor": "white",
            "ticks": ""
           }
          },
          "title": {
           "x": 0.05
          },
          "xaxis": {
           "automargin": true,
           "gridcolor": "white",
           "linecolor": "white",
           "ticks": "",
           "title": {
            "standoff": 15
           },
           "zerolinecolor": "white",
           "zerolinewidth": 2
          },
          "yaxis": {
           "automargin": true,
           "gridcolor": "white",
           "linecolor": "white",
           "ticks": "",
           "title": {
            "standoff": 15
           },
           "zerolinecolor": "white",
           "zerolinewidth": 2
          }
         }
        },
        "title": {
         "text": "Latent Reconstruction Difference",
         "x": 0.5
        },
        "xaxis": {
         "anchor": "y",
         "domain": [
          0,
          1
         ],
         "title": {
          "text": "Baseline Firing Rate [Hz]"
         }
        },
        "yaxis": {
         "anchor": "x",
         "domain": [
          0,
          1
         ],
         "title": {
          "text": "Training Trials"
         }
        }
       }
      },
      "text/html": [
       "<div>                            <div id=\"30611283-ca76-460b-acfb-1ac1c00d8138\" class=\"plotly-graph-div\" style=\"height:525px; width:100%;\"></div>            <script type=\"text/javascript\">                require([\"plotly\"], function(Plotly) {                    window.PLOTLYENV=window.PLOTLYENV || {};                                    if (document.getElementById(\"30611283-ca76-460b-acfb-1ac1c00d8138\")) {                    Plotly.newPlot(                        \"30611283-ca76-460b-acfb-1ac1c00d8138\",                        [{\"colorscale\": [[0.0, \"rgb(247,251,255)\"], [0.125, \"rgb(222,235,247)\"], [0.25, \"rgb(198,219,239)\"], [0.375, \"rgb(158,202,225)\"], [0.5, \"rgb(107,174,214)\"], [0.625, \"rgb(66,146,198)\"], [0.75, \"rgb(33,113,181)\"], [0.875, \"rgb(8,81,156)\"], [1.0, \"rgb(8,48,107)\"]], \"type\": \"heatmap\", \"x\": [\"5\", \"10\", \"15\"], \"xaxis\": \"x\", \"y\": [\"50\", \"100\", \"200\"], \"yaxis\": \"y\", \"z\": [[0.21992934889951654, 0.04101049803037604, -0.009895391519339825], [0.14118155278633437, 0.03380586841915334, 0.006630370188130175], [0.08387425824793471, -0.01530092960934315, -0.008861310103011832]]}],                        {\"annotations\": [{\"font\": {\"color\": \"white\", \"size\": 12}, \"showarrow\": false, \"text\": \"0.22\", \"x\": 0, \"xref\": \"x\", \"y\": 0}, {\"font\": {\"color\": \"black\", \"size\": 12}, \"showarrow\": false, \"text\": \"0.04\", \"x\": 1, \"xref\": \"x\", \"y\": 0}, {\"font\": {\"color\": \"black\", \"size\": 12}, \"showarrow\": false, \"text\": \"-0.01\", \"x\": 2, \"xref\": \"x\", \"y\": 0}, {\"font\": {\"color\": \"white\", \"size\": 12}, \"showarrow\": false, \"text\": \"0.14\", \"x\": 0, \"xref\": \"x\", \"y\": 1}, {\"font\": {\"color\": \"black\", \"size\": 12}, \"showarrow\": false, \"text\": \"0.03\", \"x\": 1, \"xref\": \"x\", \"y\": 1}, {\"font\": {\"color\": \"black\", \"size\": 12}, \"showarrow\": false, \"text\": \"0.01\", \"x\": 2, \"xref\": \"x\", \"y\": 1}, {\"font\": {\"color\": \"white\", \"size\": 12}, \"showarrow\": false, \"text\": \"0.08\", \"x\": 0, \"xref\": \"x\", \"y\": 2}, {\"font\": {\"color\": \"black\", \"size\": 12}, \"showarrow\": false, \"text\": \"-0.02\", \"x\": 1, \"xref\": \"x\", \"y\": 2}, {\"font\": {\"color\": \"black\", \"size\": 12}, \"showarrow\": false, \"text\": \"-0.01\", \"x\": 2, \"xref\": \"x\", \"y\": 2}], \"template\": {\"data\": {\"bar\": [{\"error_x\": {\"color\": \"#2a3f5f\"}, \"error_y\": {\"color\": \"#2a3f5f\"}, \"marker\": {\"line\": {\"color\": \"#E5ECF6\", \"width\": 0.5}}, \"type\": \"bar\"}], \"barpolar\": [{\"marker\": {\"line\": {\"color\": \"#E5ECF6\", \"width\": 0.5}}, \"type\": \"barpolar\"}], \"carpet\": [{\"aaxis\": {\"endlinecolor\": \"#2a3f5f\", \"gridcolor\": \"white\", \"linecolor\": \"white\", \"minorgridcolor\": \"white\", \"startlinecolor\": \"#2a3f5f\"}, \"baxis\": {\"endlinecolor\": \"#2a3f5f\", \"gridcolor\": \"white\", \"linecolor\": \"white\", \"minorgridcolor\": \"white\", \"startlinecolor\": \"#2a3f5f\"}, \"type\": \"carpet\"}], \"choropleth\": [{\"colorbar\": {\"outlinewidth\": 0, \"ticks\": \"\"}, \"type\": \"choropleth\"}], \"contour\": [{\"colorbar\": {\"outlinewidth\": 0, \"ticks\": \"\"}, \"colorscale\": [[0.0, \"#0d0887\"], [0.1111111111111111, \"#46039f\"], [0.2222222222222222, \"#7201a8\"], [0.3333333333333333, \"#9c179e\"], [0.4444444444444444, \"#bd3786\"], [0.5555555555555556, \"#d8576b\"], [0.6666666666666666, \"#ed7953\"], [0.7777777777777778, \"#fb9f3a\"], [0.8888888888888888, \"#fdca26\"], [1.0, \"#f0f921\"]], \"type\": \"contour\"}], \"contourcarpet\": [{\"colorbar\": {\"outlinewidth\": 0, \"ticks\": \"\"}, \"type\": \"contourcarpet\"}], \"heatmap\": [{\"colorbar\": {\"outlinewidth\": 0, \"ticks\": \"\"}, \"colorscale\": [[0.0, \"#0d0887\"], [0.1111111111111111, \"#46039f\"], [0.2222222222222222, \"#7201a8\"], [0.3333333333333333, \"#9c179e\"], [0.4444444444444444, \"#bd3786\"], [0.5555555555555556, \"#d8576b\"], [0.6666666666666666, \"#ed7953\"], [0.7777777777777778, \"#fb9f3a\"], [0.8888888888888888, \"#fdca26\"], [1.0, \"#f0f921\"]], \"type\": \"heatmap\"}], \"heatmapgl\": [{\"colorbar\": {\"outlinewidth\": 0, \"ticks\": \"\"}, \"colorscale\": [[0.0, \"#0d0887\"], [0.1111111111111111, \"#46039f\"], [0.2222222222222222, \"#7201a8\"], [0.3333333333333333, \"#9c179e\"], [0.4444444444444444, \"#bd3786\"], [0.5555555555555556, \"#d8576b\"], [0.6666666666666666, \"#ed7953\"], [0.7777777777777778, \"#fb9f3a\"], [0.8888888888888888, \"#fdca26\"], [1.0, \"#f0f921\"]], \"type\": \"heatmapgl\"}], \"histogram\": [{\"marker\": {\"colorbar\": {\"outlinewidth\": 0, \"ticks\": \"\"}}, \"type\": \"histogram\"}], \"histogram2d\": [{\"colorbar\": {\"outlinewidth\": 0, \"ticks\": \"\"}, \"colorscale\": [[0.0, \"#0d0887\"], [0.1111111111111111, \"#46039f\"], [0.2222222222222222, \"#7201a8\"], [0.3333333333333333, \"#9c179e\"], [0.4444444444444444, \"#bd3786\"], [0.5555555555555556, \"#d8576b\"], [0.6666666666666666, \"#ed7953\"], [0.7777777777777778, \"#fb9f3a\"], [0.8888888888888888, \"#fdca26\"], [1.0, \"#f0f921\"]], \"type\": \"histogram2d\"}], \"histogram2dcontour\": [{\"colorbar\": {\"outlinewidth\": 0, \"ticks\": \"\"}, \"colorscale\": [[0.0, \"#0d0887\"], [0.1111111111111111, \"#46039f\"], [0.2222222222222222, \"#7201a8\"], [0.3333333333333333, \"#9c179e\"], [0.4444444444444444, \"#bd3786\"], [0.5555555555555556, \"#d8576b\"], [0.6666666666666666, \"#ed7953\"], [0.7777777777777778, \"#fb9f3a\"], [0.8888888888888888, \"#fdca26\"], [1.0, \"#f0f921\"]], \"type\": \"histogram2dcontour\"}], \"mesh3d\": [{\"colorbar\": {\"outlinewidth\": 0, \"ticks\": \"\"}, \"type\": \"mesh3d\"}], \"parcoords\": [{\"line\": {\"colorbar\": {\"outlinewidth\": 0, \"ticks\": \"\"}}, \"type\": \"parcoords\"}], \"pie\": [{\"automargin\": true, \"type\": \"pie\"}], \"scatter\": [{\"marker\": {\"colorbar\": {\"outlinewidth\": 0, \"ticks\": \"\"}}, \"type\": \"scatter\"}], \"scatter3d\": [{\"line\": {\"colorbar\": {\"outlinewidth\": 0, \"ticks\": \"\"}}, \"marker\": {\"colorbar\": {\"outlinewidth\": 0, \"ticks\": \"\"}}, \"type\": \"scatter3d\"}], \"scattercarpet\": [{\"marker\": {\"colorbar\": {\"outlinewidth\": 0, \"ticks\": \"\"}}, \"type\": \"scattercarpet\"}], \"scattergeo\": [{\"marker\": {\"colorbar\": {\"outlinewidth\": 0, \"ticks\": \"\"}}, \"type\": \"scattergeo\"}], \"scattergl\": [{\"marker\": {\"colorbar\": {\"outlinewidth\": 0, \"ticks\": \"\"}}, \"type\": \"scattergl\"}], \"scattermapbox\": [{\"marker\": {\"colorbar\": {\"outlinewidth\": 0, \"ticks\": \"\"}}, \"type\": \"scattermapbox\"}], \"scatterpolar\": [{\"marker\": {\"colorbar\": {\"outlinewidth\": 0, \"ticks\": \"\"}}, \"type\": \"scatterpolar\"}], \"scatterpolargl\": [{\"marker\": {\"colorbar\": {\"outlinewidth\": 0, \"ticks\": \"\"}}, \"type\": \"scatterpolargl\"}], \"scatterternary\": [{\"marker\": {\"colorbar\": {\"outlinewidth\": 0, \"ticks\": \"\"}}, \"type\": \"scatterternary\"}], \"surface\": [{\"colorbar\": {\"outlinewidth\": 0, \"ticks\": \"\"}, \"colorscale\": [[0.0, \"#0d0887\"], [0.1111111111111111, \"#46039f\"], [0.2222222222222222, \"#7201a8\"], [0.3333333333333333, \"#9c179e\"], [0.4444444444444444, \"#bd3786\"], [0.5555555555555556, \"#d8576b\"], [0.6666666666666666, \"#ed7953\"], [0.7777777777777778, \"#fb9f3a\"], [0.8888888888888888, \"#fdca26\"], [1.0, \"#f0f921\"]], \"type\": \"surface\"}], \"table\": [{\"cells\": {\"fill\": {\"color\": \"#EBF0F8\"}, \"line\": {\"color\": \"white\"}}, \"header\": {\"fill\": {\"color\": \"#C8D4E3\"}, \"line\": {\"color\": \"white\"}}, \"type\": \"table\"}]}, \"layout\": {\"annotationdefaults\": {\"arrowcolor\": \"#2a3f5f\", \"arrowhead\": 0, \"arrowwidth\": 1}, \"autotypenumbers\": \"strict\", \"coloraxis\": {\"colorbar\": {\"outlinewidth\": 0, \"ticks\": \"\"}}, \"colorscale\": {\"diverging\": [[0, \"#8e0152\"], [0.1, \"#c51b7d\"], [0.2, \"#de77ae\"], [0.3, \"#f1b6da\"], [0.4, \"#fde0ef\"], [0.5, \"#f7f7f7\"], [0.6, \"#e6f5d0\"], [0.7, \"#b8e186\"], [0.8, \"#7fbc41\"], [0.9, \"#4d9221\"], [1, \"#276419\"]], \"sequential\": [[0.0, \"#0d0887\"], [0.1111111111111111, \"#46039f\"], [0.2222222222222222, \"#7201a8\"], [0.3333333333333333, \"#9c179e\"], [0.4444444444444444, \"#bd3786\"], [0.5555555555555556, \"#d8576b\"], [0.6666666666666666, \"#ed7953\"], [0.7777777777777778, \"#fb9f3a\"], [0.8888888888888888, \"#fdca26\"], [1.0, \"#f0f921\"]], \"sequentialminus\": [[0.0, \"#0d0887\"], [0.1111111111111111, \"#46039f\"], [0.2222222222222222, \"#7201a8\"], [0.3333333333333333, \"#9c179e\"], [0.4444444444444444, \"#bd3786\"], [0.5555555555555556, \"#d8576b\"], [0.6666666666666666, \"#ed7953\"], [0.7777777777777778, \"#fb9f3a\"], [0.8888888888888888, \"#fdca26\"], [1.0, \"#f0f921\"]]}, \"colorway\": [\"#636efa\", \"#EF553B\", \"#00cc96\", \"#ab63fa\", \"#FFA15A\", \"#19d3f3\", \"#FF6692\", \"#B6E880\", \"#FF97FF\", \"#FECB52\"], \"font\": {\"color\": \"#2a3f5f\"}, \"geo\": {\"bgcolor\": \"white\", \"lakecolor\": \"white\", \"landcolor\": \"#E5ECF6\", \"showlakes\": true, \"showland\": true, \"subunitcolor\": \"white\"}, \"hoverlabel\": {\"align\": \"left\"}, \"hovermode\": \"closest\", \"mapbox\": {\"style\": \"light\"}, \"paper_bgcolor\": \"white\", \"plot_bgcolor\": \"#E5ECF6\", \"polar\": {\"angularaxis\": {\"gridcolor\": \"white\", \"linecolor\": \"white\", \"ticks\": \"\"}, \"bgcolor\": \"#E5ECF6\", \"radialaxis\": {\"gridcolor\": \"white\", \"linecolor\": \"white\", \"ticks\": \"\"}}, \"scene\": {\"xaxis\": {\"backgroundcolor\": \"#E5ECF6\", \"gridcolor\": \"white\", \"gridwidth\": 2, \"linecolor\": \"white\", \"showbackground\": true, \"ticks\": \"\", \"zerolinecolor\": \"white\"}, \"yaxis\": {\"backgroundcolor\": \"#E5ECF6\", \"gridcolor\": \"white\", \"gridwidth\": 2, \"linecolor\": \"white\", \"showbackground\": true, \"ticks\": \"\", \"zerolinecolor\": \"white\"}, \"zaxis\": {\"backgroundcolor\": \"#E5ECF6\", \"gridcolor\": \"white\", \"gridwidth\": 2, \"linecolor\": \"white\", \"showbackground\": true, \"ticks\": \"\", \"zerolinecolor\": \"white\"}}, \"shapedefaults\": {\"line\": {\"color\": \"#2a3f5f\"}}, \"ternary\": {\"aaxis\": {\"gridcolor\": \"white\", \"linecolor\": \"white\", \"ticks\": \"\"}, \"baxis\": {\"gridcolor\": \"white\", \"linecolor\": \"white\", \"ticks\": \"\"}, \"bgcolor\": \"#E5ECF6\", \"caxis\": {\"gridcolor\": \"white\", \"linecolor\": \"white\", \"ticks\": \"\"}}, \"title\": {\"x\": 0.05}, \"xaxis\": {\"automargin\": true, \"gridcolor\": \"white\", \"linecolor\": \"white\", \"ticks\": \"\", \"title\": {\"standoff\": 15}, \"zerolinecolor\": \"white\", \"zerolinewidth\": 2}, \"yaxis\": {\"automargin\": true, \"gridcolor\": \"white\", \"linecolor\": \"white\", \"ticks\": \"\", \"title\": {\"standoff\": 15}, \"zerolinecolor\": \"white\", \"zerolinewidth\": 2}}}, \"title\": {\"text\": \"Latent Reconstruction Difference\", \"x\": 0.5}, \"xaxis\": {\"anchor\": \"y\", \"domain\": [0.0, 1.0], \"title\": {\"text\": \"Baseline Firing Rate [Hz]\"}}, \"yaxis\": {\"anchor\": \"x\", \"domain\": [0.0, 1.0], \"title\": {\"text\": \"Training Trials\"}}},                        {\"responsive\": true}                    ).then(function(){\n",
       "                            \n",
       "var gd = document.getElementById('30611283-ca76-460b-acfb-1ac1c00d8138');\n",
       "var x = new MutationObserver(function (mutations, observer) {{\n",
       "        var display = window.getComputedStyle(gd).display;\n",
       "        if (!display || display === 'none') {{\n",
       "            console.log([gd, 'removed!']);\n",
       "            Plotly.purge(gd);\n",
       "            observer.disconnect();\n",
       "        }}\n",
       "}});\n",
       "\n",
       "// Listen for the removal of the full notebook cells\n",
       "var notebookContainer = gd.closest('#notebook-container');\n",
       "if (notebookContainer) {{\n",
       "    x.observe(notebookContainer, {childList: true});\n",
       "}}\n",
       "\n",
       "// Listen for the clearing of the current output cell\n",
       "var outputEl = gd.closest('.output');\n",
       "if (outputEl) {{\n",
       "    x.observe(outputEl, {childList: true});\n",
       "}}\n",
       "\n",
       "                        })                };                });            </script>        </div>"
      ]
     },
     "metadata": {},
     "output_type": "display_data"
    }
   ],
   "source": [
    "col_switch_pct = 0.3\n",
    "\n",
    "new_avg_r2 = pd.pivot_table(new_df, values='test_r2', index=['trials'],\n",
    "                                    columns=['baseline_rate'], aggfunc=np.mean)\n",
    "old_avg_r2 = pd.pivot_table(old_df, values='test_r2', index=['trials'],\n",
    "                                    columns=['baseline_rate'], aggfunc=np.mean)\n",
    "\n",
    "zmin=min([new_avg_r2.values.min(), old_avg_r2.values.min()])\n",
    "zmax=max([new_avg_r2.values.max(), old_avg_r2.values.max()])\n",
    "text_func=np.vectorize(lambda x: '%.1f' % x)\n",
    "fig = make_subplots(rows=1, cols=2, horizontal_spacing=0.15)\n",
    "\n",
    "fig.add_trace(\n",
    "    go.Heatmap(\n",
    "        z=old_avg_r2.values,\n",
    "        x=['%d' % (x) for x in old_avg_r2.columns.tolist()],\n",
    "        y=['%d' % (x) for x in old_avg_r2.index.tolist()],\n",
    "        colorscale='Blues',\n",
    "        zmin=zmin,\n",
    "        zmax=zmax),\n",
    "    row=1, col=1\n",
    ")\n",
    "\n",
    "fig.add_trace(\n",
    "    go.Heatmap(\n",
    "        z=new_avg_r2.values,\n",
    "        x=['%d' % (x) for x in new_avg_r2.columns.tolist()],\n",
    "        y=['%d' % (x) for x in new_avg_r2.index.tolist()],\n",
    "        colorscale='Blues',\n",
    "        zmin=zmin,\n",
    "        zmax=zmax),\n",
    "    row=1, col=2\n",
    ")\n",
    "\n",
    "col_switch = max(np.max(old_avg_r2.values), np.max(new_avg_r2.values)) * col_switch_pct + \\\n",
    "    min(np.min(old_avg_r2.values), np.min(new_avg_r2.values)) * (1-col_switch_pct)\n",
    "\n",
    "fig.update_layout(\n",
    "    title_text='Latent Reconstruction Performance', title_x=0.5,\n",
    "    annotations=[\n",
    "    dict(\n",
    "        showarrow=False,\n",
    "        x=iy,\n",
    "        y=ix,\n",
    "        xref='x1',\n",
    "        font=dict(color='white' if \n",
    "                  (old_avg_r2.iloc[ix, iy]) > col_switch\n",
    "                  else 'black', size=12),\n",
    "        text='%.2f' % (old_avg_r2.iloc[ix, iy])) \n",
    "        for ix,iy in np.ndindex(old_avg_r2.values.shape)] + [\n",
    "    dict(\n",
    "        showarrow=False,\n",
    "        x=iy,\n",
    "        y=ix,\n",
    "        xref='x2',\n",
    "        font=dict(color='white' if \n",
    "                  (new_avg_r2.iloc[ix, iy]) > col_switch\n",
    "                  else 'black', size=12),\n",
    "        text='%.2f' % (new_avg_r2.iloc[ix, iy])) \n",
    "        for ix,iy in np.ndindex(new_avg_r2.values.shape)] +\n",
    "    [\n",
    "        dict(\n",
    "            showarrow=False,\n",
    "            xref='x domain',\n",
    "            x=0.77,\n",
    "            yref='y domain',\n",
    "            y=1.08,\n",
    "            text='Tensorflow 1 - Original'),\n",
    "        dict(\n",
    "            showarrow=False,\n",
    "            xref='x domain',\n",
    "            x=2.1,\n",
    "            yref='y domain',\n",
    "            y=1.08,\n",
    "            text='Tensorflow 2 - New'),\n",
    "    ])\n",
    "fig['layout']['xaxis1'].update(title='Baseline Firing Rate [Hz]')\n",
    "fig['layout']['xaxis2'].update(title='Baseline Firing Rate [Hz]')\n",
    "fig['layout']['yaxis1'].update(title='Training Trials')\n",
    "fig['layout']['yaxis2'].update(title='Training Trials')\n",
    "\n",
    "fig_diff = make_subplots(rows=1, cols=1)\n",
    "\n",
    "fig_diff.add_trace(\n",
    "    go.Heatmap(\n",
    "        z=new_avg_r2.values - old_avg_r2.values,\n",
    "        colorscale='Blues',\n",
    "        x=['%d' % (x) for x in new_avg_r2.columns.tolist()],\n",
    "        y=['%d' % (x) for x in new_avg_r2.index.tolist()]),\n",
    "    row=1, col=1\n",
    ")\n",
    "\n",
    "col_switch = np.max((new_avg_r2 - old_avg_r2).values) * col_switch_pct + \\\n",
    "    np.min((new_avg_r2 - old_avg_r2).values) * (1-col_switch_pct)\n",
    "fig_diff.update_layout(\n",
    "    title_text='Latent Reconstruction Difference', title_x=0.5,\n",
    "    annotations=[\n",
    "    dict(\n",
    "        showarrow=False,\n",
    "        x=iy,\n",
    "        y=ix,\n",
    "        xref='x1',\n",
    "        font=dict(color='white' if \n",
    "                  (new_avg_r2.iloc[ix, iy] - old_avg_r2.iloc[ix, iy]) > col_switch\n",
    "                  else 'black', size=12),\n",
    "        text='%.2f' % (new_avg_r2.iloc[ix, iy] - old_avg_r2.iloc[ix, iy])) \n",
    "        for ix,iy in np.ndindex(old_avg_r2.values.shape)])\n",
    "fig_diff['layout']['xaxis1'].update(title='Baseline Firing Rate [Hz]')\n",
    "fig_diff['layout']['yaxis1'].update(title='Training Trials')\n",
    "\n",
    "fig.show()\n",
    "fig.write_image('results/lorenz_grid_lfads_new_vs_old/r2.pdf', width=700, height=440)\n",
    "\n",
    "fig_diff.show()\n",
    "fig_diff.write_image('results/lorenz_grid_lfads_new_vs_old/r2_diff.pdf', width=500, height=400)"
   ]
  },
  {
   "cell_type": "code",
   "execution_count": null,
   "id": "232cdf5e",
   "metadata": {},
   "outputs": [],
   "source": []
  },
  {
   "cell_type": "code",
   "execution_count": 9,
   "id": "872a0f74",
   "metadata": {},
   "outputs": [
    {
     "data": {
      "application/vnd.plotly.v1+json": {
       "config": {
        "plotlyServerURL": "https://plot.ly"
       },
       "data": [
        {
         "type": "heatmap",
         "x": [
          "5",
          "10",
          "15"
         ],
         "xaxis": "x",
         "y": [
          "50",
          "100",
          "200"
         ],
         "yaxis": "y",
         "z": [
          [
           769.1625945027669,
           1221.1095896809895,
           1588.1695803222656
          ],
          [
           757.9339744873047,
           1188.535055053711,
           1537.362479695638
          ],
          [
           749.2532346191407,
           1180.6640409342447,
           1532.0911973876953
          ]
         ],
         "zmax": 1588.1695803222656,
         "zmin": 733.9759375
        },
        {
         "type": "heatmap",
         "x": [
          "5",
          "10",
          "15"
         ],
         "xaxis": "x2",
         "y": [
          "50",
          "100",
          "200"
         ],
         "yaxis": "y2",
         "z": [
          [
           740.6076666666667,
           1195.2392916666668,
           1567.5252916666668
          ],
          [
           737.8242916666667,
           1171.4892499999999,
           1515.426083333333
          ],
          [
           733.9759375,
           1169.9105,
           1516.7652083333332
          ]
         ],
         "zmax": 1588.1695803222656,
         "zmin": 733.9759375
        }
       ],
       "layout": {
        "annotations": [
         {
          "font": {
           "color": "white",
           "size": 12
          },
          "showarrow": false,
          "text": "769.2",
          "x": 0,
          "xref": "x",
          "y": 0
         },
         {
          "font": {
           "color": "black",
           "size": 12
          },
          "showarrow": false,
          "text": "1221.1",
          "x": 1,
          "xref": "x",
          "y": 0
         },
         {
          "font": {
           "color": "black",
           "size": 12
          },
          "showarrow": false,
          "text": "1588.2",
          "x": 2,
          "xref": "x",
          "y": 0
         },
         {
          "font": {
           "color": "white",
           "size": 12
          },
          "showarrow": false,
          "text": "757.9",
          "x": 0,
          "xref": "x",
          "y": 1
         },
         {
          "font": {
           "color": "black",
           "size": 12
          },
          "showarrow": false,
          "text": "1188.5",
          "x": 1,
          "xref": "x",
          "y": 1
         },
         {
          "font": {
           "color": "black",
           "size": 12
          },
          "showarrow": false,
          "text": "1537.4",
          "x": 2,
          "xref": "x",
          "y": 1
         },
         {
          "font": {
           "color": "white",
           "size": 12
          },
          "showarrow": false,
          "text": "749.3",
          "x": 0,
          "xref": "x",
          "y": 2
         },
         {
          "font": {
           "color": "black",
           "size": 12
          },
          "showarrow": false,
          "text": "1180.7",
          "x": 1,
          "xref": "x",
          "y": 2
         },
         {
          "font": {
           "color": "black",
           "size": 12
          },
          "showarrow": false,
          "text": "1532.1",
          "x": 2,
          "xref": "x",
          "y": 2
         },
         {
          "font": {
           "color": "white",
           "size": 12
          },
          "showarrow": false,
          "text": "740.6",
          "x": 0,
          "xref": "x2",
          "y": 0
         },
         {
          "font": {
           "color": "black",
           "size": 12
          },
          "showarrow": false,
          "text": "1195.2",
          "x": 1,
          "xref": "x2",
          "y": 0
         },
         {
          "font": {
           "color": "black",
           "size": 12
          },
          "showarrow": false,
          "text": "1567.5",
          "x": 2,
          "xref": "x2",
          "y": 0
         },
         {
          "font": {
           "color": "white",
           "size": 12
          },
          "showarrow": false,
          "text": "737.8",
          "x": 0,
          "xref": "x2",
          "y": 1
         },
         {
          "font": {
           "color": "black",
           "size": 12
          },
          "showarrow": false,
          "text": "1171.5",
          "x": 1,
          "xref": "x2",
          "y": 1
         },
         {
          "font": {
           "color": "black",
           "size": 12
          },
          "showarrow": false,
          "text": "1515.4",
          "x": 2,
          "xref": "x2",
          "y": 1
         },
         {
          "font": {
           "color": "white",
           "size": 12
          },
          "showarrow": false,
          "text": "734.0",
          "x": 0,
          "xref": "x2",
          "y": 2
         },
         {
          "font": {
           "color": "black",
           "size": 12
          },
          "showarrow": false,
          "text": "1169.9",
          "x": 1,
          "xref": "x2",
          "y": 2
         },
         {
          "font": {
           "color": "black",
           "size": 12
          },
          "showarrow": false,
          "text": "1516.8",
          "x": 2,
          "xref": "x2",
          "y": 2
         },
         {
          "showarrow": false,
          "text": "Average log-likelihood loss (Hp: Poisson) on a 1000 trials test set, for 3 independent model runs.",
          "x": 2.1,
          "xref": "x domain",
          "y": -0.22,
          "yref": "y domain"
         },
         {
          "showarrow": false,
          "text": "Tensorflow 1 - Original",
          "x": 0.74,
          "xref": "x domain",
          "y": 1.08,
          "yref": "y domain"
         },
         {
          "showarrow": false,
          "text": "Tensorflow 2 - New",
          "x": 1.92,
          "xref": "x domain",
          "y": 1.08,
          "yref": "y domain"
         }
        ],
        "template": {
         "data": {
          "bar": [
           {
            "error_x": {
             "color": "#2a3f5f"
            },
            "error_y": {
             "color": "#2a3f5f"
            },
            "marker": {
             "line": {
              "color": "#E5ECF6",
              "width": 0.5
             }
            },
            "type": "bar"
           }
          ],
          "barpolar": [
           {
            "marker": {
             "line": {
              "color": "#E5ECF6",
              "width": 0.5
             }
            },
            "type": "barpolar"
           }
          ],
          "carpet": [
           {
            "aaxis": {
             "endlinecolor": "#2a3f5f",
             "gridcolor": "white",
             "linecolor": "white",
             "minorgridcolor": "white",
             "startlinecolor": "#2a3f5f"
            },
            "baxis": {
             "endlinecolor": "#2a3f5f",
             "gridcolor": "white",
             "linecolor": "white",
             "minorgridcolor": "white",
             "startlinecolor": "#2a3f5f"
            },
            "type": "carpet"
           }
          ],
          "choropleth": [
           {
            "colorbar": {
             "outlinewidth": 0,
             "ticks": ""
            },
            "type": "choropleth"
           }
          ],
          "contour": [
           {
            "colorbar": {
             "outlinewidth": 0,
             "ticks": ""
            },
            "colorscale": [
             [
              0,
              "#0d0887"
             ],
             [
              0.1111111111111111,
              "#46039f"
             ],
             [
              0.2222222222222222,
              "#7201a8"
             ],
             [
              0.3333333333333333,
              "#9c179e"
             ],
             [
              0.4444444444444444,
              "#bd3786"
             ],
             [
              0.5555555555555556,
              "#d8576b"
             ],
             [
              0.6666666666666666,
              "#ed7953"
             ],
             [
              0.7777777777777778,
              "#fb9f3a"
             ],
             [
              0.8888888888888888,
              "#fdca26"
             ],
             [
              1,
              "#f0f921"
             ]
            ],
            "type": "contour"
           }
          ],
          "contourcarpet": [
           {
            "colorbar": {
             "outlinewidth": 0,
             "ticks": ""
            },
            "type": "contourcarpet"
           }
          ],
          "heatmap": [
           {
            "colorbar": {
             "outlinewidth": 0,
             "ticks": ""
            },
            "colorscale": [
             [
              0,
              "#0d0887"
             ],
             [
              0.1111111111111111,
              "#46039f"
             ],
             [
              0.2222222222222222,
              "#7201a8"
             ],
             [
              0.3333333333333333,
              "#9c179e"
             ],
             [
              0.4444444444444444,
              "#bd3786"
             ],
             [
              0.5555555555555556,
              "#d8576b"
             ],
             [
              0.6666666666666666,
              "#ed7953"
             ],
             [
              0.7777777777777778,
              "#fb9f3a"
             ],
             [
              0.8888888888888888,
              "#fdca26"
             ],
             [
              1,
              "#f0f921"
             ]
            ],
            "type": "heatmap"
           }
          ],
          "heatmapgl": [
           {
            "colorbar": {
             "outlinewidth": 0,
             "ticks": ""
            },
            "colorscale": [
             [
              0,
              "#0d0887"
             ],
             [
              0.1111111111111111,
              "#46039f"
             ],
             [
              0.2222222222222222,
              "#7201a8"
             ],
             [
              0.3333333333333333,
              "#9c179e"
             ],
             [
              0.4444444444444444,
              "#bd3786"
             ],
             [
              0.5555555555555556,
              "#d8576b"
             ],
             [
              0.6666666666666666,
              "#ed7953"
             ],
             [
              0.7777777777777778,
              "#fb9f3a"
             ],
             [
              0.8888888888888888,
              "#fdca26"
             ],
             [
              1,
              "#f0f921"
             ]
            ],
            "type": "heatmapgl"
           }
          ],
          "histogram": [
           {
            "marker": {
             "colorbar": {
              "outlinewidth": 0,
              "ticks": ""
             }
            },
            "type": "histogram"
           }
          ],
          "histogram2d": [
           {
            "colorbar": {
             "outlinewidth": 0,
             "ticks": ""
            },
            "colorscale": [
             [
              0,
              "#0d0887"
             ],
             [
              0.1111111111111111,
              "#46039f"
             ],
             [
              0.2222222222222222,
              "#7201a8"
             ],
             [
              0.3333333333333333,
              "#9c179e"
             ],
             [
              0.4444444444444444,
              "#bd3786"
             ],
             [
              0.5555555555555556,
              "#d8576b"
             ],
             [
              0.6666666666666666,
              "#ed7953"
             ],
             [
              0.7777777777777778,
              "#fb9f3a"
             ],
             [
              0.8888888888888888,
              "#fdca26"
             ],
             [
              1,
              "#f0f921"
             ]
            ],
            "type": "histogram2d"
           }
          ],
          "histogram2dcontour": [
           {
            "colorbar": {
             "outlinewidth": 0,
             "ticks": ""
            },
            "colorscale": [
             [
              0,
              "#0d0887"
             ],
             [
              0.1111111111111111,
              "#46039f"
             ],
             [
              0.2222222222222222,
              "#7201a8"
             ],
             [
              0.3333333333333333,
              "#9c179e"
             ],
             [
              0.4444444444444444,
              "#bd3786"
             ],
             [
              0.5555555555555556,
              "#d8576b"
             ],
             [
              0.6666666666666666,
              "#ed7953"
             ],
             [
              0.7777777777777778,
              "#fb9f3a"
             ],
             [
              0.8888888888888888,
              "#fdca26"
             ],
             [
              1,
              "#f0f921"
             ]
            ],
            "type": "histogram2dcontour"
           }
          ],
          "mesh3d": [
           {
            "colorbar": {
             "outlinewidth": 0,
             "ticks": ""
            },
            "type": "mesh3d"
           }
          ],
          "parcoords": [
           {
            "line": {
             "colorbar": {
              "outlinewidth": 0,
              "ticks": ""
             }
            },
            "type": "parcoords"
           }
          ],
          "pie": [
           {
            "automargin": true,
            "type": "pie"
           }
          ],
          "scatter": [
           {
            "marker": {
             "colorbar": {
              "outlinewidth": 0,
              "ticks": ""
             }
            },
            "type": "scatter"
           }
          ],
          "scatter3d": [
           {
            "line": {
             "colorbar": {
              "outlinewidth": 0,
              "ticks": ""
             }
            },
            "marker": {
             "colorbar": {
              "outlinewidth": 0,
              "ticks": ""
             }
            },
            "type": "scatter3d"
           }
          ],
          "scattercarpet": [
           {
            "marker": {
             "colorbar": {
              "outlinewidth": 0,
              "ticks": ""
             }
            },
            "type": "scattercarpet"
           }
          ],
          "scattergeo": [
           {
            "marker": {
             "colorbar": {
              "outlinewidth": 0,
              "ticks": ""
             }
            },
            "type": "scattergeo"
           }
          ],
          "scattergl": [
           {
            "marker": {
             "colorbar": {
              "outlinewidth": 0,
              "ticks": ""
             }
            },
            "type": "scattergl"
           }
          ],
          "scattermapbox": [
           {
            "marker": {
             "colorbar": {
              "outlinewidth": 0,
              "ticks": ""
             }
            },
            "type": "scattermapbox"
           }
          ],
          "scatterpolar": [
           {
            "marker": {
             "colorbar": {
              "outlinewidth": 0,
              "ticks": ""
             }
            },
            "type": "scatterpolar"
           }
          ],
          "scatterpolargl": [
           {
            "marker": {
             "colorbar": {
              "outlinewidth": 0,
              "ticks": ""
             }
            },
            "type": "scatterpolargl"
           }
          ],
          "scatterternary": [
           {
            "marker": {
             "colorbar": {
              "outlinewidth": 0,
              "ticks": ""
             }
            },
            "type": "scatterternary"
           }
          ],
          "surface": [
           {
            "colorbar": {
             "outlinewidth": 0,
             "ticks": ""
            },
            "colorscale": [
             [
              0,
              "#0d0887"
             ],
             [
              0.1111111111111111,
              "#46039f"
             ],
             [
              0.2222222222222222,
              "#7201a8"
             ],
             [
              0.3333333333333333,
              "#9c179e"
             ],
             [
              0.4444444444444444,
              "#bd3786"
             ],
             [
              0.5555555555555556,
              "#d8576b"
             ],
             [
              0.6666666666666666,
              "#ed7953"
             ],
             [
              0.7777777777777778,
              "#fb9f3a"
             ],
             [
              0.8888888888888888,
              "#fdca26"
             ],
             [
              1,
              "#f0f921"
             ]
            ],
            "type": "surface"
           }
          ],
          "table": [
           {
            "cells": {
             "fill": {
              "color": "#EBF0F8"
             },
             "line": {
              "color": "white"
             }
            },
            "header": {
             "fill": {
              "color": "#C8D4E3"
             },
             "line": {
              "color": "white"
             }
            },
            "type": "table"
           }
          ]
         },
         "layout": {
          "annotationdefaults": {
           "arrowcolor": "#2a3f5f",
           "arrowhead": 0,
           "arrowwidth": 1
          },
          "autotypenumbers": "strict",
          "coloraxis": {
           "colorbar": {
            "outlinewidth": 0,
            "ticks": ""
           }
          },
          "colorscale": {
           "diverging": [
            [
             0,
             "#8e0152"
            ],
            [
             0.1,
             "#c51b7d"
            ],
            [
             0.2,
             "#de77ae"
            ],
            [
             0.3,
             "#f1b6da"
            ],
            [
             0.4,
             "#fde0ef"
            ],
            [
             0.5,
             "#f7f7f7"
            ],
            [
             0.6,
             "#e6f5d0"
            ],
            [
             0.7,
             "#b8e186"
            ],
            [
             0.8,
             "#7fbc41"
            ],
            [
             0.9,
             "#4d9221"
            ],
            [
             1,
             "#276419"
            ]
           ],
           "sequential": [
            [
             0,
             "#0d0887"
            ],
            [
             0.1111111111111111,
             "#46039f"
            ],
            [
             0.2222222222222222,
             "#7201a8"
            ],
            [
             0.3333333333333333,
             "#9c179e"
            ],
            [
             0.4444444444444444,
             "#bd3786"
            ],
            [
             0.5555555555555556,
             "#d8576b"
            ],
            [
             0.6666666666666666,
             "#ed7953"
            ],
            [
             0.7777777777777778,
             "#fb9f3a"
            ],
            [
             0.8888888888888888,
             "#fdca26"
            ],
            [
             1,
             "#f0f921"
            ]
           ],
           "sequentialminus": [
            [
             0,
             "#0d0887"
            ],
            [
             0.1111111111111111,
             "#46039f"
            ],
            [
             0.2222222222222222,
             "#7201a8"
            ],
            [
             0.3333333333333333,
             "#9c179e"
            ],
            [
             0.4444444444444444,
             "#bd3786"
            ],
            [
             0.5555555555555556,
             "#d8576b"
            ],
            [
             0.6666666666666666,
             "#ed7953"
            ],
            [
             0.7777777777777778,
             "#fb9f3a"
            ],
            [
             0.8888888888888888,
             "#fdca26"
            ],
            [
             1,
             "#f0f921"
            ]
           ]
          },
          "colorway": [
           "#636efa",
           "#EF553B",
           "#00cc96",
           "#ab63fa",
           "#FFA15A",
           "#19d3f3",
           "#FF6692",
           "#B6E880",
           "#FF97FF",
           "#FECB52"
          ],
          "font": {
           "color": "#2a3f5f"
          },
          "geo": {
           "bgcolor": "white",
           "lakecolor": "white",
           "landcolor": "#E5ECF6",
           "showlakes": true,
           "showland": true,
           "subunitcolor": "white"
          },
          "hoverlabel": {
           "align": "left"
          },
          "hovermode": "closest",
          "mapbox": {
           "style": "light"
          },
          "paper_bgcolor": "white",
          "plot_bgcolor": "#E5ECF6",
          "polar": {
           "angularaxis": {
            "gridcolor": "white",
            "linecolor": "white",
            "ticks": ""
           },
           "bgcolor": "#E5ECF6",
           "radialaxis": {
            "gridcolor": "white",
            "linecolor": "white",
            "ticks": ""
           }
          },
          "scene": {
           "xaxis": {
            "backgroundcolor": "#E5ECF6",
            "gridcolor": "white",
            "gridwidth": 2,
            "linecolor": "white",
            "showbackground": true,
            "ticks": "",
            "zerolinecolor": "white"
           },
           "yaxis": {
            "backgroundcolor": "#E5ECF6",
            "gridcolor": "white",
            "gridwidth": 2,
            "linecolor": "white",
            "showbackground": true,
            "ticks": "",
            "zerolinecolor": "white"
           },
           "zaxis": {
            "backgroundcolor": "#E5ECF6",
            "gridcolor": "white",
            "gridwidth": 2,
            "linecolor": "white",
            "showbackground": true,
            "ticks": "",
            "zerolinecolor": "white"
           }
          },
          "shapedefaults": {
           "line": {
            "color": "#2a3f5f"
           }
          },
          "ternary": {
           "aaxis": {
            "gridcolor": "white",
            "linecolor": "white",
            "ticks": ""
           },
           "baxis": {
            "gridcolor": "white",
            "linecolor": "white",
            "ticks": ""
           },
           "bgcolor": "#E5ECF6",
           "caxis": {
            "gridcolor": "white",
            "linecolor": "white",
            "ticks": ""
           }
          },
          "title": {
           "x": 0.05
          },
          "xaxis": {
           "automargin": true,
           "gridcolor": "white",
           "linecolor": "white",
           "ticks": "",
           "title": {
            "standoff": 15
           },
           "zerolinecolor": "white",
           "zerolinewidth": 2
          },
          "yaxis": {
           "automargin": true,
           "gridcolor": "white",
           "linecolor": "white",
           "ticks": "",
           "title": {
            "standoff": 15
           },
           "zerolinecolor": "white",
           "zerolinewidth": 2
          }
         }
        },
        "title": {
         "text": "Latent Reconstruction Performance",
         "x": 0.5
        },
        "xaxis": {
         "anchor": "y",
         "domain": [
          0,
          0.45
         ],
         "title": {
          "text": "Baseline Firing Rate [Hz]"
         }
        },
        "xaxis2": {
         "anchor": "y2",
         "domain": [
          0.55,
          1
         ],
         "title": {
          "text": "Baseline Firing Rate [Hz]"
         }
        },
        "yaxis": {
         "anchor": "x",
         "domain": [
          0,
          1
         ],
         "title": {
          "text": "Training Trials"
         }
        },
        "yaxis2": {
         "anchor": "x2",
         "domain": [
          0,
          1
         ],
         "title": {
          "text": "Training Trials"
         }
        }
       }
      },
      "text/html": [
       "<div>                            <div id=\"54a9f55a-fce0-432f-a27c-1c5921827295\" class=\"plotly-graph-div\" style=\"height:525px; width:100%;\"></div>            <script type=\"text/javascript\">                require([\"plotly\"], function(Plotly) {                    window.PLOTLYENV=window.PLOTLYENV || {};                                    if (document.getElementById(\"54a9f55a-fce0-432f-a27c-1c5921827295\")) {                    Plotly.newPlot(                        \"54a9f55a-fce0-432f-a27c-1c5921827295\",                        [{\"type\": \"heatmap\", \"x\": [\"5\", \"10\", \"15\"], \"xaxis\": \"x\", \"y\": [\"50\", \"100\", \"200\"], \"yaxis\": \"y\", \"z\": [[769.1625945027669, 1221.1095896809895, 1588.1695803222656], [757.9339744873047, 1188.535055053711, 1537.362479695638], [749.2532346191407, 1180.6640409342447, 1532.0911973876953]], \"zmax\": 1588.1695803222656, \"zmin\": 733.9759375}, {\"type\": \"heatmap\", \"x\": [\"5\", \"10\", \"15\"], \"xaxis\": \"x2\", \"y\": [\"50\", \"100\", \"200\"], \"yaxis\": \"y2\", \"z\": [[740.6076666666667, 1195.2392916666668, 1567.5252916666668], [737.8242916666667, 1171.4892499999999, 1515.426083333333], [733.9759375, 1169.9105, 1516.7652083333332]], \"zmax\": 1588.1695803222656, \"zmin\": 733.9759375}],                        {\"annotations\": [{\"font\": {\"color\": \"white\", \"size\": 12}, \"showarrow\": false, \"text\": \"769.2\", \"x\": 0, \"xref\": \"x\", \"y\": 0}, {\"font\": {\"color\": \"black\", \"size\": 12}, \"showarrow\": false, \"text\": \"1221.1\", \"x\": 1, \"xref\": \"x\", \"y\": 0}, {\"font\": {\"color\": \"black\", \"size\": 12}, \"showarrow\": false, \"text\": \"1588.2\", \"x\": 2, \"xref\": \"x\", \"y\": 0}, {\"font\": {\"color\": \"white\", \"size\": 12}, \"showarrow\": false, \"text\": \"757.9\", \"x\": 0, \"xref\": \"x\", \"y\": 1}, {\"font\": {\"color\": \"black\", \"size\": 12}, \"showarrow\": false, \"text\": \"1188.5\", \"x\": 1, \"xref\": \"x\", \"y\": 1}, {\"font\": {\"color\": \"black\", \"size\": 12}, \"showarrow\": false, \"text\": \"1537.4\", \"x\": 2, \"xref\": \"x\", \"y\": 1}, {\"font\": {\"color\": \"white\", \"size\": 12}, \"showarrow\": false, \"text\": \"749.3\", \"x\": 0, \"xref\": \"x\", \"y\": 2}, {\"font\": {\"color\": \"black\", \"size\": 12}, \"showarrow\": false, \"text\": \"1180.7\", \"x\": 1, \"xref\": \"x\", \"y\": 2}, {\"font\": {\"color\": \"black\", \"size\": 12}, \"showarrow\": false, \"text\": \"1532.1\", \"x\": 2, \"xref\": \"x\", \"y\": 2}, {\"font\": {\"color\": \"white\", \"size\": 12}, \"showarrow\": false, \"text\": \"740.6\", \"x\": 0, \"xref\": \"x2\", \"y\": 0}, {\"font\": {\"color\": \"black\", \"size\": 12}, \"showarrow\": false, \"text\": \"1195.2\", \"x\": 1, \"xref\": \"x2\", \"y\": 0}, {\"font\": {\"color\": \"black\", \"size\": 12}, \"showarrow\": false, \"text\": \"1567.5\", \"x\": 2, \"xref\": \"x2\", \"y\": 0}, {\"font\": {\"color\": \"white\", \"size\": 12}, \"showarrow\": false, \"text\": \"737.8\", \"x\": 0, \"xref\": \"x2\", \"y\": 1}, {\"font\": {\"color\": \"black\", \"size\": 12}, \"showarrow\": false, \"text\": \"1171.5\", \"x\": 1, \"xref\": \"x2\", \"y\": 1}, {\"font\": {\"color\": \"black\", \"size\": 12}, \"showarrow\": false, \"text\": \"1515.4\", \"x\": 2, \"xref\": \"x2\", \"y\": 1}, {\"font\": {\"color\": \"white\", \"size\": 12}, \"showarrow\": false, \"text\": \"734.0\", \"x\": 0, \"xref\": \"x2\", \"y\": 2}, {\"font\": {\"color\": \"black\", \"size\": 12}, \"showarrow\": false, \"text\": \"1169.9\", \"x\": 1, \"xref\": \"x2\", \"y\": 2}, {\"font\": {\"color\": \"black\", \"size\": 12}, \"showarrow\": false, \"text\": \"1516.8\", \"x\": 2, \"xref\": \"x2\", \"y\": 2}, {\"showarrow\": false, \"text\": \"Average log-likelihood loss (Hp: Poisson) on a 1000 trials test set, for 3 independent model runs.\", \"x\": 2.1, \"xref\": \"x domain\", \"y\": -0.22, \"yref\": \"y domain\"}, {\"showarrow\": false, \"text\": \"Tensorflow 1 - Original\", \"x\": 0.74, \"xref\": \"x domain\", \"y\": 1.08, \"yref\": \"y domain\"}, {\"showarrow\": false, \"text\": \"Tensorflow 2 - New\", \"x\": 1.92, \"xref\": \"x domain\", \"y\": 1.08, \"yref\": \"y domain\"}], \"template\": {\"data\": {\"bar\": [{\"error_x\": {\"color\": \"#2a3f5f\"}, \"error_y\": {\"color\": \"#2a3f5f\"}, \"marker\": {\"line\": {\"color\": \"#E5ECF6\", \"width\": 0.5}}, \"type\": \"bar\"}], \"barpolar\": [{\"marker\": {\"line\": {\"color\": \"#E5ECF6\", \"width\": 0.5}}, \"type\": \"barpolar\"}], \"carpet\": [{\"aaxis\": {\"endlinecolor\": \"#2a3f5f\", \"gridcolor\": \"white\", \"linecolor\": \"white\", \"minorgridcolor\": \"white\", \"startlinecolor\": \"#2a3f5f\"}, \"baxis\": {\"endlinecolor\": \"#2a3f5f\", \"gridcolor\": \"white\", \"linecolor\": \"white\", \"minorgridcolor\": \"white\", \"startlinecolor\": \"#2a3f5f\"}, \"type\": \"carpet\"}], \"choropleth\": [{\"colorbar\": {\"outlinewidth\": 0, \"ticks\": \"\"}, \"type\": \"choropleth\"}], \"contour\": [{\"colorbar\": {\"outlinewidth\": 0, \"ticks\": \"\"}, \"colorscale\": [[0.0, \"#0d0887\"], [0.1111111111111111, \"#46039f\"], [0.2222222222222222, \"#7201a8\"], [0.3333333333333333, \"#9c179e\"], [0.4444444444444444, \"#bd3786\"], [0.5555555555555556, \"#d8576b\"], [0.6666666666666666, \"#ed7953\"], [0.7777777777777778, \"#fb9f3a\"], [0.8888888888888888, \"#fdca26\"], [1.0, \"#f0f921\"]], \"type\": \"contour\"}], \"contourcarpet\": [{\"colorbar\": {\"outlinewidth\": 0, \"ticks\": \"\"}, \"type\": \"contourcarpet\"}], \"heatmap\": [{\"colorbar\": {\"outlinewidth\": 0, \"ticks\": \"\"}, \"colorscale\": [[0.0, \"#0d0887\"], [0.1111111111111111, \"#46039f\"], [0.2222222222222222, \"#7201a8\"], [0.3333333333333333, \"#9c179e\"], [0.4444444444444444, \"#bd3786\"], [0.5555555555555556, \"#d8576b\"], [0.6666666666666666, \"#ed7953\"], [0.7777777777777778, \"#fb9f3a\"], [0.8888888888888888, \"#fdca26\"], [1.0, \"#f0f921\"]], \"type\": \"heatmap\"}], \"heatmapgl\": [{\"colorbar\": {\"outlinewidth\": 0, \"ticks\": \"\"}, \"colorscale\": [[0.0, \"#0d0887\"], [0.1111111111111111, \"#46039f\"], [0.2222222222222222, \"#7201a8\"], [0.3333333333333333, \"#9c179e\"], [0.4444444444444444, \"#bd3786\"], [0.5555555555555556, \"#d8576b\"], [0.6666666666666666, \"#ed7953\"], [0.7777777777777778, \"#fb9f3a\"], [0.8888888888888888, \"#fdca26\"], [1.0, \"#f0f921\"]], \"type\": \"heatmapgl\"}], \"histogram\": [{\"marker\": {\"colorbar\": {\"outlinewidth\": 0, \"ticks\": \"\"}}, \"type\": \"histogram\"}], \"histogram2d\": [{\"colorbar\": {\"outlinewidth\": 0, \"ticks\": \"\"}, \"colorscale\": [[0.0, \"#0d0887\"], [0.1111111111111111, \"#46039f\"], [0.2222222222222222, \"#7201a8\"], [0.3333333333333333, \"#9c179e\"], [0.4444444444444444, \"#bd3786\"], [0.5555555555555556, \"#d8576b\"], [0.6666666666666666, \"#ed7953\"], [0.7777777777777778, \"#fb9f3a\"], [0.8888888888888888, \"#fdca26\"], [1.0, \"#f0f921\"]], \"type\": \"histogram2d\"}], \"histogram2dcontour\": [{\"colorbar\": {\"outlinewidth\": 0, \"ticks\": \"\"}, \"colorscale\": [[0.0, \"#0d0887\"], [0.1111111111111111, \"#46039f\"], [0.2222222222222222, \"#7201a8\"], [0.3333333333333333, \"#9c179e\"], [0.4444444444444444, \"#bd3786\"], [0.5555555555555556, \"#d8576b\"], [0.6666666666666666, \"#ed7953\"], [0.7777777777777778, \"#fb9f3a\"], [0.8888888888888888, \"#fdca26\"], [1.0, \"#f0f921\"]], \"type\": \"histogram2dcontour\"}], \"mesh3d\": [{\"colorbar\": {\"outlinewidth\": 0, \"ticks\": \"\"}, \"type\": \"mesh3d\"}], \"parcoords\": [{\"line\": {\"colorbar\": {\"outlinewidth\": 0, \"ticks\": \"\"}}, \"type\": \"parcoords\"}], \"pie\": [{\"automargin\": true, \"type\": \"pie\"}], \"scatter\": [{\"marker\": {\"colorbar\": {\"outlinewidth\": 0, \"ticks\": \"\"}}, \"type\": \"scatter\"}], \"scatter3d\": [{\"line\": {\"colorbar\": {\"outlinewidth\": 0, \"ticks\": \"\"}}, \"marker\": {\"colorbar\": {\"outlinewidth\": 0, \"ticks\": \"\"}}, \"type\": \"scatter3d\"}], \"scattercarpet\": [{\"marker\": {\"colorbar\": {\"outlinewidth\": 0, \"ticks\": \"\"}}, \"type\": \"scattercarpet\"}], \"scattergeo\": [{\"marker\": {\"colorbar\": {\"outlinewidth\": 0, \"ticks\": \"\"}}, \"type\": \"scattergeo\"}], \"scattergl\": [{\"marker\": {\"colorbar\": {\"outlinewidth\": 0, \"ticks\": \"\"}}, \"type\": \"scattergl\"}], \"scattermapbox\": [{\"marker\": {\"colorbar\": {\"outlinewidth\": 0, \"ticks\": \"\"}}, \"type\": \"scattermapbox\"}], \"scatterpolar\": [{\"marker\": {\"colorbar\": {\"outlinewidth\": 0, \"ticks\": \"\"}}, \"type\": \"scatterpolar\"}], \"scatterpolargl\": [{\"marker\": {\"colorbar\": {\"outlinewidth\": 0, \"ticks\": \"\"}}, \"type\": \"scatterpolargl\"}], \"scatterternary\": [{\"marker\": {\"colorbar\": {\"outlinewidth\": 0, \"ticks\": \"\"}}, \"type\": \"scatterternary\"}], \"surface\": [{\"colorbar\": {\"outlinewidth\": 0, \"ticks\": \"\"}, \"colorscale\": [[0.0, \"#0d0887\"], [0.1111111111111111, \"#46039f\"], [0.2222222222222222, \"#7201a8\"], [0.3333333333333333, \"#9c179e\"], [0.4444444444444444, \"#bd3786\"], [0.5555555555555556, \"#d8576b\"], [0.6666666666666666, \"#ed7953\"], [0.7777777777777778, \"#fb9f3a\"], [0.8888888888888888, \"#fdca26\"], [1.0, \"#f0f921\"]], \"type\": \"surface\"}], \"table\": [{\"cells\": {\"fill\": {\"color\": \"#EBF0F8\"}, \"line\": {\"color\": \"white\"}}, \"header\": {\"fill\": {\"color\": \"#C8D4E3\"}, \"line\": {\"color\": \"white\"}}, \"type\": \"table\"}]}, \"layout\": {\"annotationdefaults\": {\"arrowcolor\": \"#2a3f5f\", \"arrowhead\": 0, \"arrowwidth\": 1}, \"autotypenumbers\": \"strict\", \"coloraxis\": {\"colorbar\": {\"outlinewidth\": 0, \"ticks\": \"\"}}, \"colorscale\": {\"diverging\": [[0, \"#8e0152\"], [0.1, \"#c51b7d\"], [0.2, \"#de77ae\"], [0.3, \"#f1b6da\"], [0.4, \"#fde0ef\"], [0.5, \"#f7f7f7\"], [0.6, \"#e6f5d0\"], [0.7, \"#b8e186\"], [0.8, \"#7fbc41\"], [0.9, \"#4d9221\"], [1, \"#276419\"]], \"sequential\": [[0.0, \"#0d0887\"], [0.1111111111111111, \"#46039f\"], [0.2222222222222222, \"#7201a8\"], [0.3333333333333333, \"#9c179e\"], [0.4444444444444444, \"#bd3786\"], [0.5555555555555556, \"#d8576b\"], [0.6666666666666666, \"#ed7953\"], [0.7777777777777778, \"#fb9f3a\"], [0.8888888888888888, \"#fdca26\"], [1.0, \"#f0f921\"]], \"sequentialminus\": [[0.0, \"#0d0887\"], [0.1111111111111111, \"#46039f\"], [0.2222222222222222, \"#7201a8\"], [0.3333333333333333, \"#9c179e\"], [0.4444444444444444, \"#bd3786\"], [0.5555555555555556, \"#d8576b\"], [0.6666666666666666, \"#ed7953\"], [0.7777777777777778, \"#fb9f3a\"], [0.8888888888888888, \"#fdca26\"], [1.0, \"#f0f921\"]]}, \"colorway\": [\"#636efa\", \"#EF553B\", \"#00cc96\", \"#ab63fa\", \"#FFA15A\", \"#19d3f3\", \"#FF6692\", \"#B6E880\", \"#FF97FF\", \"#FECB52\"], \"font\": {\"color\": \"#2a3f5f\"}, \"geo\": {\"bgcolor\": \"white\", \"lakecolor\": \"white\", \"landcolor\": \"#E5ECF6\", \"showlakes\": true, \"showland\": true, \"subunitcolor\": \"white\"}, \"hoverlabel\": {\"align\": \"left\"}, \"hovermode\": \"closest\", \"mapbox\": {\"style\": \"light\"}, \"paper_bgcolor\": \"white\", \"plot_bgcolor\": \"#E5ECF6\", \"polar\": {\"angularaxis\": {\"gridcolor\": \"white\", \"linecolor\": \"white\", \"ticks\": \"\"}, \"bgcolor\": \"#E5ECF6\", \"radialaxis\": {\"gridcolor\": \"white\", \"linecolor\": \"white\", \"ticks\": \"\"}}, \"scene\": {\"xaxis\": {\"backgroundcolor\": \"#E5ECF6\", \"gridcolor\": \"white\", \"gridwidth\": 2, \"linecolor\": \"white\", \"showbackground\": true, \"ticks\": \"\", \"zerolinecolor\": \"white\"}, \"yaxis\": {\"backgroundcolor\": \"#E5ECF6\", \"gridcolor\": \"white\", \"gridwidth\": 2, \"linecolor\": \"white\", \"showbackground\": true, \"ticks\": \"\", \"zerolinecolor\": \"white\"}, \"zaxis\": {\"backgroundcolor\": \"#E5ECF6\", \"gridcolor\": \"white\", \"gridwidth\": 2, \"linecolor\": \"white\", \"showbackground\": true, \"ticks\": \"\", \"zerolinecolor\": \"white\"}}, \"shapedefaults\": {\"line\": {\"color\": \"#2a3f5f\"}}, \"ternary\": {\"aaxis\": {\"gridcolor\": \"white\", \"linecolor\": \"white\", \"ticks\": \"\"}, \"baxis\": {\"gridcolor\": \"white\", \"linecolor\": \"white\", \"ticks\": \"\"}, \"bgcolor\": \"#E5ECF6\", \"caxis\": {\"gridcolor\": \"white\", \"linecolor\": \"white\", \"ticks\": \"\"}}, \"title\": {\"x\": 0.05}, \"xaxis\": {\"automargin\": true, \"gridcolor\": \"white\", \"linecolor\": \"white\", \"ticks\": \"\", \"title\": {\"standoff\": 15}, \"zerolinecolor\": \"white\", \"zerolinewidth\": 2}, \"yaxis\": {\"automargin\": true, \"gridcolor\": \"white\", \"linecolor\": \"white\", \"ticks\": \"\", \"title\": {\"standoff\": 15}, \"zerolinecolor\": \"white\", \"zerolinewidth\": 2}}}, \"title\": {\"text\": \"Latent Reconstruction Performance\", \"x\": 0.5}, \"xaxis\": {\"anchor\": \"y\", \"domain\": [0.0, 0.45], \"title\": {\"text\": \"Baseline Firing Rate [Hz]\"}}, \"xaxis2\": {\"anchor\": \"y2\", \"domain\": [0.55, 1.0], \"title\": {\"text\": \"Baseline Firing Rate [Hz]\"}}, \"yaxis\": {\"anchor\": \"x\", \"domain\": [0.0, 1.0], \"title\": {\"text\": \"Training Trials\"}}, \"yaxis2\": {\"anchor\": \"x2\", \"domain\": [0.0, 1.0], \"title\": {\"text\": \"Training Trials\"}}},                        {\"responsive\": true}                    ).then(function(){\n",
       "                            \n",
       "var gd = document.getElementById('54a9f55a-fce0-432f-a27c-1c5921827295');\n",
       "var x = new MutationObserver(function (mutations, observer) {{\n",
       "        var display = window.getComputedStyle(gd).display;\n",
       "        if (!display || display === 'none') {{\n",
       "            console.log([gd, 'removed!']);\n",
       "            Plotly.purge(gd);\n",
       "            observer.disconnect();\n",
       "        }}\n",
       "}});\n",
       "\n",
       "// Listen for the removal of the full notebook cells\n",
       "var notebookContainer = gd.closest('#notebook-container');\n",
       "if (notebookContainer) {{\n",
       "    x.observe(notebookContainer, {childList: true});\n",
       "}}\n",
       "\n",
       "// Listen for the clearing of the current output cell\n",
       "var outputEl = gd.closest('.output');\n",
       "if (outputEl) {{\n",
       "    x.observe(outputEl, {childList: true});\n",
       "}}\n",
       "\n",
       "                        })                };                });            </script>        </div>"
      ]
     },
     "metadata": {},
     "output_type": "display_data"
    },
    {
     "data": {
      "application/vnd.plotly.v1+json": {
       "config": {
        "plotlyServerURL": "https://plot.ly"
       },
       "data": [
        {
         "type": "heatmap",
         "x": [
          "5",
          "10",
          "15"
         ],
         "xaxis": "x",
         "y": [
          "50",
          "100",
          "200"
         ],
         "yaxis": "y",
         "z": [
          [
           -28.554927836100205,
           -25.87029801432277,
           -20.644288655598757
          ],
          [
           -20.109682820638,
           -17.045805053711092,
           -21.936396362305004
          ],
          [
           -15.277297119140712,
           -10.753540934244711,
           -15.325989054362026
          ]
         ]
        }
       ],
       "layout": {
        "annotations": [
         {
          "font": {
           "color": "white",
           "size": 12
          },
          "showarrow": false,
          "text": "-28.6",
          "x": 0,
          "xref": "x",
          "y": 0
         },
         {
          "font": {
           "color": "white",
           "size": 12
          },
          "showarrow": false,
          "text": "-25.9",
          "x": 1,
          "xref": "x",
          "y": 0
         },
         {
          "font": {
           "color": "white",
           "size": 12
          },
          "showarrow": false,
          "text": "-20.6",
          "x": 2,
          "xref": "x",
          "y": 0
         },
         {
          "font": {
           "color": "white",
           "size": 12
          },
          "showarrow": false,
          "text": "-20.1",
          "x": 0,
          "xref": "x",
          "y": 1
         },
         {
          "font": {
           "color": "black",
           "size": 12
          },
          "showarrow": false,
          "text": "-17.0",
          "x": 1,
          "xref": "x",
          "y": 1
         },
         {
          "font": {
           "color": "white",
           "size": 12
          },
          "showarrow": false,
          "text": "-21.9",
          "x": 2,
          "xref": "x",
          "y": 1
         },
         {
          "font": {
           "color": "black",
           "size": 12
          },
          "showarrow": false,
          "text": "-15.3",
          "x": 0,
          "xref": "x",
          "y": 2
         },
         {
          "font": {
           "color": "black",
           "size": 12
          },
          "showarrow": false,
          "text": "-10.8",
          "x": 1,
          "xref": "x",
          "y": 2
         },
         {
          "font": {
           "color": "black",
           "size": 12
          },
          "showarrow": false,
          "text": "-15.3",
          "x": 2,
          "xref": "x",
          "y": 2
         },
         {
          "showarrow": false,
          "text": "Difference in average log-likelihood loss (Hp: Poisson) on a 1000 trials test set, for 3 independent model runs.",
          "x": 0.5,
          "xref": "x domain",
          "y": -0.22,
          "yref": "y domain"
         }
        ],
        "template": {
         "data": {
          "bar": [
           {
            "error_x": {
             "color": "#2a3f5f"
            },
            "error_y": {
             "color": "#2a3f5f"
            },
            "marker": {
             "line": {
              "color": "#E5ECF6",
              "width": 0.5
             }
            },
            "type": "bar"
           }
          ],
          "barpolar": [
           {
            "marker": {
             "line": {
              "color": "#E5ECF6",
              "width": 0.5
             }
            },
            "type": "barpolar"
           }
          ],
          "carpet": [
           {
            "aaxis": {
             "endlinecolor": "#2a3f5f",
             "gridcolor": "white",
             "linecolor": "white",
             "minorgridcolor": "white",
             "startlinecolor": "#2a3f5f"
            },
            "baxis": {
             "endlinecolor": "#2a3f5f",
             "gridcolor": "white",
             "linecolor": "white",
             "minorgridcolor": "white",
             "startlinecolor": "#2a3f5f"
            },
            "type": "carpet"
           }
          ],
          "choropleth": [
           {
            "colorbar": {
             "outlinewidth": 0,
             "ticks": ""
            },
            "type": "choropleth"
           }
          ],
          "contour": [
           {
            "colorbar": {
             "outlinewidth": 0,
             "ticks": ""
            },
            "colorscale": [
             [
              0,
              "#0d0887"
             ],
             [
              0.1111111111111111,
              "#46039f"
             ],
             [
              0.2222222222222222,
              "#7201a8"
             ],
             [
              0.3333333333333333,
              "#9c179e"
             ],
             [
              0.4444444444444444,
              "#bd3786"
             ],
             [
              0.5555555555555556,
              "#d8576b"
             ],
             [
              0.6666666666666666,
              "#ed7953"
             ],
             [
              0.7777777777777778,
              "#fb9f3a"
             ],
             [
              0.8888888888888888,
              "#fdca26"
             ],
             [
              1,
              "#f0f921"
             ]
            ],
            "type": "contour"
           }
          ],
          "contourcarpet": [
           {
            "colorbar": {
             "outlinewidth": 0,
             "ticks": ""
            },
            "type": "contourcarpet"
           }
          ],
          "heatmap": [
           {
            "colorbar": {
             "outlinewidth": 0,
             "ticks": ""
            },
            "colorscale": [
             [
              0,
              "#0d0887"
             ],
             [
              0.1111111111111111,
              "#46039f"
             ],
             [
              0.2222222222222222,
              "#7201a8"
             ],
             [
              0.3333333333333333,
              "#9c179e"
             ],
             [
              0.4444444444444444,
              "#bd3786"
             ],
             [
              0.5555555555555556,
              "#d8576b"
             ],
             [
              0.6666666666666666,
              "#ed7953"
             ],
             [
              0.7777777777777778,
              "#fb9f3a"
             ],
             [
              0.8888888888888888,
              "#fdca26"
             ],
             [
              1,
              "#f0f921"
             ]
            ],
            "type": "heatmap"
           }
          ],
          "heatmapgl": [
           {
            "colorbar": {
             "outlinewidth": 0,
             "ticks": ""
            },
            "colorscale": [
             [
              0,
              "#0d0887"
             ],
             [
              0.1111111111111111,
              "#46039f"
             ],
             [
              0.2222222222222222,
              "#7201a8"
             ],
             [
              0.3333333333333333,
              "#9c179e"
             ],
             [
              0.4444444444444444,
              "#bd3786"
             ],
             [
              0.5555555555555556,
              "#d8576b"
             ],
             [
              0.6666666666666666,
              "#ed7953"
             ],
             [
              0.7777777777777778,
              "#fb9f3a"
             ],
             [
              0.8888888888888888,
              "#fdca26"
             ],
             [
              1,
              "#f0f921"
             ]
            ],
            "type": "heatmapgl"
           }
          ],
          "histogram": [
           {
            "marker": {
             "colorbar": {
              "outlinewidth": 0,
              "ticks": ""
             }
            },
            "type": "histogram"
           }
          ],
          "histogram2d": [
           {
            "colorbar": {
             "outlinewidth": 0,
             "ticks": ""
            },
            "colorscale": [
             [
              0,
              "#0d0887"
             ],
             [
              0.1111111111111111,
              "#46039f"
             ],
             [
              0.2222222222222222,
              "#7201a8"
             ],
             [
              0.3333333333333333,
              "#9c179e"
             ],
             [
              0.4444444444444444,
              "#bd3786"
             ],
             [
              0.5555555555555556,
              "#d8576b"
             ],
             [
              0.6666666666666666,
              "#ed7953"
             ],
             [
              0.7777777777777778,
              "#fb9f3a"
             ],
             [
              0.8888888888888888,
              "#fdca26"
             ],
             [
              1,
              "#f0f921"
             ]
            ],
            "type": "histogram2d"
           }
          ],
          "histogram2dcontour": [
           {
            "colorbar": {
             "outlinewidth": 0,
             "ticks": ""
            },
            "colorscale": [
             [
              0,
              "#0d0887"
             ],
             [
              0.1111111111111111,
              "#46039f"
             ],
             [
              0.2222222222222222,
              "#7201a8"
             ],
             [
              0.3333333333333333,
              "#9c179e"
             ],
             [
              0.4444444444444444,
              "#bd3786"
             ],
             [
              0.5555555555555556,
              "#d8576b"
             ],
             [
              0.6666666666666666,
              "#ed7953"
             ],
             [
              0.7777777777777778,
              "#fb9f3a"
             ],
             [
              0.8888888888888888,
              "#fdca26"
             ],
             [
              1,
              "#f0f921"
             ]
            ],
            "type": "histogram2dcontour"
           }
          ],
          "mesh3d": [
           {
            "colorbar": {
             "outlinewidth": 0,
             "ticks": ""
            },
            "type": "mesh3d"
           }
          ],
          "parcoords": [
           {
            "line": {
             "colorbar": {
              "outlinewidth": 0,
              "ticks": ""
             }
            },
            "type": "parcoords"
           }
          ],
          "pie": [
           {
            "automargin": true,
            "type": "pie"
           }
          ],
          "scatter": [
           {
            "marker": {
             "colorbar": {
              "outlinewidth": 0,
              "ticks": ""
             }
            },
            "type": "scatter"
           }
          ],
          "scatter3d": [
           {
            "line": {
             "colorbar": {
              "outlinewidth": 0,
              "ticks": ""
             }
            },
            "marker": {
             "colorbar": {
              "outlinewidth": 0,
              "ticks": ""
             }
            },
            "type": "scatter3d"
           }
          ],
          "scattercarpet": [
           {
            "marker": {
             "colorbar": {
              "outlinewidth": 0,
              "ticks": ""
             }
            },
            "type": "scattercarpet"
           }
          ],
          "scattergeo": [
           {
            "marker": {
             "colorbar": {
              "outlinewidth": 0,
              "ticks": ""
             }
            },
            "type": "scattergeo"
           }
          ],
          "scattergl": [
           {
            "marker": {
             "colorbar": {
              "outlinewidth": 0,
              "ticks": ""
             }
            },
            "type": "scattergl"
           }
          ],
          "scattermapbox": [
           {
            "marker": {
             "colorbar": {
              "outlinewidth": 0,
              "ticks": ""
             }
            },
            "type": "scattermapbox"
           }
          ],
          "scatterpolar": [
           {
            "marker": {
             "colorbar": {
              "outlinewidth": 0,
              "ticks": ""
             }
            },
            "type": "scatterpolar"
           }
          ],
          "scatterpolargl": [
           {
            "marker": {
             "colorbar": {
              "outlinewidth": 0,
              "ticks": ""
             }
            },
            "type": "scatterpolargl"
           }
          ],
          "scatterternary": [
           {
            "marker": {
             "colorbar": {
              "outlinewidth": 0,
              "ticks": ""
             }
            },
            "type": "scatterternary"
           }
          ],
          "surface": [
           {
            "colorbar": {
             "outlinewidth": 0,
             "ticks": ""
            },
            "colorscale": [
             [
              0,
              "#0d0887"
             ],
             [
              0.1111111111111111,
              "#46039f"
             ],
             [
              0.2222222222222222,
              "#7201a8"
             ],
             [
              0.3333333333333333,
              "#9c179e"
             ],
             [
              0.4444444444444444,
              "#bd3786"
             ],
             [
              0.5555555555555556,
              "#d8576b"
             ],
             [
              0.6666666666666666,
              "#ed7953"
             ],
             [
              0.7777777777777778,
              "#fb9f3a"
             ],
             [
              0.8888888888888888,
              "#fdca26"
             ],
             [
              1,
              "#f0f921"
             ]
            ],
            "type": "surface"
           }
          ],
          "table": [
           {
            "cells": {
             "fill": {
              "color": "#EBF0F8"
             },
             "line": {
              "color": "white"
             }
            },
            "header": {
             "fill": {
              "color": "#C8D4E3"
             },
             "line": {
              "color": "white"
             }
            },
            "type": "table"
           }
          ]
         },
         "layout": {
          "annotationdefaults": {
           "arrowcolor": "#2a3f5f",
           "arrowhead": 0,
           "arrowwidth": 1
          },
          "autotypenumbers": "strict",
          "coloraxis": {
           "colorbar": {
            "outlinewidth": 0,
            "ticks": ""
           }
          },
          "colorscale": {
           "diverging": [
            [
             0,
             "#8e0152"
            ],
            [
             0.1,
             "#c51b7d"
            ],
            [
             0.2,
             "#de77ae"
            ],
            [
             0.3,
             "#f1b6da"
            ],
            [
             0.4,
             "#fde0ef"
            ],
            [
             0.5,
             "#f7f7f7"
            ],
            [
             0.6,
             "#e6f5d0"
            ],
            [
             0.7,
             "#b8e186"
            ],
            [
             0.8,
             "#7fbc41"
            ],
            [
             0.9,
             "#4d9221"
            ],
            [
             1,
             "#276419"
            ]
           ],
           "sequential": [
            [
             0,
             "#0d0887"
            ],
            [
             0.1111111111111111,
             "#46039f"
            ],
            [
             0.2222222222222222,
             "#7201a8"
            ],
            [
             0.3333333333333333,
             "#9c179e"
            ],
            [
             0.4444444444444444,
             "#bd3786"
            ],
            [
             0.5555555555555556,
             "#d8576b"
            ],
            [
             0.6666666666666666,
             "#ed7953"
            ],
            [
             0.7777777777777778,
             "#fb9f3a"
            ],
            [
             0.8888888888888888,
             "#fdca26"
            ],
            [
             1,
             "#f0f921"
            ]
           ],
           "sequentialminus": [
            [
             0,
             "#0d0887"
            ],
            [
             0.1111111111111111,
             "#46039f"
            ],
            [
             0.2222222222222222,
             "#7201a8"
            ],
            [
             0.3333333333333333,
             "#9c179e"
            ],
            [
             0.4444444444444444,
             "#bd3786"
            ],
            [
             0.5555555555555556,
             "#d8576b"
            ],
            [
             0.6666666666666666,
             "#ed7953"
            ],
            [
             0.7777777777777778,
             "#fb9f3a"
            ],
            [
             0.8888888888888888,
             "#fdca26"
            ],
            [
             1,
             "#f0f921"
            ]
           ]
          },
          "colorway": [
           "#636efa",
           "#EF553B",
           "#00cc96",
           "#ab63fa",
           "#FFA15A",
           "#19d3f3",
           "#FF6692",
           "#B6E880",
           "#FF97FF",
           "#FECB52"
          ],
          "font": {
           "color": "#2a3f5f"
          },
          "geo": {
           "bgcolor": "white",
           "lakecolor": "white",
           "landcolor": "#E5ECF6",
           "showlakes": true,
           "showland": true,
           "subunitcolor": "white"
          },
          "hoverlabel": {
           "align": "left"
          },
          "hovermode": "closest",
          "mapbox": {
           "style": "light"
          },
          "paper_bgcolor": "white",
          "plot_bgcolor": "#E5ECF6",
          "polar": {
           "angularaxis": {
            "gridcolor": "white",
            "linecolor": "white",
            "ticks": ""
           },
           "bgcolor": "#E5ECF6",
           "radialaxis": {
            "gridcolor": "white",
            "linecolor": "white",
            "ticks": ""
           }
          },
          "scene": {
           "xaxis": {
            "backgroundcolor": "#E5ECF6",
            "gridcolor": "white",
            "gridwidth": 2,
            "linecolor": "white",
            "showbackground": true,
            "ticks": "",
            "zerolinecolor": "white"
           },
           "yaxis": {
            "backgroundcolor": "#E5ECF6",
            "gridcolor": "white",
            "gridwidth": 2,
            "linecolor": "white",
            "showbackground": true,
            "ticks": "",
            "zerolinecolor": "white"
           },
           "zaxis": {
            "backgroundcolor": "#E5ECF6",
            "gridcolor": "white",
            "gridwidth": 2,
            "linecolor": "white",
            "showbackground": true,
            "ticks": "",
            "zerolinecolor": "white"
           }
          },
          "shapedefaults": {
           "line": {
            "color": "#2a3f5f"
           }
          },
          "ternary": {
           "aaxis": {
            "gridcolor": "white",
            "linecolor": "white",
            "ticks": ""
           },
           "baxis": {
            "gridcolor": "white",
            "linecolor": "white",
            "ticks": ""
           },
           "bgcolor": "#E5ECF6",
           "caxis": {
            "gridcolor": "white",
            "linecolor": "white",
            "ticks": ""
           }
          },
          "title": {
           "x": 0.05
          },
          "xaxis": {
           "automargin": true,
           "gridcolor": "white",
           "linecolor": "white",
           "ticks": "",
           "title": {
            "standoff": 15
           },
           "zerolinecolor": "white",
           "zerolinewidth": 2
          },
          "yaxis": {
           "automargin": true,
           "gridcolor": "white",
           "linecolor": "white",
           "ticks": "",
           "title": {
            "standoff": 15
           },
           "zerolinecolor": "white",
           "zerolinewidth": 2
          }
         }
        },
        "title": {
         "text": "Latent Reconstruction Difference",
         "x": 0.5
        },
        "xaxis": {
         "anchor": "y",
         "domain": [
          0,
          1
         ],
         "title": {
          "text": "Baseline Firing Rate [Hz]"
         }
        },
        "yaxis": {
         "anchor": "x",
         "domain": [
          0,
          1
         ],
         "title": {
          "text": "Training Trials"
         }
        }
       }
      },
      "text/html": [
       "<div>                            <div id=\"edd565bf-0f0a-4309-8f16-f8a6397696b6\" class=\"plotly-graph-div\" style=\"height:525px; width:100%;\"></div>            <script type=\"text/javascript\">                require([\"plotly\"], function(Plotly) {                    window.PLOTLYENV=window.PLOTLYENV || {};                                    if (document.getElementById(\"edd565bf-0f0a-4309-8f16-f8a6397696b6\")) {                    Plotly.newPlot(                        \"edd565bf-0f0a-4309-8f16-f8a6397696b6\",                        [{\"type\": \"heatmap\", \"x\": [\"5\", \"10\", \"15\"], \"xaxis\": \"x\", \"y\": [\"50\", \"100\", \"200\"], \"yaxis\": \"y\", \"z\": [[-28.554927836100205, -25.87029801432277, -20.644288655598757], [-20.109682820638, -17.045805053711092, -21.936396362305004], [-15.277297119140712, -10.753540934244711, -15.325989054362026]]}],                        {\"annotations\": [{\"font\": {\"color\": \"white\", \"size\": 12}, \"showarrow\": false, \"text\": \"-28.6\", \"x\": 0, \"xref\": \"x\", \"y\": 0}, {\"font\": {\"color\": \"white\", \"size\": 12}, \"showarrow\": false, \"text\": \"-25.9\", \"x\": 1, \"xref\": \"x\", \"y\": 0}, {\"font\": {\"color\": \"white\", \"size\": 12}, \"showarrow\": false, \"text\": \"-20.6\", \"x\": 2, \"xref\": \"x\", \"y\": 0}, {\"font\": {\"color\": \"white\", \"size\": 12}, \"showarrow\": false, \"text\": \"-20.1\", \"x\": 0, \"xref\": \"x\", \"y\": 1}, {\"font\": {\"color\": \"black\", \"size\": 12}, \"showarrow\": false, \"text\": \"-17.0\", \"x\": 1, \"xref\": \"x\", \"y\": 1}, {\"font\": {\"color\": \"white\", \"size\": 12}, \"showarrow\": false, \"text\": \"-21.9\", \"x\": 2, \"xref\": \"x\", \"y\": 1}, {\"font\": {\"color\": \"black\", \"size\": 12}, \"showarrow\": false, \"text\": \"-15.3\", \"x\": 0, \"xref\": \"x\", \"y\": 2}, {\"font\": {\"color\": \"black\", \"size\": 12}, \"showarrow\": false, \"text\": \"-10.8\", \"x\": 1, \"xref\": \"x\", \"y\": 2}, {\"font\": {\"color\": \"black\", \"size\": 12}, \"showarrow\": false, \"text\": \"-15.3\", \"x\": 2, \"xref\": \"x\", \"y\": 2}, {\"showarrow\": false, \"text\": \"Difference in average log-likelihood loss (Hp: Poisson) on a 1000 trials test set, for 3 independent model runs.\", \"x\": 0.5, \"xref\": \"x domain\", \"y\": -0.22, \"yref\": \"y domain\"}], \"template\": {\"data\": {\"bar\": [{\"error_x\": {\"color\": \"#2a3f5f\"}, \"error_y\": {\"color\": \"#2a3f5f\"}, \"marker\": {\"line\": {\"color\": \"#E5ECF6\", \"width\": 0.5}}, \"type\": \"bar\"}], \"barpolar\": [{\"marker\": {\"line\": {\"color\": \"#E5ECF6\", \"width\": 0.5}}, \"type\": \"barpolar\"}], \"carpet\": [{\"aaxis\": {\"endlinecolor\": \"#2a3f5f\", \"gridcolor\": \"white\", \"linecolor\": \"white\", \"minorgridcolor\": \"white\", \"startlinecolor\": \"#2a3f5f\"}, \"baxis\": {\"endlinecolor\": \"#2a3f5f\", \"gridcolor\": \"white\", \"linecolor\": \"white\", \"minorgridcolor\": \"white\", \"startlinecolor\": \"#2a3f5f\"}, \"type\": \"carpet\"}], \"choropleth\": [{\"colorbar\": {\"outlinewidth\": 0, \"ticks\": \"\"}, \"type\": \"choropleth\"}], \"contour\": [{\"colorbar\": {\"outlinewidth\": 0, \"ticks\": \"\"}, \"colorscale\": [[0.0, \"#0d0887\"], [0.1111111111111111, \"#46039f\"], [0.2222222222222222, \"#7201a8\"], [0.3333333333333333, \"#9c179e\"], [0.4444444444444444, \"#bd3786\"], [0.5555555555555556, \"#d8576b\"], [0.6666666666666666, \"#ed7953\"], [0.7777777777777778, \"#fb9f3a\"], [0.8888888888888888, \"#fdca26\"], [1.0, \"#f0f921\"]], \"type\": \"contour\"}], \"contourcarpet\": [{\"colorbar\": {\"outlinewidth\": 0, \"ticks\": \"\"}, \"type\": \"contourcarpet\"}], \"heatmap\": [{\"colorbar\": {\"outlinewidth\": 0, \"ticks\": \"\"}, \"colorscale\": [[0.0, \"#0d0887\"], [0.1111111111111111, \"#46039f\"], [0.2222222222222222, \"#7201a8\"], [0.3333333333333333, \"#9c179e\"], [0.4444444444444444, \"#bd3786\"], [0.5555555555555556, \"#d8576b\"], [0.6666666666666666, \"#ed7953\"], [0.7777777777777778, \"#fb9f3a\"], [0.8888888888888888, \"#fdca26\"], [1.0, \"#f0f921\"]], \"type\": \"heatmap\"}], \"heatmapgl\": [{\"colorbar\": {\"outlinewidth\": 0, \"ticks\": \"\"}, \"colorscale\": [[0.0, \"#0d0887\"], [0.1111111111111111, \"#46039f\"], [0.2222222222222222, \"#7201a8\"], [0.3333333333333333, \"#9c179e\"], [0.4444444444444444, \"#bd3786\"], [0.5555555555555556, \"#d8576b\"], [0.6666666666666666, \"#ed7953\"], [0.7777777777777778, \"#fb9f3a\"], [0.8888888888888888, \"#fdca26\"], [1.0, \"#f0f921\"]], \"type\": \"heatmapgl\"}], \"histogram\": [{\"marker\": {\"colorbar\": {\"outlinewidth\": 0, \"ticks\": \"\"}}, \"type\": \"histogram\"}], \"histogram2d\": [{\"colorbar\": {\"outlinewidth\": 0, \"ticks\": \"\"}, \"colorscale\": [[0.0, \"#0d0887\"], [0.1111111111111111, \"#46039f\"], [0.2222222222222222, \"#7201a8\"], [0.3333333333333333, \"#9c179e\"], [0.4444444444444444, \"#bd3786\"], [0.5555555555555556, \"#d8576b\"], [0.6666666666666666, \"#ed7953\"], [0.7777777777777778, \"#fb9f3a\"], [0.8888888888888888, \"#fdca26\"], [1.0, \"#f0f921\"]], \"type\": \"histogram2d\"}], \"histogram2dcontour\": [{\"colorbar\": {\"outlinewidth\": 0, \"ticks\": \"\"}, \"colorscale\": [[0.0, \"#0d0887\"], [0.1111111111111111, \"#46039f\"], [0.2222222222222222, \"#7201a8\"], [0.3333333333333333, \"#9c179e\"], [0.4444444444444444, \"#bd3786\"], [0.5555555555555556, \"#d8576b\"], [0.6666666666666666, \"#ed7953\"], [0.7777777777777778, \"#fb9f3a\"], [0.8888888888888888, \"#fdca26\"], [1.0, \"#f0f921\"]], \"type\": \"histogram2dcontour\"}], \"mesh3d\": [{\"colorbar\": {\"outlinewidth\": 0, \"ticks\": \"\"}, \"type\": \"mesh3d\"}], \"parcoords\": [{\"line\": {\"colorbar\": {\"outlinewidth\": 0, \"ticks\": \"\"}}, \"type\": \"parcoords\"}], \"pie\": [{\"automargin\": true, \"type\": \"pie\"}], \"scatter\": [{\"marker\": {\"colorbar\": {\"outlinewidth\": 0, \"ticks\": \"\"}}, \"type\": \"scatter\"}], \"scatter3d\": [{\"line\": {\"colorbar\": {\"outlinewidth\": 0, \"ticks\": \"\"}}, \"marker\": {\"colorbar\": {\"outlinewidth\": 0, \"ticks\": \"\"}}, \"type\": \"scatter3d\"}], \"scattercarpet\": [{\"marker\": {\"colorbar\": {\"outlinewidth\": 0, \"ticks\": \"\"}}, \"type\": \"scattercarpet\"}], \"scattergeo\": [{\"marker\": {\"colorbar\": {\"outlinewidth\": 0, \"ticks\": \"\"}}, \"type\": \"scattergeo\"}], \"scattergl\": [{\"marker\": {\"colorbar\": {\"outlinewidth\": 0, \"ticks\": \"\"}}, \"type\": \"scattergl\"}], \"scattermapbox\": [{\"marker\": {\"colorbar\": {\"outlinewidth\": 0, \"ticks\": \"\"}}, \"type\": \"scattermapbox\"}], \"scatterpolar\": [{\"marker\": {\"colorbar\": {\"outlinewidth\": 0, \"ticks\": \"\"}}, \"type\": \"scatterpolar\"}], \"scatterpolargl\": [{\"marker\": {\"colorbar\": {\"outlinewidth\": 0, \"ticks\": \"\"}}, \"type\": \"scatterpolargl\"}], \"scatterternary\": [{\"marker\": {\"colorbar\": {\"outlinewidth\": 0, \"ticks\": \"\"}}, \"type\": \"scatterternary\"}], \"surface\": [{\"colorbar\": {\"outlinewidth\": 0, \"ticks\": \"\"}, \"colorscale\": [[0.0, \"#0d0887\"], [0.1111111111111111, \"#46039f\"], [0.2222222222222222, \"#7201a8\"], [0.3333333333333333, \"#9c179e\"], [0.4444444444444444, \"#bd3786\"], [0.5555555555555556, \"#d8576b\"], [0.6666666666666666, \"#ed7953\"], [0.7777777777777778, \"#fb9f3a\"], [0.8888888888888888, \"#fdca26\"], [1.0, \"#f0f921\"]], \"type\": \"surface\"}], \"table\": [{\"cells\": {\"fill\": {\"color\": \"#EBF0F8\"}, \"line\": {\"color\": \"white\"}}, \"header\": {\"fill\": {\"color\": \"#C8D4E3\"}, \"line\": {\"color\": \"white\"}}, \"type\": \"table\"}]}, \"layout\": {\"annotationdefaults\": {\"arrowcolor\": \"#2a3f5f\", \"arrowhead\": 0, \"arrowwidth\": 1}, \"autotypenumbers\": \"strict\", \"coloraxis\": {\"colorbar\": {\"outlinewidth\": 0, \"ticks\": \"\"}}, \"colorscale\": {\"diverging\": [[0, \"#8e0152\"], [0.1, \"#c51b7d\"], [0.2, \"#de77ae\"], [0.3, \"#f1b6da\"], [0.4, \"#fde0ef\"], [0.5, \"#f7f7f7\"], [0.6, \"#e6f5d0\"], [0.7, \"#b8e186\"], [0.8, \"#7fbc41\"], [0.9, \"#4d9221\"], [1, \"#276419\"]], \"sequential\": [[0.0, \"#0d0887\"], [0.1111111111111111, \"#46039f\"], [0.2222222222222222, \"#7201a8\"], [0.3333333333333333, \"#9c179e\"], [0.4444444444444444, \"#bd3786\"], [0.5555555555555556, \"#d8576b\"], [0.6666666666666666, \"#ed7953\"], [0.7777777777777778, \"#fb9f3a\"], [0.8888888888888888, \"#fdca26\"], [1.0, \"#f0f921\"]], \"sequentialminus\": [[0.0, \"#0d0887\"], [0.1111111111111111, \"#46039f\"], [0.2222222222222222, \"#7201a8\"], [0.3333333333333333, \"#9c179e\"], [0.4444444444444444, \"#bd3786\"], [0.5555555555555556, \"#d8576b\"], [0.6666666666666666, \"#ed7953\"], [0.7777777777777778, \"#fb9f3a\"], [0.8888888888888888, \"#fdca26\"], [1.0, \"#f0f921\"]]}, \"colorway\": [\"#636efa\", \"#EF553B\", \"#00cc96\", \"#ab63fa\", \"#FFA15A\", \"#19d3f3\", \"#FF6692\", \"#B6E880\", \"#FF97FF\", \"#FECB52\"], \"font\": {\"color\": \"#2a3f5f\"}, \"geo\": {\"bgcolor\": \"white\", \"lakecolor\": \"white\", \"landcolor\": \"#E5ECF6\", \"showlakes\": true, \"showland\": true, \"subunitcolor\": \"white\"}, \"hoverlabel\": {\"align\": \"left\"}, \"hovermode\": \"closest\", \"mapbox\": {\"style\": \"light\"}, \"paper_bgcolor\": \"white\", \"plot_bgcolor\": \"#E5ECF6\", \"polar\": {\"angularaxis\": {\"gridcolor\": \"white\", \"linecolor\": \"white\", \"ticks\": \"\"}, \"bgcolor\": \"#E5ECF6\", \"radialaxis\": {\"gridcolor\": \"white\", \"linecolor\": \"white\", \"ticks\": \"\"}}, \"scene\": {\"xaxis\": {\"backgroundcolor\": \"#E5ECF6\", \"gridcolor\": \"white\", \"gridwidth\": 2, \"linecolor\": \"white\", \"showbackground\": true, \"ticks\": \"\", \"zerolinecolor\": \"white\"}, \"yaxis\": {\"backgroundcolor\": \"#E5ECF6\", \"gridcolor\": \"white\", \"gridwidth\": 2, \"linecolor\": \"white\", \"showbackground\": true, \"ticks\": \"\", \"zerolinecolor\": \"white\"}, \"zaxis\": {\"backgroundcolor\": \"#E5ECF6\", \"gridcolor\": \"white\", \"gridwidth\": 2, \"linecolor\": \"white\", \"showbackground\": true, \"ticks\": \"\", \"zerolinecolor\": \"white\"}}, \"shapedefaults\": {\"line\": {\"color\": \"#2a3f5f\"}}, \"ternary\": {\"aaxis\": {\"gridcolor\": \"white\", \"linecolor\": \"white\", \"ticks\": \"\"}, \"baxis\": {\"gridcolor\": \"white\", \"linecolor\": \"white\", \"ticks\": \"\"}, \"bgcolor\": \"#E5ECF6\", \"caxis\": {\"gridcolor\": \"white\", \"linecolor\": \"white\", \"ticks\": \"\"}}, \"title\": {\"x\": 0.05}, \"xaxis\": {\"automargin\": true, \"gridcolor\": \"white\", \"linecolor\": \"white\", \"ticks\": \"\", \"title\": {\"standoff\": 15}, \"zerolinecolor\": \"white\", \"zerolinewidth\": 2}, \"yaxis\": {\"automargin\": true, \"gridcolor\": \"white\", \"linecolor\": \"white\", \"ticks\": \"\", \"title\": {\"standoff\": 15}, \"zerolinecolor\": \"white\", \"zerolinewidth\": 2}}}, \"title\": {\"text\": \"Latent Reconstruction Difference\", \"x\": 0.5}, \"xaxis\": {\"anchor\": \"y\", \"domain\": [0.0, 1.0], \"title\": {\"text\": \"Baseline Firing Rate [Hz]\"}}, \"yaxis\": {\"anchor\": \"x\", \"domain\": [0.0, 1.0], \"title\": {\"text\": \"Training Trials\"}}},                        {\"responsive\": true}                    ).then(function(){\n",
       "                            \n",
       "var gd = document.getElementById('edd565bf-0f0a-4309-8f16-f8a6397696b6');\n",
       "var x = new MutationObserver(function (mutations, observer) {{\n",
       "        var display = window.getComputedStyle(gd).display;\n",
       "        if (!display || display === 'none') {{\n",
       "            console.log([gd, 'removed!']);\n",
       "            Plotly.purge(gd);\n",
       "            observer.disconnect();\n",
       "        }}\n",
       "}});\n",
       "\n",
       "// Listen for the removal of the full notebook cells\n",
       "var notebookContainer = gd.closest('#notebook-container');\n",
       "if (notebookContainer) {{\n",
       "    x.observe(notebookContainer, {childList: true});\n",
       "}}\n",
       "\n",
       "// Listen for the clearing of the current output cell\n",
       "var outputEl = gd.closest('.output');\n",
       "if (outputEl) {{\n",
       "    x.observe(outputEl, {childList: true});\n",
       "}}\n",
       "\n",
       "                        })                };                });            </script>        </div>"
      ]
     },
     "metadata": {},
     "output_type": "display_data"
    }
   ],
   "source": [
    "new_avg_likelihood = pd.pivot_table(new_df, values='test_likelihood', index=['trials'],\n",
    "                                    columns=['baseline_rate'], aggfunc=np.mean)\n",
    "new_avg_likelihood.head()\n",
    "old_avg_likelihood = pd.pivot_table(old_df, values='test_likelihood', index=['trials'],\n",
    "                                    columns=['baseline_rate'], aggfunc=np.mean)\n",
    "\n",
    "zmin=min([new_avg_likelihood.values.min(), old_avg_likelihood.values.min()])\n",
    "zmax=max([new_avg_likelihood.values.max(), old_avg_likelihood.values.max()])\n",
    "text_func=np.vectorize(lambda x: '%.1f' % x)\n",
    "fig = make_subplots(rows=1, cols=2)\n",
    "\n",
    "fig.add_trace(\n",
    "    go.Heatmap(\n",
    "        z=old_avg_likelihood.values,\n",
    "        x=['%d' % (x) for x in old_avg_likelihood.columns.tolist()],\n",
    "        y=['%d' % (x) for x in old_avg_likelihood.index.tolist()],\n",
    "        zmin=zmin,\n",
    "        zmax=zmax),\n",
    "    row=1, col=1\n",
    ")\n",
    "\n",
    "fig.add_trace(\n",
    "    go.Heatmap(\n",
    "        z=new_avg_likelihood.values,\n",
    "        x=['%d' % (x) for x in new_avg_likelihood.columns.tolist()],\n",
    "        y=['%d' % (x) for x in new_avg_likelihood.index.tolist()],\n",
    "        zmin=zmin,\n",
    "        zmax=zmax),\n",
    "    row=1, col=2\n",
    ")\n",
    "\n",
    "col_switch = max(np.max(old_avg_likelihood.values), np.max(new_avg_likelihood.values)) * col_switch_pct + \\\n",
    "    min(np.min(old_avg_likelihood.values), np.min(new_avg_likelihood.values)) * (1-col_switch_pct)\n",
    "\n",
    "fig.update_layout(\n",
    "    title_text='Latent Reconstruction Performance', title_x=0.5,\n",
    "    annotations=[\n",
    "    dict(\n",
    "        showarrow=False,\n",
    "        x=iy,\n",
    "        y=ix,\n",
    "        xref='x1',\n",
    "        font=dict(color='black' if \n",
    "                  (old_avg_likelihood.iloc[ix, iy]) > col_switch\n",
    "                  else 'white', size=12),\n",
    "        text='%.1f' % (old_avg_likelihood.iloc[ix, iy])) \n",
    "        for ix,iy in np.ndindex(old_avg_likelihood.values.shape)] + [\n",
    "    dict(\n",
    "        showarrow=False,\n",
    "        x=iy,\n",
    "        y=ix,\n",
    "        xref='x2',\n",
    "        font=dict(color='black' if \n",
    "                  (new_avg_likelihood.iloc[ix, iy]) > col_switch\n",
    "                  else 'white', size=12),\n",
    "        text='%.1f' % (new_avg_likelihood.iloc[ix, iy])) \n",
    "        for ix,iy in np.ndindex(new_avg_likelihood.values.shape)] +\n",
    "    [\n",
    "        dict(\n",
    "            showarrow=False,\n",
    "            xref='x domain',\n",
    "            x=2.1,\n",
    "            yref='y domain',\n",
    "            y=-0.22,\n",
    "            text='Average log-likelihood loss (Hp: Poisson) on a 1000 trials test set, for 3 independent model runs.'),\n",
    "        dict(\n",
    "            showarrow=False,\n",
    "            xref='x domain',\n",
    "            x=0.74,\n",
    "            yref='y domain',\n",
    "            y=1.08,\n",
    "            text='Tensorflow 1 - Original'),\n",
    "        dict(\n",
    "            showarrow=False,\n",
    "            xref='x domain',\n",
    "            x=1.92,\n",
    "            yref='y domain',\n",
    "            y=1.08,\n",
    "            text='Tensorflow 2 - New'),\n",
    "    ])\n",
    "fig['layout']['xaxis1'].update(title='Baseline Firing Rate [Hz]')\n",
    "fig['layout']['xaxis2'].update(title='Baseline Firing Rate [Hz]')\n",
    "fig['layout']['yaxis1'].update(title='Training Trials')\n",
    "fig['layout']['yaxis2'].update(title='Training Trials')\n",
    "\n",
    "fig_diff = make_subplots(rows=1, cols=1)\n",
    "\n",
    "fig_diff.add_trace(\n",
    "    go.Heatmap(\n",
    "        z=new_avg_likelihood.values - old_avg_likelihood.values,\n",
    "        x=['%d' % (x) for x in new_avg_likelihood.columns.tolist()],\n",
    "        y=['%d' % (x) for x in new_avg_likelihood.index.tolist()]),\n",
    "    row=1, col=1\n",
    ")\n",
    "\n",
    "col_switch = np.max((new_avg_likelihood - old_avg_likelihood).values) * col_switch_pct + \\\n",
    "    np.min((new_avg_likelihood - old_avg_likelihood).values) * (1-col_switch_pct)\n",
    "\n",
    "fig_diff.update_layout(\n",
    "    title_text='Latent Reconstruction Difference', title_x=0.5,\n",
    "    annotations=[\n",
    "    dict(\n",
    "        showarrow=False,\n",
    "        x=iy,\n",
    "        y=ix,\n",
    "        xref='x1',\n",
    "        font=dict(color='black' if \n",
    "                  (new_avg_likelihood.iloc[ix, iy] - old_avg_likelihood.iloc[ix, iy]) > col_switch\n",
    "                  else 'white', size=12),\n",
    "        text='%.1f' % (new_avg_likelihood.iloc[ix, iy] - old_avg_likelihood.iloc[ix, iy])) \n",
    "        for ix,iy in np.ndindex(old_avg_likelihood.values.shape)] +\n",
    "    [\n",
    "        dict(\n",
    "            showarrow=False,\n",
    "            xref='x domain',\n",
    "            x=0.5,\n",
    "            yref='y domain',\n",
    "            y=-0.22,\n",
    "            text='Difference in average log-likelihood loss (Hp: Poisson) on a 1000 trials test set, for 3 independent model runs.'),\n",
    "    ])\n",
    "fig_diff['layout']['xaxis1'].update(title='Baseline Firing Rate [Hz]')\n",
    "fig_diff['layout']['yaxis1'].update(title='Training Trials')\n",
    "\n",
    "fig.show()\n",
    "fig.write_image('results/lorenz_grid_lfads_new_vs_old/likelihood.pdf', width=900, height=540)\n",
    "\n",
    "fig_diff.show()\n",
    "fig_diff.write_image('results/lorenz_grid_lfads_new_vs_old/likelihood_diff.pdf', width=900, height=540)"
   ]
  }
 ],
 "metadata": {
  "kernelspec": {
   "display_name": "latentneural",
   "language": "python",
   "name": "latentneural"
  },
  "language_info": {
   "codemirror_mode": {
    "name": "ipython",
    "version": 3
   },
   "file_extension": ".py",
   "mimetype": "text/x-python",
   "name": "python",
   "nbconvert_exporter": "python",
   "pygments_lexer": "ipython3",
   "version": "3.8.10"
  }
 },
 "nbformat": 4,
 "nbformat_minor": 5
}
