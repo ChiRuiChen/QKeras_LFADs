{
 "cells": [
  {
   "cell_type": "code",
   "execution_count": 1,
   "id": "380c6c70",
   "metadata": {
    "scrolled": true
   },
   "outputs": [
    {
     "name": "stdout",
     "output_type": "stream",
     "text": [
      "using GPU ID:0,\n",
      "\n"
     ]
    }
   ],
   "source": [
    " %run /Desktop/Share/CUDA_DEVICE_setup.py -n 1"
   ]
  },
  {
   "cell_type": "code",
   "execution_count": 2,
   "id": "20870e4c",
   "metadata": {},
   "outputs": [],
   "source": [
    "import os\n",
    "os.environ['CUDA_DEVICE_ORDER'] = 'PCI_BUS_ID'\n",
    "os.environ['CUDA_VISIBLE_DEVICES'] = \"1\""
   ]
  },
  {
   "cell_type": "code",
   "execution_count": 3,
   "id": "4eee4b96",
   "metadata": {
    "scrolled": true
   },
   "outputs": [],
   "source": [
    "#%config Completer.use_jedi = False\n",
    "\n",
    "import sys\n",
    "sys.path.append('..')\n",
    "\n",
    "\n",
    "from pprint import pprint    \n",
    "import tensorflow as tf    \n",
    "from collections import defaultdict\n",
    "from sklearn.metrics import r2_score\n",
    "import numpy as np\n",
    "import matplotlib.pyplot as plt\n",
    "import numpy as np\n",
    "from datetime import datetime\n",
    "\n",
    "from tndm.data import DataManager\n",
    "from tndm import LFADS\n",
    "from tndm.runtime import Runtime\n",
    "from typing import Dict, Any\n",
    "from sklearn.linear_model import Ridge\n",
    "\n",
    "from plotting import *"
   ]
  },
  {
   "cell_type": "code",
   "execution_count": 4,
   "id": "797ed5ba",
   "metadata": {},
   "outputs": [],
   "source": [
    "# read the data/disk/scratch/cole/Chewie_CO_FF_2016-10-07_pos_M1_spikes/test_data/\n",
    "spike_data_dir = \"Chewie_CO_FF_2016-10-07_pos_M1_spikes/\"\n",
    "\n",
    "data_dir = os.path.join( spike_data_dir )\n",
    "\n",
    "dataset, settings = DataManager.load_dataset(\n",
    "    directory=data_dir,\n",
    "    filename='dataset.h5')\n",
    "\n",
    "#train\n",
    "neural_data = dataset['train_data'].astype('float')\n",
    "behavioural_data = dataset['train_behaviours'].astype('float')\n",
    "\n",
    "# valid\n",
    "valid_neural_data = dataset['valid_data'].astype('float')\n",
    "valid_behavioural_data = dataset['valid_behaviours'].astype('float')\n",
    "\n",
    "# test\n",
    "test_neural_data = dataset['test_data'].astype('float')\n",
    "test_behavioural_data = dataset['test_behaviours'].astype('float')"
   ]
  },
  {
   "cell_type": "markdown",
   "id": "352c2a57",
   "metadata": {},
   "source": [
    "# get dataset, to train by myself\n",
    "# with_behaviour = False for lfads\n",
    "# target = input for reconstruction"
   ]
  },
  {
   "cell_type": "code",
   "execution_count": 5,
   "id": "7dc1b9b8",
   "metadata": {},
   "outputs": [],
   "source": [
    "(x_train, y_train), (x_val, y_val) = Runtime.clean_datasets(\n",
    "            train_dataset=(neural_data, behavioural_data), \n",
    "            val_dataset=(valid_neural_data, valid_behavioural_data), \n",
    "            with_behaviour=False\n",
    "            )"
   ]
  },
  {
   "cell_type": "code",
   "execution_count": 6,
   "id": "1101514e",
   "metadata": {},
   "outputs": [],
   "source": [
    "x_test = test_neural_data\n",
    "y_test = test_behavioural_data"
   ]
  },
  {
   "cell_type": "code",
   "execution_count": 7,
   "id": "8a271506",
   "metadata": {},
   "outputs": [],
   "source": [
    "def print_data_shape(data):\n",
    "    if data is not None:\n",
    "        print(data.shape)\n",
    "    else:\n",
    "        print(\"None\")"
   ]
  },
  {
   "cell_type": "code",
   "execution_count": 8,
   "id": "6976ade5",
   "metadata": {},
   "outputs": [
    {
     "name": "stdout",
     "output_type": "stream",
     "text": [
      "(136, 73, 70)\n",
      "None\n",
      "(17, 73, 70)\n",
      "None\n",
      "(17, 73, 70)\n",
      "(17, 73, 2)\n"
     ]
    }
   ],
   "source": [
    "print_data_shape(x_train)\n",
    "print_data_shape(y_train)\n",
    "print_data_shape(x_val)\n",
    "print_data_shape(y_val)\n",
    "print_data_shape(x_test)\n",
    "print_data_shape(y_test)"
   ]
  },
  {
   "cell_type": "markdown",
   "id": "ab21cb3a",
   "metadata": {},
   "source": [
    "# Quantize data first\n",
    "## the input and last layer will remain ap<16,6> precision"
   ]
  },
  {
   "cell_type": "code",
   "execution_count": 12,
   "id": "51d6132e",
   "metadata": {},
   "outputs": [],
   "source": [
    "AP_BITS = 16\n",
    "AP_INTS = 6"
   ]
  },
  {
   "cell_type": "code",
   "execution_count": 13,
   "id": "0a186918",
   "metadata": {},
   "outputs": [],
   "source": [
    "# ususal quantize\n",
    "from qkeras import QActivation\n",
    "ACTIVATION_BITS = \"quantized_bits({}, {}, alpha=1)\".format(AP_BITS, AP_INTS-1)"
   ]
  },
  {
   "cell_type": "markdown",
   "id": "eecfa7b8",
   "metadata": {},
   "source": [
    "# model parameters"
   ]
  },
  {
   "cell_type": "code",
   "execution_count": 14,
   "id": "d2646612",
   "metadata": {},
   "outputs": [],
   "source": [
    "# model parameters\n",
    "\n",
    "# l2 regulariser for the recurrent decoder weights\n",
    "l2_reg = .1\n",
    "initial_neural_weight = 1.0 # weight of neural nll\n",
    "initial_behaviour_weight = .2 # weight of behaviour loss\n",
    "lambda_q = 100.0\n",
    "update_rate = .0005\n",
    "dropout = .15\n",
    "#seed = 0\n",
    "#GRU_pre_activation = False\n",
    "#var_min = 0.0001\n",
    "#prior_variance = 1\n",
    "threshold_poisson_log_firing_rate = 100.\n",
    "\n",
    "\n",
    "layers_settings=defaultdict(lambda: dict(\n",
    "    kernel_initializer=tf.keras.initializers.VarianceScaling(\n",
    "        scale=1.0, mode='fan_in', distribution='normal'),\n",
    "    kernel_regularizer=tf.keras.regularizers.l2(l=0.0)\n",
    "))\n",
    "\n",
    "layers_settings['decoder'].update(dict(kernel_regularizer=tf.keras.regularizers.l2(l=0),\n",
    "                                      recurrent_regularizer=tf.keras.regularizers.l2(l=l2_reg),\n",
    "                                      original_cell=False))    "
   ]
  },
  {
   "cell_type": "code",
   "execution_count": 15,
   "id": "7d803880",
   "metadata": {},
   "outputs": [
    {
     "name": "stdout",
     "output_type": "stream",
     "text": [
      "defaultdict(<function <lambda> at 0x7f29d3f2b9d0>,\n",
      "            {'decoder': {'kernel_initializer': <keras.initializers.initializers_v2.VarianceScaling object at 0x7f29d3f3f730>,\n",
      "                         'kernel_regularizer': <keras.regularizers.L2 object at 0x7f29d3f3f8b0>,\n",
      "                         'original_cell': False,\n",
      "                         'recurrent_regularizer': <keras.regularizers.L2 object at 0x7f29d3f3f910>}})\n"
     ]
    }
   ],
   "source": [
    "pprint(layers_settings)"
   ]
  },
  {
   "cell_type": "code",
   "execution_count": 16,
   "id": "60c432e4",
   "metadata": {
    "scrolled": true
   },
   "outputs": [
    {
     "data": {
      "text/plain": [
       "{'kernel_initializer': <keras.initializers.initializers_v2.VarianceScaling at 0x7f29d3f28dc0>,\n",
       " 'kernel_regularizer': <keras.regularizers.L2 at 0x7f29d3f28910>}"
      ]
     },
     "execution_count": 16,
     "metadata": {},
     "output_type": "execute_result"
    }
   ],
   "source": [
    "layers_settings['encoder']"
   ]
  },
  {
   "cell_type": "code",
   "execution_count": 17,
   "id": "d946d67f",
   "metadata": {
    "scrolled": true
   },
   "outputs": [
    {
     "data": {
      "text/plain": [
       "{'kernel_initializer': <keras.initializers.initializers_v2.VarianceScaling at 0x7f29d3f3f730>,\n",
       " 'kernel_regularizer': <keras.regularizers.L2 at 0x7f29d3f3f8b0>,\n",
       " 'recurrent_regularizer': <keras.regularizers.L2 at 0x7f29d3f3f910>,\n",
       " 'original_cell': False}"
      ]
     },
     "execution_count": 17,
     "metadata": {},
     "output_type": "execute_result"
    }
   ],
   "source": [
    "layers_settings['decoder']"
   ]
  },
  {
   "cell_type": "code",
   "execution_count": 18,
   "id": "9361dfe3",
   "metadata": {},
   "outputs": [
    {
     "data": {
      "text/plain": [
       "{'kernel_initializer': <keras.initializers.initializers_v2.VarianceScaling at 0x7f2928fcb9a0>,\n",
       " 'kernel_regularizer': <keras.regularizers.L2 at 0x7f29d3f28fd0>}"
      ]
     },
     "execution_count": 18,
     "metadata": {},
     "output_type": "execute_result"
    }
   ],
   "source": [
    "layers_settings['dense_mean']"
   ]
  },
  {
   "cell_type": "code",
   "execution_count": 19,
   "id": "25970f26",
   "metadata": {},
   "outputs": [
    {
     "data": {
      "text/plain": [
       "{'kernel_initializer': <keras.initializers.initializers_v2.VarianceScaling at 0x7f29d3f28e20>,\n",
       " 'kernel_regularizer': <keras.regularizers.L2 at 0x7f29d3f287f0>}"
      ]
     },
     "execution_count": 19,
     "metadata": {},
     "output_type": "execute_result"
    }
   ],
   "source": [
    "layers_settings['dense_logvar']"
   ]
  },
  {
   "cell_type": "markdown",
   "id": "ff26ee0b",
   "metadata": {},
   "source": [
    "## function to build the model"
   ]
  },
  {
   "attachments": {
    "%E5%9C%96%E7%89%87.png": {
     "image/png": "[encoded data removed]"
    }
   },
   "cell_type": "markdown",
   "id": "a29932df",
   "metadata": {},
   "source": [
    "![%E5%9C%96%E7%89%87.png](attachment:%E5%9C%96%E7%89%87.png)"
   ]
  },
  {
   "cell_type": "markdown",
   "id": "53deaab2",
   "metadata": {},
   "source": [
    "## the ACCUM bits in QGRU is based on the state quantizer, so the previous act_quan precision should be less than it\n",
    "## here set the state quantizer same as the act_quan"
   ]
  },
  {
   "cell_type": "markdown",
   "id": "197c6033",
   "metadata": {},
   "source": [
    "# input for decoder GRU\n",
    "# Assuming inputs are zero and everything comes from the GRU"
   ]
  },
  {
   "cell_type": "code",
   "execution_count": 20,
   "id": "9fd91f38",
   "metadata": {},
   "outputs": [],
   "source": [
    "decoder_dim = 64"
   ]
  },
  {
   "cell_type": "code",
   "execution_count": 21,
   "id": "1684ff50",
   "metadata": {},
   "outputs": [],
   "source": [
    "def get_decoder_input(decoder_dim=64):\n",
    "    inputs2decoder_train = tf.stack([tf.zeros_like(x_train)[:, :, -1]\n",
    "                for i in range(decoder_dim)], axis=-1)\n",
    "    inputs2decoder_val = tf.stack([tf.zeros_like(x_val)[:, :, -1]\n",
    "                for i in range(decoder_dim)], axis=-1)\n",
    "    inputs2decoder_train = np.array(inputs2decoder_train)\n",
    "    inputs2decoder_val = np.array(inputs2decoder_val)\n",
    "    print(\"inputs2decoder_train shape: \", inputs2decoder_train.shape)\n",
    "    print(\"inputs2decoder_val shape: \", inputs2decoder_val.shape)\n",
    "    return inputs2decoder_train, inputs2decoder_val"
   ]
  },
  {
   "cell_type": "markdown",
   "id": "a82e0aa1",
   "metadata": {},
   "source": [
    "# Build models"
   ]
  },
  {
   "cell_type": "code",
   "execution_count": 22,
   "id": "1d9aa396",
   "metadata": {},
   "outputs": [
    {
     "name": "stdout",
     "output_type": "stream",
     "text": [
      "inputs2decoder_train shape:  (136, 73, 64)\n",
      "inputs2decoder_val shape:  (17, 73, 64)\n"
     ]
    }
   ],
   "source": [
    "inputs2decoder_train, inputs2decoder_val = get_decoder_input(decoder_dim=decoder_dim)"
   ]
  },
  {
   "cell_type": "code",
   "execution_count": 23,
   "id": "4ed663a9",
   "metadata": {},
   "outputs": [],
   "source": [
    "#pred_val_z, pred_val_logf = fmodel.predict([x_val, inputs2decoder_val])"
   ]
  },
  {
   "cell_type": "code",
   "execution_count": 24,
   "id": "31aac693",
   "metadata": {},
   "outputs": [],
   "source": [
    "def evaluate_NPLL(targets, pred_logrates):\n",
    "    targets = tf.cast(targets, dtype=tf.float32)\n",
    "    logrates = tf.cast(tf.math.log(0.01) + pred_logrates, tf.float32)  # Timestep\n",
    "    npll = tf.nn.log_poisson_loss(targets=targets,log_input=logrates, compute_full_loss=True)\n",
    "    results = tf.reduce_sum(npll, axis=[1, 2]) # sum up each batch seperately\n",
    "    results = tf.reduce_mean(results) # batch mean\n",
    "\n",
    "    print(results) # negative possion loglikelihood"
   ]
  },
  {
   "cell_type": "code",
   "execution_count": 25,
   "id": "e07cf3a9",
   "metadata": {},
   "outputs": [],
   "source": [
    "#evaluate_NPLL(targets=x_val, pred_logrates=pred_val_logf)"
   ]
  },
  {
   "cell_type": "code",
   "execution_count": 26,
   "id": "5c51eefe",
   "metadata": {},
   "outputs": [],
   "source": [
    "#del fmodel"
   ]
  },
  {
   "cell_type": "markdown",
   "id": "0659b198",
   "metadata": {},
   "source": [
    "# loss: poisson_loglike_loss"
   ]
  },
  {
   "cell_type": "code",
   "execution_count": 27,
   "id": "00754ba4",
   "metadata": {},
   "outputs": [],
   "source": [
    "from tensorflow.keras import backend as K"
   ]
  },
  {
   "cell_type": "code",
   "execution_count": 28,
   "id": "b036e834",
   "metadata": {},
   "outputs": [],
   "source": [
    "BATCH_SIZE=16"
   ]
  },
  {
   "cell_type": "code",
   "execution_count": 29,
   "id": "e60febbd",
   "metadata": {},
   "outputs": [],
   "source": [
    "timestep = 0.01\n",
    "\n",
    "def poisson_loglike_loss(y_true, y_pred):    \n",
    "    # POISSON LOG-LIKELIHOOD\n",
    "    # clip the y_pred first\n",
    "    y_pred = tf.clip_by_value(y_pred, \n",
    "                                     clip_value_min=-threshold_poisson_log_firing_rate,\n",
    "                                     clip_value_max=threshold_poisson_log_firing_rate\n",
    "                             )\n",
    "    targets = tf.cast(y_true, dtype=tf.float32)\n",
    "    logrates = tf.cast(tf.math.log(timestep) + y_pred, tf.float32)  # Timestep\n",
    "    npll = tf.nn.log_poisson_loss(\n",
    "        targets=targets,\n",
    "        log_input=logrates, compute_full_loss=True\n",
    "    )\n",
    "    #print(npll.shape)\n",
    "    loss = tf.reduce_sum(npll, axis=[1, 2]) # sum up each batch seperately\n",
    "    loss = tf.reduce_mean(loss) # batch mean\n",
    "    #loss = tf.reduce_sum()\n",
    "    return loss"
   ]
  },
  {
   "cell_type": "markdown",
   "id": "38b4fe6c",
   "metadata": {},
   "source": [
    "## Build a fp model and train"
   ]
  },
  {
   "cell_type": "code",
   "execution_count": 30,
   "id": "b4825ef6",
   "metadata": {},
   "outputs": [],
   "source": [
    "import tensorflow.keras.layers as tfl\n",
    "from tensorflow.keras import Model\n",
    "import tensorflow as tf\n",
    "from tensorflow import keras"
   ]
  },
  {
   "cell_type": "code",
   "execution_count": 31,
   "id": "8e826b6c",
   "metadata": {},
   "outputs": [],
   "source": [
    "class ExponentLogvar(tfl.Layer):\n",
    "    def __init__(self):\n",
    "        super().__init__()\n",
    "        \n",
    "    def call(self, inputs):\n",
    "        return tf.exp(0.5 * inputs) "
   ]
  },
  {
   "cell_type": "code",
   "execution_count": 32,
   "id": "cb614b67",
   "metadata": {},
   "outputs": [],
   "source": [
    "class StandardRandomNormal(tfl.Layer):\n",
    "    def __init__(self, seed=42, n_samples=4):\n",
    "        super().__init__()\n",
    "        self.seed = seed\n",
    "        self.n_samples = n_samples\n",
    "\n",
    "    def call(self, inputs):\n",
    "        return K.random_normal(shape=tf.shape(inputs), mean=0.0, stddev=1.0, seed=self.seed)\n",
    "    \n",
    "    def get_config(self):\n",
    "        config = super().get_config()\n",
    "        config.update(\n",
    "            {\n",
    "            \"seed\": self.seed,\n",
    "            \"n_samples\":  self.n_samples\n",
    "            })\n",
    "        return config                "
   ]
  },
  {
   "cell_type": "markdown",
   "id": "5e313c65",
   "metadata": {},
   "source": [
    "## Build the encoder"
   ]
  },
  {
   "cell_type": "code",
   "execution_count": 33,
   "id": "043a9e1e",
   "metadata": {},
   "outputs": [],
   "source": [
    "def create_fpencoder(input_shape = (73,70),\n",
    "                    encoder_dim=64,  \n",
    "                   drop=dropout\n",
    "                  ):\n",
    "    \n",
    "    # input layer\n",
    "    inputLayer =  tfl.Input(shape=input_shape, name = 'encoder_input')        \n",
    "    x = tfl.Dropout(drop, name = 'initial_dropout')(inputLayer)\n",
    "    \n",
    "    # encoder\n",
    "    forward_layer = tfl.GRU(\n",
    "            encoder_dim, \n",
    "            time_major=False,\n",
    "            name=\"EncoderGRUForward\",\n",
    "            return_state=True,\n",
    "            kernel_regularizer=layers_settings['encoder']['kernel_regularizer'],\n",
    "            kernel_initializer=layers_settings['encoder']['kernel_initializer'],\n",
    "            )\n",
    "    \n",
    "    backward_layer = tfl.GRU(\n",
    "            encoder_dim, \n",
    "            time_major=False,\n",
    "            name=\"EncoderGRUBackward\",\n",
    "            return_state=True, \n",
    "            go_backwards=True,\n",
    "            kernel_regularizer=layers_settings['encoder']['kernel_regularizer'],\n",
    "            kernel_initializer=layers_settings['encoder']['kernel_initializer'],\n",
    "             )\n",
    "                \n",
    "    x = tfl.Bidirectional(\n",
    "        forward_layer, \n",
    "        backward_layer=backward_layer,\n",
    "        merge_mode='concat', \n",
    "        name = 'Encoder_BidirectionalGRU'\n",
    "        )(x)[0]  \n",
    "    \n",
    "    x = tfl.Dropout(drop, name = 'postencoder_dropout')(x)\n",
    "\n",
    "    # latent space    \n",
    "    z_mean = tfl.Dense(decoder_dim, \n",
    "               kernel_regularizer=layers_settings['dense_mean']['kernel_regularizer'],\n",
    "               kernel_initializer=layers_settings['dense_mean']['kernel_initializer'],\n",
    "               name='dense_mean'\n",
    "              )(x)\n",
    "    z_log_var = tfl.Dense(decoder_dim, \n",
    "               kernel_regularizer=layers_settings['dense_logvar']['kernel_regularizer'],\n",
    "               kernel_initializer=layers_settings['dense_logvar']['kernel_initializer'],\n",
    "               name='dense_logvar'\n",
    "              )(x)\n",
    "    \n",
    "    # sample \n",
    "    # z_mean + tf.exp(0.5 * z_log_var) * epsilon\n",
    "    epsilon = StandardRandomNormal()(z_mean)\n",
    "    z_var = ExponentLogvar()(z_log_var)\n",
    "    z_var = tfl.Multiply()([z_var, epsilon])\n",
    "    \n",
    "    z = tfl.Add()([z_mean, z_var])\n",
    "    \n",
    "    encoder = Model(inputs = inputLayer, outputs = [z_mean, z_log_var, z], name=\"encoder\")\n",
    "    \n",
    "    return encoder\n",
    "    "
   ]
  },
  {
   "cell_type": "code",
   "execution_count": 34,
   "id": "c0e6030d",
   "metadata": {},
   "outputs": [],
   "source": [
    "encoder = create_fpencoder()"
   ]
  },
  {
   "cell_type": "code",
   "execution_count": 35,
   "id": "9bdd36ee",
   "metadata": {},
   "outputs": [
    {
     "name": "stdout",
     "output_type": "stream",
     "text": [
      "Model: \"encoder\"\n",
      "__________________________________________________________________________________________________\n",
      " Layer (type)                   Output Shape         Param #     Connected to                     \n",
      "==================================================================================================\n",
      " encoder_input (InputLayer)     [(None, 73, 70)]     0           []                               \n",
      "                                                                                                  \n",
      " initial_dropout (Dropout)      (None, 73, 70)       0           ['encoder_input[0][0]']          \n",
      "                                                                                                  \n",
      " Encoder_BidirectionalGRU (Bidi  [(None, 128),       52224       ['initial_dropout[0][0]']        \n",
      " rectional)                      (None, 64),                                                      \n",
      "                                 (None, 64)]                                                      \n",
      "                                                                                                  \n",
      " postencoder_dropout (Dropout)  (None, 128)          0           ['Encoder_BidirectionalGRU[0][0]'\n",
      "                                                                 ]                                \n",
      "                                                                                                  \n",
      " dense_mean (Dense)             (None, 64)           8256        ['postencoder_dropout[0][0]']    \n",
      "                                                                                                  \n",
      " dense_logvar (Dense)           (None, 64)           8256        ['postencoder_dropout[0][0]']    \n",
      "                                                                                                  \n",
      " exponent_logvar (ExponentLogva  (None, 64)          0           ['dense_logvar[0][0]']           \n",
      " r)                                                                                               \n",
      "                                                                                                  \n",
      " standard_random_normal (Standa  (None, 64)          0           ['dense_mean[0][0]']             \n",
      " rdRandomNormal)                                                                                  \n",
      "                                                                                                  \n",
      " multiply (Multiply)            (None, 64)           0           ['exponent_logvar[0][0]',        \n",
      "                                                                  'standard_random_normal[0][0]'] \n",
      "                                                                                                  \n",
      " add (Add)                      (None, 64)           0           ['dense_mean[0][0]',             \n",
      "                                                                  'multiply[0][0]']               \n",
      "                                                                                                  \n",
      "==================================================================================================\n",
      "Total params: 68,736\n",
      "Trainable params: 68,736\n",
      "Non-trainable params: 0\n",
      "__________________________________________________________________________________________________\n"
     ]
    }
   ],
   "source": [
    "encoder.summary()"
   ]
  },
  {
   "cell_type": "code",
   "execution_count": 36,
   "id": "8a0903e9",
   "metadata": {},
   "outputs": [],
   "source": [
    "from tensorflow.keras.utils import plot_model\n"
   ]
  },
  {
   "cell_type": "code",
   "execution_count": 41,
   "id": "61d10c47",
   "metadata": {},
   "outputs": [
    {
     "name": "stdout",
     "output_type": "stream",
     "text": [
      "You must install pydot (`pip install pydot`) and install graphviz (see instructions at https://graphviz.gitlab.io/download/) for plot_model/model_to_dot to work.\n"
     ]
    }
   ],
   "source": [
    "plot_model(encoder)"
   ]
  },
  {
   "cell_type": "markdown",
   "id": "0027b9fa",
   "metadata": {},
   "source": [
    "# Build the decoder"
   ]
  },
  {
   "cell_type": "markdown",
   "id": "4b8e43b3",
   "metadata": {},
   "source": [
    "## since the latent vector will become the initial state of the decoder GRU, \n",
    "## decoder_dim = latent dimension"
   ]
  },
  {
   "cell_type": "code",
   "execution_count": 42,
   "id": "df1783f9",
   "metadata": {},
   "outputs": [],
   "source": [
    "def create_fpdecoder(input_shape = (73,70),\n",
    "                     decoder_dim=decoder_dim,  \n",
    "                     factors = 4,\n",
    "                     drop=dropout\n",
    "                     ):\n",
    "    \n",
    "    # decoder\n",
    "    input_decoder_shape = (input_shape[0], decoder_dim) #( 73 timesteps, 64 decoder_dim)\n",
    "    input_decoder = tfl.Input(shape=input_decoder_shape, name = 'decoder_input')\n",
    "    \n",
    "    # sampled latent \n",
    "    latent_inputs = tfl.Input(shape=(decoder_dim,), name = 'latent_input')\n",
    "        \n",
    "    x = tfl.GRU(\n",
    "                decoder_dim,                \n",
    "                return_sequences=True,\n",
    "                time_major=False,\n",
    "                name='DecoderGRU'\n",
    "                )(input_decoder, initial_state = latent_inputs)\n",
    "    x = tfl.Dropout(drop, name = 'postdecoder_dropout')(x)\n",
    "    \n",
    "    # DIMENSIONALITY REDUCTION\n",
    "    z = tfl.Dense(\n",
    "            factors, \n",
    "            use_bias=False, \n",
    "            kernel_regularizer=layers_settings['dense']['kernel_regularizer'],\n",
    "            kernel_initializer=layers_settings['dense']['kernel_initializer'],\n",
    "            name=\"dense\"\n",
    "            )(x)\n",
    "    \n",
    "    # NEURAL\n",
    "    neural_dim = input_shape[-1] #70\n",
    "    \n",
    "    z = tfl.Dense(\n",
    "            neural_dim, \n",
    "            use_bias=True, \n",
    "            kernel_regularizer=layers_settings['nerual_dense']['kernel_regularizer'],\n",
    "            kernel_initializer=layers_settings['nerual_dense']['kernel_initializer'],\n",
    "            name='nerual_dense')(z)\n",
    "    \n",
    "    \n",
    "    decoder = Model(inputs = [latent_inputs, input_decoder], outputs =z , name=\"decoder\")\n",
    "    \n",
    "    return decoder\n",
    "    "
   ]
  },
  {
   "cell_type": "code",
   "execution_count": 43,
   "id": "eea2dc5e",
   "metadata": {},
   "outputs": [],
   "source": [
    "decoder = create_fpdecoder()"
   ]
  },
  {
   "cell_type": "code",
   "execution_count": 44,
   "id": "e827ea81",
   "metadata": {},
   "outputs": [
    {
     "name": "stdout",
     "output_type": "stream",
     "text": [
      "Model: \"decoder\"\n",
      "__________________________________________________________________________________________________\n",
      " Layer (type)                   Output Shape         Param #     Connected to                     \n",
      "==================================================================================================\n",
      " decoder_input (InputLayer)     [(None, 73, 64)]     0           []                               \n",
      "                                                                                                  \n",
      " latent_input (InputLayer)      [(None, 64)]         0           []                               \n",
      "                                                                                                  \n",
      " DecoderGRU (GRU)               (None, 73, 64)       24960       ['decoder_input[0][0]',          \n",
      "                                                                  'latent_input[0][0]']           \n",
      "                                                                                                  \n",
      " postdecoder_dropout (Dropout)  (None, 73, 64)       0           ['DecoderGRU[0][0]']             \n",
      "                                                                                                  \n",
      " dense (Dense)                  (None, 73, 4)        256         ['postdecoder_dropout[0][0]']    \n",
      "                                                                                                  \n",
      " nerual_dense (Dense)           (None, 73, 70)       350         ['dense[0][0]']                  \n",
      "                                                                                                  \n",
      "==================================================================================================\n",
      "Total params: 25,566\n",
      "Trainable params: 25,566\n",
      "Non-trainable params: 0\n",
      "__________________________________________________________________________________________________\n"
     ]
    }
   ],
   "source": [
    "decoder.summary()"
   ]
  },
  {
   "cell_type": "code",
   "execution_count": 45,
   "id": "97fc6355",
   "metadata": {},
   "outputs": [
    {
     "name": "stdout",
     "output_type": "stream",
     "text": [
      "You must install pydot (`pip install pydot`) and install graphviz (see instructions at https://graphviz.gitlab.io/download/) for plot_model/model_to_dot to work.\n"
     ]
    }
   ],
   "source": [
    "plot_model(decoder)"
   ]
  },
  {
   "cell_type": "markdown",
   "id": "d91ac46c",
   "metadata": {},
   "source": [
    "# combined "
   ]
  },
  {
   "cell_type": "code",
   "execution_count": 46,
   "id": "e02b83bb",
   "metadata": {},
   "outputs": [],
   "source": [
    "class LFADS(Model):\n",
    "    def __init__(self, encoder, decoder, **kwargs):\n",
    "        super().__init__(**kwargs)\n",
    "        self.encoder = encoder\n",
    "        self.decoder = decoder\n",
    "        \n",
    "        # loss track\n",
    "        self.total_loss_tracker = keras.metrics.Mean(name=\"total_loss\")\n",
    "        self.poisson_loglike_loss_tracker = keras.metrics.Mean(\n",
    "            name=\"reconstruction_loss\"\n",
    "        )\n",
    "        self.kl_loss_tracker = keras.metrics.Mean(name=\"kl_loss\")\n",
    "        self.reg_loss_tracker = keras.metrics.Mean(name=\"reg_loss\")\n",
    "        \n",
    "        # loss weight track\n",
    "        self.tracker_loss_w_loglike = keras.metrics.Mean(\n",
    "            name=\"loss_w_loglike\")\n",
    "        self.tracker_loss_w_kldiv = keras.metrics.Mean(name=\"loss_w_kldiv\")\n",
    "        self.tracker_loss_w_reg = keras.metrics.Mean(name=\"loss_w_reg\")\n",
    "        self.tracker_lr = keras.metrics.Mean(name=\"lr\")\n",
    "\n",
    "    @property\n",
    "    def metrics(self):\n",
    "        return [\n",
    "            self.total_loss_tracker,\n",
    "            self.poisson_loglike_loss_tracker,\n",
    "            self.kl_loss_tracker,\n",
    "        ]\n",
    "    def compile(self, optimizer, loss_weights, *args, **kwargs):\n",
    "        super(LFADS, self).compile(\n",
    "            optimizer=optimizer\n",
    "        )\n",
    "        self.loss_weights = loss_weights\n",
    "\n",
    "    def train_step(self, data):\n",
    "\n",
    "        x, y = data\n",
    "        x_in, decoder_in = x\n",
    "        #print(x[0])\n",
    "        #print(x[1])\n",
    "        \n",
    "        with tf.GradientTape() as tape:\n",
    "            z_mean, z_log_var, z = self.encoder(x_in)\n",
    "            reconstruction = self.decoder((z, decoder_in))\n",
    "            \n",
    "            pll_loss = poisson_loglike_loss(y, reconstruction)\n",
    "            kl_loss = -0.5 * (1 + z_log_var - tf.square(z_mean) - tf.exp(z_log_var))\n",
    "            kl_loss = tf.reduce_mean(tf.reduce_sum(kl_loss, axis=1))\n",
    "            reg_loss = tf.reduce_sum(self.losses)\n",
    "\n",
    "            \n",
    "            total_loss = self.loss_weights[0] * pll_loss + self.loss_weights[1] * kl_loss + self.loss_weights[2] * reg_loss\n",
    "            \n",
    "        grads = tape.gradient(total_loss, self.trainable_weights)\n",
    "        self.optimizer.apply_gradients(zip(grads, self.trainable_weights))\n",
    "        \n",
    "        # metrics\n",
    "        self.total_loss_tracker.update_state(total_loss)\n",
    "        self.poisson_loglike_loss_tracker.update_state(pll_loss)\n",
    "        self.kl_loss_tracker.update_state(kl_loss)\n",
    "        self.reg_loss_tracker.update_state(reg_loss)\n",
    "        \n",
    "        self.tracker_loss_w_loglike.update_state(self.loss_weights[0])\n",
    "        self.tracker_loss_w_kldiv.update_state(self.loss_weights[1])\n",
    "        self.tracker_loss_w_reg.update_state(self.loss_weights[2])\n",
    "        self.tracker_lr.update_state(\n",
    "            self.optimizer._decayed_lr('float32').numpy())\n",
    "        \n",
    "        return {\n",
    "            \"loss\": self.total_loss_tracker.result(),\n",
    "            \"pll_loss\": self.poisson_loglike_loss_tracker.result(),\n",
    "            \"kl_loss\": self.kl_loss_tracker.result(),\n",
    "            \"reg_loss\": self.reg_loss_tracker.result(),\n",
    "            'weights/loglike': self.tracker_loss_w_loglike.result(),\n",
    "            'weights/kldiv': self.tracker_loss_w_kldiv.result(),\n",
    "            'weights/reg': self.tracker_loss_w_reg.result(),\n",
    "            'learning_rate': self.tracker_lr.result()\n",
    "        }\n",
    "            \n",
    "      \n",
    "    def test_step(self, data):\n",
    "        x, y = data\n",
    "        x_in, decoder_in = x\n",
    "\n",
    "        z_mean, z_log_var, z = self.encoder(x_in)\n",
    "        reconstruction = self.decoder((z, decoder_in))\n",
    "\n",
    "        pll_loss = poisson_loglike_loss(y, reconstruction)\n",
    "        kl_loss = -0.5 * (1 + z_log_var - tf.square(z_mean) - tf.exp(z_log_var))\n",
    "        kl_loss = tf.reduce_mean(tf.reduce_sum(kl_loss, axis=1))\n",
    "        total_loss = pll_loss + kl_loss\n",
    "        \n",
    "        pll_loss = poisson_loglike_loss(y, reconstruction)\n",
    "        kl_loss = -0.5 * (1 + z_log_var - tf.square(z_mean) - tf.exp(z_log_var))\n",
    "        kl_loss = tf.reduce_mean(tf.reduce_sum(kl_loss, axis=1))\n",
    "        reg_loss = tf.reduce_sum(self.losses)\n",
    "\n",
    "            \n",
    "        total_loss = self.loss_weights[0] * pll_loss + self.loss_weights[1] * kl_loss + self.loss_weights[2] * reg_loss\n",
    "\n",
    "        return {\n",
    "          \"loss\": total_loss,\n",
    "          \"pll_loss\": pll_loss,\n",
    "          \"kl_loss\": kl_loss,\n",
    "          \"reg_loss\": reg_loss\n",
    "        }\n",
    "    def call(self, data):\n",
    "        x_in, decoder_in = data\n",
    "        \n",
    "        z_mean, z_log_var, z = self.encoder(x_in)\n",
    "        reconstruction = self.decoder((z, decoder_in))\n",
    "        \n",
    "        # Add KL divergence regularization loss.\n",
    "        kl_loss = -0.5 * tf.reduce_mean(\n",
    "            z_log_var - tf.square(z_mean) - tf.exp(z_log_var) + 1\n",
    "        )\n",
    "        self.add_loss(kl_loss)\n",
    "        return reconstruction\n",
    "        "
   ]
  },
  {
   "cell_type": "code",
   "execution_count": 47,
   "id": "bafedb4c",
   "metadata": {},
   "outputs": [],
   "source": [
    "model = LFADS(encoder, decoder)\n"
   ]
  },
  {
   "cell_type": "code",
   "execution_count": 48,
   "id": "88ab0247",
   "metadata": {},
   "outputs": [],
   "source": [
    "#model.summary()"
   ]
  },
  {
   "cell_type": "markdown",
   "id": "99d7722e",
   "metadata": {},
   "source": [
    "# train\n",
    "## callbacks"
   ]
  },
  {
   "cell_type": "code",
   "execution_count": 49,
   "id": "8d02a399",
   "metadata": {},
   "outputs": [],
   "source": [
    "from tndm.utils import AdaptiveWeights"
   ]
  },
  {
   "cell_type": "code",
   "execution_count": 50,
   "id": "08cc4ed9",
   "metadata": {},
   "outputs": [],
   "source": [
    "adaptive_weights=AdaptiveWeights(\n",
    "        initial=[initial_neural_weight, initial_behaviour_weight, .0, .0, lambda_q, .0], #changed\n",
    "        update_start=[0, 0, 0, 1000, 1000, 0],\n",
    "        update_rate=[0., 0., update_rate, update_rate, 0.0, update_rate],\n",
    "        min_weight=[initial_neural_weight, initial_behaviour_weight, 0.0, 0.0, lambda_q, 0.0],#changed\n",
    "        max_weight=[initial_neural_weight, initial_behaviour_weight, 1.0, 1.0, lambda_q, 1.0],#changed\n",
    "    )"
   ]
  },
  {
   "cell_type": "code",
   "execution_count": 51,
   "id": "e52dcee2",
   "metadata": {},
   "outputs": [],
   "source": [
    "adaptive_lr=dict(factor=0.95, patience=10, min_lr=1e-5)"
   ]
  },
  {
   "cell_type": "code",
   "execution_count": 52,
   "id": "f6be1525",
   "metadata": {},
   "outputs": [],
   "source": [
    "adaptive_lr_callback = tf.keras.callbacks.ReduceLROnPlateau(\n",
    "                    monitor='val_loss', **adaptive_lr)"
   ]
  },
  {
   "cell_type": "code",
   "execution_count": 53,
   "id": "238fb88e",
   "metadata": {},
   "outputs": [],
   "source": [
    "csv_logger = tf.keras.callbacks.CSVLogger(\"guassian_fp_log.csv\", separator=\",\", append=False)\n",
    "model_check = tf.keras.callbacks.ModelCheckpoint(\n",
    "    \"guassian_lfadfp.h5\",\n",
    "    monitor = \"val_loss\",\n",
    "    save_best_only = True,\n",
    "    save_weights_only= True\n",
    ")\n",
    "early = tf.keras.callbacks.EarlyStopping(\n",
    "    monitor=\"val_loss\",\n",
    "    min_delta=0,\n",
    "    patience=100,\n",
    "    verbose=1,\n",
    "    mode=\"min\",\n",
    "    baseline=None,\n",
    "    restore_best_weights=True,\n",
    ")\n",
    "\n",
    "#lfadfp_callbacks=[csv_logger, model_check, early]\n",
    "lfadfp_callbacks=[csv_logger, \n",
    "                  model_check, \n",
    "                  #early, \n",
    "                  adaptive_weights, \n",
    "                  adaptive_lr_callback\n",
    "                 ]"
   ]
  },
  {
   "cell_type": "code",
   "execution_count": 54,
   "id": "5ecc52cb",
   "metadata": {},
   "outputs": [],
   "source": [
    "optimizer = tf.keras.optimizers.Adam(\n",
    "    learning_rate=1e-2,\n",
    "    beta_1=0.9, \n",
    "    beta_2=0.999,\n",
    "    epsilon=1e-08,\n",
    "global_clipnorm=200 , clipvalue=1e16\n",
    ")\n"
   ]
  },
  {
   "cell_type": "code",
   "execution_count": 55,
   "id": "21fb9d99",
   "metadata": {},
   "outputs": [],
   "source": [
    "model.compile(\n",
    "    optimizer = optimizer,\n",
    "    loss_weights=adaptive_weights.w\n",
    ")"
   ]
  },
  {
   "cell_type": "code",
   "execution_count": null,
   "id": "9dae553f",
   "metadata": {
    "scrolled": true
   },
   "outputs": [
    {
     "name": "stdout",
     "output_type": "stream",
     "text": [
      "Epoch 1/1000\n"
     ]
    },
    {
     "name": "stderr",
     "output_type": "stream",
     "text": [
      "/home/docker/anaconda3/envs/python3813/lib/python3.8/site-packages/tensorflow/python/data/ops/structured_function.py:264: UserWarning: Even though the `tf.config.experimental_run_functions_eagerly` option is set, this option does not apply to tf.data functions. To force eager execution of tf.data functions, please use `tf.data.experimental.enable_debug_mode()`.\n",
      "  warnings.warn(\n"
     ]
    },
    {
     "name": "stdout",
     "output_type": "stream",
     "text": [
      "9/9 [==============================] - 6s 620ms/step - loss: 3048.1016 - pll_loss: 3046.9723 - kl_loss: 7.5702 - reg_loss: 0.0000e+00 - weights/loglike: 1.0000 - weights/kldiv: 0.2000 - weights/reg: 0.0011 - learning_rate: 0.0100 - val_loss: 2878.5625 - val_pll_loss: 2877.9072 - val_kl_loss: 3.2758 - val_reg_loss: 0.0000e+00 - lr: 0.0100\n",
      "Epoch 2/1000\n",
      "9/9 [==============================] - 5s 549ms/step - loss: 2734.5112 - pll_loss: 2733.1150 - kl_loss: 9.3287 - reg_loss: 0.0000e+00 - weights/loglike: 1.0000 - weights/kldiv: 0.2000 - weights/reg: 0.0034 - learning_rate: 0.0100 - val_loss: 2466.0112 - val_pll_loss: 2463.0144 - val_kl_loss: 14.9842 - val_reg_loss: 0.0000e+00 - lr: 0.0100\n",
      "Epoch 3/1000\n",
      "9/9 [==============================] - 5s 571ms/step - loss: 2408.6452 - pll_loss: 2406.1904 - kl_loss: 11.1664 - reg_loss: 0.0000e+00 - weights/loglike: 1.0000 - weights/kldiv: 0.2000 - weights/reg: 0.0056 - learning_rate: 0.0100 - val_loss: 2142.2437 - val_pll_loss: 2139.2883 - val_kl_loss: 14.7761 - val_reg_loss: 0.0000e+00 - lr: 0.0100\n",
      "Epoch 4/1000\n",
      "9/9 [==============================] - 5s 581ms/step - loss: 2107.3633 - pll_loss: 2104.9373 - kl_loss: 12.0046 - reg_loss: 0.0000e+00 - weights/loglike: 1.0000 - weights/kldiv: 0.2000 - weights/reg: 0.0078 - learning_rate: 0.0100 - val_loss: 1967.6750 - val_pll_loss: 1965.0612 - val_kl_loss: 13.0696 - val_reg_loss: 0.0000e+00 - lr: 0.0100\n",
      "Epoch 5/1000\n",
      "9/9 [==============================] - 5s 543ms/step - loss: 1951.0627 - pll_loss: 1948.7792 - kl_loss: 11.1166 - reg_loss: 0.0000e+00 - weights/loglike: 1.0000 - weights/kldiv: 0.2000 - weights/reg: 0.0101 - learning_rate: 0.0100 - val_loss: 1881.6428 - val_pll_loss: 1879.3809 - val_kl_loss: 11.3100 - val_reg_loss: 0.0000e+00 - lr: 0.0100\n",
      "Epoch 6/1000\n",
      "9/9 [==============================] - 5s 544ms/step - loss: 1871.9180 - pll_loss: 1869.7483 - kl_loss: 10.9720 - reg_loss: 0.0000e+00 - weights/loglike: 1.0000 - weights/kldiv: 0.2000 - weights/reg: 0.0124 - learning_rate: 0.0100 - val_loss: 1836.0131 - val_pll_loss: 1833.4564 - val_kl_loss: 12.7834 - val_reg_loss: 0.0000e+00 - lr: 0.0100\n",
      "Epoch 7/1000\n",
      "9/9 [==============================] - 5s 576ms/step - loss: 1832.4991 - pll_loss: 1830.4500 - kl_loss: 10.2719 - reg_loss: 0.0000e+00 - weights/loglike: 1.0000 - weights/kldiv: 0.2000 - weights/reg: 0.0146 - learning_rate: 0.0100 - val_loss: 1817.6423 - val_pll_loss: 1815.4983 - val_kl_loss: 10.7203 - val_reg_loss: 0.0000e+00 - lr: 0.0100\n",
      "Epoch 8/1000\n",
      "9/9 [==============================] - 5s 508ms/step - loss: 1823.2315 - pll_loss: 1821.2843 - kl_loss: 11.1983 - reg_loss: 0.0000e+00 - weights/loglike: 1.0000 - weights/kldiv: 0.2000 - weights/reg: 0.0168 - learning_rate: 0.0100 - val_loss: 1826.1825 - val_pll_loss: 1823.5146 - val_kl_loss: 13.3395 - val_reg_loss: 0.0000e+00 - lr: 0.0100\n",
      "Epoch 9/1000\n",
      "9/9 [==============================] - 4s 491ms/step - loss: 1825.1457 - pll_loss: 1822.9196 - kl_loss: 9.7398 - reg_loss: 0.0000e+00 - weights/loglike: 1.0000 - weights/kldiv: 0.2000 - weights/reg: 0.0191 - learning_rate: 0.0100 - val_loss: 1818.1987 - val_pll_loss: 1816.3733 - val_kl_loss: 9.1271 - val_reg_loss: 0.0000e+00 - lr: 0.0100\n",
      "Epoch 10/1000\n",
      "9/9 [==============================] - 4s 498ms/step - loss: 1823.5726 - pll_loss: 1821.7972 - kl_loss: 9.1244 - reg_loss: 0.0000e+00 - weights/loglike: 1.0000 - weights/kldiv: 0.2000 - weights/reg: 0.0214 - learning_rate: 0.0100 - val_loss: 1812.1407 - val_pll_loss: 1810.0330 - val_kl_loss: 10.5392 - val_reg_loss: 0.0000e+00 - lr: 0.0100\n",
      "Epoch 11/1000\n",
      "9/9 [==============================] - 5s 508ms/step - loss: 1824.5995 - pll_loss: 1822.6278 - kl_loss: 9.0319 - reg_loss: 0.0000e+00 - weights/loglike: 1.0000 - weights/kldiv: 0.2000 - weights/reg: 0.0236 - learning_rate: 0.0100 - val_loss: 1814.0613 - val_pll_loss: 1812.1963 - val_kl_loss: 9.3250 - val_reg_loss: 0.0000e+00 - lr: 0.0100\n",
      "Epoch 12/1000\n",
      "9/9 [==============================] - 5s 531ms/step - loss: 1818.5661 - pll_loss: 1816.7658 - kl_loss: 9.3004 - reg_loss: 0.0000e+00 - weights/loglike: 1.0000 - weights/kldiv: 0.2000 - weights/reg: 0.0259 - learning_rate: 0.0100 - val_loss: 1811.9493 - val_pll_loss: 1809.7850 - val_kl_loss: 10.8216 - val_reg_loss: 0.0000e+00 - lr: 0.0100\n",
      "Epoch 13/1000\n",
      "9/9 [==============================] - 5s 565ms/step - loss: 1816.2616 - pll_loss: 1814.4005 - kl_loss: 9.1495 - reg_loss: 0.0000e+00 - weights/loglike: 1.0000 - weights/kldiv: 0.2000 - weights/reg: 0.0281 - learning_rate: 0.0100 - val_loss: 1810.0651 - val_pll_loss: 1808.2872 - val_kl_loss: 8.8893 - val_reg_loss: 0.0000e+00 - lr: 0.0100\n",
      "Epoch 14/1000\n",
      "9/9 [==============================] - 4s 487ms/step - loss: 1814.1454 - pll_loss: 1812.5082 - kl_loss: 8.1613 - reg_loss: 0.0000e+00 - weights/loglike: 1.0000 - weights/kldiv: 0.2000 - weights/reg: 0.0304 - learning_rate: 0.0100 - val_loss: 1814.9275 - val_pll_loss: 1813.4017 - val_kl_loss: 7.6291 - val_reg_loss: 0.0000e+00 - lr: 0.0100\n",
      "Epoch 15/1000\n",
      "9/9 [==============================] - 5s 521ms/step - loss: 1810.1913 - pll_loss: 1808.5592 - kl_loss: 9.1410 - reg_loss: 0.0000e+00 - weights/loglike: 1.0000 - weights/kldiv: 0.2000 - weights/reg: 0.0326 - learning_rate: 0.0100 - val_loss: 1814.2522 - val_pll_loss: 1812.4202 - val_kl_loss: 9.1603 - val_reg_loss: 0.0000e+00 - lr: 0.0100\n",
      "Epoch 16/1000\n",
      "9/9 [==============================] - 5s 546ms/step - loss: 1813.6382 - pll_loss: 1811.7789 - kl_loss: 8.8383 - reg_loss: 0.0000e+00 - weights/loglike: 1.0000 - weights/kldiv: 0.2000 - weights/reg: 0.0348 - learning_rate: 0.0100 - val_loss: 1806.9641 - val_pll_loss: 1805.4056 - val_kl_loss: 7.7922 - val_reg_loss: 0.0000e+00 - lr: 0.0100\n",
      "Epoch 17/1000\n",
      "9/9 [==============================] - 5s 515ms/step - loss: 1811.1647 - pll_loss: 1809.2703 - kl_loss: 10.3393 - reg_loss: 0.0000e+00 - weights/loglike: 1.0000 - weights/kldiv: 0.2000 - weights/reg: 0.0371 - learning_rate: 0.0100 - val_loss: 1812.1281 - val_pll_loss: 1810.3368 - val_kl_loss: 8.9563 - val_reg_loss: 0.0000e+00 - lr: 0.0100\n",
      "Epoch 18/1000\n",
      "9/9 [==============================] - 4s 493ms/step - loss: 1808.0854 - pll_loss: 1806.1101 - kl_loss: 10.6454 - reg_loss: 0.0000e+00 - weights/loglike: 1.0000 - weights/kldiv: 0.2000 - weights/reg: 0.0394 - learning_rate: 0.0100 - val_loss: 1813.0782 - val_pll_loss: 1811.1740 - val_kl_loss: 9.5215 - val_reg_loss: 0.0000e+00 - lr: 0.0100\n",
      "Epoch 19/1000\n",
      "9/9 [==============================] - 5s 512ms/step - loss: 1815.7540 - pll_loss: 1813.7556 - kl_loss: 9.7211 - reg_loss: 0.0000e+00 - weights/loglike: 1.0000 - weights/kldiv: 0.2000 - weights/reg: 0.0416 - learning_rate: 0.0100 - val_loss: 1815.5503 - val_pll_loss: 1813.6449 - val_kl_loss: 9.5268 - val_reg_loss: 0.0000e+00 - lr: 0.0100\n",
      "Epoch 20/1000\n",
      "9/9 [==============================] - 4s 487ms/step - loss: 1804.7331 - pll_loss: 1802.7798 - kl_loss: 9.8219 - reg_loss: 0.0000e+00 - weights/loglike: 1.0000 - weights/kldiv: 0.2000 - weights/reg: 0.0438 - learning_rate: 0.0100 - val_loss: 1814.4298 - val_pll_loss: 1812.1112 - val_kl_loss: 11.5931 - val_reg_loss: 0.0000e+00 - lr: 0.0100\n",
      "Epoch 21/1000\n",
      "9/9 [==============================] - 5s 522ms/step - loss: 1819.4102 - pll_loss: 1817.0717 - kl_loss: 11.3638 - reg_loss: 0.0000e+00 - weights/loglike: 1.0000 - weights/kldiv: 0.2000 - weights/reg: 0.0461 - learning_rate: 0.0100 - val_loss: 1811.2894 - val_pll_loss: 1809.5972 - val_kl_loss: 8.4612 - val_reg_loss: 0.0000e+00 - lr: 0.0100\n",
      "Epoch 22/1000\n",
      "9/9 [==============================] - 4s 497ms/step - loss: 1819.2842 - pll_loss: 1817.2742 - kl_loss: 11.1373 - reg_loss: 0.0000e+00 - weights/loglike: 1.0000 - weights/kldiv: 0.2000 - weights/reg: 0.0484 - learning_rate: 0.0100 - val_loss: 1810.8566 - val_pll_loss: 1808.5013 - val_kl_loss: 11.7762 - val_reg_loss: 0.0000e+00 - lr: 0.0100\n",
      "Epoch 23/1000\n",
      "9/9 [==============================] - 5s 487ms/step - loss: 1817.3899 - pll_loss: 1815.2055 - kl_loss: 9.9279 - reg_loss: 0.0000e+00 - weights/loglike: 1.0000 - weights/kldiv: 0.2000 - weights/reg: 0.0506 - learning_rate: 0.0100 - val_loss: 1812.6057 - val_pll_loss: 1811.1077 - val_kl_loss: 7.4904 - val_reg_loss: 0.0000e+00 - lr: 0.0100\n",
      "Epoch 24/1000\n",
      "9/9 [==============================] - 5s 514ms/step - loss: 1812.3333 - pll_loss: 1810.4339 - kl_loss: 9.8037 - reg_loss: 0.0000e+00 - weights/loglike: 1.0000 - weights/kldiv: 0.2000 - weights/reg: 0.0528 - learning_rate: 0.0100 - val_loss: 1811.3157 - val_pll_loss: 1809.3912 - val_kl_loss: 9.6219 - val_reg_loss: 0.0000e+00 - lr: 0.0100\n",
      "Epoch 25/1000\n",
      "9/9 [==============================] - 4s 502ms/step - loss: 1817.1697 - pll_loss: 1815.2723 - kl_loss: 9.5559 - reg_loss: 0.0000e+00 - weights/loglike: 1.0000 - weights/kldiv: 0.2000 - weights/reg: 0.0551 - learning_rate: 0.0100 - val_loss: 1809.4353 - val_pll_loss: 1807.3683 - val_kl_loss: 10.3348 - val_reg_loss: 0.0000e+00 - lr: 0.0100\n",
      "Epoch 26/1000\n",
      "9/9 [==============================] - 5s 532ms/step - loss: 1812.3745 - pll_loss: 1810.2018 - kl_loss: 11.3479 - reg_loss: 0.0000e+00 - weights/loglike: 1.0000 - weights/kldiv: 0.2000 - weights/reg: 0.0573 - learning_rate: 0.0100 - val_loss: 1803.4373 - val_pll_loss: 1801.1548 - val_kl_loss: 11.4121 - val_reg_loss: 0.0000e+00 - lr: 0.0100\n",
      "Epoch 27/1000\n",
      "9/9 [==============================] - 4s 498ms/step - loss: 1815.4844 - pll_loss: 1813.2380 - kl_loss: 10.7450 - reg_loss: 0.0000e+00 - weights/loglike: 1.0000 - weights/kldiv: 0.2000 - weights/reg: 0.0596 - learning_rate: 0.0100 - val_loss: 1803.4745 - val_pll_loss: 1801.2903 - val_kl_loss: 10.9207 - val_reg_loss: 0.0000e+00 - lr: 0.0100\n",
      "Epoch 28/1000\n",
      "9/9 [==============================] - 5s 523ms/step - loss: 1805.7372 - pll_loss: 1803.5545 - kl_loss: 10.5656 - reg_loss: 0.0000e+00 - weights/loglike: 1.0000 - weights/kldiv: 0.2000 - weights/reg: 0.0618 - learning_rate: 0.0100 - val_loss: 1811.8545 - val_pll_loss: 1809.0613 - val_kl_loss: 13.9659 - val_reg_loss: 0.0000e+00 - lr: 0.0100\n",
      "Epoch 29/1000\n",
      "9/9 [==============================] - 5s 505ms/step - loss: 1809.6567 - pll_loss: 1807.3346 - kl_loss: 11.7551 - reg_loss: 0.0000e+00 - weights/loglike: 1.0000 - weights/kldiv: 0.2000 - weights/reg: 0.0641 - learning_rate: 0.0100 - val_loss: 1809.2588 - val_pll_loss: 1806.8453 - val_kl_loss: 12.0673 - val_reg_loss: 0.0000e+00 - lr: 0.0100\n",
      "Epoch 30/1000\n",
      "9/9 [==============================] - 5s 557ms/step - loss: 1810.6660 - pll_loss: 1808.4796 - kl_loss: 11.2048 - reg_loss: 0.0000e+00 - weights/loglike: 1.0000 - weights/kldiv: 0.2000 - weights/reg: 0.0664 - learning_rate: 0.0100 - val_loss: 1800.0012 - val_pll_loss: 1797.6445 - val_kl_loss: 11.7834 - val_reg_loss: 0.0000e+00 - lr: 0.0100\n",
      "Epoch 31/1000\n",
      "9/9 [==============================] - 5s 520ms/step - loss: 1809.3013 - pll_loss: 1806.8823 - kl_loss: 11.5913 - reg_loss: 0.0000e+00 - weights/loglike: 1.0000 - weights/kldiv: 0.2000 - weights/reg: 0.0686 - learning_rate: 0.0100 - val_loss: 1802.8372 - val_pll_loss: 1800.7255 - val_kl_loss: 10.5587 - val_reg_loss: 0.0000e+00 - lr: 0.0100\n",
      "Epoch 32/1000\n",
      "9/9 [==============================] - 4s 490ms/step - loss: 1812.9035 - pll_loss: 1810.8911 - kl_loss: 10.5638 - reg_loss: 0.0000e+00 - weights/loglike: 1.0000 - weights/kldiv: 0.2000 - weights/reg: 0.0709 - learning_rate: 0.0100 - val_loss: 1804.1570 - val_pll_loss: 1801.8224 - val_kl_loss: 11.6729 - val_reg_loss: 0.0000e+00 - lr: 0.0100\n",
      "Epoch 33/1000\n",
      "9/9 [==============================] - 5s 559ms/step - loss: 1813.3090 - pll_loss: 1810.9453 - kl_loss: 11.7132 - reg_loss: 0.0000e+00 - weights/loglike: 1.0000 - weights/kldiv: 0.2000 - weights/reg: 0.0731 - learning_rate: 0.0100 - val_loss: 1799.0343 - val_pll_loss: 1796.2393 - val_kl_loss: 13.9752 - val_reg_loss: 0.0000e+00 - lr: 0.0100\n",
      "Epoch 34/1000\n",
      "9/9 [==============================] - 5s 540ms/step - loss: 1805.9670 - pll_loss: 1803.5375 - kl_loss: 11.9604 - reg_loss: 0.0000e+00 - weights/loglike: 1.0000 - weights/kldiv: 0.2000 - weights/reg: 0.0753 - learning_rate: 0.0100 - val_loss: 1798.4272 - val_pll_loss: 1795.8789 - val_kl_loss: 12.7418 - val_reg_loss: 0.0000e+00 - lr: 0.0100\n",
      "Epoch 35/1000\n",
      "9/9 [==============================] - 5s 527ms/step - loss: 1802.7134 - pll_loss: 1800.3046 - kl_loss: 12.1075 - reg_loss: 0.0000e+00 - weights/loglike: 1.0000 - weights/kldiv: 0.2000 - weights/reg: 0.0776 - learning_rate: 0.0100 - val_loss: 1798.1816 - val_pll_loss: 1795.6029 - val_kl_loss: 12.8937 - val_reg_loss: 0.0000e+00 - lr: 0.0100\n",
      "Epoch 36/1000\n",
      "9/9 [==============================] - 5s 530ms/step - loss: 1814.4993 - pll_loss: 1812.0460 - kl_loss: 12.0407 - reg_loss: 0.0000e+00 - weights/loglike: 1.0000 - weights/kldiv: 0.2000 - weights/reg: 0.0798 - learning_rate: 0.0100 - val_loss: 1791.5219 - val_pll_loss: 1788.3201 - val_kl_loss: 16.0086 - val_reg_loss: 0.0000e+00 - lr: 0.0100\n",
      "Epoch 37/1000\n",
      "9/9 [==============================] - 5s 516ms/step - loss: 1802.4865 - pll_loss: 1799.9393 - kl_loss: 12.3821 - reg_loss: 0.0000e+00 - weights/loglike: 1.0000 - weights/kldiv: 0.2000 - weights/reg: 0.0821 - learning_rate: 0.0100 - val_loss: 1796.9309 - val_pll_loss: 1793.9124 - val_kl_loss: 15.0925 - val_reg_loss: 0.0000e+00 - lr: 0.0100\n",
      "Epoch 38/1000\n",
      "9/9 [==============================] - 5s 543ms/step - loss: 1802.4411 - pll_loss: 1800.0336 - kl_loss: 11.7571 - reg_loss: 0.0000e+00 - weights/loglike: 1.0000 - weights/kldiv: 0.2000 - weights/reg: 0.0843 - learning_rate: 0.0100 - val_loss: 1791.3429 - val_pll_loss: 1788.6597 - val_kl_loss: 13.4161 - val_reg_loss: 0.0000e+00 - lr: 0.0100\n",
      "Epoch 39/1000\n",
      "9/9 [==============================] - 5s 571ms/step - loss: 1803.6236 - pll_loss: 1801.1179 - kl_loss: 13.0836 - reg_loss: 0.0000e+00 - weights/loglike: 1.0000 - weights/kldiv: 0.2000 - weights/reg: 0.0866 - learning_rate: 0.0100 - val_loss: 1789.6647 - val_pll_loss: 1786.9656 - val_kl_loss: 13.4952 - val_reg_loss: 0.0000e+00 - lr: 0.0100\n",
      "Epoch 40/1000\n",
      "9/9 [==============================] - 5s 556ms/step - loss: 1794.1161 - pll_loss: 1791.7697 - kl_loss: 11.5625 - reg_loss: 0.0000e+00 - weights/loglike: 1.0000 - weights/kldiv: 0.2000 - weights/reg: 0.0889 - learning_rate: 0.0100 - val_loss: 1784.0605 - val_pll_loss: 1781.5958 - val_kl_loss: 12.3234 - val_reg_loss: 0.0000e+00 - lr: 0.0100\n",
      "Epoch 41/1000\n",
      "9/9 [==============================] - 5s 518ms/step - loss: 1796.8487 - pll_loss: 1794.2229 - kl_loss: 13.2931 - reg_loss: 0.0000e+00 - weights/loglike: 1.0000 - weights/kldiv: 0.2000 - weights/reg: 0.0911 - learning_rate: 0.0100 - val_loss: 1791.7323 - val_pll_loss: 1789.1780 - val_kl_loss: 12.7717 - val_reg_loss: 0.0000e+00 - lr: 0.0100\n",
      "Epoch 42/1000\n",
      "9/9 [==============================] - 4s 493ms/step - loss: 1798.6982 - pll_loss: 1796.1211 - kl_loss: 12.4006 - reg_loss: 0.0000e+00 - weights/loglike: 1.0000 - weights/kldiv: 0.2000 - weights/reg: 0.0933 - learning_rate: 0.0100 - val_loss: 1793.0967 - val_pll_loss: 1790.4868 - val_kl_loss: 13.0496 - val_reg_loss: 0.0000e+00 - lr: 0.0100\n",
      "Epoch 43/1000\n",
      "9/9 [==============================] - 5s 516ms/step - loss: 1798.6052 - pll_loss: 1796.1060 - kl_loss: 13.1753 - reg_loss: 0.0000e+00 - weights/loglike: 1.0000 - weights/kldiv: 0.2000 - weights/reg: 0.0956 - learning_rate: 0.0100 - val_loss: 1786.3896 - val_pll_loss: 1783.9359 - val_kl_loss: 12.2688 - val_reg_loss: 0.0000e+00 - lr: 0.0100\n",
      "Epoch 44/1000\n",
      "9/9 [==============================] - 5s 560ms/step - loss: 1799.7977 - pll_loss: 1797.1656 - kl_loss: 13.1102 - reg_loss: 0.0000e+00 - weights/loglike: 1.0000 - weights/kldiv: 0.2000 - weights/reg: 0.0978 - learning_rate: 0.0100 - val_loss: 1782.7559 - val_pll_loss: 1779.2389 - val_kl_loss: 17.5851 - val_reg_loss: 0.0000e+00 - lr: 0.0100\n",
      "Epoch 45/1000\n",
      "9/9 [==============================] - 5s 513ms/step - loss: 1794.0378 - pll_loss: 1790.8295 - kl_loss: 15.4003 - reg_loss: 0.0000e+00 - weights/loglike: 1.0000 - weights/kldiv: 0.2000 - weights/reg: 0.1001 - learning_rate: 0.0100 - val_loss: 1787.6361 - val_pll_loss: 1784.8579 - val_kl_loss: 13.8911 - val_reg_loss: 0.0000e+00 - lr: 0.0100\n",
      "Epoch 46/1000\n",
      "9/9 [==============================] - 4s 491ms/step - loss: 1801.4508 - pll_loss: 1798.9538 - kl_loss: 12.8519 - reg_loss: 0.0000e+00 - weights/loglike: 1.0000 - weights/kldiv: 0.2000 - weights/reg: 0.1024 - learning_rate: 0.0100 - val_loss: 1784.9625 - val_pll_loss: 1781.7161 - val_kl_loss: 16.2321 - val_reg_loss: 0.0000e+00 - lr: 0.0100\n",
      "Epoch 47/1000\n"
     ]
    },
    {
     "name": "stdout",
     "output_type": "stream",
     "text": [
      "9/9 [==============================] - 5s 521ms/step - loss: 1800.0137 - pll_loss: 1797.1887 - kl_loss: 14.3454 - reg_loss: 0.0000e+00 - weights/loglike: 1.0000 - weights/kldiv: 0.2000 - weights/reg: 0.1046 - learning_rate: 0.0100 - val_loss: 1789.9436 - val_pll_loss: 1787.1239 - val_kl_loss: 14.0985 - val_reg_loss: 0.0000e+00 - lr: 0.0100\n",
      "Epoch 48/1000\n",
      "9/9 [==============================] - 5s 528ms/step - loss: 1794.1624 - pll_loss: 1791.3771 - kl_loss: 13.6566 - reg_loss: 0.0000e+00 - weights/loglike: 1.0000 - weights/kldiv: 0.2000 - weights/reg: 0.1069 - learning_rate: 0.0100 - val_loss: 1781.3169 - val_pll_loss: 1778.3027 - val_kl_loss: 15.0710 - val_reg_loss: 0.0000e+00 - lr: 0.0100\n",
      "Epoch 49/1000\n",
      "9/9 [==============================] - 5s 515ms/step - loss: 1794.1981 - pll_loss: 1791.4897 - kl_loss: 13.0756 - reg_loss: 0.0000e+00 - weights/loglike: 1.0000 - weights/kldiv: 0.2000 - weights/reg: 0.1091 - learning_rate: 0.0100 - val_loss: 1783.3729 - val_pll_loss: 1780.8802 - val_kl_loss: 12.4632 - val_reg_loss: 0.0000e+00 - lr: 0.0100\n",
      "Epoch 50/1000\n",
      "9/9 [==============================] - 5s 539ms/step - loss: 1786.4556 - pll_loss: 1783.8860 - kl_loss: 12.2171 - reg_loss: 0.0000e+00 - weights/loglike: 1.0000 - weights/kldiv: 0.2000 - weights/reg: 0.1114 - learning_rate: 0.0100 - val_loss: 1779.2670 - val_pll_loss: 1776.7505 - val_kl_loss: 12.5827 - val_reg_loss: 0.0000e+00 - lr: 0.0100\n",
      "Epoch 51/1000\n",
      "9/9 [==============================] - 5s 572ms/step - loss: 1795.8406 - pll_loss: 1793.1709 - kl_loss: 14.0945 - reg_loss: 0.0000e+00 - weights/loglike: 1.0000 - weights/kldiv: 0.2000 - weights/reg: 0.1136 - learning_rate: 0.0100 - val_loss: 1778.2966 - val_pll_loss: 1775.3073 - val_kl_loss: 14.9466 - val_reg_loss: 0.0000e+00 - lr: 0.0100\n",
      "Epoch 52/1000\n",
      "9/9 [==============================] - 5s 567ms/step - loss: 1789.4184 - pll_loss: 1786.5862 - kl_loss: 13.8270 - reg_loss: 0.0000e+00 - weights/loglike: 1.0000 - weights/kldiv: 0.2000 - weights/reg: 0.1159 - learning_rate: 0.0100 - val_loss: 1777.7681 - val_pll_loss: 1775.1298 - val_kl_loss: 13.1918 - val_reg_loss: 0.0000e+00 - lr: 0.0100\n",
      "Epoch 53/1000\n",
      "9/9 [==============================] - 5s 521ms/step - loss: 1785.1456 - pll_loss: 1782.4294 - kl_loss: 13.7828 - reg_loss: 0.0000e+00 - weights/loglike: 1.0000 - weights/kldiv: 0.2000 - weights/reg: 0.1181 - learning_rate: 0.0100 - val_loss: 1785.8484 - val_pll_loss: 1783.3719 - val_kl_loss: 12.3824 - val_reg_loss: 0.0000e+00 - lr: 0.0100\n",
      "Epoch 54/1000\n",
      "9/9 [==============================] - 5s 507ms/step - loss: 1789.0953 - pll_loss: 1786.5491 - kl_loss: 13.1489 - reg_loss: 0.0000e+00 - weights/loglike: 1.0000 - weights/kldiv: 0.2000 - weights/reg: 0.1203 - learning_rate: 0.0100 - val_loss: 1778.1841 - val_pll_loss: 1774.8876 - val_kl_loss: 16.4827 - val_reg_loss: 0.0000e+00 - lr: 0.0100\n",
      "Epoch 55/1000\n",
      "9/9 [==============================] - 5s 518ms/step - loss: 1790.7605 - pll_loss: 1787.7496 - kl_loss: 14.4177 - reg_loss: 0.0000e+00 - weights/loglike: 1.0000 - weights/kldiv: 0.2000 - weights/reg: 0.1226 - learning_rate: 0.0100 - val_loss: 1783.9048 - val_pll_loss: 1780.7444 - val_kl_loss: 15.8020 - val_reg_loss: 0.0000e+00 - lr: 0.0100\n",
      "Epoch 56/1000\n",
      "9/9 [==============================] - 4s 503ms/step - loss: 1781.8308 - pll_loss: 1779.0645 - kl_loss: 13.7168 - reg_loss: 0.0000e+00 - weights/loglike: 1.0000 - weights/kldiv: 0.2000 - weights/reg: 0.1248 - learning_rate: 0.0100 - val_loss: 1777.6871 - val_pll_loss: 1774.7878 - val_kl_loss: 14.4967 - val_reg_loss: 0.0000e+00 - lr: 0.0100\n",
      "Epoch 57/1000\n",
      "9/9 [==============================] - 5s 511ms/step - loss: 1790.6265 - pll_loss: 1787.8576 - kl_loss: 14.2103 - reg_loss: 0.0000e+00 - weights/loglike: 1.0000 - weights/kldiv: 0.2000 - weights/reg: 0.1271 - learning_rate: 0.0100 - val_loss: 1780.5930 - val_pll_loss: 1777.4581 - val_kl_loss: 15.6744 - val_reg_loss: 0.0000e+00 - lr: 0.0100\n",
      "Epoch 58/1000\n",
      "9/9 [==============================] - 4s 497ms/step - loss: 1787.4962 - pll_loss: 1784.4718 - kl_loss: 15.1521 - reg_loss: 0.0000e+00 - weights/loglike: 1.0000 - weights/kldiv: 0.2000 - weights/reg: 0.1294 - learning_rate: 0.0100 - val_loss: 1782.9060 - val_pll_loss: 1780.0756 - val_kl_loss: 14.1524 - val_reg_loss: 0.0000e+00 - lr: 0.0100\n",
      "Epoch 59/1000\n",
      "9/9 [==============================] - 4s 506ms/step - loss: 1781.3543 - pll_loss: 1778.5583 - kl_loss: 14.0633 - reg_loss: 0.0000e+00 - weights/loglike: 1.0000 - weights/kldiv: 0.2000 - weights/reg: 0.1316 - learning_rate: 0.0100 - val_loss: 1782.1017 - val_pll_loss: 1778.9374 - val_kl_loss: 15.8214 - val_reg_loss: 0.0000e+00 - lr: 0.0100\n",
      "Epoch 60/1000\n",
      "9/9 [==============================] - 4s 487ms/step - loss: 1782.1245 - pll_loss: 1779.2781 - kl_loss: 14.0387 - reg_loss: 0.0000e+00 - weights/loglike: 1.0000 - weights/kldiv: 0.2000 - weights/reg: 0.1338 - learning_rate: 0.0100 - val_loss: 1787.9200 - val_pll_loss: 1785.0327 - val_kl_loss: 14.4366 - val_reg_loss: 0.0000e+00 - lr: 0.0100\n",
      "Epoch 61/1000\n",
      "9/9 [==============================] - 5s 525ms/step - loss: 1785.9493 - pll_loss: 1783.2351 - kl_loss: 13.5679 - reg_loss: 0.0000e+00 - weights/loglike: 1.0000 - weights/kldiv: 0.2000 - weights/reg: 0.1361 - learning_rate: 0.0100 - val_loss: 1781.9130 - val_pll_loss: 1778.8070 - val_kl_loss: 15.5296 - val_reg_loss: 0.0000e+00 - lr: 0.0100\n",
      "Epoch 62/1000\n",
      "9/9 [==============================] - 4s 500ms/step - loss: 1789.3685 - pll_loss: 1786.4607 - kl_loss: 14.4774 - reg_loss: 0.0000e+00 - weights/loglike: 1.0000 - weights/kldiv: 0.2000 - weights/reg: 0.1383 - learning_rate: 0.0100 - val_loss: 1780.8539 - val_pll_loss: 1777.7792 - val_kl_loss: 15.3733 - val_reg_loss: 0.0000e+00 - lr: 0.0100\n",
      "Epoch 63/1000\n",
      "9/9 [==============================] - 5s 523ms/step - loss: 1788.3820 - pll_loss: 1785.6084 - kl_loss: 13.7198 - reg_loss: 0.0000e+00 - weights/loglike: 1.0000 - weights/kldiv: 0.2000 - weights/reg: 0.1406 - learning_rate: 0.0100 - val_loss: 1780.4851 - val_pll_loss: 1777.4413 - val_kl_loss: 15.2191 - val_reg_loss: 0.0000e+00 - lr: 0.0100\n",
      "Epoch 64/1000\n",
      "9/9 [==============================] - 4s 490ms/step - loss: 1784.5009 - pll_loss: 1781.6234 - kl_loss: 14.0694 - reg_loss: 0.0000e+00 - weights/loglike: 1.0000 - weights/kldiv: 0.2000 - weights/reg: 0.1429 - learning_rate: 0.0100 - val_loss: 1788.4807 - val_pll_loss: 1785.5066 - val_kl_loss: 14.8704 - val_reg_loss: 0.0000e+00 - lr: 0.0100\n",
      "Epoch 65/1000\n",
      "9/9 [==============================] - ETA: 0s - loss: 1782.6670 - pll_loss: 1780.0771 - kl_loss: 12.8186 - reg_loss: 0.0000e+00 - weights/loglike: 1.0000 - weights/kldiv: 0.2000 - weights/reg: 0.1450 - learning_rate: 0.0100"
     ]
    }
   ],
   "source": [
    "fpmodel_history=model.fit([x_train, inputs2decoder_train], x_train, batch_size = BATCH_SIZE, \n",
    "                          epochs=1000, \n",
    "          callbacks = lfadfp_callbacks,\n",
    "          validation_data=([x_val, inputs2decoder_val], x_val)\n",
    "         )"
   ]
  },
  {
   "cell_type": "code",
   "execution_count": null,
   "id": "7a57cf80",
   "metadata": {
    "scrolled": false
   },
   "outputs": [],
   "source": [
    "plt.plot(fpmodel_history.history['loss'])\n",
    "plt.plot(fpmodel_history.history['val_loss'])\n",
    "plt.title('fp model loss')\n",
    "plt.ylabel('loss')\n",
    "plt.xlabel('epoch')\n",
    "plt.legend(['train', 'val'], loc='upper left')\n",
    "plt.savefig(\"fp model loss\")\n",
    "plt.show()"
   ]
  },
  {
   "cell_type": "code",
   "execution_count": null,
   "id": "42367bab",
   "metadata": {},
   "outputs": [],
   "source": [
    "plt.plot(fpmodel_history.history['kl_loss'])\n",
    "plt.plot(fpmodel_history.history['val_kl_loss'])\n",
    "plt.title('fp model kl_loss')\n",
    "plt.ylabel('kl_loss')\n",
    "plt.xlabel('epoch')\n",
    "plt.legend(['train', 'val'], loc='upper left')\n",
    "#plt.savefig(\"fp model loss\")\n",
    "plt.show()"
   ]
  },
  {
   "cell_type": "code",
   "execution_count": null,
   "id": "88e671c2",
   "metadata": {},
   "outputs": [],
   "source": [
    "plt.plot(fpmodel_history.history['pll_loss'])\n",
    "plt.plot(fpmodel_history.history['val_pll_loss'])\n",
    "plt.title('fp model pll_loss')\n",
    "plt.ylabel('pll_loss')\n",
    "plt.xlabel('epoch')\n",
    "plt.legend(['train', 'val'], loc='upper left')\n",
    "plt.savefig(\"fp model pll_\")\n",
    "plt.show()"
   ]
  },
  {
   "cell_type": "code",
   "execution_count": null,
   "id": "11b08a20",
   "metadata": {},
   "outputs": [],
   "source": [
    "pred_val_logf = model.predict([x_val, inputs2decoder_val])"
   ]
  },
  {
   "cell_type": "code",
   "execution_count": null,
   "id": "67067e22",
   "metadata": {},
   "outputs": [],
   "source": [
    "evaluate_NPLL(targets=x_val, pred_logrates=pred_val_logf)"
   ]
  },
  {
   "cell_type": "code",
   "execution_count": null,
   "id": "921892f9",
   "metadata": {},
   "outputs": [],
   "source": [
    "model.encoder.save(\"lfad_guassian_encoder.h5\")"
   ]
  },
  {
   "cell_type": "code",
   "execution_count": null,
   "id": "34a6ade9",
   "metadata": {},
   "outputs": [],
   "source": [
    "model.decoder.save(\"lfad_guassian_decoder.h5\")"
   ]
  },
  {
   "cell_type": "markdown",
   "id": "08c1599a",
   "metadata": {},
   "source": [
    "# Combine Encoder and Decoder"
   ]
  },
  {
   "cell_type": "code",
   "execution_count": null,
   "id": "fd2913ef",
   "metadata": {},
   "outputs": [],
   "source": [
    "encoder_sample_in = encoder.inputs\n",
    "encoder_sample_out = encoder.outputs[-1]"
   ]
  },
  {
   "cell_type": "code",
   "execution_count": null,
   "id": "cfe1f02e",
   "metadata": {},
   "outputs": [],
   "source": [
    "for l in model.decoder.layers:\n",
    "    print(l)"
   ]
  },
  {
   "cell_type": "markdown",
   "id": "cd5419e6",
   "metadata": {},
   "source": [
    "## get decoder layers"
   ]
  },
  {
   "cell_type": "code",
   "execution_count": null,
   "id": "5f6e9eac",
   "metadata": {},
   "outputs": [],
   "source": [
    "decoder_latent_in, decocder_in = decoder.inputs\n",
    "decoder_DecoderGRU = model.decoder.get_layer(\"DecoderGRU\")\n",
    "decoder_postdecoder_dropout = model.decoder.get_layer(\"postdecoder_dropout\")\n",
    "decoder_dense = model.decoder.get_layer(\"dense\")                                                                                                      \n",
    "decoder_nerual_dense = model.decoder.get_layer(\"nerual_dense\")                                                                                                  "
   ]
  },
  {
   "cell_type": "code",
   "execution_count": null,
   "id": "6f589400",
   "metadata": {},
   "outputs": [],
   "source": [
    "decoder_DecoderGRU_out = decoder_DecoderGRU(decocder_in, initial_state = encoder_sample_out)\n",
    "decoder_postdecoder_dropout_out = decoder_postdecoder_dropout(decoder_DecoderGRU_out)\n",
    "decoder_dense_out = decoder_dense(decoder_postdecoder_dropout_out)\n",
    "decoder_nerual_dense_out = decoder_nerual_dense(decoder_dense_out)"
   ]
  },
  {
   "cell_type": "code",
   "execution_count": null,
   "id": "cf290671",
   "metadata": {},
   "outputs": [],
   "source": [
    "lfads_full = Model(inputs = [encoder_sample_in, decocder_in], outputs = decoder_nerual_dense_out)"
   ]
  },
  {
   "cell_type": "code",
   "execution_count": null,
   "id": "35563209",
   "metadata": {},
   "outputs": [],
   "source": [
    "lfads_full.summary()"
   ]
  },
  {
   "cell_type": "code",
   "execution_count": null,
   "id": "069922e5",
   "metadata": {},
   "outputs": [],
   "source": [
    "plot_model(lfads_full)"
   ]
  },
  {
   "cell_type": "code",
   "execution_count": null,
   "id": "d82540ad",
   "metadata": {},
   "outputs": [],
   "source": [
    "pred_val_logf = lfads_full.predict([x_val, inputs2decoder_val])\n",
    "evaluate_NPLL(targets=x_val, pred_logrates=pred_val_logf)"
   ]
  },
  {
   "cell_type": "code",
   "execution_count": null,
   "id": "b12cf8c9",
   "metadata": {},
   "outputs": [],
   "source": [
    "lfads_full.save(\"lfads_guassian_full_fpmodel.h5\")"
   ]
  },
  {
   "cell_type": "code",
   "execution_count": null,
   "id": "82fe5b7e",
   "metadata": {},
   "outputs": [],
   "source": []
  }
 ],
 "metadata": {
  "kernelspec": {
   "display_name": "Python 3 (ipykernel)",
   "language": "python",
   "name": "python3"
  },
  "language_info": {
   "codemirror_mode": {
    "name": "ipython",
    "version": 3
   },
   "file_extension": ".py",
   "mimetype": "text/x-python",
   "name": "python",
   "nbconvert_exporter": "python",
   "pygments_lexer": "ipython3",
   "version": "3.8.16"
  }
 },
 "nbformat": 4,
 "nbformat_minor": 5
}
