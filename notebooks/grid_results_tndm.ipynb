{
 "cells": [
  {
   "cell_type": "code",
   "execution_count": 1,
   "id": "32525bbe",
   "metadata": {},
   "outputs": [],
   "source": [
    "import h5py\n",
    "import os\n",
    "import numpy as np\n",
    "import tensorflow as tf\n",
    "from sklearn.linear_model import Ridge\n",
    "from pprint import pprint\n",
    "import json\n",
    "import pandas as pd\n",
    "from plotly.subplots import make_subplots\n",
    "import plotly.graph_objects as go\n",
    "import plotly.express as px"
   ]
  },
  {
   "cell_type": "code",
   "execution_count": 2,
   "id": "5e298746",
   "metadata": {},
   "outputs": [
    {
     "name": "stdout",
     "output_type": "stream",
     "text": [
      "Directories:\n",
      " train_trials=100|baselinerate=10|behaviour_sigma=1.0\n",
      " train_trials=100|baselinerate=15|behaviour_sigma=1.0\n",
      " train_trials=50|baselinerate=5|behaviour_sigma=2.0\n",
      " train_trials=200|baselinerate=15|behaviour_sigma=1.0\n",
      " train_trials=100|baselinerate=10|behaviour_sigma=2.0\n",
      " train_trials=200|baselinerate=10|behaviour_sigma=2.0\n",
      " train_trials=50|baselinerate=10|behaviour_sigma=0.5\n",
      " train_trials=200|baselinerate=5|behaviour_sigma=2.0\n",
      " train_trials=200|baselinerate=10|behaviour_sigma=0.5\n",
      " train_trials=100|baselinerate=5|behaviour_sigma=1.0\n",
      " train_trials=50|baselinerate=10|behaviour_sigma=2.0\n",
      " train_trials=100|baselinerate=15|behaviour_sigma=2.0\n",
      " train_trials=100|baselinerate=15|behaviour_sigma=0.5\n",
      " train_trials=200|baselinerate=10|behaviour_sigma=1.0\n",
      " train_trials=200|baselinerate=5|behaviour_sigma=0.5\n",
      " train_trials=100|baselinerate=5|behaviour_sigma=0.5\n",
      " train_trials=100|baselinerate=5|behaviour_sigma=2.0\n",
      " train_trials=50|baselinerate=15|behaviour_sigma=0.5\n",
      " train_trials=200|baselinerate=15|behaviour_sigma=0.5\n",
      " train_trials=200|baselinerate=15|behaviour_sigma=2.0\n",
      " train_trials=50|baselinerate=15|behaviour_sigma=1.0\n",
      " train_trials=50|baselinerate=15|behaviour_sigma=2.0\n",
      " train_trials=100|baselinerate=10|behaviour_sigma=0.5\n",
      " train_trials=50|baselinerate=5|behaviour_sigma=0.5\n",
      " train_trials=200|baselinerate=5|behaviour_sigma=1.0\n",
      " train_trials=50|baselinerate=10|behaviour_sigma=1.0\n",
      " train_trials=50|baselinerate=5|behaviour_sigma=1.0\n"
     ]
    }
   ],
   "source": [
    "grid_dir = '../latentneural/data/storage/lorenz/grid'\n",
    "subdirs = list(os.walk(grid_dir))[0][1]\n",
    "print('Directories:\\n', '\\n '.join(subdirs))"
   ]
  },
  {
   "cell_type": "markdown",
   "id": "91408031",
   "metadata": {},
   "source": [
    "## Old LFADS Implementation"
   ]
  },
  {
   "cell_type": "code",
   "execution_count": 3,
   "id": "259e7314",
   "metadata": {},
   "outputs": [
    {
     "name": "stdout",
     "output_type": "stream",
     "text": [
      "{'train_trials=100|baselinerate=10|behaviour_sigma=1.0': {'test': {'latent_r2': 0.881334133840644,\n",
      "                                                                   'neural_likelihood': 1186.8332918701171},\n",
      "                                                          'train': {'latent_r2': 0.9570005916059897,\n",
      "                                                                    'neural_likelihood': 1161.9935009765625},\n",
      "                                                          'validation': {'latent_r2': 0.8930675359436979,\n",
      "                                                                         'neural_likelihood': 1169.861806640625}},\n",
      " 'train_trials=100|baselinerate=10|behaviour_sigma=2.0': {'test': {'latent_r2': 0.8824828878780975,\n",
      "                                                                   'neural_likelihood': 1190.2368182373048},\n",
      "                                                          'train': {'latent_r2': 0.9596548173466684,\n",
      "                                                                    'neural_likelihood': 1179.4283111572265},\n",
      "                                                          'validation': {'latent_r2': 0.8845768773502748,\n",
      "                                                                         'neural_likelihood': 1192.60384765625}},\n",
      " 'train_trials=100|baselinerate=15|behaviour_sigma=0.5': {'test': {'latent_r2': 0.8927127439927164,\n",
      "                                                                   'neural_likelihood': 1532.1918310546876},\n",
      "                                                          'train': {'latent_r2': 0.9776465977136986,\n",
      "                                                                    'neural_likelihood': 1465.7047058105468},\n",
      "                                                          'validation': {'latent_r2': 0.9005302888162084,\n",
      "                                                                         'neural_likelihood': 1504.7451672363281}},\n",
      " 'train_trials=100|baselinerate=15|behaviour_sigma=1.0': {'test': {'latent_r2': 0.920196827839439,\n",
      "                                                                   'neural_likelihood': 1524.1455076904297},\n",
      "                                                          'train': {'latent_r2': 0.9805965156793924,\n",
      "                                                                    'neural_likelihood': 1491.1723461914062},\n",
      "                                                          'validation': {'latent_r2': 0.9127192066005402,\n",
      "                                                                         'neural_likelihood': 1527.9928308105468}},\n",
      " 'train_trials=100|baselinerate=15|behaviour_sigma=2.0': {'test': {'latent_r2': 0.9093596496135333,\n",
      "                                                                   'neural_likelihood': 1555.750100341797},\n",
      "                                                          'train': {'latent_r2': 0.9787321323728397,\n",
      "                                                                    'neural_likelihood': 1492.4664697265625},\n",
      "                                                          'validation': {'latent_r2': 0.9152840360767197,\n",
      "                                                                         'neural_likelihood': 1547.3028955078125}},\n",
      " 'train_trials=100|baselinerate=5|behaviour_sigma=0.5': {'test': {'latent_r2': 0.6542917594898268,\n",
      "                                                                  'neural_likelihood': 760.2524998168946},\n",
      "                                                         'train': {'latent_r2': 0.6907769009192584,\n",
      "                                                                   'neural_likelihood': 743.7037567138672},\n",
      "                                                         'validation': {'latent_r2': 0.6537758960227545,\n",
      "                                                                        'neural_likelihood': 757.7089117431641}},\n",
      " 'train_trials=100|baselinerate=5|behaviour_sigma=1.0': {'test': {'latent_r2': 0.8544446524084677,\n",
      "                                                                  'neural_likelihood': 759.2157068481446},\n",
      "                                                         'train': {'latent_r2': 0.9277611419169558,\n",
      "                                                                   'neural_likelihood': 731.5096966552734},\n",
      "                                                         'validation': {'latent_r2': 0.8546915602664776,\n",
      "                                                                        'neural_likelihood': 757.8383477783203}},\n",
      " 'train_trials=100|baselinerate=5|behaviour_sigma=2.0': {'test': {'latent_r2': 0.7315769325803372,\n",
      "                                                                  'neural_likelihood': 754.333716796875},\n",
      "                                                         'train': {'latent_r2': 0.7755970861328055,\n",
      "                                                                   'neural_likelihood': 745.2588653564453},\n",
      "                                                         'validation': {'latent_r2': 0.7088347680467224,\n",
      "                                                                        'neural_likelihood': 750.3643560791015}},\n",
      " 'train_trials=200|baselinerate=10|behaviour_sigma=0.5': {'test': {'latent_r2': 0.9473283855321234,\n",
      "                                                                   'neural_likelihood': 1168.889768005371},\n",
      "                                                          'train': {'latent_r2': 0.9737734194557364,\n",
      "                                                                    'neural_likelihood': 1170.7288717651368},\n",
      "                                                          'validation': {'latent_r2': 0.9435481232123528,\n",
      "                                                                         'neural_likelihood': 1159.2446408081055}},\n",
      " 'train_trials=200|baselinerate=10|behaviour_sigma=1.0': {'test': {'latent_r2': 0.956563872155642,\n",
      "                                                                   'neural_likelihood': 1181.2531486816406},\n",
      "                                                          'train': {'latent_r2': 0.977614987992477,\n",
      "                                                                    'neural_likelihood': 1166.4976812744142},\n",
      "                                                          'validation': {'latent_r2': 0.9521907001683763,\n",
      "                                                                         'neural_likelihood': 1181.3595190429687}},\n",
      " 'train_trials=200|baselinerate=10|behaviour_sigma=2.0': {'test': {'latent_r2': 0.9445253061310473,\n",
      "                                                                   'neural_likelihood': 1191.8492061157226},\n",
      "                                                          'train': {'latent_r2': 0.9745144683743405,\n",
      "                                                                    'neural_likelihood': 1182.3970303344727},\n",
      "                                                          'validation': {'latent_r2': 0.9468198738781309,\n",
      "                                                                         'neural_likelihood': 1189.3123724365234}},\n",
      " 'train_trials=200|baselinerate=15|behaviour_sigma=0.5': {'test': {'latent_r2': 0.9578789011189476,\n",
      "                                                                   'neural_likelihood': 1528.2217153320312},\n",
      "                                                          'train': {'latent_r2': 0.9818823367773741,\n",
      "                                                                    'neural_likelihood': 1526.9804650878907},\n",
      "                                                          'validation': {'latent_r2': 0.9595821556633239,\n",
      "                                                                         'neural_likelihood': 1524.9385723876953}},\n",
      " 'train_trials=200|baselinerate=15|behaviour_sigma=1.0': {'test': {'latent_r2': 0.9655547133285947,\n",
      "                                                                   'neural_likelihood': 1527.290138305664},\n",
      "                                                          'train': {'latent_r2': 0.9866542665304654,\n",
      "                                                                    'neural_likelihood': 1525.147164916992},\n",
      "                                                          'validation': {'latent_r2': 0.9644668073578969,\n",
      "                                                                         'neural_likelihood': 1527.950933227539}},\n",
      " 'train_trials=200|baselinerate=15|behaviour_sigma=2.0': {'test': {'latent_r2': 0.9642894763550367,\n",
      "                                                                   'neural_likelihood': 1540.7617385253907},\n",
      "                                                          'train': {'latent_r2': 0.9862433549802377,\n",
      "                                                                    'neural_likelihood': 1523.840653076172},\n",
      "                                                          'validation': {'latent_r2': 0.96314257755358,\n",
      "                                                                         'neural_likelihood': 1544.2471795654296}},\n",
      " 'train_trials=200|baselinerate=5|behaviour_sigma=0.5': {'test': {'latent_r2': 0.9273250927682338,\n",
      "                                                                  'neural_likelihood': 734.0224219360351},\n",
      "                                                         'train': {'latent_r2': 0.9443018456267817,\n",
      "                                                                   'neural_likelihood': 724.5954208374023},\n",
      "                                                         'validation': {'latent_r2': 0.9249200889675575,\n",
      "                                                                        'neural_likelihood': 729.5386279296876}},\n",
      " 'train_trials=200|baselinerate=5|behaviour_sigma=1.0': {'test': {'latent_r2': 0.7306457573598345,\n",
      "                                                                  'neural_likelihood': 758.7997730712891},\n",
      "                                                         'train': {'latent_r2': 0.7445130703536018,\n",
      "                                                                   'neural_likelihood': 750.2495724487304},\n",
      "                                                         'validation': {'latent_r2': 0.7229181188629087,\n",
      "                                                                        'neural_likelihood': 760.8974258422852}},\n",
      " 'train_trials=200|baselinerate=5|behaviour_sigma=2.0': {'test': {'latent_r2': 0.8233338246015489,\n",
      "                                                                  'neural_likelihood': 754.9375088500976},\n",
      "                                                         'train': {'latent_r2': 0.8464444408020635,\n",
      "                                                                   'neural_likelihood': 756.3615124511718},\n",
      "                                                         'validation': {'latent_r2': 0.843677555518896,\n",
      "                                                                        'neural_likelihood': 763.5129318237305}},\n",
      " 'train_trials=50|baselinerate=10|behaviour_sigma=0.5': {'test': {'latent_r2': 0.782543383131377,\n",
      "                                                                  'neural_likelihood': 1228.0525827636718},\n",
      "                                                         'train': {'latent_r2': 0.9377412396310945,\n",
      "                                                                   'neural_likelihood': 1197.2562390136718},\n",
      "                                                         'validation': {'latent_r2': 0.7353139919732965,\n",
      "                                                                        'neural_likelihood': 1215.647977294922}},\n",
      " 'train_trials=50|baselinerate=10|behaviour_sigma=1.0': {'test': {'latent_r2': 0.7871149001356945,\n",
      "                                                                  'neural_likelihood': 1224.2385633544923},\n",
      "                                                         'train': {'latent_r2': 0.9418162463665567,\n",
      "                                                                   'neural_likelihood': 1190.7249536132813},\n",
      "                                                         'validation': {'latent_r2': 0.7936192068514089,\n",
      "                                                                        'neural_likelihood': 1237.436015625}},\n",
      " 'train_trials=50|baselinerate=10|behaviour_sigma=2.0': {'test': {'latent_r2': 0.8189276859972827,\n",
      "                                                                  'neural_likelihood': 1211.0376229248047},\n",
      "                                                         'train': {'latent_r2': 0.941029011313221,\n",
      "                                                                   'neural_likelihood': 1176.3767456054688},\n",
      "                                                         'validation': {'latent_r2': 0.8047193187874402,\n",
      "                                                                        'neural_likelihood': 1194.6696313476561}},\n",
      " 'train_trials=50|baselinerate=15|behaviour_sigma=0.5': {'test': {'latent_r2': 0.8477032146531809,\n",
      "                                                                  'neural_likelihood': 1581.7280960693358},\n",
      "                                                         'train': {'latent_r2': 0.9677344200017124,\n",
      "                                                                   'neural_likelihood': 1543.1343383789062},\n",
      "                                                         'validation': {'latent_r2': 0.8671949334276428,\n",
      "                                                                        'neural_likelihood': 1538.0692260742187}},\n",
      " 'train_trials=50|baselinerate=15|behaviour_sigma=1.0': {'test': {'latent_r2': 0.8341909632588747,\n",
      "                                                                  'neural_likelihood': 1595.724064453125},\n",
      "                                                         'train': {'latent_r2': 0.9708431162376143,\n",
      "                                                                   'neural_likelihood': 1537.4977758789062},\n",
      "                                                         'validation': {'latent_r2': 0.8468690153447314,\n",
      "                                                                        'neural_likelihood': 1554.3763598632813}},\n",
      " 'train_trials=50|baselinerate=15|behaviour_sigma=2.0': {'test': {'latent_r2': 0.8177676797116792,\n",
      "                                                                  'neural_likelihood': 1587.0565804443359},\n",
      "                                                         'train': {'latent_r2': 0.967922107722339,\n",
      "                                                                   'neural_likelihood': 1522.22068359375},\n",
      "                                                         'validation': {'latent_r2': 0.8038043285433216,\n",
      "                                                                        'neural_likelihood': 1585.8041870117188}},\n",
      " 'train_trials=50|baselinerate=5|behaviour_sigma=0.5': {'test': {'latent_r2': 0.536083513159191,\n",
      "                                                                 'neural_likelihood': 784.6400449829101},\n",
      "                                                        'train': {'latent_r2': 0.6007521504167066,\n",
      "                                                                  'neural_likelihood': 756.2833996582032},\n",
      "                                                        'validation': {'latent_r2': 0.5196026231263629,\n",
      "                                                                       'neural_likelihood': 794.083837890625}},\n",
      " 'train_trials=50|baselinerate=5|behaviour_sigma=1.0': {'test': {'latent_r2': 0.6238831568204636,\n",
      "                                                                 'neural_likelihood': 771.2958394775391},\n",
      "                                                        'train': {'latent_r2': 0.6827188427142421,\n",
      "                                                                  'neural_likelihood': 755.8917114257813},\n",
      "                                                        'validation': {'latent_r2': 0.5864978583843123,\n",
      "                                                                       'neural_likelihood': 760.9063049316406}},\n",
      " 'train_trials=50|baselinerate=5|behaviour_sigma=2.0': {'test': {'latent_r2': 0.639788364038453,\n",
      "                                                                 'neural_likelihood': 751.5518990478515},\n",
      "                                                        'train': {'latent_r2': 0.8489000274429698,\n",
      "                                                                  'neural_likelihood': 729.9855444335938},\n",
      "                                                        'validation': {'latent_r2': 0.6396372726921253,\n",
      "                                                                       'neural_likelihood': 751.292265625}}}\n"
     ]
    }
   ],
   "source": [
    "datasets = [('train', 'train'), ('valid', 'validation'), ('test', 'test')]\n",
    "old_stats = {}\n",
    "\n",
    "for subdir in subdirs:\n",
    "    subdir_stats = {}\n",
    "    ground_truth_file = h5py.File(os.path.join(grid_dir,\n",
    "                                  subdir,\n",
    "                                  'dataset.h5'), 'r')\n",
    "    ridge_model = None\n",
    "    for dataset_old, dataset in datasets:\n",
    "        filename = os.path.join(grid_dir,\n",
    "                                      subdir, \n",
    "                                      'results_old', \n",
    "                                      'model_runs__%s_posterior_sample_and_average' % (\n",
    "                                      dataset_old))\n",
    "        if not os.path.isfile(filename):\n",
    "            continue\n",
    "        file = h5py.File(filename, 'r')\n",
    "        subdir_stats[dataset] = {}\n",
    "        subdir_stats[dataset]['neural_likelihood'] = np.mean(file['nll_bound_vaes'])\n",
    "        factors = np.asarray(file['factors'])\n",
    "        latent = np.asarray(ground_truth_file['%s_latent' % (dataset_old)])\n",
    "    \n",
    "        z_unsrt = factors.T.reshape(factors.T.shape[0], factors.T.shape[1] * factors.T.shape[2]).T\n",
    "        l = latent.T.reshape(latent.T.shape[0], latent.T.shape[1] * latent.T.shape[2]).T\n",
    "        if ridge_model is None:\n",
    "            ridge_model = Ridge(alpha=1.0)\n",
    "            ridge_model.fit(z_unsrt, l)\n",
    "        z_srt = ridge_model.predict(z_unsrt)\n",
    "        unexplained_error = tf.reduce_sum(tf.square(l - z_srt)).numpy()\n",
    "        total_error = tf.reduce_sum(tf.square(l - tf.reduce_mean(l, axis=[0,1]))).numpy()\n",
    "        l_r2 = 1 - (unexplained_error / (total_error + 1e-10))\n",
    "        subdir_stats[dataset]['latent_r2'] = l_r2\n",
    "    old_stats[subdir] = subdir_stats\n",
    "\n",
    "old_stats = {k: v for k, v in old_stats.items() if v}\n",
    "pprint(old_stats)"
   ]
  },
  {
   "cell_type": "markdown",
   "id": "6a7c20e9",
   "metadata": {},
   "source": [
    "## New LFADS Implementation"
   ]
  },
  {
   "cell_type": "code",
   "execution_count": 4,
   "id": "4c34ed41",
   "metadata": {},
   "outputs": [
    {
     "name": "stdout",
     "output_type": "stream",
     "text": [
      "{'train_trials=100|baselinerate=10|behaviour_sigma=0.5': {'test': {'latent_r2': 0.8879356573708733,\n",
      "                                                                   'neural_likelihood': 1183.438875},\n",
      "                                                          'train': {'latent_r2': 0.9490857735287141,\n",
      "                                                                    'neural_likelihood': 1168.5303125},\n",
      "                                                          'validation': {'latent_r2': 0.8903667178487057,\n",
      "                                                                         'neural_likelihood': 1177.4709375}},\n",
      " 'train_trials=100|baselinerate=10|behaviour_sigma=1.0': {'test': {'latent_r2': 0.8811049145479947,\n",
      "                                                                   'neural_likelihood': 1169.594875},\n",
      "                                                          'train': {'latent_r2': 0.9525819534639263,\n",
      "                                                                    'neural_likelihood': 1148.1175},\n",
      "                                                          'validation': {'latent_r2': 0.8760134496074328,\n",
      "                                                                         'neural_likelihood': 1156.05078125}},\n",
      " 'train_trials=100|baselinerate=10|behaviour_sigma=2.0': {'test': {'latent_r2': 0.8655432458975207,\n",
      "                                                                   'neural_likelihood': 1178.82675},\n",
      "                                                          'train': {'latent_r2': 0.9407084074867105,\n",
      "                                                                    'neural_likelihood': 1168.8328125},\n",
      "                                                          'validation': {'latent_r2': 0.8720136903754505,\n",
      "                                                                         'neural_likelihood': 1181.2909375}},\n",
      " 'train_trials=100|baselinerate=15|behaviour_sigma=0.5': {'test': {'latent_r2': 0.8546658396167387,\n",
      "                                                                   'neural_likelihood': 1520.07225},\n",
      "                                                          'train': {'latent_r2': 0.9460357165194043,\n",
      "                                                                    'neural_likelihood': 1455.4565625},\n",
      "                                                          'validation': {'latent_r2': 0.8418241389779623,\n",
      "                                                                         'neural_likelihood': 1499.546875}},\n",
      " 'train_trials=100|baselinerate=15|behaviour_sigma=1.0': {'test': {'latent_r2': 0.899275505032403,\n",
      "                                                                   'neural_likelihood': 1512.481875},\n",
      "                                                          'train': {'latent_r2': 0.9633408539794946,\n",
      "                                                                    'neural_likelihood': 1483.7496875},\n",
      "                                                          'validation': {'latent_r2': 0.9085614839818642,\n",
      "                                                                         'neural_likelihood': 1511.6409375}},\n",
      " 'train_trials=100|baselinerate=15|behaviour_sigma=2.0': {'test': {'latent_r2': 0.8588562475675067,\n",
      "                                                                   'neural_likelihood': 1549.4795},\n",
      "                                                          'train': {'latent_r2': 0.9447125690804045,\n",
      "                                                                    'neural_likelihood': 1487.7034375},\n",
      "                                                          'validation': {'latent_r2': 0.8755540848536321,\n",
      "                                                                         'neural_likelihood': 1536.81}},\n",
      " 'train_trials=100|baselinerate=5|behaviour_sigma=0.5': {'test': {'latent_r2': 0.870329246384584,\n",
      "                                                                  'neural_likelihood': 738.25225},\n",
      "                                                         'train': {'latent_r2': 0.9230828186968715,\n",
      "                                                                   'neural_likelihood': 723.48796875},\n",
      "                                                         'validation': {'latent_r2': 0.8805386280541043,\n",
      "                                                                        'neural_likelihood': 734.637734375}},\n",
      " 'train_trials=100|baselinerate=5|behaviour_sigma=1.0': {'test': {'latent_r2': 0.8688017273587963,\n",
      "                                                                  'neural_likelihood': 745.0575625},\n",
      "                                                         'train': {'latent_r2': 0.927706443496806,\n",
      "                                                                   'neural_likelihood': 718.14875},\n",
      "                                                         'validation': {'latent_r2': 0.8721324740666903,\n",
      "                                                                        'neural_likelihood': 743.5825}},\n",
      " 'train_trials=100|baselinerate=5|behaviour_sigma=2.0': {'test': {'latent_r2': 0.8545829805327966,\n",
      "                                                                  'neural_likelihood': 737.1615625},\n",
      "                                                         'train': {'latent_r2': 0.9345867372167322,\n",
      "                                                                   'neural_likelihood': 723.3303125},\n",
      "                                                         'validation': {'latent_r2': 0.8384224464864277,\n",
      "                                                                        'neural_likelihood': 732.2584375}},\n",
      " 'train_trials=200|baselinerate=10|behaviour_sigma=0.5': {'test': {'latent_r2': 0.922606299228625,\n",
      "                                                                   'neural_likelihood': 1161.619625},\n",
      "                                                          'train': {'latent_r2': 0.9546933538382314,\n",
      "                                                                    'neural_likelihood': 1162.480625},\n",
      "                                                          'validation': {'latent_r2': 0.9189100018229726,\n",
      "                                                                         'neural_likelihood': 1151.34453125}},\n",
      " 'train_trials=200|baselinerate=10|behaviour_sigma=1.0': {'test': {'latent_r2': 0.9214663512010995,\n",
      "                                                                   'neural_likelihood': 1174.351125},\n",
      "                                                          'train': {'latent_r2': 0.9406205510392197,\n",
      "                                                                    'neural_likelihood': 1160.454375},\n",
      "                                                          'validation': {'latent_r2': 0.9141657587201448,\n",
      "                                                                         'neural_likelihood': 1174.9325}},\n",
      " 'train_trials=200|baselinerate=10|behaviour_sigma=2.0': {'test': {'latent_r2': 0.9018643453481081,\n",
      "                                                                   'neural_likelihood': 1183.841125},\n",
      "                                                          'train': {'latent_r2': 0.9341212895614344,\n",
      "                                                                    'neural_likelihood': 1175.783671875},\n",
      "                                                          'validation': {'latent_r2': 0.9021911459701333,\n",
      "                                                                         'neural_likelihood': 1181.200703125}},\n",
      " 'train_trials=200|baselinerate=15|behaviour_sigma=0.5': {'test': {'latent_r2': 0.9081288699779552,\n",
      "                                                                   'neural_likelihood': 1522.8625},\n",
      "                                                          'train': {'latent_r2': 0.9385004281935305,\n",
      "                                                                    'neural_likelihood': 1520.42234375},\n",
      "                                                          'validation': {'latent_r2': 0.9162742641889722,\n",
      "                                                                         'neural_likelihood': 1519.79}},\n",
      " 'train_trials=200|baselinerate=15|behaviour_sigma=1.0': {'test': {'latent_r2': 0.9145925193079163,\n",
      "                                                                   'neural_likelihood': 1527.005},\n",
      "                                                          'train': {'latent_r2': 0.9372370422971458,\n",
      "                                                                    'neural_likelihood': 1526.07671875},\n",
      "                                                          'validation': {'latent_r2': 0.9095620359549759,\n",
      "                                                                         'neural_likelihood': 1529.9246875}},\n",
      " 'train_trials=200|baselinerate=15|behaviour_sigma=2.0': {'test': {'latent_r2': 0.9112121334173031,\n",
      "                                                                   'neural_likelihood': 1537.4605},\n",
      "                                                          'train': {'latent_r2': 0.9513841213942951,\n",
      "                                                                    'neural_likelihood': 1518.3971875},\n",
      "                                                          'validation': {'latent_r2': 0.8941450411698687,\n",
      "                                                                         'neural_likelihood': 1543.35}},\n",
      " 'train_trials=200|baselinerate=5|behaviour_sigma=0.5': {'test': {'latent_r2': 0.9039152906276778,\n",
      "                                                                  'neural_likelihood': 726.8019375},\n",
      "                                                         'train': {'latent_r2': 0.9405332415115694,\n",
      "                                                                   'neural_likelihood': 715.804609375},\n",
      "                                                         'validation': {'latent_r2': 0.9058971588148589,\n",
      "                                                                        'neural_likelihood': 722.166875}},\n",
      " 'train_trials=200|baselinerate=5|behaviour_sigma=1.0': {'test': {'latent_r2': 0.870246296727909,\n",
      "                                                                  'neural_likelihood': 741.751375},\n",
      "                                                         'train': {'latent_r2': 0.9195751360849302,\n",
      "                                                                   'neural_likelihood': 730.781484375},\n",
      "                                                         'validation': {'latent_r2': 0.8587553426585923,\n",
      "                                                                        'neural_likelihood': 744.607890625}},\n",
      " 'train_trials=200|baselinerate=5|behaviour_sigma=2.0': {'test': {'latent_r2': 0.8893347381697271,\n",
      "                                                                  'neural_likelihood': 739.5129375},\n",
      "                                                         'train': {'latent_r2': 0.9222852850240055,\n",
      "                                                                   'neural_likelihood': 739.16546875},\n",
      "                                                         'validation': {'latent_r2': 0.9062060796327677,\n",
      "                                                                        'neural_likelihood': 747.476796875}},\n",
      " 'train_trials=50|baselinerate=10|behaviour_sigma=0.5': {'test': {'latent_r2': 0.751798034009318,\n",
      "                                                                  'neural_likelihood': 1212.58575},\n",
      "                                                         'train': {'latent_r2': 0.9386564327153533,\n",
      "                                                                   'neural_likelihood': 1172.921796875},\n",
      "                                                         'validation': {'latent_r2': 0.7409496092716334,\n",
      "                                                                        'neural_likelihood': 1196.894140625}},\n",
      " 'train_trials=50|baselinerate=10|behaviour_sigma=1.0': {'test': {'latent_r2': 0.8076243029940362,\n",
      "                                                                  'neural_likelihood': 1199.029375},\n",
      "                                                         'train': {'latent_r2': 0.937693026274449,\n",
      "                                                                   'neural_likelihood': 1172.01984375},\n",
      "                                                         'validation': {'latent_r2': 0.7920984117885408,\n",
      "                                                                        'neural_likelihood': 1214.838515625}},\n",
      " 'train_trials=50|baselinerate=10|behaviour_sigma=2.0': {'test': {'latent_r2': 0.7290066516679183,\n",
      "                                                                  'neural_likelihood': 1208.00075},\n",
      "                                                         'train': {'latent_r2': 0.9349123137703741,\n",
      "                                                                   'neural_likelihood': 1157.4490625},\n",
      "                                                         'validation': {'latent_r2': 0.7696347687366647,\n",
      "                                                                        'neural_likelihood': 1183.34203125}},\n",
      " 'train_trials=50|baselinerate=15|behaviour_sigma=0.5': {'test': {'latent_r2': 0.7632553839023427,\n",
      "                                                                  'neural_likelihood': 1579.777625},\n",
      "                                                         'train': {'latent_r2': 0.9432919999390298,\n",
      "                                                                   'neural_likelihood': 1530.2996875},\n",
      "                                                         'validation': {'latent_r2': 0.8239152808716883,\n",
      "                                                                        'neural_likelihood': 1523.12421875}},\n",
      " 'train_trials=50|baselinerate=15|behaviour_sigma=1.0': {'test': {'latent_r2': 0.7713437914252949,\n",
      "                                                                  'neural_likelihood': 1594.41},\n",
      "                                                         'train': {'latent_r2': 0.9333088100578527,\n",
      "                                                                   'neural_likelihood': 1534.18984375},\n",
      "                                                         'validation': {'latent_r2': 0.7990773214222477,\n",
      "                                                                        'neural_likelihood': 1551.85921875}},\n",
      " 'train_trials=50|baselinerate=15|behaviour_sigma=2.0': {'test': {'latent_r2': 0.7272287986737014,\n",
      "                                                                  'neural_likelihood': 1582.2765},\n",
      "                                                         'train': {'latent_r2': 0.9598854746182858,\n",
      "                                                                   'neural_likelihood': 1512.106875},\n",
      "                                                         'validation': {'latent_r2': 0.6365849211742327,\n",
      "                                                                        'neural_likelihood': 1604.57203125}},\n",
      " 'train_trials=50|baselinerate=5|behaviour_sigma=0.5': {'test': {'latent_r2': 0.7944040417014016,\n",
      "                                                                 'neural_likelihood': 757.0926875},\n",
      "                                                        'train': {'latent_r2': 0.9116577579219787,\n",
      "                                                                  'neural_likelihood': 723.04484375},\n",
      "                                                        'validation': {'latent_r2': 0.7894043887008583,\n",
      "                                                                       'neural_likelihood': 766.8059375}},\n",
      " 'train_trials=50|baselinerate=5|behaviour_sigma=1.0': {'test': {'latent_r2': 0.7921274702402309,\n",
      "                                                                 'neural_likelihood': 743.6874375},\n",
      "                                                        'train': {'latent_r2': 0.8912378168222064,\n",
      "                                                                  'neural_likelihood': 720.66734375},\n",
      "                                                        'validation': {'latent_r2': 0.7860157304802081,\n",
      "                                                                       'neural_likelihood': 733.4471875}},\n",
      " 'train_trials=50|baselinerate=5|behaviour_sigma=2.0': {'test': {'latent_r2': 0.7025869140611734,\n",
      "                                                                 'neural_likelihood': 734.86475},\n",
      "                                                        'train': {'latent_r2': 0.8986015290597439,\n",
      "                                                                  'neural_likelihood': 706.463125},\n",
      "                                                        'validation': {'latent_r2': 0.6348673951604011,\n",
      "                                                                       'neural_likelihood': 741.270078125}}}\n"
     ]
    }
   ],
   "source": [
    "new_stats = {}\n",
    "setup = {}\n",
    "\n",
    "for subdir in subdirs:\n",
    "    try:\n",
    "        with open(os.path.join(grid_dir, subdir, 'results_lfads', 'performance.json'), 'r') as pfp:\n",
    "            perf_data = json.load(pfp)\n",
    "        new_stats[subdir] = {k: {vk: vv for vk, vv in v.items() if vv is not None} \n",
    "                             for k, v in perf_data.items()}\n",
    "    except BaseException as e:\n",
    "        pass\n",
    "\n",
    "    with open(os.path.join(grid_dir, subdir, 'results', 'metadata.json'), 'r') as mfp:\n",
    "        metadata = json.load(mfp)\n",
    "    setup[subdir] = {k: v for k, v in metadata.items() if v is not None}\n",
    "    \n",
    "pprint(new_stats)"
   ]
  },
  {
   "cell_type": "markdown",
   "id": "bcb72fa0",
   "metadata": {},
   "source": [
    "## TNDM"
   ]
  },
  {
   "cell_type": "code",
   "execution_count": 5,
   "id": "019c4220",
   "metadata": {},
   "outputs": [
    {
     "name": "stdout",
     "output_type": "stream",
     "text": [
      "{'train_trials=100|baselinerate=10|behaviour_sigma=0.5': {'test': {'behaviour_likelihood': 651.7413125,\n",
      "                                                                   'behaviour_r2': 0.8247305509254983,\n",
      "                                                                   'latent_r2': 0.9116964662203799,\n",
      "                                                                   'neural_likelihood': 1181.205875},\n",
      "                                                          'train': {'behaviour_likelihood': 650.3784765625,\n",
      "                                                                    'behaviour_r2': 0.8637416217842729,\n",
      "                                                                    'latent_r2': 0.9526801926318916,\n",
      "                                                                    'neural_likelihood': 1172.038125},\n",
      "                                                          'validation': {'behaviour_likelihood': 651.4899609375,\n",
      "                                                                         'behaviour_r2': 0.8311394844579917,\n",
      "                                                                         'latent_r2': 0.9122371925017704,\n",
      "                                                                         'neural_likelihood': 1175.39015625}},\n",
      " 'train_trials=100|baselinerate=10|behaviour_sigma=1.0': {'test': {'behaviour_likelihood': 665.0498125,\n",
      "                                                                   'behaviour_r2': 0.7420151100341428,\n",
      "                                                                   'latent_r2': 0.9015938417110338,\n",
      "                                                                   'neural_likelihood': 1168.341125},\n",
      "                                                          'train': {'behaviour_likelihood': 660.21796875,\n",
      "                                                                    'behaviour_r2': 0.7932019510933275,\n",
      "                                                                    'latent_r2': 0.9497201389398104,\n",
      "                                                                    'neural_likelihood': 1152.333046875},\n",
      "                                                          'validation': {'behaviour_likelihood': 664.374921875,\n",
      "                                                                         'behaviour_r2': 0.7553063539289684,\n",
      "                                                                         'latent_r2': 0.8942099339669903,\n",
      "                                                                         'neural_likelihood': 1154.2665625}},\n",
      " 'train_trials=100|baselinerate=10|behaviour_sigma=2.0': {'test': {'behaviour_likelihood': 700.8464375,\n",
      "                                                                   'behaviour_r2': 0.4492090708687304,\n",
      "                                                                   'latent_r2': 0.8987295896109249,\n",
      "                                                                   'neural_likelihood': 1175.569875},\n",
      "                                                          'train': {'behaviour_likelihood': 696.648984375,\n",
      "                                                                    'behaviour_r2': 0.48710257846821314,\n",
      "                                                                    'latent_r2': 0.9491685018176423,\n",
      "                                                                    'neural_likelihood': 1171.9284375},\n",
      "                                                          'validation': {'behaviour_likelihood': 700.619375,\n",
      "                                                                         'behaviour_r2': 0.4457169599060393,\n",
      "                                                                         'latent_r2': 0.90087235459151,\n",
      "                                                                         'neural_likelihood': 1178.513671875}},\n",
      " 'train_trials=100|baselinerate=15|behaviour_sigma=0.5': {'test': {'behaviour_likelihood': 654.0045625,\n",
      "                                                                   'behaviour_r2': 0.6687180361865144,\n",
      "                                                                   'latent_r2': 0.8894864815598751,\n",
      "                                                                   'neural_likelihood': 1513.834375},\n",
      "                                                          'train': {'behaviour_likelihood': 653.0305078125,\n",
      "                                                                    'behaviour_r2': 0.6905252773076225,\n",
      "                                                                    'latent_r2': 0.9416052339535548,\n",
      "                                                                    'neural_likelihood': 1460.955625},\n",
      "                                                          'validation': {'behaviour_likelihood': 653.875703125,\n",
      "                                                                         'behaviour_r2': 0.6627511335547092,\n",
      "                                                                         'latent_r2': 0.888432319635999,\n",
      "                                                                         'neural_likelihood': 1490.18359375}},\n",
      " 'train_trials=100|baselinerate=15|behaviour_sigma=1.0': {'test': {'behaviour_likelihood': 666.8971875,\n",
      "                                                                   'behaviour_r2': 0.7017707353528201,\n",
      "                                                                   'latent_r2': 0.9136742934883014,\n",
      "                                                                   'neural_likelihood': 1512.398875},\n",
      "                                                          'train': {'behaviour_likelihood': 663.370625,\n",
      "                                                                    'behaviour_r2': 0.748167001477661,\n",
      "                                                                    'latent_r2': 0.9578404966036261,\n",
      "                                                                    'neural_likelihood': 1489.36859375},\n",
      "                                                          'validation': {'behaviour_likelihood': 666.59890625,\n",
      "                                                                         'behaviour_r2': 0.7049237480079185,\n",
      "                                                                         'latent_r2': 0.9254892822805616,\n",
      "                                                                         'neural_likelihood': 1511.15125}},\n",
      " 'train_trials=100|baselinerate=15|behaviour_sigma=2.0': {'test': {'behaviour_likelihood': 704.872875,\n",
      "                                                                   'behaviour_r2': 0.47063566772736154,\n",
      "                                                                   'latent_r2': 0.8935412623603799,\n",
      "                                                                   'neural_likelihood': 1540.9615},\n",
      "                                                          'train': {'behaviour_likelihood': 702.293046875,\n",
      "                                                                    'behaviour_r2': 0.5156516055567588,\n",
      "                                                                    'latent_r2': 0.9466746139612909,\n",
      "                                                                    'neural_likelihood': 1492.7234375},\n",
      "                                                          'validation': {'behaviour_likelihood': 705.844921875,\n",
      "                                                                         'behaviour_r2': 0.4665072095386569,\n",
      "                                                                         'latent_r2': 0.8860707487798366,\n",
      "                                                                         'neural_likelihood': 1535.39671875}},\n",
      " 'train_trials=100|baselinerate=5|behaviour_sigma=0.5': {'test': {'behaviour_likelihood': 653.3905625,\n",
      "                                                                  'behaviour_r2': 0.8166947258611941,\n",
      "                                                                  'latent_r2': 0.8855201421623492,\n",
      "                                                                  'neural_likelihood': 737.6475625},\n",
      "                                                         'train': {'behaviour_likelihood': 650.442109375,\n",
      "                                                                   'behaviour_r2': 0.8765591154039754,\n",
      "                                                                   'latent_r2': 0.9259849639366837,\n",
      "                                                                   'neural_likelihood': 725.58421875},\n",
      "                                                         'validation': {'behaviour_likelihood': 653.4347265625,\n",
      "                                                                        'behaviour_r2': 0.8117049693472188,\n",
      "                                                                        'latent_r2': 0.8845402552824257,\n",
      "                                                                        'neural_likelihood': 734.77140625}},\n",
      " 'train_trials=100|baselinerate=5|behaviour_sigma=1.0': {'test': {'behaviour_likelihood': 665.3429375,\n",
      "                                                                  'behaviour_r2': 0.8011354167782001,\n",
      "                                                                  'latent_r2': 0.8805811979660134,\n",
      "                                                                  'neural_likelihood': 744.535375},\n",
      "                                                         'train': {'behaviour_likelihood': 659.082265625,\n",
      "                                                                   'behaviour_r2': 0.8524810401277518,\n",
      "                                                                   'latent_r2': 0.9454557239475465,\n",
      "                                                                   'neural_likelihood': 719.15484375},\n",
      "                                                         'validation': {'behaviour_likelihood': 666.767109375,\n",
      "                                                                        'behaviour_r2': 0.7828290292361874,\n",
      "                                                                        'latent_r2': 0.8681451045293759,\n",
      "                                                                        'neural_likelihood': 744.988359375}},\n",
      " 'train_trials=100|baselinerate=5|behaviour_sigma=2.0': {'test': {'behaviour_likelihood': 707.309,\n",
      "                                                                  'behaviour_r2': 0.6257837893588627,\n",
      "                                                                  'latent_r2': 0.887175915846553,\n",
      "                                                                  'neural_likelihood': 734.5865625},\n",
      "                                                         'train': {'behaviour_likelihood': 697.510703125,\n",
      "                                                                   'behaviour_r2': 0.6860051914323136,\n",
      "                                                                   'latent_r2': 0.9495587378850577,\n",
      "                                                                   'neural_likelihood': 725.116171875},\n",
      "                                                         'validation': {'behaviour_likelihood': 708.05703125,\n",
      "                                                                        'behaviour_r2': 0.6186281074695704,\n",
      "                                                                        'latent_r2': 0.8752445603132715,\n",
      "                                                                        'neural_likelihood': 729.92328125}},\n",
      " 'train_trials=200|baselinerate=10|behaviour_sigma=0.5': {'test': {'behaviour_likelihood': 653.9004375,\n",
      "                                                                   'behaviour_r2': 0.9033530172462518,\n",
      "                                                                   'latent_r2': 0.9343059459158014,\n",
      "                                                                   'neural_likelihood': 1162.11875},\n",
      "                                                          'train': {'behaviour_likelihood': 650.654375,\n",
      "                                                                    'behaviour_r2': 0.9361013193297059,\n",
      "                                                                    'latent_r2': 0.9618248797810331,\n",
      "                                                                    'neural_likelihood': 1164.713671875},\n",
      "                                                          'validation': {'behaviour_likelihood': 654.3383203125,\n",
      "                                                                         'behaviour_r2': 0.8965267157948039,\n",
      "                                                                         'latent_r2': 0.9294575224642144,\n",
      "                                                                         'neural_likelihood': 1152.095546875}},\n",
      " 'train_trials=200|baselinerate=10|behaviour_sigma=1.0': {'test': {'behaviour_likelihood': 661.95725,\n",
      "                                                                   'behaviour_r2': 0.8281355874860747,\n",
      "                                                                   'latent_r2': 0.939879300416024,\n",
      "                                                                   'neural_likelihood': 1173.34725},\n",
      "                                                          'train': {'behaviour_likelihood': 659.859296875,\n",
      "                                                                    'behaviour_r2': 0.8462765884461756,\n",
      "                                                                    'latent_r2': 0.95892269121899,\n",
      "                                                                    'neural_likelihood': 1160.8828125},\n",
      "                                                          'validation': {'behaviour_likelihood': 663.191796875,\n",
      "                                                                         'behaviour_r2': 0.8123907270219938,\n",
      "                                                                         'latent_r2': 0.9285307313422099,\n",
      "                                                                         'neural_likelihood': 1174.74828125}},\n",
      " 'train_trials=200|baselinerate=10|behaviour_sigma=2.0': {'test': {'behaviour_likelihood': 703.999375,\n",
      "                                                                   'behaviour_r2': 0.57606451818581,\n",
      "                                                                   'latent_r2': 0.9104582848260793,\n",
      "                                                                   'neural_likelihood': 1186.553875},\n",
      "                                                          'train': {'behaviour_likelihood': 699.605625,\n",
      "                                                                    'behaviour_r2': 0.6072670888679883,\n",
      "                                                                    'latent_r2': 0.9401958543001336,\n",
      "                                                                    'neural_likelihood': 1178.69515625},\n",
      "                                                          'validation': {'behaviour_likelihood': 703.38359375,\n",
      "                                                                         'behaviour_r2': 0.5842486638734872,\n",
      "                                                                         'latent_r2': 0.9121727162236659,\n",
      "                                                                         'neural_likelihood': 1184.461640625}},\n",
      " 'train_trials=200|baselinerate=15|behaviour_sigma=0.5': {'test': {'behaviour_likelihood': 651.3804375,\n",
      "                                                                   'behaviour_r2': 0.8312402213603791,\n",
      "                                                                   'latent_r2': 0.9186154202302798,\n",
      "                                                                   'neural_likelihood': 1524.68575},\n",
      "                                                          'train': {'behaviour_likelihood': 650.551640625,\n",
      "                                                                    'behaviour_r2': 0.8539360590350455,\n",
      "                                                                    'latent_r2': 0.9452639986050136,\n",
      "                                                                    'neural_likelihood': 1523.89265625},\n",
      "                                                          'validation': {'behaviour_likelihood': 651.316015625,\n",
      "                                                                         'behaviour_r2': 0.8341462024076014,\n",
      "                                                                         'latent_r2': 0.9218603862768628,\n",
      "                                                                         'neural_likelihood': 1522.3221875}},\n",
      " 'train_trials=200|baselinerate=15|behaviour_sigma=1.0': {'test': {'behaviour_likelihood': 662.178,\n",
      "                                                                   'behaviour_r2': 0.8205286122286688,\n",
      "                                                                   'latent_r2': 0.9371076109872722,\n",
      "                                                                   'neural_likelihood': 1526.629},\n",
      "                                                          'train': {'behaviour_likelihood': 659.686953125,\n",
      "                                                                    'behaviour_r2': 0.8504160530763817,\n",
      "                                                                    'latent_r2': 0.9621813461025892,\n",
      "                                                                    'neural_likelihood': 1525.08625},\n",
      "                                                          'validation': {'behaviour_likelihood': 662.179296875,\n",
      "                                                                         'behaviour_r2': 0.8205032215061246,\n",
      "                                                                         'latent_r2': 0.9357993405746066,\n",
      "                                                                         'neural_likelihood': 1528.7621875}},\n",
      " 'train_trials=200|baselinerate=15|behaviour_sigma=2.0': {'test': {'behaviour_likelihood': 702.538875,\n",
      "                                                                   'behaviour_r2': 0.6358403165545086,\n",
      "                                                                   'latent_r2': 0.9308795182612002,\n",
      "                                                                   'neural_likelihood': 1538.027875},\n",
      "                                                          'train': {'behaviour_likelihood': 699.321640625,\n",
      "                                                                    'behaviour_r2': 0.6502604315916302,\n",
      "                                                                    'latent_r2': 0.95728930450841,\n",
      "                                                                    'neural_likelihood': 1524.431875},\n",
      "                                                          'validation': {'behaviour_likelihood': 703.64546875,\n",
      "                                                                         'behaviour_r2': 0.6241422329874937,\n",
      "                                                                         'latent_r2': 0.9228157942613361,\n",
      "                                                                         'neural_likelihood': 1543.0153125}},\n",
      " 'train_trials=200|baselinerate=5|behaviour_sigma=0.5': {'test': {'behaviour_likelihood': 660.6003125,\n",
      "                                                                  'behaviour_r2': 0.8180653502329546,\n"
     ]
    },
    {
     "name": "stdout",
     "output_type": "stream",
     "text": [
      "                                                                  'latent_r2': 0.9012718450212005,\n",
      "                                                                  'neural_likelihood': 727.1775},\n",
      "                                                         'train': {'behaviour_likelihood': 657.18,\n",
      "                                                                   'behaviour_r2': 0.8534505896302351,\n",
      "                                                                   'latent_r2': 0.9357601298514421,\n",
      "                                                                   'neural_likelihood': 717.09875},\n",
      "                                                         'validation': {'behaviour_likelihood': 660.233359375,\n",
      "                                                                        'behaviour_r2': 0.8169937352194727,\n",
      "                                                                        'latent_r2': 0.8993987534582554,\n",
      "                                                                        'neural_likelihood': 722.85859375}},\n",
      " 'train_trials=200|baselinerate=5|behaviour_sigma=1.0': {'test': {'behaviour_likelihood': 664.79,\n",
      "                                                                  'behaviour_r2': 0.7175796679127557,\n",
      "                                                                  'latent_r2': 0.8723434665474082,\n",
      "                                                                  'neural_likelihood': 742.4634375},\n",
      "                                                         'train': {'behaviour_likelihood': 661.887734375,\n",
      "                                                                   'behaviour_r2': 0.771164148127066,\n",
      "                                                                   'latent_r2': 0.9150374348455819,\n",
      "                                                                   'neural_likelihood': 732.205625},\n",
      "                                                         'validation': {'behaviour_likelihood': 665.418515625,\n",
      "                                                                        'behaviour_r2': 0.7098599016931881,\n",
      "                                                                        'latent_r2': 0.864543312908382,\n",
      "                                                                        'neural_likelihood': 744.968671875}},\n",
      " 'train_trials=200|baselinerate=5|behaviour_sigma=2.0': {'test': {'behaviour_likelihood': 705.146625,\n",
      "                                                                  'behaviour_r2': 0.6263686287162025,\n",
      "                                                                  'latent_r2': 0.9008579999270614,\n",
      "                                                                  'neural_likelihood': 739.4815},\n",
      "                                                         'train': {'behaviour_likelihood': 698.680703125,\n",
      "                                                                   'behaviour_r2': 0.6744088324934969,\n",
      "                                                                   'latent_r2': 0.9356714535206863,\n",
      "                                                                   'neural_likelihood': 740.826328125},\n",
      "                                                         'validation': {'behaviour_likelihood': 703.679921875,\n",
      "                                                                        'behaviour_r2': 0.6442907110894448,\n",
      "                                                                        'latent_r2': 0.9155441176152666,\n",
      "                                                                        'neural_likelihood': 748.012578125}},\n",
      " 'train_trials=50|baselinerate=10|behaviour_sigma=0.5': {'test': {'behaviour_likelihood': 665.0539375,\n",
      "                                                                  'behaviour_r2': 0.8036812097674104,\n",
      "                                                                  'latent_r2': 0.874289621813073,\n",
      "                                                                  'neural_likelihood': 1197.743625},\n",
      "                                                         'train': {'behaviour_likelihood': 657.38078125,\n",
      "                                                                   'behaviour_r2': 0.8712684583291408,\n",
      "                                                                   'latent_r2': 0.9428148248122991,\n",
      "                                                                   'neural_likelihood': 1180.96484375},\n",
      "                                                         'validation': {'behaviour_likelihood': 668.2821875,\n",
      "                                                                        'behaviour_r2': 0.7692737500126082,\n",
      "                                                                        'latent_r2': 0.8410176042840559,\n",
      "                                                                        'neural_likelihood': 1185.666875}},\n",
      " 'train_trials=50|baselinerate=10|behaviour_sigma=1.0': {'test': {'behaviour_likelihood': 660.68225,\n",
      "                                                                  'behaviour_r2': 0.3872808959359364,\n",
      "                                                                  'latent_r2': 0.8418979513193627,\n",
      "                                                                  'neural_likelihood': 1192.319375},\n",
      "                                                         'train': {'behaviour_likelihood': 659.03171875,\n",
      "                                                                   'behaviour_r2': 0.45378317595827466,\n",
      "                                                                   'latent_r2': 0.9296564282296934,\n",
      "                                                                   'neural_likelihood': 1176.23984375},\n",
      "                                                         'validation': {'behaviour_likelihood': 660.90453125,\n",
      "                                                                        'behaviour_r2': 0.37859523798236683,\n",
      "                                                                        'latent_r2': 0.8476846904943534,\n",
      "                                                                        'neural_likelihood': 1203.194453125}},\n",
      " 'train_trials=50|baselinerate=10|behaviour_sigma=2.0': {'test': {'behaviour_likelihood': 727.613625,\n",
      "                                                                  'behaviour_r2': 0.7106610133447381,\n",
      "                                                                  'latent_r2': 0.8666617855976296,\n",
      "                                                                  'neural_likelihood': 1186.926375},\n",
      "                                                         'train': {'behaviour_likelihood': 699.242734375,\n",
      "                                                                   'behaviour_r2': 0.8163472501054522,\n",
      "                                                                   'latent_r2': 0.9624181494771494,\n",
      "                                                                   'neural_likelihood': 1164.380859375},\n",
      "                                                         'validation': {'behaviour_likelihood': 729.56984375,\n",
      "                                                                        'behaviour_r2': 0.7008108197816666,\n",
      "                                                                        'latent_r2': 0.8614890165572924,\n",
      "                                                                        'neural_likelihood': 1169.7009375}},\n",
      " 'train_trials=50|baselinerate=15|behaviour_sigma=0.5': {'test': {'behaviour_likelihood': 657.1584375,\n",
      "                                                                  'behaviour_r2': 0.8090903583436672,\n",
      "                                                                  'latent_r2': 0.8639720321148745,\n",
      "                                                                  'neural_likelihood': 1553.174},\n",
      "                                                         'train': {'behaviour_likelihood': 651.748046875,\n",
      "                                                                   'behaviour_r2': 0.8914620263537026,\n",
      "                                                                   'latent_r2': 0.9455267492262491,\n",
      "                                                                   'neural_likelihood': 1536.9075},\n",
      "                                                         'validation': {'behaviour_likelihood': 656.96203125,\n",
      "                                                                        'behaviour_r2': 0.8213097990925626,\n",
      "                                                                        'latent_r2': 0.8701099707163122,\n",
      "                                                                        'neural_likelihood': 1516.035625}},\n",
      " 'train_trials=50|baselinerate=15|behaviour_sigma=1.0': {'test': {'behaviour_likelihood': 675.5815,\n",
      "                                                                  'behaviour_r2': 0.7676194986265785,\n",
      "                                                                  'latent_r2': 0.8355726074198867,\n",
      "                                                                  'neural_likelihood': 1579.45475},\n",
      "                                                         'train': {'behaviour_likelihood': 663.8746875,\n",
      "                                                                   'behaviour_r2': 0.8584028517009215,\n",
      "                                                                   'latent_r2': 0.9422953414149678,\n",
      "                                                                   'neural_likelihood': 1544.144375},\n",
      "                                                         'validation': {'behaviour_likelihood': 675.3046875,\n",
      "                                                                        'behaviour_r2': 0.7468027525134925,\n",
      "                                                                        'latent_r2': 0.8530542878675831,\n",
      "                                                                        'neural_likelihood': 1540.0165625}},\n",
      " 'train_trials=50|baselinerate=15|behaviour_sigma=2.0': {'test': {'behaviour_likelihood': 709.1401875,\n",
      "                                                                  'behaviour_r2': 0.2512541659119254,\n",
      "                                                                  'latent_r2': 0.856734725790887,\n",
      "                                                                  'neural_likelihood': 1549.009375},\n",
      "                                                         'train': {'behaviour_likelihood': 706.572734375,\n",
      "                                                                   'behaviour_r2': 0.2678572323374335,\n",
      "                                                                   'latent_r2': 0.945949850903538,\n",
      "                                                                   'neural_likelihood': 1520.65578125},\n",
      "                                                         'validation': {'behaviour_likelihood': 708.563125,\n",
      "                                                                        'behaviour_r2': 0.22822117679273513,\n",
      "                                                                        'latent_r2': 0.8543935390599802,\n",
      "                                                                        'neural_likelihood': 1541.46703125}},\n",
      " 'train_trials=50|baselinerate=5|behaviour_sigma=0.5': {'test': {'behaviour_likelihood': 656.894375,\n",
      "                                                                 'behaviour_r2': 0.8127028803712639,\n",
      "                                                                 'latent_r2': 0.8426652296445636,\n",
      "                                                                 'neural_likelihood': 754.208375},\n",
      "                                                        'train': {'behaviour_likelihood': 651.4465234375,\n",
      "                                                                  'behaviour_r2': 0.894293898135797,\n",
      "                                                                  'latent_r2': 0.9160670755090172,\n",
      "                                                                  'neural_likelihood': 732.106796875},\n",
      "                                                        'validation': {'behaviour_likelihood': 655.878984375,\n",
      "                                                                       'behaviour_r2': 0.8162442982002512,\n",
      "                                                                       'latent_r2': 0.8474331797095761,\n",
      "                                                                       'neural_likelihood': 762.19328125}},\n",
      " 'train_trials=50|baselinerate=5|behaviour_sigma=1.0': {'test': {'behaviour_likelihood': 668.517875,\n",
      "                                                                 'behaviour_r2': 0.6621181057231282,\n",
      "                                                                 'latent_r2': 0.845018134294115,\n",
      "                                                                 'neural_likelihood': 741.236875},\n",
      "                                                        'train': {'behaviour_likelihood': 661.906015625,\n",
      "                                                                  'behaviour_r2': 0.7382624390675223,\n",
      "                                                                  'latent_r2': 0.9150799032124195,\n",
      "                                                                  'neural_likelihood': 727.83765625},\n",
      "                                                        'validation': {'behaviour_likelihood': 669.66890625,\n",
      "                                                                       'behaviour_r2': 0.6587674387873346,\n",
      "                                                                       'latent_r2': 0.8259869762975325,\n",
      "                                                                       'neural_likelihood': 731.6571875}},\n",
      " 'train_trials=50|baselinerate=5|behaviour_sigma=2.0': {'test': {'behaviour_likelihood': 704.6956875,\n",
      "                                                                 'behaviour_r2': 0.41026698546985174,\n",
      "                                                                 'latent_r2': 0.8480232054850836,\n",
      "                                                                 'neural_likelihood': 722.0770625},\n",
      "                                                        'train': {'behaviour_likelihood': 700.323359375,\n",
      "                                                                  'behaviour_r2': 0.4312818278804932,\n",
      "                                                                  'latent_r2': 0.9033457228067686,\n",
      "                                                                  'neural_likelihood': 713.564765625},\n",
      "                                                        'validation': {'behaviour_likelihood': 702.630078125,\n",
      "                                                                       'behaviour_r2': 0.42131162531970645,\n",
      "                                                                       'latent_r2': 0.8664275783896371,\n",
      "                                                                       'neural_likelihood': 721.0425}}}\n"
     ]
    }
   ],
   "source": [
    "tndm_stats = {}\n",
    "\n",
    "for subdir in subdirs:\n",
    "    try:\n",
    "        with open(os.path.join(grid_dir, subdir, 'results_tndm_long.21', 'performance.json'), 'r') as pfp:\n",
    "            perf_data = json.load(pfp)\n",
    "        tndm_stats[subdir] = {k: {vk: vv for vk, vv in v.items() if vv is not None} \n",
    "                             for k, v in perf_data.items()}\n",
    "    except BaseException as e:\n",
    "        pass\n",
    "    \n",
    "pprint(tndm_stats)"
   ]
  },
  {
   "cell_type": "markdown",
   "id": "de0fe6c2",
   "metadata": {},
   "source": [
    "## Plotting"
   ]
  },
  {
   "cell_type": "code",
   "execution_count": 6,
   "id": "54cba3bd",
   "metadata": {},
   "outputs": [
    {
     "data": {
      "text/html": [
       "<div>\n",
       "<style scoped>\n",
       "    .dataframe tbody tr th:only-of-type {\n",
       "        vertical-align: middle;\n",
       "    }\n",
       "\n",
       "    .dataframe tbody tr th {\n",
       "        vertical-align: top;\n",
       "    }\n",
       "\n",
       "    .dataframe thead th {\n",
       "        text-align: right;\n",
       "    }\n",
       "</style>\n",
       "<table border=\"1\" class=\"dataframe\">\n",
       "  <thead>\n",
       "    <tr style=\"text-align: right;\">\n",
       "      <th></th>\n",
       "      <th>trials</th>\n",
       "      <th>baseline_rate</th>\n",
       "      <th>behaviour_sigma</th>\n",
       "      <th>train_r2</th>\n",
       "      <th>train_likelihood</th>\n",
       "      <th>validation_r2</th>\n",
       "      <th>validation_likelihood</th>\n",
       "      <th>test_r2</th>\n",
       "      <th>test_likelihood</th>\n",
       "    </tr>\n",
       "  </thead>\n",
       "  <tbody>\n",
       "    <tr>\n",
       "      <th>train_trials=50|baselinerate=5|behaviour_sigma=0.5</th>\n",
       "      <td>50</td>\n",
       "      <td>5</td>\n",
       "      <td>0.5</td>\n",
       "      <td>0.916067</td>\n",
       "      <td>732.106797</td>\n",
       "      <td>0.847433</td>\n",
       "      <td>762.193281</td>\n",
       "      <td>0.842665</td>\n",
       "      <td>754.208375</td>\n",
       "    </tr>\n",
       "    <tr>\n",
       "      <th>train_trials=50|baselinerate=5|behaviour_sigma=1.0</th>\n",
       "      <td>50</td>\n",
       "      <td>5</td>\n",
       "      <td>1.0</td>\n",
       "      <td>0.915080</td>\n",
       "      <td>727.837656</td>\n",
       "      <td>0.825987</td>\n",
       "      <td>731.657187</td>\n",
       "      <td>0.845018</td>\n",
       "      <td>741.236875</td>\n",
       "    </tr>\n",
       "    <tr>\n",
       "      <th>train_trials=50|baselinerate=5|behaviour_sigma=2.0</th>\n",
       "      <td>50</td>\n",
       "      <td>5</td>\n",
       "      <td>2.0</td>\n",
       "      <td>0.903346</td>\n",
       "      <td>713.564766</td>\n",
       "      <td>0.866428</td>\n",
       "      <td>721.042500</td>\n",
       "      <td>0.848023</td>\n",
       "      <td>722.077063</td>\n",
       "    </tr>\n",
       "    <tr>\n",
       "      <th>train_trials=50|baselinerate=10|behaviour_sigma=0.5</th>\n",
       "      <td>50</td>\n",
       "      <td>10</td>\n",
       "      <td>0.5</td>\n",
       "      <td>0.942815</td>\n",
       "      <td>1180.964844</td>\n",
       "      <td>0.841018</td>\n",
       "      <td>1185.666875</td>\n",
       "      <td>0.874290</td>\n",
       "      <td>1197.743625</td>\n",
       "    </tr>\n",
       "    <tr>\n",
       "      <th>train_trials=50|baselinerate=10|behaviour_sigma=1.0</th>\n",
       "      <td>50</td>\n",
       "      <td>10</td>\n",
       "      <td>1.0</td>\n",
       "      <td>0.929656</td>\n",
       "      <td>1176.239844</td>\n",
       "      <td>0.847685</td>\n",
       "      <td>1203.194453</td>\n",
       "      <td>0.841898</td>\n",
       "      <td>1192.319375</td>\n",
       "    </tr>\n",
       "    <tr>\n",
       "      <th>train_trials=50|baselinerate=10|behaviour_sigma=2.0</th>\n",
       "      <td>50</td>\n",
       "      <td>10</td>\n",
       "      <td>2.0</td>\n",
       "      <td>0.962418</td>\n",
       "      <td>1164.380859</td>\n",
       "      <td>0.861489</td>\n",
       "      <td>1169.700938</td>\n",
       "      <td>0.866662</td>\n",
       "      <td>1186.926375</td>\n",
       "    </tr>\n",
       "    <tr>\n",
       "      <th>train_trials=50|baselinerate=15|behaviour_sigma=0.5</th>\n",
       "      <td>50</td>\n",
       "      <td>15</td>\n",
       "      <td>0.5</td>\n",
       "      <td>0.945527</td>\n",
       "      <td>1536.907500</td>\n",
       "      <td>0.870110</td>\n",
       "      <td>1516.035625</td>\n",
       "      <td>0.863972</td>\n",
       "      <td>1553.174000</td>\n",
       "    </tr>\n",
       "    <tr>\n",
       "      <th>train_trials=50|baselinerate=15|behaviour_sigma=1.0</th>\n",
       "      <td>50</td>\n",
       "      <td>15</td>\n",
       "      <td>1.0</td>\n",
       "      <td>0.942295</td>\n",
       "      <td>1544.144375</td>\n",
       "      <td>0.853054</td>\n",
       "      <td>1540.016562</td>\n",
       "      <td>0.835573</td>\n",
       "      <td>1579.454750</td>\n",
       "    </tr>\n",
       "    <tr>\n",
       "      <th>train_trials=50|baselinerate=15|behaviour_sigma=2.0</th>\n",
       "      <td>50</td>\n",
       "      <td>15</td>\n",
       "      <td>2.0</td>\n",
       "      <td>0.945950</td>\n",
       "      <td>1520.655781</td>\n",
       "      <td>0.854394</td>\n",
       "      <td>1541.467031</td>\n",
       "      <td>0.856735</td>\n",
       "      <td>1549.009375</td>\n",
       "    </tr>\n",
       "    <tr>\n",
       "      <th>train_trials=100|baselinerate=5|behaviour_sigma=0.5</th>\n",
       "      <td>100</td>\n",
       "      <td>5</td>\n",
       "      <td>0.5</td>\n",
       "      <td>0.925985</td>\n",
       "      <td>725.584219</td>\n",
       "      <td>0.884540</td>\n",
       "      <td>734.771406</td>\n",
       "      <td>0.885520</td>\n",
       "      <td>737.647563</td>\n",
       "    </tr>\n",
       "    <tr>\n",
       "      <th>train_trials=100|baselinerate=5|behaviour_sigma=1.0</th>\n",
       "      <td>100</td>\n",
       "      <td>5</td>\n",
       "      <td>1.0</td>\n",
       "      <td>0.945456</td>\n",
       "      <td>719.154844</td>\n",
       "      <td>0.868145</td>\n",
       "      <td>744.988359</td>\n",
       "      <td>0.880581</td>\n",
       "      <td>744.535375</td>\n",
       "    </tr>\n",
       "    <tr>\n",
       "      <th>train_trials=100|baselinerate=5|behaviour_sigma=2.0</th>\n",
       "      <td>100</td>\n",
       "      <td>5</td>\n",
       "      <td>2.0</td>\n",
       "      <td>0.949559</td>\n",
       "      <td>725.116172</td>\n",
       "      <td>0.875245</td>\n",
       "      <td>729.923281</td>\n",
       "      <td>0.887176</td>\n",
       "      <td>734.586563</td>\n",
       "    </tr>\n",
       "    <tr>\n",
       "      <th>train_trials=100|baselinerate=10|behaviour_sigma=0.5</th>\n",
       "      <td>100</td>\n",
       "      <td>10</td>\n",
       "      <td>0.5</td>\n",
       "      <td>0.952680</td>\n",
       "      <td>1172.038125</td>\n",
       "      <td>0.912237</td>\n",
       "      <td>1175.390156</td>\n",
       "      <td>0.911696</td>\n",
       "      <td>1181.205875</td>\n",
       "    </tr>\n",
       "    <tr>\n",
       "      <th>train_trials=100|baselinerate=10|behaviour_sigma=1.0</th>\n",
       "      <td>100</td>\n",
       "      <td>10</td>\n",
       "      <td>1.0</td>\n",
       "      <td>0.949720</td>\n",
       "      <td>1152.333047</td>\n",
       "      <td>0.894210</td>\n",
       "      <td>1154.266562</td>\n",
       "      <td>0.901594</td>\n",
       "      <td>1168.341125</td>\n",
       "    </tr>\n",
       "    <tr>\n",
       "      <th>train_trials=100|baselinerate=10|behaviour_sigma=2.0</th>\n",
       "      <td>100</td>\n",
       "      <td>10</td>\n",
       "      <td>2.0</td>\n",
       "      <td>0.949169</td>\n",
       "      <td>1171.928437</td>\n",
       "      <td>0.900872</td>\n",
       "      <td>1178.513672</td>\n",
       "      <td>0.898730</td>\n",
       "      <td>1175.569875</td>\n",
       "    </tr>\n",
       "    <tr>\n",
       "      <th>train_trials=100|baselinerate=15|behaviour_sigma=0.5</th>\n",
       "      <td>100</td>\n",
       "      <td>15</td>\n",
       "      <td>0.5</td>\n",
       "      <td>0.941605</td>\n",
       "      <td>1460.955625</td>\n",
       "      <td>0.888432</td>\n",
       "      <td>1490.183594</td>\n",
       "      <td>0.889486</td>\n",
       "      <td>1513.834375</td>\n",
       "    </tr>\n",
       "    <tr>\n",
       "      <th>train_trials=100|baselinerate=15|behaviour_sigma=1.0</th>\n",
       "      <td>100</td>\n",
       "      <td>15</td>\n",
       "      <td>1.0</td>\n",
       "      <td>0.957840</td>\n",
       "      <td>1489.368594</td>\n",
       "      <td>0.925489</td>\n",
       "      <td>1511.151250</td>\n",
       "      <td>0.913674</td>\n",
       "      <td>1512.398875</td>\n",
       "    </tr>\n",
       "    <tr>\n",
       "      <th>train_trials=100|baselinerate=15|behaviour_sigma=2.0</th>\n",
       "      <td>100</td>\n",
       "      <td>15</td>\n",
       "      <td>2.0</td>\n",
       "      <td>0.946675</td>\n",
       "      <td>1492.723438</td>\n",
       "      <td>0.886071</td>\n",
       "      <td>1535.396719</td>\n",
       "      <td>0.893541</td>\n",
       "      <td>1540.961500</td>\n",
       "    </tr>\n",
       "    <tr>\n",
       "      <th>train_trials=200|baselinerate=5|behaviour_sigma=0.5</th>\n",
       "      <td>200</td>\n",
       "      <td>5</td>\n",
       "      <td>0.5</td>\n",
       "      <td>0.935760</td>\n",
       "      <td>717.098750</td>\n",
       "      <td>0.899399</td>\n",
       "      <td>722.858594</td>\n",
       "      <td>0.901272</td>\n",
       "      <td>727.177500</td>\n",
       "    </tr>\n",
       "    <tr>\n",
       "      <th>train_trials=200|baselinerate=5|behaviour_sigma=1.0</th>\n",
       "      <td>200</td>\n",
       "      <td>5</td>\n",
       "      <td>1.0</td>\n",
       "      <td>0.915037</td>\n",
       "      <td>732.205625</td>\n",
       "      <td>0.864543</td>\n",
       "      <td>744.968672</td>\n",
       "      <td>0.872343</td>\n",
       "      <td>742.463438</td>\n",
       "    </tr>\n",
       "    <tr>\n",
       "      <th>train_trials=200|baselinerate=5|behaviour_sigma=2.0</th>\n",
       "      <td>200</td>\n",
       "      <td>5</td>\n",
       "      <td>2.0</td>\n",
       "      <td>0.935671</td>\n",
       "      <td>740.826328</td>\n",
       "      <td>0.915544</td>\n",
       "      <td>748.012578</td>\n",
       "      <td>0.900858</td>\n",
       "      <td>739.481500</td>\n",
       "    </tr>\n",
       "    <tr>\n",
       "      <th>train_trials=200|baselinerate=10|behaviour_sigma=0.5</th>\n",
       "      <td>200</td>\n",
       "      <td>10</td>\n",
       "      <td>0.5</td>\n",
       "      <td>0.961825</td>\n",
       "      <td>1164.713672</td>\n",
       "      <td>0.929458</td>\n",
       "      <td>1152.095547</td>\n",
       "      <td>0.934306</td>\n",
       "      <td>1162.118750</td>\n",
       "    </tr>\n",
       "    <tr>\n",
       "      <th>train_trials=200|baselinerate=10|behaviour_sigma=1.0</th>\n",
       "      <td>200</td>\n",
       "      <td>10</td>\n",
       "      <td>1.0</td>\n",
       "      <td>0.958923</td>\n",
       "      <td>1160.882812</td>\n",
       "      <td>0.928531</td>\n",
       "      <td>1174.748281</td>\n",
       "      <td>0.939879</td>\n",
       "      <td>1173.347250</td>\n",
       "    </tr>\n",
       "    <tr>\n",
       "      <th>train_trials=200|baselinerate=10|behaviour_sigma=2.0</th>\n",
       "      <td>200</td>\n",
       "      <td>10</td>\n",
       "      <td>2.0</td>\n",
       "      <td>0.940196</td>\n",
       "      <td>1178.695156</td>\n",
       "      <td>0.912173</td>\n",
       "      <td>1184.461641</td>\n",
       "      <td>0.910458</td>\n",
       "      <td>1186.553875</td>\n",
       "    </tr>\n",
       "    <tr>\n",
       "      <th>train_trials=200|baselinerate=15|behaviour_sigma=0.5</th>\n",
       "      <td>200</td>\n",
       "      <td>15</td>\n",
       "      <td>0.5</td>\n",
       "      <td>0.945264</td>\n",
       "      <td>1523.892656</td>\n",
       "      <td>0.921860</td>\n",
       "      <td>1522.322187</td>\n",
       "      <td>0.918615</td>\n",
       "      <td>1524.685750</td>\n",
       "    </tr>\n",
       "    <tr>\n",
       "      <th>train_trials=200|baselinerate=15|behaviour_sigma=1.0</th>\n",
       "      <td>200</td>\n",
       "      <td>15</td>\n",
       "      <td>1.0</td>\n",
       "      <td>0.962181</td>\n",
       "      <td>1525.086250</td>\n",
       "      <td>0.935799</td>\n",
       "      <td>1528.762187</td>\n",
       "      <td>0.937108</td>\n",
       "      <td>1526.629000</td>\n",
       "    </tr>\n",
       "    <tr>\n",
       "      <th>train_trials=200|baselinerate=15|behaviour_sigma=2.0</th>\n",
       "      <td>200</td>\n",
       "      <td>15</td>\n",
       "      <td>2.0</td>\n",
       "      <td>0.957289</td>\n",
       "      <td>1524.431875</td>\n",
       "      <td>0.922816</td>\n",
       "      <td>1543.015312</td>\n",
       "      <td>0.930880</td>\n",
       "      <td>1538.027875</td>\n",
       "    </tr>\n",
       "  </tbody>\n",
       "</table>\n",
       "</div>"
      ],
      "text/plain": [
       "                                                    trials  baseline_rate  \\\n",
       "train_trials=50|baselinerate=5|behaviour_sigma=0.5      50              5   \n",
       "train_trials=50|baselinerate=5|behaviour_sigma=1.0      50              5   \n",
       "train_trials=50|baselinerate=5|behaviour_sigma=2.0      50              5   \n",
       "train_trials=50|baselinerate=10|behaviour_sigma...      50             10   \n",
       "train_trials=50|baselinerate=10|behaviour_sigma...      50             10   \n",
       "train_trials=50|baselinerate=10|behaviour_sigma...      50             10   \n",
       "train_trials=50|baselinerate=15|behaviour_sigma...      50             15   \n",
       "train_trials=50|baselinerate=15|behaviour_sigma...      50             15   \n",
       "train_trials=50|baselinerate=15|behaviour_sigma...      50             15   \n",
       "train_trials=100|baselinerate=5|behaviour_sigma...     100              5   \n",
       "train_trials=100|baselinerate=5|behaviour_sigma...     100              5   \n",
       "train_trials=100|baselinerate=5|behaviour_sigma...     100              5   \n",
       "train_trials=100|baselinerate=10|behaviour_sigm...     100             10   \n",
       "train_trials=100|baselinerate=10|behaviour_sigm...     100             10   \n",
       "train_trials=100|baselinerate=10|behaviour_sigm...     100             10   \n",
       "train_trials=100|baselinerate=15|behaviour_sigm...     100             15   \n",
       "train_trials=100|baselinerate=15|behaviour_sigm...     100             15   \n",
       "train_trials=100|baselinerate=15|behaviour_sigm...     100             15   \n",
       "train_trials=200|baselinerate=5|behaviour_sigma...     200              5   \n",
       "train_trials=200|baselinerate=5|behaviour_sigma...     200              5   \n",
       "train_trials=200|baselinerate=5|behaviour_sigma...     200              5   \n",
       "train_trials=200|baselinerate=10|behaviour_sigm...     200             10   \n",
       "train_trials=200|baselinerate=10|behaviour_sigm...     200             10   \n",
       "train_trials=200|baselinerate=10|behaviour_sigm...     200             10   \n",
       "train_trials=200|baselinerate=15|behaviour_sigm...     200             15   \n",
       "train_trials=200|baselinerate=15|behaviour_sigm...     200             15   \n",
       "train_trials=200|baselinerate=15|behaviour_sigm...     200             15   \n",
       "\n",
       "                                                    behaviour_sigma  train_r2  \\\n",
       "train_trials=50|baselinerate=5|behaviour_sigma=0.5              0.5  0.916067   \n",
       "train_trials=50|baselinerate=5|behaviour_sigma=1.0              1.0  0.915080   \n",
       "train_trials=50|baselinerate=5|behaviour_sigma=2.0              2.0  0.903346   \n",
       "train_trials=50|baselinerate=10|behaviour_sigma...              0.5  0.942815   \n",
       "train_trials=50|baselinerate=10|behaviour_sigma...              1.0  0.929656   \n",
       "train_trials=50|baselinerate=10|behaviour_sigma...              2.0  0.962418   \n",
       "train_trials=50|baselinerate=15|behaviour_sigma...              0.5  0.945527   \n",
       "train_trials=50|baselinerate=15|behaviour_sigma...              1.0  0.942295   \n",
       "train_trials=50|baselinerate=15|behaviour_sigma...              2.0  0.945950   \n",
       "train_trials=100|baselinerate=5|behaviour_sigma...              0.5  0.925985   \n",
       "train_trials=100|baselinerate=5|behaviour_sigma...              1.0  0.945456   \n",
       "train_trials=100|baselinerate=5|behaviour_sigma...              2.0  0.949559   \n",
       "train_trials=100|baselinerate=10|behaviour_sigm...              0.5  0.952680   \n",
       "train_trials=100|baselinerate=10|behaviour_sigm...              1.0  0.949720   \n",
       "train_trials=100|baselinerate=10|behaviour_sigm...              2.0  0.949169   \n",
       "train_trials=100|baselinerate=15|behaviour_sigm...              0.5  0.941605   \n",
       "train_trials=100|baselinerate=15|behaviour_sigm...              1.0  0.957840   \n",
       "train_trials=100|baselinerate=15|behaviour_sigm...              2.0  0.946675   \n",
       "train_trials=200|baselinerate=5|behaviour_sigma...              0.5  0.935760   \n",
       "train_trials=200|baselinerate=5|behaviour_sigma...              1.0  0.915037   \n",
       "train_trials=200|baselinerate=5|behaviour_sigma...              2.0  0.935671   \n",
       "train_trials=200|baselinerate=10|behaviour_sigm...              0.5  0.961825   \n",
       "train_trials=200|baselinerate=10|behaviour_sigm...              1.0  0.958923   \n",
       "train_trials=200|baselinerate=10|behaviour_sigm...              2.0  0.940196   \n",
       "train_trials=200|baselinerate=15|behaviour_sigm...              0.5  0.945264   \n",
       "train_trials=200|baselinerate=15|behaviour_sigm...              1.0  0.962181   \n",
       "train_trials=200|baselinerate=15|behaviour_sigm...              2.0  0.957289   \n",
       "\n",
       "                                                    train_likelihood  \\\n",
       "train_trials=50|baselinerate=5|behaviour_sigma=0.5        732.106797   \n",
       "train_trials=50|baselinerate=5|behaviour_sigma=1.0        727.837656   \n",
       "train_trials=50|baselinerate=5|behaviour_sigma=2.0        713.564766   \n",
       "train_trials=50|baselinerate=10|behaviour_sigma...       1180.964844   \n",
       "train_trials=50|baselinerate=10|behaviour_sigma...       1176.239844   \n",
       "train_trials=50|baselinerate=10|behaviour_sigma...       1164.380859   \n",
       "train_trials=50|baselinerate=15|behaviour_sigma...       1536.907500   \n",
       "train_trials=50|baselinerate=15|behaviour_sigma...       1544.144375   \n",
       "train_trials=50|baselinerate=15|behaviour_sigma...       1520.655781   \n",
       "train_trials=100|baselinerate=5|behaviour_sigma...        725.584219   \n",
       "train_trials=100|baselinerate=5|behaviour_sigma...        719.154844   \n",
       "train_trials=100|baselinerate=5|behaviour_sigma...        725.116172   \n",
       "train_trials=100|baselinerate=10|behaviour_sigm...       1172.038125   \n",
       "train_trials=100|baselinerate=10|behaviour_sigm...       1152.333047   \n",
       "train_trials=100|baselinerate=10|behaviour_sigm...       1171.928437   \n",
       "train_trials=100|baselinerate=15|behaviour_sigm...       1460.955625   \n",
       "train_trials=100|baselinerate=15|behaviour_sigm...       1489.368594   \n",
       "train_trials=100|baselinerate=15|behaviour_sigm...       1492.723438   \n",
       "train_trials=200|baselinerate=5|behaviour_sigma...        717.098750   \n",
       "train_trials=200|baselinerate=5|behaviour_sigma...        732.205625   \n",
       "train_trials=200|baselinerate=5|behaviour_sigma...        740.826328   \n",
       "train_trials=200|baselinerate=10|behaviour_sigm...       1164.713672   \n",
       "train_trials=200|baselinerate=10|behaviour_sigm...       1160.882812   \n",
       "train_trials=200|baselinerate=10|behaviour_sigm...       1178.695156   \n",
       "train_trials=200|baselinerate=15|behaviour_sigm...       1523.892656   \n",
       "train_trials=200|baselinerate=15|behaviour_sigm...       1525.086250   \n",
       "train_trials=200|baselinerate=15|behaviour_sigm...       1524.431875   \n",
       "\n",
       "                                                    validation_r2  \\\n",
       "train_trials=50|baselinerate=5|behaviour_sigma=0.5       0.847433   \n",
       "train_trials=50|baselinerate=5|behaviour_sigma=1.0       0.825987   \n",
       "train_trials=50|baselinerate=5|behaviour_sigma=2.0       0.866428   \n",
       "train_trials=50|baselinerate=10|behaviour_sigma...       0.841018   \n",
       "train_trials=50|baselinerate=10|behaviour_sigma...       0.847685   \n",
       "train_trials=50|baselinerate=10|behaviour_sigma...       0.861489   \n",
       "train_trials=50|baselinerate=15|behaviour_sigma...       0.870110   \n",
       "train_trials=50|baselinerate=15|behaviour_sigma...       0.853054   \n",
       "train_trials=50|baselinerate=15|behaviour_sigma...       0.854394   \n",
       "train_trials=100|baselinerate=5|behaviour_sigma...       0.884540   \n",
       "train_trials=100|baselinerate=5|behaviour_sigma...       0.868145   \n",
       "train_trials=100|baselinerate=5|behaviour_sigma...       0.875245   \n",
       "train_trials=100|baselinerate=10|behaviour_sigm...       0.912237   \n",
       "train_trials=100|baselinerate=10|behaviour_sigm...       0.894210   \n",
       "train_trials=100|baselinerate=10|behaviour_sigm...       0.900872   \n",
       "train_trials=100|baselinerate=15|behaviour_sigm...       0.888432   \n",
       "train_trials=100|baselinerate=15|behaviour_sigm...       0.925489   \n",
       "train_trials=100|baselinerate=15|behaviour_sigm...       0.886071   \n",
       "train_trials=200|baselinerate=5|behaviour_sigma...       0.899399   \n",
       "train_trials=200|baselinerate=5|behaviour_sigma...       0.864543   \n",
       "train_trials=200|baselinerate=5|behaviour_sigma...       0.915544   \n",
       "train_trials=200|baselinerate=10|behaviour_sigm...       0.929458   \n",
       "train_trials=200|baselinerate=10|behaviour_sigm...       0.928531   \n",
       "train_trials=200|baselinerate=10|behaviour_sigm...       0.912173   \n",
       "train_trials=200|baselinerate=15|behaviour_sigm...       0.921860   \n",
       "train_trials=200|baselinerate=15|behaviour_sigm...       0.935799   \n",
       "train_trials=200|baselinerate=15|behaviour_sigm...       0.922816   \n",
       "\n",
       "                                                    validation_likelihood  \\\n",
       "train_trials=50|baselinerate=5|behaviour_sigma=0.5             762.193281   \n",
       "train_trials=50|baselinerate=5|behaviour_sigma=1.0             731.657187   \n",
       "train_trials=50|baselinerate=5|behaviour_sigma=2.0             721.042500   \n",
       "train_trials=50|baselinerate=10|behaviour_sigma...            1185.666875   \n",
       "train_trials=50|baselinerate=10|behaviour_sigma...            1203.194453   \n",
       "train_trials=50|baselinerate=10|behaviour_sigma...            1169.700938   \n",
       "train_trials=50|baselinerate=15|behaviour_sigma...            1516.035625   \n",
       "train_trials=50|baselinerate=15|behaviour_sigma...            1540.016562   \n",
       "train_trials=50|baselinerate=15|behaviour_sigma...            1541.467031   \n",
       "train_trials=100|baselinerate=5|behaviour_sigma...             734.771406   \n",
       "train_trials=100|baselinerate=5|behaviour_sigma...             744.988359   \n",
       "train_trials=100|baselinerate=5|behaviour_sigma...             729.923281   \n",
       "train_trials=100|baselinerate=10|behaviour_sigm...            1175.390156   \n",
       "train_trials=100|baselinerate=10|behaviour_sigm...            1154.266562   \n",
       "train_trials=100|baselinerate=10|behaviour_sigm...            1178.513672   \n",
       "train_trials=100|baselinerate=15|behaviour_sigm...            1490.183594   \n",
       "train_trials=100|baselinerate=15|behaviour_sigm...            1511.151250   \n",
       "train_trials=100|baselinerate=15|behaviour_sigm...            1535.396719   \n",
       "train_trials=200|baselinerate=5|behaviour_sigma...             722.858594   \n",
       "train_trials=200|baselinerate=5|behaviour_sigma...             744.968672   \n",
       "train_trials=200|baselinerate=5|behaviour_sigma...             748.012578   \n",
       "train_trials=200|baselinerate=10|behaviour_sigm...            1152.095547   \n",
       "train_trials=200|baselinerate=10|behaviour_sigm...            1174.748281   \n",
       "train_trials=200|baselinerate=10|behaviour_sigm...            1184.461641   \n",
       "train_trials=200|baselinerate=15|behaviour_sigm...            1522.322187   \n",
       "train_trials=200|baselinerate=15|behaviour_sigm...            1528.762187   \n",
       "train_trials=200|baselinerate=15|behaviour_sigm...            1543.015312   \n",
       "\n",
       "                                                     test_r2  test_likelihood  \n",
       "train_trials=50|baselinerate=5|behaviour_sigma=0.5  0.842665       754.208375  \n",
       "train_trials=50|baselinerate=5|behaviour_sigma=1.0  0.845018       741.236875  \n",
       "train_trials=50|baselinerate=5|behaviour_sigma=2.0  0.848023       722.077063  \n",
       "train_trials=50|baselinerate=10|behaviour_sigma...  0.874290      1197.743625  \n",
       "train_trials=50|baselinerate=10|behaviour_sigma...  0.841898      1192.319375  \n",
       "train_trials=50|baselinerate=10|behaviour_sigma...  0.866662      1186.926375  \n",
       "train_trials=50|baselinerate=15|behaviour_sigma...  0.863972      1553.174000  \n",
       "train_trials=50|baselinerate=15|behaviour_sigma...  0.835573      1579.454750  \n",
       "train_trials=50|baselinerate=15|behaviour_sigma...  0.856735      1549.009375  \n",
       "train_trials=100|baselinerate=5|behaviour_sigma...  0.885520       737.647563  \n",
       "train_trials=100|baselinerate=5|behaviour_sigma...  0.880581       744.535375  \n",
       "train_trials=100|baselinerate=5|behaviour_sigma...  0.887176       734.586563  \n",
       "train_trials=100|baselinerate=10|behaviour_sigm...  0.911696      1181.205875  \n",
       "train_trials=100|baselinerate=10|behaviour_sigm...  0.901594      1168.341125  \n",
       "train_trials=100|baselinerate=10|behaviour_sigm...  0.898730      1175.569875  \n",
       "train_trials=100|baselinerate=15|behaviour_sigm...  0.889486      1513.834375  \n",
       "train_trials=100|baselinerate=15|behaviour_sigm...  0.913674      1512.398875  \n",
       "train_trials=100|baselinerate=15|behaviour_sigm...  0.893541      1540.961500  \n",
       "train_trials=200|baselinerate=5|behaviour_sigma...  0.901272       727.177500  \n",
       "train_trials=200|baselinerate=5|behaviour_sigma...  0.872343       742.463438  \n",
       "train_trials=200|baselinerate=5|behaviour_sigma...  0.900858       739.481500  \n",
       "train_trials=200|baselinerate=10|behaviour_sigm...  0.934306      1162.118750  \n",
       "train_trials=200|baselinerate=10|behaviour_sigm...  0.939879      1173.347250  \n",
       "train_trials=200|baselinerate=10|behaviour_sigm...  0.910458      1186.553875  \n",
       "train_trials=200|baselinerate=15|behaviour_sigm...  0.918615      1524.685750  \n",
       "train_trials=200|baselinerate=15|behaviour_sigm...  0.937108      1526.629000  \n",
       "train_trials=200|baselinerate=15|behaviour_sigm...  0.930880      1538.027875  "
      ]
     },
     "execution_count": 6,
     "metadata": {},
     "output_type": "execute_result"
    }
   ],
   "source": [
    "tndm_df = pd.DataFrame([{'trials': setup[k]['dataset']['train_pct'],\n",
    "  'baseline_rate': setup[k]['dataset']['base_rate'],\n",
    "  'behaviour_sigma': setup[k]['dataset']['behaviour_sigma'],\n",
    "  'train_r2': v['train']['latent_r2'], \n",
    "  'train_likelihood': v['train']['neural_likelihood'],\n",
    "  'validation_r2': v['validation']['latent_r2'], \n",
    "  'validation_likelihood': v['validation']['neural_likelihood'], \n",
    "  'test_r2': v['test']['latent_r2'],\n",
    "  'test_likelihood': v['test']['neural_likelihood']}\n",
    "    for k, v in tndm_stats.items()], index=list(tndm_stats.keys()))\n",
    "tndm_df.sort_values(['trials', 'baseline_rate', 'behaviour_sigma'])"
   ]
  },
  {
   "cell_type": "code",
   "execution_count": 7,
   "id": "b1accd89",
   "metadata": {},
   "outputs": [
    {
     "data": {
      "text/html": [
       "<div>\n",
       "<style scoped>\n",
       "    .dataframe tbody tr th:only-of-type {\n",
       "        vertical-align: middle;\n",
       "    }\n",
       "\n",
       "    .dataframe tbody tr th {\n",
       "        vertical-align: top;\n",
       "    }\n",
       "\n",
       "    .dataframe thead th {\n",
       "        text-align: right;\n",
       "    }\n",
       "</style>\n",
       "<table border=\"1\" class=\"dataframe\">\n",
       "  <thead>\n",
       "    <tr style=\"text-align: right;\">\n",
       "      <th></th>\n",
       "      <th>trials</th>\n",
       "      <th>baseline_rate</th>\n",
       "      <th>behaviour_sigma</th>\n",
       "      <th>train_r2</th>\n",
       "      <th>train_likelihood</th>\n",
       "      <th>validation_r2</th>\n",
       "      <th>validation_likelihood</th>\n",
       "      <th>test_r2</th>\n",
       "      <th>test_likelihood</th>\n",
       "    </tr>\n",
       "  </thead>\n",
       "  <tbody>\n",
       "    <tr>\n",
       "      <th>train_trials=50|baselinerate=5|behaviour_sigma=0.5</th>\n",
       "      <td>50</td>\n",
       "      <td>5</td>\n",
       "      <td>0.5</td>\n",
       "      <td>0.911658</td>\n",
       "      <td>723.044844</td>\n",
       "      <td>0.789404</td>\n",
       "      <td>766.805938</td>\n",
       "      <td>0.794404</td>\n",
       "      <td>757.092688</td>\n",
       "    </tr>\n",
       "    <tr>\n",
       "      <th>train_trials=50|baselinerate=5|behaviour_sigma=1.0</th>\n",
       "      <td>50</td>\n",
       "      <td>5</td>\n",
       "      <td>1.0</td>\n",
       "      <td>0.891238</td>\n",
       "      <td>720.667344</td>\n",
       "      <td>0.786016</td>\n",
       "      <td>733.447188</td>\n",
       "      <td>0.792127</td>\n",
       "      <td>743.687437</td>\n",
       "    </tr>\n",
       "    <tr>\n",
       "      <th>train_trials=50|baselinerate=5|behaviour_sigma=2.0</th>\n",
       "      <td>50</td>\n",
       "      <td>5</td>\n",
       "      <td>2.0</td>\n",
       "      <td>0.898602</td>\n",
       "      <td>706.463125</td>\n",
       "      <td>0.634867</td>\n",
       "      <td>741.270078</td>\n",
       "      <td>0.702587</td>\n",
       "      <td>734.864750</td>\n",
       "    </tr>\n",
       "    <tr>\n",
       "      <th>train_trials=50|baselinerate=10|behaviour_sigma=0.5</th>\n",
       "      <td>50</td>\n",
       "      <td>10</td>\n",
       "      <td>0.5</td>\n",
       "      <td>0.938656</td>\n",
       "      <td>1172.921797</td>\n",
       "      <td>0.740950</td>\n",
       "      <td>1196.894141</td>\n",
       "      <td>0.751798</td>\n",
       "      <td>1212.585750</td>\n",
       "    </tr>\n",
       "    <tr>\n",
       "      <th>train_trials=50|baselinerate=10|behaviour_sigma=1.0</th>\n",
       "      <td>50</td>\n",
       "      <td>10</td>\n",
       "      <td>1.0</td>\n",
       "      <td>0.937693</td>\n",
       "      <td>1172.019844</td>\n",
       "      <td>0.792098</td>\n",
       "      <td>1214.838516</td>\n",
       "      <td>0.807624</td>\n",
       "      <td>1199.029375</td>\n",
       "    </tr>\n",
       "    <tr>\n",
       "      <th>train_trials=50|baselinerate=10|behaviour_sigma=2.0</th>\n",
       "      <td>50</td>\n",
       "      <td>10</td>\n",
       "      <td>2.0</td>\n",
       "      <td>0.934912</td>\n",
       "      <td>1157.449063</td>\n",
       "      <td>0.769635</td>\n",
       "      <td>1183.342031</td>\n",
       "      <td>0.729007</td>\n",
       "      <td>1208.000750</td>\n",
       "    </tr>\n",
       "    <tr>\n",
       "      <th>train_trials=50|baselinerate=15|behaviour_sigma=0.5</th>\n",
       "      <td>50</td>\n",
       "      <td>15</td>\n",
       "      <td>0.5</td>\n",
       "      <td>0.943292</td>\n",
       "      <td>1530.299687</td>\n",
       "      <td>0.823915</td>\n",
       "      <td>1523.124219</td>\n",
       "      <td>0.763255</td>\n",
       "      <td>1579.777625</td>\n",
       "    </tr>\n",
       "    <tr>\n",
       "      <th>train_trials=50|baselinerate=15|behaviour_sigma=1.0</th>\n",
       "      <td>50</td>\n",
       "      <td>15</td>\n",
       "      <td>1.0</td>\n",
       "      <td>0.933309</td>\n",
       "      <td>1534.189844</td>\n",
       "      <td>0.799077</td>\n",
       "      <td>1551.859219</td>\n",
       "      <td>0.771344</td>\n",
       "      <td>1594.410000</td>\n",
       "    </tr>\n",
       "    <tr>\n",
       "      <th>train_trials=50|baselinerate=15|behaviour_sigma=2.0</th>\n",
       "      <td>50</td>\n",
       "      <td>15</td>\n",
       "      <td>2.0</td>\n",
       "      <td>0.959885</td>\n",
       "      <td>1512.106875</td>\n",
       "      <td>0.636585</td>\n",
       "      <td>1604.572031</td>\n",
       "      <td>0.727229</td>\n",
       "      <td>1582.276500</td>\n",
       "    </tr>\n",
       "    <tr>\n",
       "      <th>train_trials=100|baselinerate=5|behaviour_sigma=0.5</th>\n",
       "      <td>100</td>\n",
       "      <td>5</td>\n",
       "      <td>0.5</td>\n",
       "      <td>0.923083</td>\n",
       "      <td>723.487969</td>\n",
       "      <td>0.880539</td>\n",
       "      <td>734.637734</td>\n",
       "      <td>0.870329</td>\n",
       "      <td>738.252250</td>\n",
       "    </tr>\n",
       "    <tr>\n",
       "      <th>train_trials=100|baselinerate=5|behaviour_sigma=1.0</th>\n",
       "      <td>100</td>\n",
       "      <td>5</td>\n",
       "      <td>1.0</td>\n",
       "      <td>0.927706</td>\n",
       "      <td>718.148750</td>\n",
       "      <td>0.872132</td>\n",
       "      <td>743.582500</td>\n",
       "      <td>0.868802</td>\n",
       "      <td>745.057563</td>\n",
       "    </tr>\n",
       "    <tr>\n",
       "      <th>train_trials=100|baselinerate=5|behaviour_sigma=2.0</th>\n",
       "      <td>100</td>\n",
       "      <td>5</td>\n",
       "      <td>2.0</td>\n",
       "      <td>0.934587</td>\n",
       "      <td>723.330312</td>\n",
       "      <td>0.838422</td>\n",
       "      <td>732.258438</td>\n",
       "      <td>0.854583</td>\n",
       "      <td>737.161562</td>\n",
       "    </tr>\n",
       "    <tr>\n",
       "      <th>train_trials=100|baselinerate=10|behaviour_sigma=0.5</th>\n",
       "      <td>100</td>\n",
       "      <td>10</td>\n",
       "      <td>0.5</td>\n",
       "      <td>0.949086</td>\n",
       "      <td>1168.530313</td>\n",
       "      <td>0.890367</td>\n",
       "      <td>1177.470937</td>\n",
       "      <td>0.887936</td>\n",
       "      <td>1183.438875</td>\n",
       "    </tr>\n",
       "    <tr>\n",
       "      <th>train_trials=100|baselinerate=10|behaviour_sigma=1.0</th>\n",
       "      <td>100</td>\n",
       "      <td>10</td>\n",
       "      <td>1.0</td>\n",
       "      <td>0.952582</td>\n",
       "      <td>1148.117500</td>\n",
       "      <td>0.876013</td>\n",
       "      <td>1156.050781</td>\n",
       "      <td>0.881105</td>\n",
       "      <td>1169.594875</td>\n",
       "    </tr>\n",
       "    <tr>\n",
       "      <th>train_trials=100|baselinerate=10|behaviour_sigma=2.0</th>\n",
       "      <td>100</td>\n",
       "      <td>10</td>\n",
       "      <td>2.0</td>\n",
       "      <td>0.940708</td>\n",
       "      <td>1168.832813</td>\n",
       "      <td>0.872014</td>\n",
       "      <td>1181.290937</td>\n",
       "      <td>0.865543</td>\n",
       "      <td>1178.826750</td>\n",
       "    </tr>\n",
       "    <tr>\n",
       "      <th>train_trials=100|baselinerate=15|behaviour_sigma=0.5</th>\n",
       "      <td>100</td>\n",
       "      <td>15</td>\n",
       "      <td>0.5</td>\n",
       "      <td>0.946036</td>\n",
       "      <td>1455.456563</td>\n",
       "      <td>0.841824</td>\n",
       "      <td>1499.546875</td>\n",
       "      <td>0.854666</td>\n",
       "      <td>1520.072250</td>\n",
       "    </tr>\n",
       "    <tr>\n",
       "      <th>train_trials=100|baselinerate=15|behaviour_sigma=1.0</th>\n",
       "      <td>100</td>\n",
       "      <td>15</td>\n",
       "      <td>1.0</td>\n",
       "      <td>0.963341</td>\n",
       "      <td>1483.749687</td>\n",
       "      <td>0.908561</td>\n",
       "      <td>1511.640938</td>\n",
       "      <td>0.899276</td>\n",
       "      <td>1512.481875</td>\n",
       "    </tr>\n",
       "    <tr>\n",
       "      <th>train_trials=100|baselinerate=15|behaviour_sigma=2.0</th>\n",
       "      <td>100</td>\n",
       "      <td>15</td>\n",
       "      <td>2.0</td>\n",
       "      <td>0.944713</td>\n",
       "      <td>1487.703438</td>\n",
       "      <td>0.875554</td>\n",
       "      <td>1536.810000</td>\n",
       "      <td>0.858856</td>\n",
       "      <td>1549.479500</td>\n",
       "    </tr>\n",
       "    <tr>\n",
       "      <th>train_trials=200|baselinerate=5|behaviour_sigma=0.5</th>\n",
       "      <td>200</td>\n",
       "      <td>5</td>\n",
       "      <td>0.5</td>\n",
       "      <td>0.940533</td>\n",
       "      <td>715.804609</td>\n",
       "      <td>0.905897</td>\n",
       "      <td>722.166875</td>\n",
       "      <td>0.903915</td>\n",
       "      <td>726.801938</td>\n",
       "    </tr>\n",
       "    <tr>\n",
       "      <th>train_trials=200|baselinerate=5|behaviour_sigma=1.0</th>\n",
       "      <td>200</td>\n",
       "      <td>5</td>\n",
       "      <td>1.0</td>\n",
       "      <td>0.919575</td>\n",
       "      <td>730.781484</td>\n",
       "      <td>0.858755</td>\n",
       "      <td>744.607891</td>\n",
       "      <td>0.870246</td>\n",
       "      <td>741.751375</td>\n",
       "    </tr>\n",
       "    <tr>\n",
       "      <th>train_trials=200|baselinerate=5|behaviour_sigma=2.0</th>\n",
       "      <td>200</td>\n",
       "      <td>5</td>\n",
       "      <td>2.0</td>\n",
       "      <td>0.922285</td>\n",
       "      <td>739.165469</td>\n",
       "      <td>0.906206</td>\n",
       "      <td>747.476797</td>\n",
       "      <td>0.889335</td>\n",
       "      <td>739.512938</td>\n",
       "    </tr>\n",
       "    <tr>\n",
       "      <th>train_trials=200|baselinerate=10|behaviour_sigma=0.5</th>\n",
       "      <td>200</td>\n",
       "      <td>10</td>\n",
       "      <td>0.5</td>\n",
       "      <td>0.954693</td>\n",
       "      <td>1162.480625</td>\n",
       "      <td>0.918910</td>\n",
       "      <td>1151.344531</td>\n",
       "      <td>0.922606</td>\n",
       "      <td>1161.619625</td>\n",
       "    </tr>\n",
       "    <tr>\n",
       "      <th>train_trials=200|baselinerate=10|behaviour_sigma=1.0</th>\n",
       "      <td>200</td>\n",
       "      <td>10</td>\n",
       "      <td>1.0</td>\n",
       "      <td>0.940621</td>\n",
       "      <td>1160.454375</td>\n",
       "      <td>0.914166</td>\n",
       "      <td>1174.932500</td>\n",
       "      <td>0.921466</td>\n",
       "      <td>1174.351125</td>\n",
       "    </tr>\n",
       "    <tr>\n",
       "      <th>train_trials=200|baselinerate=10|behaviour_sigma=2.0</th>\n",
       "      <td>200</td>\n",
       "      <td>10</td>\n",
       "      <td>2.0</td>\n",
       "      <td>0.934121</td>\n",
       "      <td>1175.783672</td>\n",
       "      <td>0.902191</td>\n",
       "      <td>1181.200703</td>\n",
       "      <td>0.901864</td>\n",
       "      <td>1183.841125</td>\n",
       "    </tr>\n",
       "    <tr>\n",
       "      <th>train_trials=200|baselinerate=15|behaviour_sigma=0.5</th>\n",
       "      <td>200</td>\n",
       "      <td>15</td>\n",
       "      <td>0.5</td>\n",
       "      <td>0.938500</td>\n",
       "      <td>1520.422344</td>\n",
       "      <td>0.916274</td>\n",
       "      <td>1519.790000</td>\n",
       "      <td>0.908129</td>\n",
       "      <td>1522.862500</td>\n",
       "    </tr>\n",
       "    <tr>\n",
       "      <th>train_trials=200|baselinerate=15|behaviour_sigma=1.0</th>\n",
       "      <td>200</td>\n",
       "      <td>15</td>\n",
       "      <td>1.0</td>\n",
       "      <td>0.937237</td>\n",
       "      <td>1526.076719</td>\n",
       "      <td>0.909562</td>\n",
       "      <td>1529.924687</td>\n",
       "      <td>0.914593</td>\n",
       "      <td>1527.005000</td>\n",
       "    </tr>\n",
       "    <tr>\n",
       "      <th>train_trials=200|baselinerate=15|behaviour_sigma=2.0</th>\n",
       "      <td>200</td>\n",
       "      <td>15</td>\n",
       "      <td>2.0</td>\n",
       "      <td>0.951384</td>\n",
       "      <td>1518.397187</td>\n",
       "      <td>0.894145</td>\n",
       "      <td>1543.350000</td>\n",
       "      <td>0.911212</td>\n",
       "      <td>1537.460500</td>\n",
       "    </tr>\n",
       "  </tbody>\n",
       "</table>\n",
       "</div>"
      ],
      "text/plain": [
       "                                                    trials  baseline_rate  \\\n",
       "train_trials=50|baselinerate=5|behaviour_sigma=0.5      50              5   \n",
       "train_trials=50|baselinerate=5|behaviour_sigma=1.0      50              5   \n",
       "train_trials=50|baselinerate=5|behaviour_sigma=2.0      50              5   \n",
       "train_trials=50|baselinerate=10|behaviour_sigma...      50             10   \n",
       "train_trials=50|baselinerate=10|behaviour_sigma...      50             10   \n",
       "train_trials=50|baselinerate=10|behaviour_sigma...      50             10   \n",
       "train_trials=50|baselinerate=15|behaviour_sigma...      50             15   \n",
       "train_trials=50|baselinerate=15|behaviour_sigma...      50             15   \n",
       "train_trials=50|baselinerate=15|behaviour_sigma...      50             15   \n",
       "train_trials=100|baselinerate=5|behaviour_sigma...     100              5   \n",
       "train_trials=100|baselinerate=5|behaviour_sigma...     100              5   \n",
       "train_trials=100|baselinerate=5|behaviour_sigma...     100              5   \n",
       "train_trials=100|baselinerate=10|behaviour_sigm...     100             10   \n",
       "train_trials=100|baselinerate=10|behaviour_sigm...     100             10   \n",
       "train_trials=100|baselinerate=10|behaviour_sigm...     100             10   \n",
       "train_trials=100|baselinerate=15|behaviour_sigm...     100             15   \n",
       "train_trials=100|baselinerate=15|behaviour_sigm...     100             15   \n",
       "train_trials=100|baselinerate=15|behaviour_sigm...     100             15   \n",
       "train_trials=200|baselinerate=5|behaviour_sigma...     200              5   \n",
       "train_trials=200|baselinerate=5|behaviour_sigma...     200              5   \n",
       "train_trials=200|baselinerate=5|behaviour_sigma...     200              5   \n",
       "train_trials=200|baselinerate=10|behaviour_sigm...     200             10   \n",
       "train_trials=200|baselinerate=10|behaviour_sigm...     200             10   \n",
       "train_trials=200|baselinerate=10|behaviour_sigm...     200             10   \n",
       "train_trials=200|baselinerate=15|behaviour_sigm...     200             15   \n",
       "train_trials=200|baselinerate=15|behaviour_sigm...     200             15   \n",
       "train_trials=200|baselinerate=15|behaviour_sigm...     200             15   \n",
       "\n",
       "                                                    behaviour_sigma  train_r2  \\\n",
       "train_trials=50|baselinerate=5|behaviour_sigma=0.5              0.5  0.911658   \n",
       "train_trials=50|baselinerate=5|behaviour_sigma=1.0              1.0  0.891238   \n",
       "train_trials=50|baselinerate=5|behaviour_sigma=2.0              2.0  0.898602   \n",
       "train_trials=50|baselinerate=10|behaviour_sigma...              0.5  0.938656   \n",
       "train_trials=50|baselinerate=10|behaviour_sigma...              1.0  0.937693   \n",
       "train_trials=50|baselinerate=10|behaviour_sigma...              2.0  0.934912   \n",
       "train_trials=50|baselinerate=15|behaviour_sigma...              0.5  0.943292   \n",
       "train_trials=50|baselinerate=15|behaviour_sigma...              1.0  0.933309   \n",
       "train_trials=50|baselinerate=15|behaviour_sigma...              2.0  0.959885   \n",
       "train_trials=100|baselinerate=5|behaviour_sigma...              0.5  0.923083   \n",
       "train_trials=100|baselinerate=5|behaviour_sigma...              1.0  0.927706   \n",
       "train_trials=100|baselinerate=5|behaviour_sigma...              2.0  0.934587   \n",
       "train_trials=100|baselinerate=10|behaviour_sigm...              0.5  0.949086   \n",
       "train_trials=100|baselinerate=10|behaviour_sigm...              1.0  0.952582   \n",
       "train_trials=100|baselinerate=10|behaviour_sigm...              2.0  0.940708   \n",
       "train_trials=100|baselinerate=15|behaviour_sigm...              0.5  0.946036   \n",
       "train_trials=100|baselinerate=15|behaviour_sigm...              1.0  0.963341   \n",
       "train_trials=100|baselinerate=15|behaviour_sigm...              2.0  0.944713   \n",
       "train_trials=200|baselinerate=5|behaviour_sigma...              0.5  0.940533   \n",
       "train_trials=200|baselinerate=5|behaviour_sigma...              1.0  0.919575   \n",
       "train_trials=200|baselinerate=5|behaviour_sigma...              2.0  0.922285   \n",
       "train_trials=200|baselinerate=10|behaviour_sigm...              0.5  0.954693   \n",
       "train_trials=200|baselinerate=10|behaviour_sigm...              1.0  0.940621   \n",
       "train_trials=200|baselinerate=10|behaviour_sigm...              2.0  0.934121   \n",
       "train_trials=200|baselinerate=15|behaviour_sigm...              0.5  0.938500   \n",
       "train_trials=200|baselinerate=15|behaviour_sigm...              1.0  0.937237   \n",
       "train_trials=200|baselinerate=15|behaviour_sigm...              2.0  0.951384   \n",
       "\n",
       "                                                    train_likelihood  \\\n",
       "train_trials=50|baselinerate=5|behaviour_sigma=0.5        723.044844   \n",
       "train_trials=50|baselinerate=5|behaviour_sigma=1.0        720.667344   \n",
       "train_trials=50|baselinerate=5|behaviour_sigma=2.0        706.463125   \n",
       "train_trials=50|baselinerate=10|behaviour_sigma...       1172.921797   \n",
       "train_trials=50|baselinerate=10|behaviour_sigma...       1172.019844   \n",
       "train_trials=50|baselinerate=10|behaviour_sigma...       1157.449063   \n",
       "train_trials=50|baselinerate=15|behaviour_sigma...       1530.299687   \n",
       "train_trials=50|baselinerate=15|behaviour_sigma...       1534.189844   \n",
       "train_trials=50|baselinerate=15|behaviour_sigma...       1512.106875   \n",
       "train_trials=100|baselinerate=5|behaviour_sigma...        723.487969   \n",
       "train_trials=100|baselinerate=5|behaviour_sigma...        718.148750   \n",
       "train_trials=100|baselinerate=5|behaviour_sigma...        723.330312   \n",
       "train_trials=100|baselinerate=10|behaviour_sigm...       1168.530313   \n",
       "train_trials=100|baselinerate=10|behaviour_sigm...       1148.117500   \n",
       "train_trials=100|baselinerate=10|behaviour_sigm...       1168.832813   \n",
       "train_trials=100|baselinerate=15|behaviour_sigm...       1455.456563   \n",
       "train_trials=100|baselinerate=15|behaviour_sigm...       1483.749687   \n",
       "train_trials=100|baselinerate=15|behaviour_sigm...       1487.703438   \n",
       "train_trials=200|baselinerate=5|behaviour_sigma...        715.804609   \n",
       "train_trials=200|baselinerate=5|behaviour_sigma...        730.781484   \n",
       "train_trials=200|baselinerate=5|behaviour_sigma...        739.165469   \n",
       "train_trials=200|baselinerate=10|behaviour_sigm...       1162.480625   \n",
       "train_trials=200|baselinerate=10|behaviour_sigm...       1160.454375   \n",
       "train_trials=200|baselinerate=10|behaviour_sigm...       1175.783672   \n",
       "train_trials=200|baselinerate=15|behaviour_sigm...       1520.422344   \n",
       "train_trials=200|baselinerate=15|behaviour_sigm...       1526.076719   \n",
       "train_trials=200|baselinerate=15|behaviour_sigm...       1518.397187   \n",
       "\n",
       "                                                    validation_r2  \\\n",
       "train_trials=50|baselinerate=5|behaviour_sigma=0.5       0.789404   \n",
       "train_trials=50|baselinerate=5|behaviour_sigma=1.0       0.786016   \n",
       "train_trials=50|baselinerate=5|behaviour_sigma=2.0       0.634867   \n",
       "train_trials=50|baselinerate=10|behaviour_sigma...       0.740950   \n",
       "train_trials=50|baselinerate=10|behaviour_sigma...       0.792098   \n",
       "train_trials=50|baselinerate=10|behaviour_sigma...       0.769635   \n",
       "train_trials=50|baselinerate=15|behaviour_sigma...       0.823915   \n",
       "train_trials=50|baselinerate=15|behaviour_sigma...       0.799077   \n",
       "train_trials=50|baselinerate=15|behaviour_sigma...       0.636585   \n",
       "train_trials=100|baselinerate=5|behaviour_sigma...       0.880539   \n",
       "train_trials=100|baselinerate=5|behaviour_sigma...       0.872132   \n",
       "train_trials=100|baselinerate=5|behaviour_sigma...       0.838422   \n",
       "train_trials=100|baselinerate=10|behaviour_sigm...       0.890367   \n",
       "train_trials=100|baselinerate=10|behaviour_sigm...       0.876013   \n",
       "train_trials=100|baselinerate=10|behaviour_sigm...       0.872014   \n",
       "train_trials=100|baselinerate=15|behaviour_sigm...       0.841824   \n",
       "train_trials=100|baselinerate=15|behaviour_sigm...       0.908561   \n",
       "train_trials=100|baselinerate=15|behaviour_sigm...       0.875554   \n",
       "train_trials=200|baselinerate=5|behaviour_sigma...       0.905897   \n",
       "train_trials=200|baselinerate=5|behaviour_sigma...       0.858755   \n",
       "train_trials=200|baselinerate=5|behaviour_sigma...       0.906206   \n",
       "train_trials=200|baselinerate=10|behaviour_sigm...       0.918910   \n",
       "train_trials=200|baselinerate=10|behaviour_sigm...       0.914166   \n",
       "train_trials=200|baselinerate=10|behaviour_sigm...       0.902191   \n",
       "train_trials=200|baselinerate=15|behaviour_sigm...       0.916274   \n",
       "train_trials=200|baselinerate=15|behaviour_sigm...       0.909562   \n",
       "train_trials=200|baselinerate=15|behaviour_sigm...       0.894145   \n",
       "\n",
       "                                                    validation_likelihood  \\\n",
       "train_trials=50|baselinerate=5|behaviour_sigma=0.5             766.805938   \n",
       "train_trials=50|baselinerate=5|behaviour_sigma=1.0             733.447188   \n",
       "train_trials=50|baselinerate=5|behaviour_sigma=2.0             741.270078   \n",
       "train_trials=50|baselinerate=10|behaviour_sigma...            1196.894141   \n",
       "train_trials=50|baselinerate=10|behaviour_sigma...            1214.838516   \n",
       "train_trials=50|baselinerate=10|behaviour_sigma...            1183.342031   \n",
       "train_trials=50|baselinerate=15|behaviour_sigma...            1523.124219   \n",
       "train_trials=50|baselinerate=15|behaviour_sigma...            1551.859219   \n",
       "train_trials=50|baselinerate=15|behaviour_sigma...            1604.572031   \n",
       "train_trials=100|baselinerate=5|behaviour_sigma...             734.637734   \n",
       "train_trials=100|baselinerate=5|behaviour_sigma...             743.582500   \n",
       "train_trials=100|baselinerate=5|behaviour_sigma...             732.258438   \n",
       "train_trials=100|baselinerate=10|behaviour_sigm...            1177.470937   \n",
       "train_trials=100|baselinerate=10|behaviour_sigm...            1156.050781   \n",
       "train_trials=100|baselinerate=10|behaviour_sigm...            1181.290937   \n",
       "train_trials=100|baselinerate=15|behaviour_sigm...            1499.546875   \n",
       "train_trials=100|baselinerate=15|behaviour_sigm...            1511.640938   \n",
       "train_trials=100|baselinerate=15|behaviour_sigm...            1536.810000   \n",
       "train_trials=200|baselinerate=5|behaviour_sigma...             722.166875   \n",
       "train_trials=200|baselinerate=5|behaviour_sigma...             744.607891   \n",
       "train_trials=200|baselinerate=5|behaviour_sigma...             747.476797   \n",
       "train_trials=200|baselinerate=10|behaviour_sigm...            1151.344531   \n",
       "train_trials=200|baselinerate=10|behaviour_sigm...            1174.932500   \n",
       "train_trials=200|baselinerate=10|behaviour_sigm...            1181.200703   \n",
       "train_trials=200|baselinerate=15|behaviour_sigm...            1519.790000   \n",
       "train_trials=200|baselinerate=15|behaviour_sigm...            1529.924687   \n",
       "train_trials=200|baselinerate=15|behaviour_sigm...            1543.350000   \n",
       "\n",
       "                                                     test_r2  test_likelihood  \n",
       "train_trials=50|baselinerate=5|behaviour_sigma=0.5  0.794404       757.092688  \n",
       "train_trials=50|baselinerate=5|behaviour_sigma=1.0  0.792127       743.687437  \n",
       "train_trials=50|baselinerate=5|behaviour_sigma=2.0  0.702587       734.864750  \n",
       "train_trials=50|baselinerate=10|behaviour_sigma...  0.751798      1212.585750  \n",
       "train_trials=50|baselinerate=10|behaviour_sigma...  0.807624      1199.029375  \n",
       "train_trials=50|baselinerate=10|behaviour_sigma...  0.729007      1208.000750  \n",
       "train_trials=50|baselinerate=15|behaviour_sigma...  0.763255      1579.777625  \n",
       "train_trials=50|baselinerate=15|behaviour_sigma...  0.771344      1594.410000  \n",
       "train_trials=50|baselinerate=15|behaviour_sigma...  0.727229      1582.276500  \n",
       "train_trials=100|baselinerate=5|behaviour_sigma...  0.870329       738.252250  \n",
       "train_trials=100|baselinerate=5|behaviour_sigma...  0.868802       745.057563  \n",
       "train_trials=100|baselinerate=5|behaviour_sigma...  0.854583       737.161562  \n",
       "train_trials=100|baselinerate=10|behaviour_sigm...  0.887936      1183.438875  \n",
       "train_trials=100|baselinerate=10|behaviour_sigm...  0.881105      1169.594875  \n",
       "train_trials=100|baselinerate=10|behaviour_sigm...  0.865543      1178.826750  \n",
       "train_trials=100|baselinerate=15|behaviour_sigm...  0.854666      1520.072250  \n",
       "train_trials=100|baselinerate=15|behaviour_sigm...  0.899276      1512.481875  \n",
       "train_trials=100|baselinerate=15|behaviour_sigm...  0.858856      1549.479500  \n",
       "train_trials=200|baselinerate=5|behaviour_sigma...  0.903915       726.801938  \n",
       "train_trials=200|baselinerate=5|behaviour_sigma...  0.870246       741.751375  \n",
       "train_trials=200|baselinerate=5|behaviour_sigma...  0.889335       739.512938  \n",
       "train_trials=200|baselinerate=10|behaviour_sigm...  0.922606      1161.619625  \n",
       "train_trials=200|baselinerate=10|behaviour_sigm...  0.921466      1174.351125  \n",
       "train_trials=200|baselinerate=10|behaviour_sigm...  0.901864      1183.841125  \n",
       "train_trials=200|baselinerate=15|behaviour_sigm...  0.908129      1522.862500  \n",
       "train_trials=200|baselinerate=15|behaviour_sigm...  0.914593      1527.005000  \n",
       "train_trials=200|baselinerate=15|behaviour_sigm...  0.911212      1537.460500  "
      ]
     },
     "execution_count": 7,
     "metadata": {},
     "output_type": "execute_result"
    }
   ],
   "source": [
    "new_df = pd.DataFrame([{'trials': setup[k]['dataset']['train_pct'],\n",
    "  'baseline_rate': setup[k]['dataset']['base_rate'],\n",
    "  'behaviour_sigma': setup[k]['dataset']['behaviour_sigma'],\n",
    "  'train_r2': v['train']['latent_r2'], \n",
    "  'train_likelihood': v['train']['neural_likelihood'],\n",
    "  'validation_r2': v['validation']['latent_r2'], \n",
    "  'validation_likelihood': v['validation']['neural_likelihood'], \n",
    "  'test_r2': v['test']['latent_r2'],\n",
    "  'test_likelihood': v['test']['neural_likelihood']}\n",
    "    for k, v in new_stats.items()], index=list(new_stats.keys()))\n",
    "new_df.sort_values(['trials', 'baseline_rate', 'behaviour_sigma'])"
   ]
  },
  {
   "cell_type": "code",
   "execution_count": 8,
   "id": "0120d2c9",
   "metadata": {},
   "outputs": [
    {
     "data": {
      "text/html": [
       "<div>\n",
       "<style scoped>\n",
       "    .dataframe tbody tr th:only-of-type {\n",
       "        vertical-align: middle;\n",
       "    }\n",
       "\n",
       "    .dataframe tbody tr th {\n",
       "        vertical-align: top;\n",
       "    }\n",
       "\n",
       "    .dataframe thead th {\n",
       "        text-align: right;\n",
       "    }\n",
       "</style>\n",
       "<table border=\"1\" class=\"dataframe\">\n",
       "  <thead>\n",
       "    <tr style=\"text-align: right;\">\n",
       "      <th></th>\n",
       "      <th>trials</th>\n",
       "      <th>baseline_rate</th>\n",
       "      <th>behaviour_sigma</th>\n",
       "      <th>train_r2</th>\n",
       "      <th>train_likelihood</th>\n",
       "      <th>validation_r2</th>\n",
       "      <th>validation_likelihood</th>\n",
       "      <th>test_r2</th>\n",
       "      <th>test_likelihood</th>\n",
       "    </tr>\n",
       "  </thead>\n",
       "  <tbody>\n",
       "    <tr>\n",
       "      <th>train_trials=50|baselinerate=5|behaviour_sigma=0.5</th>\n",
       "      <td>50</td>\n",
       "      <td>5</td>\n",
       "      <td>0.5</td>\n",
       "      <td>0.600752</td>\n",
       "      <td>756.283400</td>\n",
       "      <td>0.519603</td>\n",
       "      <td>794.083838</td>\n",
       "      <td>0.536084</td>\n",
       "      <td>784.640045</td>\n",
       "    </tr>\n",
       "    <tr>\n",
       "      <th>train_trials=50|baselinerate=5|behaviour_sigma=1.0</th>\n",
       "      <td>50</td>\n",
       "      <td>5</td>\n",
       "      <td>1.0</td>\n",
       "      <td>0.682719</td>\n",
       "      <td>755.891711</td>\n",
       "      <td>0.586498</td>\n",
       "      <td>760.906305</td>\n",
       "      <td>0.623883</td>\n",
       "      <td>771.295839</td>\n",
       "    </tr>\n",
       "    <tr>\n",
       "      <th>train_trials=50|baselinerate=5|behaviour_sigma=2.0</th>\n",
       "      <td>50</td>\n",
       "      <td>5</td>\n",
       "      <td>2.0</td>\n",
       "      <td>0.848900</td>\n",
       "      <td>729.985544</td>\n",
       "      <td>0.639637</td>\n",
       "      <td>751.292266</td>\n",
       "      <td>0.639788</td>\n",
       "      <td>751.551899</td>\n",
       "    </tr>\n",
       "    <tr>\n",
       "      <th>train_trials=50|baselinerate=10|behaviour_sigma=0.5</th>\n",
       "      <td>50</td>\n",
       "      <td>10</td>\n",
       "      <td>0.5</td>\n",
       "      <td>0.937741</td>\n",
       "      <td>1197.256239</td>\n",
       "      <td>0.735314</td>\n",
       "      <td>1215.647977</td>\n",
       "      <td>0.782543</td>\n",
       "      <td>1228.052583</td>\n",
       "    </tr>\n",
       "    <tr>\n",
       "      <th>train_trials=50|baselinerate=10|behaviour_sigma=1.0</th>\n",
       "      <td>50</td>\n",
       "      <td>10</td>\n",
       "      <td>1.0</td>\n",
       "      <td>0.941816</td>\n",
       "      <td>1190.724954</td>\n",
       "      <td>0.793619</td>\n",
       "      <td>1237.436016</td>\n",
       "      <td>0.787115</td>\n",
       "      <td>1224.238563</td>\n",
       "    </tr>\n",
       "    <tr>\n",
       "      <th>train_trials=50|baselinerate=10|behaviour_sigma=2.0</th>\n",
       "      <td>50</td>\n",
       "      <td>10</td>\n",
       "      <td>2.0</td>\n",
       "      <td>0.941029</td>\n",
       "      <td>1176.376746</td>\n",
       "      <td>0.804719</td>\n",
       "      <td>1194.669631</td>\n",
       "      <td>0.818928</td>\n",
       "      <td>1211.037623</td>\n",
       "    </tr>\n",
       "    <tr>\n",
       "      <th>train_trials=50|baselinerate=15|behaviour_sigma=0.5</th>\n",
       "      <td>50</td>\n",
       "      <td>15</td>\n",
       "      <td>0.5</td>\n",
       "      <td>0.967734</td>\n",
       "      <td>1543.134338</td>\n",
       "      <td>0.867195</td>\n",
       "      <td>1538.069226</td>\n",
       "      <td>0.847703</td>\n",
       "      <td>1581.728096</td>\n",
       "    </tr>\n",
       "    <tr>\n",
       "      <th>train_trials=50|baselinerate=15|behaviour_sigma=1.0</th>\n",
       "      <td>50</td>\n",
       "      <td>15</td>\n",
       "      <td>1.0</td>\n",
       "      <td>0.970843</td>\n",
       "      <td>1537.497776</td>\n",
       "      <td>0.846869</td>\n",
       "      <td>1554.376360</td>\n",
       "      <td>0.834191</td>\n",
       "      <td>1595.724064</td>\n",
       "    </tr>\n",
       "    <tr>\n",
       "      <th>train_trials=50|baselinerate=15|behaviour_sigma=2.0</th>\n",
       "      <td>50</td>\n",
       "      <td>15</td>\n",
       "      <td>2.0</td>\n",
       "      <td>0.967922</td>\n",
       "      <td>1522.220684</td>\n",
       "      <td>0.803804</td>\n",
       "      <td>1585.804187</td>\n",
       "      <td>0.817768</td>\n",
       "      <td>1587.056580</td>\n",
       "    </tr>\n",
       "    <tr>\n",
       "      <th>train_trials=100|baselinerate=5|behaviour_sigma=0.5</th>\n",
       "      <td>100</td>\n",
       "      <td>5</td>\n",
       "      <td>0.5</td>\n",
       "      <td>0.690777</td>\n",
       "      <td>743.703757</td>\n",
       "      <td>0.653776</td>\n",
       "      <td>757.708912</td>\n",
       "      <td>0.654292</td>\n",
       "      <td>760.252500</td>\n",
       "    </tr>\n",
       "    <tr>\n",
       "      <th>train_trials=100|baselinerate=5|behaviour_sigma=1.0</th>\n",
       "      <td>100</td>\n",
       "      <td>5</td>\n",
       "      <td>1.0</td>\n",
       "      <td>0.927761</td>\n",
       "      <td>731.509697</td>\n",
       "      <td>0.854692</td>\n",
       "      <td>757.838348</td>\n",
       "      <td>0.854445</td>\n",
       "      <td>759.215707</td>\n",
       "    </tr>\n",
       "    <tr>\n",
       "      <th>train_trials=100|baselinerate=5|behaviour_sigma=2.0</th>\n",
       "      <td>100</td>\n",
       "      <td>5</td>\n",
       "      <td>2.0</td>\n",
       "      <td>0.775597</td>\n",
       "      <td>745.258865</td>\n",
       "      <td>0.708835</td>\n",
       "      <td>750.364356</td>\n",
       "      <td>0.731577</td>\n",
       "      <td>754.333717</td>\n",
       "    </tr>\n",
       "    <tr>\n",
       "      <th>train_trials=100|baselinerate=10|behaviour_sigma=1.0</th>\n",
       "      <td>100</td>\n",
       "      <td>10</td>\n",
       "      <td>1.0</td>\n",
       "      <td>0.957001</td>\n",
       "      <td>1161.993501</td>\n",
       "      <td>0.893068</td>\n",
       "      <td>1169.861807</td>\n",
       "      <td>0.881334</td>\n",
       "      <td>1186.833292</td>\n",
       "    </tr>\n",
       "    <tr>\n",
       "      <th>train_trials=100|baselinerate=10|behaviour_sigma=2.0</th>\n",
       "      <td>100</td>\n",
       "      <td>10</td>\n",
       "      <td>2.0</td>\n",
       "      <td>0.959655</td>\n",
       "      <td>1179.428311</td>\n",
       "      <td>0.884577</td>\n",
       "      <td>1192.603848</td>\n",
       "      <td>0.882483</td>\n",
       "      <td>1190.236818</td>\n",
       "    </tr>\n",
       "    <tr>\n",
       "      <th>train_trials=100|baselinerate=15|behaviour_sigma=0.5</th>\n",
       "      <td>100</td>\n",
       "      <td>15</td>\n",
       "      <td>0.5</td>\n",
       "      <td>0.977647</td>\n",
       "      <td>1465.704706</td>\n",
       "      <td>0.900530</td>\n",
       "      <td>1504.745167</td>\n",
       "      <td>0.892713</td>\n",
       "      <td>1532.191831</td>\n",
       "    </tr>\n",
       "    <tr>\n",
       "      <th>train_trials=100|baselinerate=15|behaviour_sigma=1.0</th>\n",
       "      <td>100</td>\n",
       "      <td>15</td>\n",
       "      <td>1.0</td>\n",
       "      <td>0.980597</td>\n",
       "      <td>1491.172346</td>\n",
       "      <td>0.912719</td>\n",
       "      <td>1527.992831</td>\n",
       "      <td>0.920197</td>\n",
       "      <td>1524.145508</td>\n",
       "    </tr>\n",
       "    <tr>\n",
       "      <th>train_trials=100|baselinerate=15|behaviour_sigma=2.0</th>\n",
       "      <td>100</td>\n",
       "      <td>15</td>\n",
       "      <td>2.0</td>\n",
       "      <td>0.978732</td>\n",
       "      <td>1492.466470</td>\n",
       "      <td>0.915284</td>\n",
       "      <td>1547.302896</td>\n",
       "      <td>0.909360</td>\n",
       "      <td>1555.750100</td>\n",
       "    </tr>\n",
       "    <tr>\n",
       "      <th>train_trials=200|baselinerate=5|behaviour_sigma=0.5</th>\n",
       "      <td>200</td>\n",
       "      <td>5</td>\n",
       "      <td>0.5</td>\n",
       "      <td>0.944302</td>\n",
       "      <td>724.595421</td>\n",
       "      <td>0.924920</td>\n",
       "      <td>729.538628</td>\n",
       "      <td>0.927325</td>\n",
       "      <td>734.022422</td>\n",
       "    </tr>\n",
       "    <tr>\n",
       "      <th>train_trials=200|baselinerate=5|behaviour_sigma=1.0</th>\n",
       "      <td>200</td>\n",
       "      <td>5</td>\n",
       "      <td>1.0</td>\n",
       "      <td>0.744513</td>\n",
       "      <td>750.249572</td>\n",
       "      <td>0.722918</td>\n",
       "      <td>760.897426</td>\n",
       "      <td>0.730646</td>\n",
       "      <td>758.799773</td>\n",
       "    </tr>\n",
       "    <tr>\n",
       "      <th>train_trials=200|baselinerate=5|behaviour_sigma=2.0</th>\n",
       "      <td>200</td>\n",
       "      <td>5</td>\n",
       "      <td>2.0</td>\n",
       "      <td>0.846444</td>\n",
       "      <td>756.361512</td>\n",
       "      <td>0.843678</td>\n",
       "      <td>763.512932</td>\n",
       "      <td>0.823334</td>\n",
       "      <td>754.937509</td>\n",
       "    </tr>\n",
       "    <tr>\n",
       "      <th>train_trials=200|baselinerate=10|behaviour_sigma=0.5</th>\n",
       "      <td>200</td>\n",
       "      <td>10</td>\n",
       "      <td>0.5</td>\n",
       "      <td>0.973773</td>\n",
       "      <td>1170.728872</td>\n",
       "      <td>0.943548</td>\n",
       "      <td>1159.244641</td>\n",
       "      <td>0.947328</td>\n",
       "      <td>1168.889768</td>\n",
       "    </tr>\n",
       "    <tr>\n",
       "      <th>train_trials=200|baselinerate=10|behaviour_sigma=1.0</th>\n",
       "      <td>200</td>\n",
       "      <td>10</td>\n",
       "      <td>1.0</td>\n",
       "      <td>0.977615</td>\n",
       "      <td>1166.497681</td>\n",
       "      <td>0.952191</td>\n",
       "      <td>1181.359519</td>\n",
       "      <td>0.956564</td>\n",
       "      <td>1181.253149</td>\n",
       "    </tr>\n",
       "    <tr>\n",
       "      <th>train_trials=200|baselinerate=10|behaviour_sigma=2.0</th>\n",
       "      <td>200</td>\n",
       "      <td>10</td>\n",
       "      <td>2.0</td>\n",
       "      <td>0.974514</td>\n",
       "      <td>1182.397030</td>\n",
       "      <td>0.946820</td>\n",
       "      <td>1189.312372</td>\n",
       "      <td>0.944525</td>\n",
       "      <td>1191.849206</td>\n",
       "    </tr>\n",
       "    <tr>\n",
       "      <th>train_trials=200|baselinerate=15|behaviour_sigma=0.5</th>\n",
       "      <td>200</td>\n",
       "      <td>15</td>\n",
       "      <td>0.5</td>\n",
       "      <td>0.981882</td>\n",
       "      <td>1526.980465</td>\n",
       "      <td>0.959582</td>\n",
       "      <td>1524.938572</td>\n",
       "      <td>0.957879</td>\n",
       "      <td>1528.221715</td>\n",
       "    </tr>\n",
       "    <tr>\n",
       "      <th>train_trials=200|baselinerate=15|behaviour_sigma=1.0</th>\n",
       "      <td>200</td>\n",
       "      <td>15</td>\n",
       "      <td>1.0</td>\n",
       "      <td>0.986654</td>\n",
       "      <td>1525.147165</td>\n",
       "      <td>0.964467</td>\n",
       "      <td>1527.950933</td>\n",
       "      <td>0.965555</td>\n",
       "      <td>1527.290138</td>\n",
       "    </tr>\n",
       "    <tr>\n",
       "      <th>train_trials=200|baselinerate=15|behaviour_sigma=2.0</th>\n",
       "      <td>200</td>\n",
       "      <td>15</td>\n",
       "      <td>2.0</td>\n",
       "      <td>0.986243</td>\n",
       "      <td>1523.840653</td>\n",
       "      <td>0.963143</td>\n",
       "      <td>1544.247180</td>\n",
       "      <td>0.964289</td>\n",
       "      <td>1540.761739</td>\n",
       "    </tr>\n",
       "  </tbody>\n",
       "</table>\n",
       "</div>"
      ],
      "text/plain": [
       "                                                    trials  baseline_rate  \\\n",
       "train_trials=50|baselinerate=5|behaviour_sigma=0.5      50              5   \n",
       "train_trials=50|baselinerate=5|behaviour_sigma=1.0      50              5   \n",
       "train_trials=50|baselinerate=5|behaviour_sigma=2.0      50              5   \n",
       "train_trials=50|baselinerate=10|behaviour_sigma...      50             10   \n",
       "train_trials=50|baselinerate=10|behaviour_sigma...      50             10   \n",
       "train_trials=50|baselinerate=10|behaviour_sigma...      50             10   \n",
       "train_trials=50|baselinerate=15|behaviour_sigma...      50             15   \n",
       "train_trials=50|baselinerate=15|behaviour_sigma...      50             15   \n",
       "train_trials=50|baselinerate=15|behaviour_sigma...      50             15   \n",
       "train_trials=100|baselinerate=5|behaviour_sigma...     100              5   \n",
       "train_trials=100|baselinerate=5|behaviour_sigma...     100              5   \n",
       "train_trials=100|baselinerate=5|behaviour_sigma...     100              5   \n",
       "train_trials=100|baselinerate=10|behaviour_sigm...     100             10   \n",
       "train_trials=100|baselinerate=10|behaviour_sigm...     100             10   \n",
       "train_trials=100|baselinerate=15|behaviour_sigm...     100             15   \n",
       "train_trials=100|baselinerate=15|behaviour_sigm...     100             15   \n",
       "train_trials=100|baselinerate=15|behaviour_sigm...     100             15   \n",
       "train_trials=200|baselinerate=5|behaviour_sigma...     200              5   \n",
       "train_trials=200|baselinerate=5|behaviour_sigma...     200              5   \n",
       "train_trials=200|baselinerate=5|behaviour_sigma...     200              5   \n",
       "train_trials=200|baselinerate=10|behaviour_sigm...     200             10   \n",
       "train_trials=200|baselinerate=10|behaviour_sigm...     200             10   \n",
       "train_trials=200|baselinerate=10|behaviour_sigm...     200             10   \n",
       "train_trials=200|baselinerate=15|behaviour_sigm...     200             15   \n",
       "train_trials=200|baselinerate=15|behaviour_sigm...     200             15   \n",
       "train_trials=200|baselinerate=15|behaviour_sigm...     200             15   \n",
       "\n",
       "                                                    behaviour_sigma  train_r2  \\\n",
       "train_trials=50|baselinerate=5|behaviour_sigma=0.5              0.5  0.600752   \n",
       "train_trials=50|baselinerate=5|behaviour_sigma=1.0              1.0  0.682719   \n",
       "train_trials=50|baselinerate=5|behaviour_sigma=2.0              2.0  0.848900   \n",
       "train_trials=50|baselinerate=10|behaviour_sigma...              0.5  0.937741   \n",
       "train_trials=50|baselinerate=10|behaviour_sigma...              1.0  0.941816   \n",
       "train_trials=50|baselinerate=10|behaviour_sigma...              2.0  0.941029   \n",
       "train_trials=50|baselinerate=15|behaviour_sigma...              0.5  0.967734   \n",
       "train_trials=50|baselinerate=15|behaviour_sigma...              1.0  0.970843   \n",
       "train_trials=50|baselinerate=15|behaviour_sigma...              2.0  0.967922   \n",
       "train_trials=100|baselinerate=5|behaviour_sigma...              0.5  0.690777   \n",
       "train_trials=100|baselinerate=5|behaviour_sigma...              1.0  0.927761   \n",
       "train_trials=100|baselinerate=5|behaviour_sigma...              2.0  0.775597   \n",
       "train_trials=100|baselinerate=10|behaviour_sigm...              1.0  0.957001   \n",
       "train_trials=100|baselinerate=10|behaviour_sigm...              2.0  0.959655   \n",
       "train_trials=100|baselinerate=15|behaviour_sigm...              0.5  0.977647   \n",
       "train_trials=100|baselinerate=15|behaviour_sigm...              1.0  0.980597   \n",
       "train_trials=100|baselinerate=15|behaviour_sigm...              2.0  0.978732   \n",
       "train_trials=200|baselinerate=5|behaviour_sigma...              0.5  0.944302   \n",
       "train_trials=200|baselinerate=5|behaviour_sigma...              1.0  0.744513   \n",
       "train_trials=200|baselinerate=5|behaviour_sigma...              2.0  0.846444   \n",
       "train_trials=200|baselinerate=10|behaviour_sigm...              0.5  0.973773   \n",
       "train_trials=200|baselinerate=10|behaviour_sigm...              1.0  0.977615   \n",
       "train_trials=200|baselinerate=10|behaviour_sigm...              2.0  0.974514   \n",
       "train_trials=200|baselinerate=15|behaviour_sigm...              0.5  0.981882   \n",
       "train_trials=200|baselinerate=15|behaviour_sigm...              1.0  0.986654   \n",
       "train_trials=200|baselinerate=15|behaviour_sigm...              2.0  0.986243   \n",
       "\n",
       "                                                    train_likelihood  \\\n",
       "train_trials=50|baselinerate=5|behaviour_sigma=0.5        756.283400   \n",
       "train_trials=50|baselinerate=5|behaviour_sigma=1.0        755.891711   \n",
       "train_trials=50|baselinerate=5|behaviour_sigma=2.0        729.985544   \n",
       "train_trials=50|baselinerate=10|behaviour_sigma...       1197.256239   \n",
       "train_trials=50|baselinerate=10|behaviour_sigma...       1190.724954   \n",
       "train_trials=50|baselinerate=10|behaviour_sigma...       1176.376746   \n",
       "train_trials=50|baselinerate=15|behaviour_sigma...       1543.134338   \n",
       "train_trials=50|baselinerate=15|behaviour_sigma...       1537.497776   \n",
       "train_trials=50|baselinerate=15|behaviour_sigma...       1522.220684   \n",
       "train_trials=100|baselinerate=5|behaviour_sigma...        743.703757   \n",
       "train_trials=100|baselinerate=5|behaviour_sigma...        731.509697   \n",
       "train_trials=100|baselinerate=5|behaviour_sigma...        745.258865   \n",
       "train_trials=100|baselinerate=10|behaviour_sigm...       1161.993501   \n",
       "train_trials=100|baselinerate=10|behaviour_sigm...       1179.428311   \n",
       "train_trials=100|baselinerate=15|behaviour_sigm...       1465.704706   \n",
       "train_trials=100|baselinerate=15|behaviour_sigm...       1491.172346   \n",
       "train_trials=100|baselinerate=15|behaviour_sigm...       1492.466470   \n",
       "train_trials=200|baselinerate=5|behaviour_sigma...        724.595421   \n",
       "train_trials=200|baselinerate=5|behaviour_sigma...        750.249572   \n",
       "train_trials=200|baselinerate=5|behaviour_sigma...        756.361512   \n",
       "train_trials=200|baselinerate=10|behaviour_sigm...       1170.728872   \n",
       "train_trials=200|baselinerate=10|behaviour_sigm...       1166.497681   \n",
       "train_trials=200|baselinerate=10|behaviour_sigm...       1182.397030   \n",
       "train_trials=200|baselinerate=15|behaviour_sigm...       1526.980465   \n",
       "train_trials=200|baselinerate=15|behaviour_sigm...       1525.147165   \n",
       "train_trials=200|baselinerate=15|behaviour_sigm...       1523.840653   \n",
       "\n",
       "                                                    validation_r2  \\\n",
       "train_trials=50|baselinerate=5|behaviour_sigma=0.5       0.519603   \n",
       "train_trials=50|baselinerate=5|behaviour_sigma=1.0       0.586498   \n",
       "train_trials=50|baselinerate=5|behaviour_sigma=2.0       0.639637   \n",
       "train_trials=50|baselinerate=10|behaviour_sigma...       0.735314   \n",
       "train_trials=50|baselinerate=10|behaviour_sigma...       0.793619   \n",
       "train_trials=50|baselinerate=10|behaviour_sigma...       0.804719   \n",
       "train_trials=50|baselinerate=15|behaviour_sigma...       0.867195   \n",
       "train_trials=50|baselinerate=15|behaviour_sigma...       0.846869   \n",
       "train_trials=50|baselinerate=15|behaviour_sigma...       0.803804   \n",
       "train_trials=100|baselinerate=5|behaviour_sigma...       0.653776   \n",
       "train_trials=100|baselinerate=5|behaviour_sigma...       0.854692   \n",
       "train_trials=100|baselinerate=5|behaviour_sigma...       0.708835   \n",
       "train_trials=100|baselinerate=10|behaviour_sigm...       0.893068   \n",
       "train_trials=100|baselinerate=10|behaviour_sigm...       0.884577   \n",
       "train_trials=100|baselinerate=15|behaviour_sigm...       0.900530   \n",
       "train_trials=100|baselinerate=15|behaviour_sigm...       0.912719   \n",
       "train_trials=100|baselinerate=15|behaviour_sigm...       0.915284   \n",
       "train_trials=200|baselinerate=5|behaviour_sigma...       0.924920   \n",
       "train_trials=200|baselinerate=5|behaviour_sigma...       0.722918   \n",
       "train_trials=200|baselinerate=5|behaviour_sigma...       0.843678   \n",
       "train_trials=200|baselinerate=10|behaviour_sigm...       0.943548   \n",
       "train_trials=200|baselinerate=10|behaviour_sigm...       0.952191   \n",
       "train_trials=200|baselinerate=10|behaviour_sigm...       0.946820   \n",
       "train_trials=200|baselinerate=15|behaviour_sigm...       0.959582   \n",
       "train_trials=200|baselinerate=15|behaviour_sigm...       0.964467   \n",
       "train_trials=200|baselinerate=15|behaviour_sigm...       0.963143   \n",
       "\n",
       "                                                    validation_likelihood  \\\n",
       "train_trials=50|baselinerate=5|behaviour_sigma=0.5             794.083838   \n",
       "train_trials=50|baselinerate=5|behaviour_sigma=1.0             760.906305   \n",
       "train_trials=50|baselinerate=5|behaviour_sigma=2.0             751.292266   \n",
       "train_trials=50|baselinerate=10|behaviour_sigma...            1215.647977   \n",
       "train_trials=50|baselinerate=10|behaviour_sigma...            1237.436016   \n",
       "train_trials=50|baselinerate=10|behaviour_sigma...            1194.669631   \n",
       "train_trials=50|baselinerate=15|behaviour_sigma...            1538.069226   \n",
       "train_trials=50|baselinerate=15|behaviour_sigma...            1554.376360   \n",
       "train_trials=50|baselinerate=15|behaviour_sigma...            1585.804187   \n",
       "train_trials=100|baselinerate=5|behaviour_sigma...             757.708912   \n",
       "train_trials=100|baselinerate=5|behaviour_sigma...             757.838348   \n",
       "train_trials=100|baselinerate=5|behaviour_sigma...             750.364356   \n",
       "train_trials=100|baselinerate=10|behaviour_sigm...            1169.861807   \n",
       "train_trials=100|baselinerate=10|behaviour_sigm...            1192.603848   \n",
       "train_trials=100|baselinerate=15|behaviour_sigm...            1504.745167   \n",
       "train_trials=100|baselinerate=15|behaviour_sigm...            1527.992831   \n",
       "train_trials=100|baselinerate=15|behaviour_sigm...            1547.302896   \n",
       "train_trials=200|baselinerate=5|behaviour_sigma...             729.538628   \n",
       "train_trials=200|baselinerate=5|behaviour_sigma...             760.897426   \n",
       "train_trials=200|baselinerate=5|behaviour_sigma...             763.512932   \n",
       "train_trials=200|baselinerate=10|behaviour_sigm...            1159.244641   \n",
       "train_trials=200|baselinerate=10|behaviour_sigm...            1181.359519   \n",
       "train_trials=200|baselinerate=10|behaviour_sigm...            1189.312372   \n",
       "train_trials=200|baselinerate=15|behaviour_sigm...            1524.938572   \n",
       "train_trials=200|baselinerate=15|behaviour_sigm...            1527.950933   \n",
       "train_trials=200|baselinerate=15|behaviour_sigm...            1544.247180   \n",
       "\n",
       "                                                     test_r2  test_likelihood  \n",
       "train_trials=50|baselinerate=5|behaviour_sigma=0.5  0.536084       784.640045  \n",
       "train_trials=50|baselinerate=5|behaviour_sigma=1.0  0.623883       771.295839  \n",
       "train_trials=50|baselinerate=5|behaviour_sigma=2.0  0.639788       751.551899  \n",
       "train_trials=50|baselinerate=10|behaviour_sigma...  0.782543      1228.052583  \n",
       "train_trials=50|baselinerate=10|behaviour_sigma...  0.787115      1224.238563  \n",
       "train_trials=50|baselinerate=10|behaviour_sigma...  0.818928      1211.037623  \n",
       "train_trials=50|baselinerate=15|behaviour_sigma...  0.847703      1581.728096  \n",
       "train_trials=50|baselinerate=15|behaviour_sigma...  0.834191      1595.724064  \n",
       "train_trials=50|baselinerate=15|behaviour_sigma...  0.817768      1587.056580  \n",
       "train_trials=100|baselinerate=5|behaviour_sigma...  0.654292       760.252500  \n",
       "train_trials=100|baselinerate=5|behaviour_sigma...  0.854445       759.215707  \n",
       "train_trials=100|baselinerate=5|behaviour_sigma...  0.731577       754.333717  \n",
       "train_trials=100|baselinerate=10|behaviour_sigm...  0.881334      1186.833292  \n",
       "train_trials=100|baselinerate=10|behaviour_sigm...  0.882483      1190.236818  \n",
       "train_trials=100|baselinerate=15|behaviour_sigm...  0.892713      1532.191831  \n",
       "train_trials=100|baselinerate=15|behaviour_sigm...  0.920197      1524.145508  \n",
       "train_trials=100|baselinerate=15|behaviour_sigm...  0.909360      1555.750100  \n",
       "train_trials=200|baselinerate=5|behaviour_sigma...  0.927325       734.022422  \n",
       "train_trials=200|baselinerate=5|behaviour_sigma...  0.730646       758.799773  \n",
       "train_trials=200|baselinerate=5|behaviour_sigma...  0.823334       754.937509  \n",
       "train_trials=200|baselinerate=10|behaviour_sigm...  0.947328      1168.889768  \n",
       "train_trials=200|baselinerate=10|behaviour_sigm...  0.956564      1181.253149  \n",
       "train_trials=200|baselinerate=10|behaviour_sigm...  0.944525      1191.849206  \n",
       "train_trials=200|baselinerate=15|behaviour_sigm...  0.957879      1528.221715  \n",
       "train_trials=200|baselinerate=15|behaviour_sigm...  0.965555      1527.290138  \n",
       "train_trials=200|baselinerate=15|behaviour_sigm...  0.964289      1540.761739  "
      ]
     },
     "execution_count": 8,
     "metadata": {},
     "output_type": "execute_result"
    }
   ],
   "source": [
    "old_df = pd.DataFrame([{'trials': setup[k]['dataset']['train_pct'],\n",
    "  'baseline_rate': setup[k]['dataset']['base_rate'],\n",
    "  'behaviour_sigma': setup[k]['dataset']['behaviour_sigma'],\n",
    "  'train_r2': v['train']['latent_r2'], \n",
    "  'train_likelihood': v['train']['neural_likelihood'],\n",
    "  'validation_r2': v['validation']['latent_r2'], \n",
    "  'validation_likelihood': v['validation']['neural_likelihood'], \n",
    "  'test_r2': v['test']['latent_r2'],\n",
    "  'test_likelihood': v['test']['neural_likelihood']}\n",
    "    for k, v in old_stats.items()], index=list(old_stats.keys()))\n",
    "old_df.sort_values(['trials', 'baseline_rate', 'behaviour_sigma'])"
   ]
  },
  {
   "cell_type": "code",
   "execution_count": 11,
   "id": "b9c55554",
   "metadata": {},
   "outputs": [
    {
     "data": {
      "application/vnd.plotly.v1+json": {
       "config": {
        "plotlyServerURL": "https://plot.ly"
       },
       "data": [
        {
         "type": "heatmap",
         "x": [
          "5",
          "10",
          "15"
         ],
         "xaxis": "x",
         "y": [
          "50",
          "100",
          "200"
         ],
         "yaxis": "y",
         "z": [
          [
           0.7630394753342685,
           0.7628096628904242,
           0.7539426580004464
          ],
          [
           0.864571318092059,
           0.8781946059387963,
           0.8709325307388828
          ],
          [
           0.8878321085084379,
           0.9153123319259442,
           0.9113111742343915
          ]
         ],
         "zmax": 0.9288675164929173,
         "zmin": 0.7539426580004464
        },
        {
         "type": "heatmap",
         "x": [
          "5",
          "10",
          "15"
         ],
         "xaxis": "x2",
         "y": [
          "50",
          "100",
          "200"
         ],
         "yaxis": "y2",
         "z": [
          [
           0.845235523141254,
           0.8609497862433552,
           0.852093121775216
          ],
          [
           0.8844257519916385,
           0.904006632514113,
           0.8989006791361854
          ],
          [
           0.89149110383189,
           0.9282145103859683,
           0.9288675164929173
          ]
         ],
         "zmax": 0.9288675164929173,
         "zmin": 0.7539426580004464
        }
       ],
       "layout": {
        "annotations": [
         {
          "showarrow": false,
          "text": "0.85",
          "x": 0,
          "xref": "x2",
          "y": 0
         },
         {
          "showarrow": false,
          "text": "0.86",
          "x": 1,
          "xref": "x2",
          "y": 0
         },
         {
          "showarrow": false,
          "text": "0.85",
          "x": 2,
          "xref": "x2",
          "y": 0
         },
         {
          "showarrow": false,
          "text": "0.88",
          "x": 0,
          "xref": "x2",
          "y": 1
         },
         {
          "showarrow": false,
          "text": "0.90",
          "x": 1,
          "xref": "x2",
          "y": 1
         },
         {
          "showarrow": false,
          "text": "0.90",
          "x": 2,
          "xref": "x2",
          "y": 1
         },
         {
          "showarrow": false,
          "text": "0.89",
          "x": 0,
          "xref": "x2",
          "y": 2
         },
         {
          "showarrow": false,
          "text": "0.93",
          "x": 1,
          "xref": "x2",
          "y": 2
         },
         {
          "showarrow": false,
          "text": "0.93",
          "x": 2,
          "xref": "x2",
          "y": 2
         },
         {
          "showarrow": false,
          "text": "0.76",
          "x": 0,
          "xref": "x",
          "y": 0
         },
         {
          "showarrow": false,
          "text": "0.76",
          "x": 1,
          "xref": "x",
          "y": 0
         },
         {
          "showarrow": false,
          "text": "0.75",
          "x": 2,
          "xref": "x",
          "y": 0
         },
         {
          "showarrow": false,
          "text": "0.86",
          "x": 0,
          "xref": "x",
          "y": 1
         },
         {
          "showarrow": false,
          "text": "0.88",
          "x": 1,
          "xref": "x",
          "y": 1
         },
         {
          "showarrow": false,
          "text": "0.87",
          "x": 2,
          "xref": "x",
          "y": 1
         },
         {
          "showarrow": false,
          "text": "0.89",
          "x": 0,
          "xref": "x",
          "y": 2
         },
         {
          "showarrow": false,
          "text": "0.92",
          "x": 1,
          "xref": "x",
          "y": 2
         },
         {
          "showarrow": false,
          "text": "0.91",
          "x": 2,
          "xref": "x",
          "y": 2
         },
         {
          "showarrow": false,
          "text": "Average R2 on a 1000 trials test set, for 3 independent model runs.",
          "x": 1.9,
          "xref": "x domain",
          "y": -0.22,
          "yref": "y domain"
         },
         {
          "showarrow": false,
          "text": "LFADS",
          "x": 0.5,
          "xref": "x domain",
          "y": 1.08,
          "yref": "y domain"
         },
         {
          "showarrow": false,
          "text": "TNDM",
          "x": 1.8,
          "xref": "x domain",
          "y": 1.08,
          "yref": "y domain"
         }
        ],
        "template": {
         "data": {
          "bar": [
           {
            "error_x": {
             "color": "#2a3f5f"
            },
            "error_y": {
             "color": "#2a3f5f"
            },
            "marker": {
             "line": {
              "color": "#E5ECF6",
              "width": 0.5
             }
            },
            "type": "bar"
           }
          ],
          "barpolar": [
           {
            "marker": {
             "line": {
              "color": "#E5ECF6",
              "width": 0.5
             }
            },
            "type": "barpolar"
           }
          ],
          "carpet": [
           {
            "aaxis": {
             "endlinecolor": "#2a3f5f",
             "gridcolor": "white",
             "linecolor": "white",
             "minorgridcolor": "white",
             "startlinecolor": "#2a3f5f"
            },
            "baxis": {
             "endlinecolor": "#2a3f5f",
             "gridcolor": "white",
             "linecolor": "white",
             "minorgridcolor": "white",
             "startlinecolor": "#2a3f5f"
            },
            "type": "carpet"
           }
          ],
          "choropleth": [
           {
            "colorbar": {
             "outlinewidth": 0,
             "ticks": ""
            },
            "type": "choropleth"
           }
          ],
          "contour": [
           {
            "colorbar": {
             "outlinewidth": 0,
             "ticks": ""
            },
            "colorscale": [
             [
              0,
              "#0d0887"
             ],
             [
              0.1111111111111111,
              "#46039f"
             ],
             [
              0.2222222222222222,
              "#7201a8"
             ],
             [
              0.3333333333333333,
              "#9c179e"
             ],
             [
              0.4444444444444444,
              "#bd3786"
             ],
             [
              0.5555555555555556,
              "#d8576b"
             ],
             [
              0.6666666666666666,
              "#ed7953"
             ],
             [
              0.7777777777777778,
              "#fb9f3a"
             ],
             [
              0.8888888888888888,
              "#fdca26"
             ],
             [
              1,
              "#f0f921"
             ]
            ],
            "type": "contour"
           }
          ],
          "contourcarpet": [
           {
            "colorbar": {
             "outlinewidth": 0,
             "ticks": ""
            },
            "type": "contourcarpet"
           }
          ],
          "heatmap": [
           {
            "colorbar": {
             "outlinewidth": 0,
             "ticks": ""
            },
            "colorscale": [
             [
              0,
              "#0d0887"
             ],
             [
              0.1111111111111111,
              "#46039f"
             ],
             [
              0.2222222222222222,
              "#7201a8"
             ],
             [
              0.3333333333333333,
              "#9c179e"
             ],
             [
              0.4444444444444444,
              "#bd3786"
             ],
             [
              0.5555555555555556,
              "#d8576b"
             ],
             [
              0.6666666666666666,
              "#ed7953"
             ],
             [
              0.7777777777777778,
              "#fb9f3a"
             ],
             [
              0.8888888888888888,
              "#fdca26"
             ],
             [
              1,
              "#f0f921"
             ]
            ],
            "type": "heatmap"
           }
          ],
          "heatmapgl": [
           {
            "colorbar": {
             "outlinewidth": 0,
             "ticks": ""
            },
            "colorscale": [
             [
              0,
              "#0d0887"
             ],
             [
              0.1111111111111111,
              "#46039f"
             ],
             [
              0.2222222222222222,
              "#7201a8"
             ],
             [
              0.3333333333333333,
              "#9c179e"
             ],
             [
              0.4444444444444444,
              "#bd3786"
             ],
             [
              0.5555555555555556,
              "#d8576b"
             ],
             [
              0.6666666666666666,
              "#ed7953"
             ],
             [
              0.7777777777777778,
              "#fb9f3a"
             ],
             [
              0.8888888888888888,
              "#fdca26"
             ],
             [
              1,
              "#f0f921"
             ]
            ],
            "type": "heatmapgl"
           }
          ],
          "histogram": [
           {
            "marker": {
             "colorbar": {
              "outlinewidth": 0,
              "ticks": ""
             }
            },
            "type": "histogram"
           }
          ],
          "histogram2d": [
           {
            "colorbar": {
             "outlinewidth": 0,
             "ticks": ""
            },
            "colorscale": [
             [
              0,
              "#0d0887"
             ],
             [
              0.1111111111111111,
              "#46039f"
             ],
             [
              0.2222222222222222,
              "#7201a8"
             ],
             [
              0.3333333333333333,
              "#9c179e"
             ],
             [
              0.4444444444444444,
              "#bd3786"
             ],
             [
              0.5555555555555556,
              "#d8576b"
             ],
             [
              0.6666666666666666,
              "#ed7953"
             ],
             [
              0.7777777777777778,
              "#fb9f3a"
             ],
             [
              0.8888888888888888,
              "#fdca26"
             ],
             [
              1,
              "#f0f921"
             ]
            ],
            "type": "histogram2d"
           }
          ],
          "histogram2dcontour": [
           {
            "colorbar": {
             "outlinewidth": 0,
             "ticks": ""
            },
            "colorscale": [
             [
              0,
              "#0d0887"
             ],
             [
              0.1111111111111111,
              "#46039f"
             ],
             [
              0.2222222222222222,
              "#7201a8"
             ],
             [
              0.3333333333333333,
              "#9c179e"
             ],
             [
              0.4444444444444444,
              "#bd3786"
             ],
             [
              0.5555555555555556,
              "#d8576b"
             ],
             [
              0.6666666666666666,
              "#ed7953"
             ],
             [
              0.7777777777777778,
              "#fb9f3a"
             ],
             [
              0.8888888888888888,
              "#fdca26"
             ],
             [
              1,
              "#f0f921"
             ]
            ],
            "type": "histogram2dcontour"
           }
          ],
          "mesh3d": [
           {
            "colorbar": {
             "outlinewidth": 0,
             "ticks": ""
            },
            "type": "mesh3d"
           }
          ],
          "parcoords": [
           {
            "line": {
             "colorbar": {
              "outlinewidth": 0,
              "ticks": ""
             }
            },
            "type": "parcoords"
           }
          ],
          "pie": [
           {
            "automargin": true,
            "type": "pie"
           }
          ],
          "scatter": [
           {
            "marker": {
             "colorbar": {
              "outlinewidth": 0,
              "ticks": ""
             }
            },
            "type": "scatter"
           }
          ],
          "scatter3d": [
           {
            "line": {
             "colorbar": {
              "outlinewidth": 0,
              "ticks": ""
             }
            },
            "marker": {
             "colorbar": {
              "outlinewidth": 0,
              "ticks": ""
             }
            },
            "type": "scatter3d"
           }
          ],
          "scattercarpet": [
           {
            "marker": {
             "colorbar": {
              "outlinewidth": 0,
              "ticks": ""
             }
            },
            "type": "scattercarpet"
           }
          ],
          "scattergeo": [
           {
            "marker": {
             "colorbar": {
              "outlinewidth": 0,
              "ticks": ""
             }
            },
            "type": "scattergeo"
           }
          ],
          "scattergl": [
           {
            "marker": {
             "colorbar": {
              "outlinewidth": 0,
              "ticks": ""
             }
            },
            "type": "scattergl"
           }
          ],
          "scattermapbox": [
           {
            "marker": {
             "colorbar": {
              "outlinewidth": 0,
              "ticks": ""
             }
            },
            "type": "scattermapbox"
           }
          ],
          "scatterpolar": [
           {
            "marker": {
             "colorbar": {
              "outlinewidth": 0,
              "ticks": ""
             }
            },
            "type": "scatterpolar"
           }
          ],
          "scatterpolargl": [
           {
            "marker": {
             "colorbar": {
              "outlinewidth": 0,
              "ticks": ""
             }
            },
            "type": "scatterpolargl"
           }
          ],
          "scatterternary": [
           {
            "marker": {
             "colorbar": {
              "outlinewidth": 0,
              "ticks": ""
             }
            },
            "type": "scatterternary"
           }
          ],
          "surface": [
           {
            "colorbar": {
             "outlinewidth": 0,
             "ticks": ""
            },
            "colorscale": [
             [
              0,
              "#0d0887"
             ],
             [
              0.1111111111111111,
              "#46039f"
             ],
             [
              0.2222222222222222,
              "#7201a8"
             ],
             [
              0.3333333333333333,
              "#9c179e"
             ],
             [
              0.4444444444444444,
              "#bd3786"
             ],
             [
              0.5555555555555556,
              "#d8576b"
             ],
             [
              0.6666666666666666,
              "#ed7953"
             ],
             [
              0.7777777777777778,
              "#fb9f3a"
             ],
             [
              0.8888888888888888,
              "#fdca26"
             ],
             [
              1,
              "#f0f921"
             ]
            ],
            "type": "surface"
           }
          ],
          "table": [
           {
            "cells": {
             "fill": {
              "color": "#EBF0F8"
             },
             "line": {
              "color": "white"
             }
            },
            "header": {
             "fill": {
              "color": "#C8D4E3"
             },
             "line": {
              "color": "white"
             }
            },
            "type": "table"
           }
          ]
         },
         "layout": {
          "annotationdefaults": {
           "arrowcolor": "#2a3f5f",
           "arrowhead": 0,
           "arrowwidth": 1
          },
          "autotypenumbers": "strict",
          "coloraxis": {
           "colorbar": {
            "outlinewidth": 0,
            "ticks": ""
           }
          },
          "colorscale": {
           "diverging": [
            [
             0,
             "#8e0152"
            ],
            [
             0.1,
             "#c51b7d"
            ],
            [
             0.2,
             "#de77ae"
            ],
            [
             0.3,
             "#f1b6da"
            ],
            [
             0.4,
             "#fde0ef"
            ],
            [
             0.5,
             "#f7f7f7"
            ],
            [
             0.6,
             "#e6f5d0"
            ],
            [
             0.7,
             "#b8e186"
            ],
            [
             0.8,
             "#7fbc41"
            ],
            [
             0.9,
             "#4d9221"
            ],
            [
             1,
             "#276419"
            ]
           ],
           "sequential": [
            [
             0,
             "#0d0887"
            ],
            [
             0.1111111111111111,
             "#46039f"
            ],
            [
             0.2222222222222222,
             "#7201a8"
            ],
            [
             0.3333333333333333,
             "#9c179e"
            ],
            [
             0.4444444444444444,
             "#bd3786"
            ],
            [
             0.5555555555555556,
             "#d8576b"
            ],
            [
             0.6666666666666666,
             "#ed7953"
            ],
            [
             0.7777777777777778,
             "#fb9f3a"
            ],
            [
             0.8888888888888888,
             "#fdca26"
            ],
            [
             1,
             "#f0f921"
            ]
           ],
           "sequentialminus": [
            [
             0,
             "#0d0887"
            ],
            [
             0.1111111111111111,
             "#46039f"
            ],
            [
             0.2222222222222222,
             "#7201a8"
            ],
            [
             0.3333333333333333,
             "#9c179e"
            ],
            [
             0.4444444444444444,
             "#bd3786"
            ],
            [
             0.5555555555555556,
             "#d8576b"
            ],
            [
             0.6666666666666666,
             "#ed7953"
            ],
            [
             0.7777777777777778,
             "#fb9f3a"
            ],
            [
             0.8888888888888888,
             "#fdca26"
            ],
            [
             1,
             "#f0f921"
            ]
           ]
          },
          "colorway": [
           "#636efa",
           "#EF553B",
           "#00cc96",
           "#ab63fa",
           "#FFA15A",
           "#19d3f3",
           "#FF6692",
           "#B6E880",
           "#FF97FF",
           "#FECB52"
          ],
          "font": {
           "color": "#2a3f5f"
          },
          "geo": {
           "bgcolor": "white",
           "lakecolor": "white",
           "landcolor": "#E5ECF6",
           "showlakes": true,
           "showland": true,
           "subunitcolor": "white"
          },
          "hoverlabel": {
           "align": "left"
          },
          "hovermode": "closest",
          "mapbox": {
           "style": "light"
          },
          "paper_bgcolor": "white",
          "plot_bgcolor": "#E5ECF6",
          "polar": {
           "angularaxis": {
            "gridcolor": "white",
            "linecolor": "white",
            "ticks": ""
           },
           "bgcolor": "#E5ECF6",
           "radialaxis": {
            "gridcolor": "white",
            "linecolor": "white",
            "ticks": ""
           }
          },
          "scene": {
           "xaxis": {
            "backgroundcolor": "#E5ECF6",
            "gridcolor": "white",
            "gridwidth": 2,
            "linecolor": "white",
            "showbackground": true,
            "ticks": "",
            "zerolinecolor": "white"
           },
           "yaxis": {
            "backgroundcolor": "#E5ECF6",
            "gridcolor": "white",
            "gridwidth": 2,
            "linecolor": "white",
            "showbackground": true,
            "ticks": "",
            "zerolinecolor": "white"
           },
           "zaxis": {
            "backgroundcolor": "#E5ECF6",
            "gridcolor": "white",
            "gridwidth": 2,
            "linecolor": "white",
            "showbackground": true,
            "ticks": "",
            "zerolinecolor": "white"
           }
          },
          "shapedefaults": {
           "line": {
            "color": "#2a3f5f"
           }
          },
          "ternary": {
           "aaxis": {
            "gridcolor": "white",
            "linecolor": "white",
            "ticks": ""
           },
           "baxis": {
            "gridcolor": "white",
            "linecolor": "white",
            "ticks": ""
           },
           "bgcolor": "#E5ECF6",
           "caxis": {
            "gridcolor": "white",
            "linecolor": "white",
            "ticks": ""
           }
          },
          "title": {
           "x": 0.05
          },
          "xaxis": {
           "automargin": true,
           "gridcolor": "white",
           "linecolor": "white",
           "ticks": "",
           "title": {
            "standoff": 15
           },
           "zerolinecolor": "white",
           "zerolinewidth": 2
          },
          "yaxis": {
           "automargin": true,
           "gridcolor": "white",
           "linecolor": "white",
           "ticks": "",
           "title": {
            "standoff": 15
           },
           "zerolinecolor": "white",
           "zerolinewidth": 2
          }
         }
        },
        "title": {
         "text": "Latent Reconstruction Performance",
         "x": 0.5
        },
        "xaxis": {
         "anchor": "y",
         "domain": [
          0,
          0.45
         ],
         "title": {
          "text": "Baseline Firing Rate [Hz]"
         }
        },
        "xaxis2": {
         "anchor": "y2",
         "domain": [
          0.55,
          1
         ],
         "title": {
          "text": "Baseline Firing Rate [Hz]"
         }
        },
        "yaxis": {
         "anchor": "x",
         "domain": [
          0,
          1
         ],
         "title": {
          "text": "Training Trials"
         }
        },
        "yaxis2": {
         "anchor": "x2",
         "domain": [
          0,
          1
         ],
         "title": {
          "text": "Training Trials"
         }
        }
       }
      },
      "text/html": [
       "<div>                            <div id=\"ab31a91e-ef90-43c9-8704-1c58978d7687\" class=\"plotly-graph-div\" style=\"height:525px; width:100%;\"></div>            <script type=\"text/javascript\">                require([\"plotly\"], function(Plotly) {                    window.PLOTLYENV=window.PLOTLYENV || {};                                    if (document.getElementById(\"ab31a91e-ef90-43c9-8704-1c58978d7687\")) {                    Plotly.newPlot(                        \"ab31a91e-ef90-43c9-8704-1c58978d7687\",                        [{\"type\": \"heatmap\", \"x\": [\"5\", \"10\", \"15\"], \"xaxis\": \"x\", \"y\": [\"50\", \"100\", \"200\"], \"yaxis\": \"y\", \"z\": [[0.7630394753342685, 0.7628096628904242, 0.7539426580004464], [0.864571318092059, 0.8781946059387963, 0.8709325307388828], [0.8878321085084379, 0.9153123319259442, 0.9113111742343915]], \"zmax\": 0.9288675164929173, \"zmin\": 0.7539426580004464}, {\"type\": \"heatmap\", \"x\": [\"5\", \"10\", \"15\"], \"xaxis\": \"x2\", \"y\": [\"50\", \"100\", \"200\"], \"yaxis\": \"y2\", \"z\": [[0.845235523141254, 0.8609497862433552, 0.852093121775216], [0.8844257519916385, 0.904006632514113, 0.8989006791361854], [0.89149110383189, 0.9282145103859683, 0.9288675164929173]], \"zmax\": 0.9288675164929173, \"zmin\": 0.7539426580004464}],                        {\"annotations\": [{\"showarrow\": false, \"text\": \"0.85\", \"x\": 0, \"xref\": \"x2\", \"y\": 0}, {\"showarrow\": false, \"text\": \"0.86\", \"x\": 1, \"xref\": \"x2\", \"y\": 0}, {\"showarrow\": false, \"text\": \"0.85\", \"x\": 2, \"xref\": \"x2\", \"y\": 0}, {\"showarrow\": false, \"text\": \"0.88\", \"x\": 0, \"xref\": \"x2\", \"y\": 1}, {\"showarrow\": false, \"text\": \"0.90\", \"x\": 1, \"xref\": \"x2\", \"y\": 1}, {\"showarrow\": false, \"text\": \"0.90\", \"x\": 2, \"xref\": \"x2\", \"y\": 1}, {\"showarrow\": false, \"text\": \"0.89\", \"x\": 0, \"xref\": \"x2\", \"y\": 2}, {\"showarrow\": false, \"text\": \"0.93\", \"x\": 1, \"xref\": \"x2\", \"y\": 2}, {\"showarrow\": false, \"text\": \"0.93\", \"x\": 2, \"xref\": \"x2\", \"y\": 2}, {\"showarrow\": false, \"text\": \"0.76\", \"x\": 0, \"xref\": \"x\", \"y\": 0}, {\"showarrow\": false, \"text\": \"0.76\", \"x\": 1, \"xref\": \"x\", \"y\": 0}, {\"showarrow\": false, \"text\": \"0.75\", \"x\": 2, \"xref\": \"x\", \"y\": 0}, {\"showarrow\": false, \"text\": \"0.86\", \"x\": 0, \"xref\": \"x\", \"y\": 1}, {\"showarrow\": false, \"text\": \"0.88\", \"x\": 1, \"xref\": \"x\", \"y\": 1}, {\"showarrow\": false, \"text\": \"0.87\", \"x\": 2, \"xref\": \"x\", \"y\": 1}, {\"showarrow\": false, \"text\": \"0.89\", \"x\": 0, \"xref\": \"x\", \"y\": 2}, {\"showarrow\": false, \"text\": \"0.92\", \"x\": 1, \"xref\": \"x\", \"y\": 2}, {\"showarrow\": false, \"text\": \"0.91\", \"x\": 2, \"xref\": \"x\", \"y\": 2}, {\"showarrow\": false, \"text\": \"Average R2 on a 1000 trials test set, for 3 independent model runs.\", \"x\": 1.9, \"xref\": \"x domain\", \"y\": -0.22, \"yref\": \"y domain\"}, {\"showarrow\": false, \"text\": \"LFADS\", \"x\": 0.5, \"xref\": \"x domain\", \"y\": 1.08, \"yref\": \"y domain\"}, {\"showarrow\": false, \"text\": \"TNDM\", \"x\": 1.8, \"xref\": \"x domain\", \"y\": 1.08, \"yref\": \"y domain\"}], \"template\": {\"data\": {\"bar\": [{\"error_x\": {\"color\": \"#2a3f5f\"}, \"error_y\": {\"color\": \"#2a3f5f\"}, \"marker\": {\"line\": {\"color\": \"#E5ECF6\", \"width\": 0.5}}, \"type\": \"bar\"}], \"barpolar\": [{\"marker\": {\"line\": {\"color\": \"#E5ECF6\", \"width\": 0.5}}, \"type\": \"barpolar\"}], \"carpet\": [{\"aaxis\": {\"endlinecolor\": \"#2a3f5f\", \"gridcolor\": \"white\", \"linecolor\": \"white\", \"minorgridcolor\": \"white\", \"startlinecolor\": \"#2a3f5f\"}, \"baxis\": {\"endlinecolor\": \"#2a3f5f\", \"gridcolor\": \"white\", \"linecolor\": \"white\", \"minorgridcolor\": \"white\", \"startlinecolor\": \"#2a3f5f\"}, \"type\": \"carpet\"}], \"choropleth\": [{\"colorbar\": {\"outlinewidth\": 0, \"ticks\": \"\"}, \"type\": \"choropleth\"}], \"contour\": [{\"colorbar\": {\"outlinewidth\": 0, \"ticks\": \"\"}, \"colorscale\": [[0.0, \"#0d0887\"], [0.1111111111111111, \"#46039f\"], [0.2222222222222222, \"#7201a8\"], [0.3333333333333333, \"#9c179e\"], [0.4444444444444444, \"#bd3786\"], [0.5555555555555556, \"#d8576b\"], [0.6666666666666666, \"#ed7953\"], [0.7777777777777778, \"#fb9f3a\"], [0.8888888888888888, \"#fdca26\"], [1.0, \"#f0f921\"]], \"type\": \"contour\"}], \"contourcarpet\": [{\"colorbar\": {\"outlinewidth\": 0, \"ticks\": \"\"}, \"type\": \"contourcarpet\"}], \"heatmap\": [{\"colorbar\": {\"outlinewidth\": 0, \"ticks\": \"\"}, \"colorscale\": [[0.0, \"#0d0887\"], [0.1111111111111111, \"#46039f\"], [0.2222222222222222, \"#7201a8\"], [0.3333333333333333, \"#9c179e\"], [0.4444444444444444, \"#bd3786\"], [0.5555555555555556, \"#d8576b\"], [0.6666666666666666, \"#ed7953\"], [0.7777777777777778, \"#fb9f3a\"], [0.8888888888888888, \"#fdca26\"], [1.0, \"#f0f921\"]], \"type\": \"heatmap\"}], \"heatmapgl\": [{\"colorbar\": {\"outlinewidth\": 0, \"ticks\": \"\"}, \"colorscale\": [[0.0, \"#0d0887\"], [0.1111111111111111, \"#46039f\"], [0.2222222222222222, \"#7201a8\"], [0.3333333333333333, \"#9c179e\"], [0.4444444444444444, \"#bd3786\"], [0.5555555555555556, \"#d8576b\"], [0.6666666666666666, \"#ed7953\"], [0.7777777777777778, \"#fb9f3a\"], [0.8888888888888888, \"#fdca26\"], [1.0, \"#f0f921\"]], \"type\": \"heatmapgl\"}], \"histogram\": [{\"marker\": {\"colorbar\": {\"outlinewidth\": 0, \"ticks\": \"\"}}, \"type\": \"histogram\"}], \"histogram2d\": [{\"colorbar\": {\"outlinewidth\": 0, \"ticks\": \"\"}, \"colorscale\": [[0.0, \"#0d0887\"], [0.1111111111111111, \"#46039f\"], [0.2222222222222222, \"#7201a8\"], [0.3333333333333333, \"#9c179e\"], [0.4444444444444444, \"#bd3786\"], [0.5555555555555556, \"#d8576b\"], [0.6666666666666666, \"#ed7953\"], [0.7777777777777778, \"#fb9f3a\"], [0.8888888888888888, \"#fdca26\"], [1.0, \"#f0f921\"]], \"type\": \"histogram2d\"}], \"histogram2dcontour\": [{\"colorbar\": {\"outlinewidth\": 0, \"ticks\": \"\"}, \"colorscale\": [[0.0, \"#0d0887\"], [0.1111111111111111, \"#46039f\"], [0.2222222222222222, \"#7201a8\"], [0.3333333333333333, \"#9c179e\"], [0.4444444444444444, \"#bd3786\"], [0.5555555555555556, \"#d8576b\"], [0.6666666666666666, \"#ed7953\"], [0.7777777777777778, \"#fb9f3a\"], [0.8888888888888888, \"#fdca26\"], [1.0, \"#f0f921\"]], \"type\": \"histogram2dcontour\"}], \"mesh3d\": [{\"colorbar\": {\"outlinewidth\": 0, \"ticks\": \"\"}, \"type\": \"mesh3d\"}], \"parcoords\": [{\"line\": {\"colorbar\": {\"outlinewidth\": 0, \"ticks\": \"\"}}, \"type\": \"parcoords\"}], \"pie\": [{\"automargin\": true, \"type\": \"pie\"}], \"scatter\": [{\"marker\": {\"colorbar\": {\"outlinewidth\": 0, \"ticks\": \"\"}}, \"type\": \"scatter\"}], \"scatter3d\": [{\"line\": {\"colorbar\": {\"outlinewidth\": 0, \"ticks\": \"\"}}, \"marker\": {\"colorbar\": {\"outlinewidth\": 0, \"ticks\": \"\"}}, \"type\": \"scatter3d\"}], \"scattercarpet\": [{\"marker\": {\"colorbar\": {\"outlinewidth\": 0, \"ticks\": \"\"}}, \"type\": \"scattercarpet\"}], \"scattergeo\": [{\"marker\": {\"colorbar\": {\"outlinewidth\": 0, \"ticks\": \"\"}}, \"type\": \"scattergeo\"}], \"scattergl\": [{\"marker\": {\"colorbar\": {\"outlinewidth\": 0, \"ticks\": \"\"}}, \"type\": \"scattergl\"}], \"scattermapbox\": [{\"marker\": {\"colorbar\": {\"outlinewidth\": 0, \"ticks\": \"\"}}, \"type\": \"scattermapbox\"}], \"scatterpolar\": [{\"marker\": {\"colorbar\": {\"outlinewidth\": 0, \"ticks\": \"\"}}, \"type\": \"scatterpolar\"}], \"scatterpolargl\": [{\"marker\": {\"colorbar\": {\"outlinewidth\": 0, \"ticks\": \"\"}}, \"type\": \"scatterpolargl\"}], \"scatterternary\": [{\"marker\": {\"colorbar\": {\"outlinewidth\": 0, \"ticks\": \"\"}}, \"type\": \"scatterternary\"}], \"surface\": [{\"colorbar\": {\"outlinewidth\": 0, \"ticks\": \"\"}, \"colorscale\": [[0.0, \"#0d0887\"], [0.1111111111111111, \"#46039f\"], [0.2222222222222222, \"#7201a8\"], [0.3333333333333333, \"#9c179e\"], [0.4444444444444444, \"#bd3786\"], [0.5555555555555556, \"#d8576b\"], [0.6666666666666666, \"#ed7953\"], [0.7777777777777778, \"#fb9f3a\"], [0.8888888888888888, \"#fdca26\"], [1.0, \"#f0f921\"]], \"type\": \"surface\"}], \"table\": [{\"cells\": {\"fill\": {\"color\": \"#EBF0F8\"}, \"line\": {\"color\": \"white\"}}, \"header\": {\"fill\": {\"color\": \"#C8D4E3\"}, \"line\": {\"color\": \"white\"}}, \"type\": \"table\"}]}, \"layout\": {\"annotationdefaults\": {\"arrowcolor\": \"#2a3f5f\", \"arrowhead\": 0, \"arrowwidth\": 1}, \"autotypenumbers\": \"strict\", \"coloraxis\": {\"colorbar\": {\"outlinewidth\": 0, \"ticks\": \"\"}}, \"colorscale\": {\"diverging\": [[0, \"#8e0152\"], [0.1, \"#c51b7d\"], [0.2, \"#de77ae\"], [0.3, \"#f1b6da\"], [0.4, \"#fde0ef\"], [0.5, \"#f7f7f7\"], [0.6, \"#e6f5d0\"], [0.7, \"#b8e186\"], [0.8, \"#7fbc41\"], [0.9, \"#4d9221\"], [1, \"#276419\"]], \"sequential\": [[0.0, \"#0d0887\"], [0.1111111111111111, \"#46039f\"], [0.2222222222222222, \"#7201a8\"], [0.3333333333333333, \"#9c179e\"], [0.4444444444444444, \"#bd3786\"], [0.5555555555555556, \"#d8576b\"], [0.6666666666666666, \"#ed7953\"], [0.7777777777777778, \"#fb9f3a\"], [0.8888888888888888, \"#fdca26\"], [1.0, \"#f0f921\"]], \"sequentialminus\": [[0.0, \"#0d0887\"], [0.1111111111111111, \"#46039f\"], [0.2222222222222222, \"#7201a8\"], [0.3333333333333333, \"#9c179e\"], [0.4444444444444444, \"#bd3786\"], [0.5555555555555556, \"#d8576b\"], [0.6666666666666666, \"#ed7953\"], [0.7777777777777778, \"#fb9f3a\"], [0.8888888888888888, \"#fdca26\"], [1.0, \"#f0f921\"]]}, \"colorway\": [\"#636efa\", \"#EF553B\", \"#00cc96\", \"#ab63fa\", \"#FFA15A\", \"#19d3f3\", \"#FF6692\", \"#B6E880\", \"#FF97FF\", \"#FECB52\"], \"font\": {\"color\": \"#2a3f5f\"}, \"geo\": {\"bgcolor\": \"white\", \"lakecolor\": \"white\", \"landcolor\": \"#E5ECF6\", \"showlakes\": true, \"showland\": true, \"subunitcolor\": \"white\"}, \"hoverlabel\": {\"align\": \"left\"}, \"hovermode\": \"closest\", \"mapbox\": {\"style\": \"light\"}, \"paper_bgcolor\": \"white\", \"plot_bgcolor\": \"#E5ECF6\", \"polar\": {\"angularaxis\": {\"gridcolor\": \"white\", \"linecolor\": \"white\", \"ticks\": \"\"}, \"bgcolor\": \"#E5ECF6\", \"radialaxis\": {\"gridcolor\": \"white\", \"linecolor\": \"white\", \"ticks\": \"\"}}, \"scene\": {\"xaxis\": {\"backgroundcolor\": \"#E5ECF6\", \"gridcolor\": \"white\", \"gridwidth\": 2, \"linecolor\": \"white\", \"showbackground\": true, \"ticks\": \"\", \"zerolinecolor\": \"white\"}, \"yaxis\": {\"backgroundcolor\": \"#E5ECF6\", \"gridcolor\": \"white\", \"gridwidth\": 2, \"linecolor\": \"white\", \"showbackground\": true, \"ticks\": \"\", \"zerolinecolor\": \"white\"}, \"zaxis\": {\"backgroundcolor\": \"#E5ECF6\", \"gridcolor\": \"white\", \"gridwidth\": 2, \"linecolor\": \"white\", \"showbackground\": true, \"ticks\": \"\", \"zerolinecolor\": \"white\"}}, \"shapedefaults\": {\"line\": {\"color\": \"#2a3f5f\"}}, \"ternary\": {\"aaxis\": {\"gridcolor\": \"white\", \"linecolor\": \"white\", \"ticks\": \"\"}, \"baxis\": {\"gridcolor\": \"white\", \"linecolor\": \"white\", \"ticks\": \"\"}, \"bgcolor\": \"#E5ECF6\", \"caxis\": {\"gridcolor\": \"white\", \"linecolor\": \"white\", \"ticks\": \"\"}}, \"title\": {\"x\": 0.05}, \"xaxis\": {\"automargin\": true, \"gridcolor\": \"white\", \"linecolor\": \"white\", \"ticks\": \"\", \"title\": {\"standoff\": 15}, \"zerolinecolor\": \"white\", \"zerolinewidth\": 2}, \"yaxis\": {\"automargin\": true, \"gridcolor\": \"white\", \"linecolor\": \"white\", \"ticks\": \"\", \"title\": {\"standoff\": 15}, \"zerolinecolor\": \"white\", \"zerolinewidth\": 2}}}, \"title\": {\"text\": \"Latent Reconstruction Performance\", \"x\": 0.5}, \"xaxis\": {\"anchor\": \"y\", \"domain\": [0.0, 0.45], \"title\": {\"text\": \"Baseline Firing Rate [Hz]\"}}, \"xaxis2\": {\"anchor\": \"y2\", \"domain\": [0.55, 1.0], \"title\": {\"text\": \"Baseline Firing Rate [Hz]\"}}, \"yaxis\": {\"anchor\": \"x\", \"domain\": [0.0, 1.0], \"title\": {\"text\": \"Training Trials\"}}, \"yaxis2\": {\"anchor\": \"x2\", \"domain\": [0.0, 1.0], \"title\": {\"text\": \"Training Trials\"}}},                        {\"responsive\": true}                    ).then(function(){\n",
       "                            \n",
       "var gd = document.getElementById('ab31a91e-ef90-43c9-8704-1c58978d7687');\n",
       "var x = new MutationObserver(function (mutations, observer) {{\n",
       "        var display = window.getComputedStyle(gd).display;\n",
       "        if (!display || display === 'none') {{\n",
       "            console.log([gd, 'removed!']);\n",
       "            Plotly.purge(gd);\n",
       "            observer.disconnect();\n",
       "        }}\n",
       "}});\n",
       "\n",
       "// Listen for the removal of the full notebook cells\n",
       "var notebookContainer = gd.closest('#notebook-container');\n",
       "if (notebookContainer) {{\n",
       "    x.observe(notebookContainer, {childList: true});\n",
       "}}\n",
       "\n",
       "// Listen for the clearing of the current output cell\n",
       "var outputEl = gd.closest('.output');\n",
       "if (outputEl) {{\n",
       "    x.observe(outputEl, {childList: true});\n",
       "}}\n",
       "\n",
       "                        })                };                });            </script>        </div>"
      ]
     },
     "metadata": {},
     "output_type": "display_data"
    },
    {
     "data": {
      "application/vnd.plotly.v1+json": {
       "config": {
        "plotlyServerURL": "https://plot.ly"
       },
       "data": [
        {
         "type": "heatmap",
         "x": [
          "5",
          "10",
          "15"
         ],
         "xaxis": "x",
         "y": [
          "50",
          "100",
          "200"
         ],
         "yaxis": "y",
         "z": [
          [
           0.08219604780698553,
           0.09814012335293099,
           0.09815046377476966
          ],
          [
           0.019854433899579527,
           0.02581202657531667,
           0.02796814839730266
          ],
          [
           0.003658995323452152,
           0.01290217846002406,
           0.01755634225852587
          ]
         ]
        }
       ],
       "layout": {
        "annotations": [
         {
          "showarrow": false,
          "text": "0.08",
          "x": 0,
          "xref": "x",
          "y": 0
         },
         {
          "showarrow": false,
          "text": "0.10",
          "x": 1,
          "xref": "x",
          "y": 0
         },
         {
          "showarrow": false,
          "text": "0.10",
          "x": 2,
          "xref": "x",
          "y": 0
         },
         {
          "showarrow": false,
          "text": "0.02",
          "x": 0,
          "xref": "x",
          "y": 1
         },
         {
          "showarrow": false,
          "text": "0.03",
          "x": 1,
          "xref": "x",
          "y": 1
         },
         {
          "showarrow": false,
          "text": "0.03",
          "x": 2,
          "xref": "x",
          "y": 1
         },
         {
          "showarrow": false,
          "text": "0.00",
          "x": 0,
          "xref": "x",
          "y": 2
         },
         {
          "showarrow": false,
          "text": "0.01",
          "x": 1,
          "xref": "x",
          "y": 2
         },
         {
          "showarrow": false,
          "text": "0.02",
          "x": 2,
          "xref": "x",
          "y": 2
         },
         {
          "showarrow": false,
          "text": "Difference in average R2 on a 1000 trials test set, for 3 independent model runs.",
          "x": 0.5,
          "xref": "x domain",
          "y": -0.22,
          "yref": "y domain"
         }
        ],
        "template": {
         "data": {
          "bar": [
           {
            "error_x": {
             "color": "#2a3f5f"
            },
            "error_y": {
             "color": "#2a3f5f"
            },
            "marker": {
             "line": {
              "color": "#E5ECF6",
              "width": 0.5
             }
            },
            "type": "bar"
           }
          ],
          "barpolar": [
           {
            "marker": {
             "line": {
              "color": "#E5ECF6",
              "width": 0.5
             }
            },
            "type": "barpolar"
           }
          ],
          "carpet": [
           {
            "aaxis": {
             "endlinecolor": "#2a3f5f",
             "gridcolor": "white",
             "linecolor": "white",
             "minorgridcolor": "white",
             "startlinecolor": "#2a3f5f"
            },
            "baxis": {
             "endlinecolor": "#2a3f5f",
             "gridcolor": "white",
             "linecolor": "white",
             "minorgridcolor": "white",
             "startlinecolor": "#2a3f5f"
            },
            "type": "carpet"
           }
          ],
          "choropleth": [
           {
            "colorbar": {
             "outlinewidth": 0,
             "ticks": ""
            },
            "type": "choropleth"
           }
          ],
          "contour": [
           {
            "colorbar": {
             "outlinewidth": 0,
             "ticks": ""
            },
            "colorscale": [
             [
              0,
              "#0d0887"
             ],
             [
              0.1111111111111111,
              "#46039f"
             ],
             [
              0.2222222222222222,
              "#7201a8"
             ],
             [
              0.3333333333333333,
              "#9c179e"
             ],
             [
              0.4444444444444444,
              "#bd3786"
             ],
             [
              0.5555555555555556,
              "#d8576b"
             ],
             [
              0.6666666666666666,
              "#ed7953"
             ],
             [
              0.7777777777777778,
              "#fb9f3a"
             ],
             [
              0.8888888888888888,
              "#fdca26"
             ],
             [
              1,
              "#f0f921"
             ]
            ],
            "type": "contour"
           }
          ],
          "contourcarpet": [
           {
            "colorbar": {
             "outlinewidth": 0,
             "ticks": ""
            },
            "type": "contourcarpet"
           }
          ],
          "heatmap": [
           {
            "colorbar": {
             "outlinewidth": 0,
             "ticks": ""
            },
            "colorscale": [
             [
              0,
              "#0d0887"
             ],
             [
              0.1111111111111111,
              "#46039f"
             ],
             [
              0.2222222222222222,
              "#7201a8"
             ],
             [
              0.3333333333333333,
              "#9c179e"
             ],
             [
              0.4444444444444444,
              "#bd3786"
             ],
             [
              0.5555555555555556,
              "#d8576b"
             ],
             [
              0.6666666666666666,
              "#ed7953"
             ],
             [
              0.7777777777777778,
              "#fb9f3a"
             ],
             [
              0.8888888888888888,
              "#fdca26"
             ],
             [
              1,
              "#f0f921"
             ]
            ],
            "type": "heatmap"
           }
          ],
          "heatmapgl": [
           {
            "colorbar": {
             "outlinewidth": 0,
             "ticks": ""
            },
            "colorscale": [
             [
              0,
              "#0d0887"
             ],
             [
              0.1111111111111111,
              "#46039f"
             ],
             [
              0.2222222222222222,
              "#7201a8"
             ],
             [
              0.3333333333333333,
              "#9c179e"
             ],
             [
              0.4444444444444444,
              "#bd3786"
             ],
             [
              0.5555555555555556,
              "#d8576b"
             ],
             [
              0.6666666666666666,
              "#ed7953"
             ],
             [
              0.7777777777777778,
              "#fb9f3a"
             ],
             [
              0.8888888888888888,
              "#fdca26"
             ],
             [
              1,
              "#f0f921"
             ]
            ],
            "type": "heatmapgl"
           }
          ],
          "histogram": [
           {
            "marker": {
             "colorbar": {
              "outlinewidth": 0,
              "ticks": ""
             }
            },
            "type": "histogram"
           }
          ],
          "histogram2d": [
           {
            "colorbar": {
             "outlinewidth": 0,
             "ticks": ""
            },
            "colorscale": [
             [
              0,
              "#0d0887"
             ],
             [
              0.1111111111111111,
              "#46039f"
             ],
             [
              0.2222222222222222,
              "#7201a8"
             ],
             [
              0.3333333333333333,
              "#9c179e"
             ],
             [
              0.4444444444444444,
              "#bd3786"
             ],
             [
              0.5555555555555556,
              "#d8576b"
             ],
             [
              0.6666666666666666,
              "#ed7953"
             ],
             [
              0.7777777777777778,
              "#fb9f3a"
             ],
             [
              0.8888888888888888,
              "#fdca26"
             ],
             [
              1,
              "#f0f921"
             ]
            ],
            "type": "histogram2d"
           }
          ],
          "histogram2dcontour": [
           {
            "colorbar": {
             "outlinewidth": 0,
             "ticks": ""
            },
            "colorscale": [
             [
              0,
              "#0d0887"
             ],
             [
              0.1111111111111111,
              "#46039f"
             ],
             [
              0.2222222222222222,
              "#7201a8"
             ],
             [
              0.3333333333333333,
              "#9c179e"
             ],
             [
              0.4444444444444444,
              "#bd3786"
             ],
             [
              0.5555555555555556,
              "#d8576b"
             ],
             [
              0.6666666666666666,
              "#ed7953"
             ],
             [
              0.7777777777777778,
              "#fb9f3a"
             ],
             [
              0.8888888888888888,
              "#fdca26"
             ],
             [
              1,
              "#f0f921"
             ]
            ],
            "type": "histogram2dcontour"
           }
          ],
          "mesh3d": [
           {
            "colorbar": {
             "outlinewidth": 0,
             "ticks": ""
            },
            "type": "mesh3d"
           }
          ],
          "parcoords": [
           {
            "line": {
             "colorbar": {
              "outlinewidth": 0,
              "ticks": ""
             }
            },
            "type": "parcoords"
           }
          ],
          "pie": [
           {
            "automargin": true,
            "type": "pie"
           }
          ],
          "scatter": [
           {
            "marker": {
             "colorbar": {
              "outlinewidth": 0,
              "ticks": ""
             }
            },
            "type": "scatter"
           }
          ],
          "scatter3d": [
           {
            "line": {
             "colorbar": {
              "outlinewidth": 0,
              "ticks": ""
             }
            },
            "marker": {
             "colorbar": {
              "outlinewidth": 0,
              "ticks": ""
             }
            },
            "type": "scatter3d"
           }
          ],
          "scattercarpet": [
           {
            "marker": {
             "colorbar": {
              "outlinewidth": 0,
              "ticks": ""
             }
            },
            "type": "scattercarpet"
           }
          ],
          "scattergeo": [
           {
            "marker": {
             "colorbar": {
              "outlinewidth": 0,
              "ticks": ""
             }
            },
            "type": "scattergeo"
           }
          ],
          "scattergl": [
           {
            "marker": {
             "colorbar": {
              "outlinewidth": 0,
              "ticks": ""
             }
            },
            "type": "scattergl"
           }
          ],
          "scattermapbox": [
           {
            "marker": {
             "colorbar": {
              "outlinewidth": 0,
              "ticks": ""
             }
            },
            "type": "scattermapbox"
           }
          ],
          "scatterpolar": [
           {
            "marker": {
             "colorbar": {
              "outlinewidth": 0,
              "ticks": ""
             }
            },
            "type": "scatterpolar"
           }
          ],
          "scatterpolargl": [
           {
            "marker": {
             "colorbar": {
              "outlinewidth": 0,
              "ticks": ""
             }
            },
            "type": "scatterpolargl"
           }
          ],
          "scatterternary": [
           {
            "marker": {
             "colorbar": {
              "outlinewidth": 0,
              "ticks": ""
             }
            },
            "type": "scatterternary"
           }
          ],
          "surface": [
           {
            "colorbar": {
             "outlinewidth": 0,
             "ticks": ""
            },
            "colorscale": [
             [
              0,
              "#0d0887"
             ],
             [
              0.1111111111111111,
              "#46039f"
             ],
             [
              0.2222222222222222,
              "#7201a8"
             ],
             [
              0.3333333333333333,
              "#9c179e"
             ],
             [
              0.4444444444444444,
              "#bd3786"
             ],
             [
              0.5555555555555556,
              "#d8576b"
             ],
             [
              0.6666666666666666,
              "#ed7953"
             ],
             [
              0.7777777777777778,
              "#fb9f3a"
             ],
             [
              0.8888888888888888,
              "#fdca26"
             ],
             [
              1,
              "#f0f921"
             ]
            ],
            "type": "surface"
           }
          ],
          "table": [
           {
            "cells": {
             "fill": {
              "color": "#EBF0F8"
             },
             "line": {
              "color": "white"
             }
            },
            "header": {
             "fill": {
              "color": "#C8D4E3"
             },
             "line": {
              "color": "white"
             }
            },
            "type": "table"
           }
          ]
         },
         "layout": {
          "annotationdefaults": {
           "arrowcolor": "#2a3f5f",
           "arrowhead": 0,
           "arrowwidth": 1
          },
          "autotypenumbers": "strict",
          "coloraxis": {
           "colorbar": {
            "outlinewidth": 0,
            "ticks": ""
           }
          },
          "colorscale": {
           "diverging": [
            [
             0,
             "#8e0152"
            ],
            [
             0.1,
             "#c51b7d"
            ],
            [
             0.2,
             "#de77ae"
            ],
            [
             0.3,
             "#f1b6da"
            ],
            [
             0.4,
             "#fde0ef"
            ],
            [
             0.5,
             "#f7f7f7"
            ],
            [
             0.6,
             "#e6f5d0"
            ],
            [
             0.7,
             "#b8e186"
            ],
            [
             0.8,
             "#7fbc41"
            ],
            [
             0.9,
             "#4d9221"
            ],
            [
             1,
             "#276419"
            ]
           ],
           "sequential": [
            [
             0,
             "#0d0887"
            ],
            [
             0.1111111111111111,
             "#46039f"
            ],
            [
             0.2222222222222222,
             "#7201a8"
            ],
            [
             0.3333333333333333,
             "#9c179e"
            ],
            [
             0.4444444444444444,
             "#bd3786"
            ],
            [
             0.5555555555555556,
             "#d8576b"
            ],
            [
             0.6666666666666666,
             "#ed7953"
            ],
            [
             0.7777777777777778,
             "#fb9f3a"
            ],
            [
             0.8888888888888888,
             "#fdca26"
            ],
            [
             1,
             "#f0f921"
            ]
           ],
           "sequentialminus": [
            [
             0,
             "#0d0887"
            ],
            [
             0.1111111111111111,
             "#46039f"
            ],
            [
             0.2222222222222222,
             "#7201a8"
            ],
            [
             0.3333333333333333,
             "#9c179e"
            ],
            [
             0.4444444444444444,
             "#bd3786"
            ],
            [
             0.5555555555555556,
             "#d8576b"
            ],
            [
             0.6666666666666666,
             "#ed7953"
            ],
            [
             0.7777777777777778,
             "#fb9f3a"
            ],
            [
             0.8888888888888888,
             "#fdca26"
            ],
            [
             1,
             "#f0f921"
            ]
           ]
          },
          "colorway": [
           "#636efa",
           "#EF553B",
           "#00cc96",
           "#ab63fa",
           "#FFA15A",
           "#19d3f3",
           "#FF6692",
           "#B6E880",
           "#FF97FF",
           "#FECB52"
          ],
          "font": {
           "color": "#2a3f5f"
          },
          "geo": {
           "bgcolor": "white",
           "lakecolor": "white",
           "landcolor": "#E5ECF6",
           "showlakes": true,
           "showland": true,
           "subunitcolor": "white"
          },
          "hoverlabel": {
           "align": "left"
          },
          "hovermode": "closest",
          "mapbox": {
           "style": "light"
          },
          "paper_bgcolor": "white",
          "plot_bgcolor": "#E5ECF6",
          "polar": {
           "angularaxis": {
            "gridcolor": "white",
            "linecolor": "white",
            "ticks": ""
           },
           "bgcolor": "#E5ECF6",
           "radialaxis": {
            "gridcolor": "white",
            "linecolor": "white",
            "ticks": ""
           }
          },
          "scene": {
           "xaxis": {
            "backgroundcolor": "#E5ECF6",
            "gridcolor": "white",
            "gridwidth": 2,
            "linecolor": "white",
            "showbackground": true,
            "ticks": "",
            "zerolinecolor": "white"
           },
           "yaxis": {
            "backgroundcolor": "#E5ECF6",
            "gridcolor": "white",
            "gridwidth": 2,
            "linecolor": "white",
            "showbackground": true,
            "ticks": "",
            "zerolinecolor": "white"
           },
           "zaxis": {
            "backgroundcolor": "#E5ECF6",
            "gridcolor": "white",
            "gridwidth": 2,
            "linecolor": "white",
            "showbackground": true,
            "ticks": "",
            "zerolinecolor": "white"
           }
          },
          "shapedefaults": {
           "line": {
            "color": "#2a3f5f"
           }
          },
          "ternary": {
           "aaxis": {
            "gridcolor": "white",
            "linecolor": "white",
            "ticks": ""
           },
           "baxis": {
            "gridcolor": "white",
            "linecolor": "white",
            "ticks": ""
           },
           "bgcolor": "#E5ECF6",
           "caxis": {
            "gridcolor": "white",
            "linecolor": "white",
            "ticks": ""
           }
          },
          "title": {
           "x": 0.05
          },
          "xaxis": {
           "automargin": true,
           "gridcolor": "white",
           "linecolor": "white",
           "ticks": "",
           "title": {
            "standoff": 15
           },
           "zerolinecolor": "white",
           "zerolinewidth": 2
          },
          "yaxis": {
           "automargin": true,
           "gridcolor": "white",
           "linecolor": "white",
           "ticks": "",
           "title": {
            "standoff": 15
           },
           "zerolinecolor": "white",
           "zerolinewidth": 2
          }
         }
        },
        "title": {
         "text": "Latent Reconstruction Difference",
         "x": 0.5
        },
        "xaxis": {
         "anchor": "y",
         "domain": [
          0,
          1
         ],
         "title": {
          "text": "Baseline Firing Rate [Hz]"
         }
        },
        "yaxis": {
         "anchor": "x",
         "domain": [
          0,
          1
         ],
         "title": {
          "text": "Training Trials"
         }
        }
       }
      },
      "text/html": [
       "<div>                            <div id=\"2f8deb01-1f75-4a27-a13c-96ef6aed8638\" class=\"plotly-graph-div\" style=\"height:525px; width:100%;\"></div>            <script type=\"text/javascript\">                require([\"plotly\"], function(Plotly) {                    window.PLOTLYENV=window.PLOTLYENV || {};                                    if (document.getElementById(\"2f8deb01-1f75-4a27-a13c-96ef6aed8638\")) {                    Plotly.newPlot(                        \"2f8deb01-1f75-4a27-a13c-96ef6aed8638\",                        [{\"type\": \"heatmap\", \"x\": [\"5\", \"10\", \"15\"], \"xaxis\": \"x\", \"y\": [\"50\", \"100\", \"200\"], \"yaxis\": \"y\", \"z\": [[0.08219604780698553, 0.09814012335293099, 0.09815046377476966], [0.019854433899579527, 0.02581202657531667, 0.02796814839730266], [0.003658995323452152, 0.01290217846002406, 0.01755634225852587]]}],                        {\"annotations\": [{\"showarrow\": false, \"text\": \"0.08\", \"x\": 0, \"xref\": \"x\", \"y\": 0}, {\"showarrow\": false, \"text\": \"0.10\", \"x\": 1, \"xref\": \"x\", \"y\": 0}, {\"showarrow\": false, \"text\": \"0.10\", \"x\": 2, \"xref\": \"x\", \"y\": 0}, {\"showarrow\": false, \"text\": \"0.02\", \"x\": 0, \"xref\": \"x\", \"y\": 1}, {\"showarrow\": false, \"text\": \"0.03\", \"x\": 1, \"xref\": \"x\", \"y\": 1}, {\"showarrow\": false, \"text\": \"0.03\", \"x\": 2, \"xref\": \"x\", \"y\": 1}, {\"showarrow\": false, \"text\": \"0.00\", \"x\": 0, \"xref\": \"x\", \"y\": 2}, {\"showarrow\": false, \"text\": \"0.01\", \"x\": 1, \"xref\": \"x\", \"y\": 2}, {\"showarrow\": false, \"text\": \"0.02\", \"x\": 2, \"xref\": \"x\", \"y\": 2}, {\"showarrow\": false, \"text\": \"Difference in average R2 on a 1000 trials test set, for 3 independent model runs.\", \"x\": 0.5, \"xref\": \"x domain\", \"y\": -0.22, \"yref\": \"y domain\"}], \"template\": {\"data\": {\"bar\": [{\"error_x\": {\"color\": \"#2a3f5f\"}, \"error_y\": {\"color\": \"#2a3f5f\"}, \"marker\": {\"line\": {\"color\": \"#E5ECF6\", \"width\": 0.5}}, \"type\": \"bar\"}], \"barpolar\": [{\"marker\": {\"line\": {\"color\": \"#E5ECF6\", \"width\": 0.5}}, \"type\": \"barpolar\"}], \"carpet\": [{\"aaxis\": {\"endlinecolor\": \"#2a3f5f\", \"gridcolor\": \"white\", \"linecolor\": \"white\", \"minorgridcolor\": \"white\", \"startlinecolor\": \"#2a3f5f\"}, \"baxis\": {\"endlinecolor\": \"#2a3f5f\", \"gridcolor\": \"white\", \"linecolor\": \"white\", \"minorgridcolor\": \"white\", \"startlinecolor\": \"#2a3f5f\"}, \"type\": \"carpet\"}], \"choropleth\": [{\"colorbar\": {\"outlinewidth\": 0, \"ticks\": \"\"}, \"type\": \"choropleth\"}], \"contour\": [{\"colorbar\": {\"outlinewidth\": 0, \"ticks\": \"\"}, \"colorscale\": [[0.0, \"#0d0887\"], [0.1111111111111111, \"#46039f\"], [0.2222222222222222, \"#7201a8\"], [0.3333333333333333, \"#9c179e\"], [0.4444444444444444, \"#bd3786\"], [0.5555555555555556, \"#d8576b\"], [0.6666666666666666, \"#ed7953\"], [0.7777777777777778, \"#fb9f3a\"], [0.8888888888888888, \"#fdca26\"], [1.0, \"#f0f921\"]], \"type\": \"contour\"}], \"contourcarpet\": [{\"colorbar\": {\"outlinewidth\": 0, \"ticks\": \"\"}, \"type\": \"contourcarpet\"}], \"heatmap\": [{\"colorbar\": {\"outlinewidth\": 0, \"ticks\": \"\"}, \"colorscale\": [[0.0, \"#0d0887\"], [0.1111111111111111, \"#46039f\"], [0.2222222222222222, \"#7201a8\"], [0.3333333333333333, \"#9c179e\"], [0.4444444444444444, \"#bd3786\"], [0.5555555555555556, \"#d8576b\"], [0.6666666666666666, \"#ed7953\"], [0.7777777777777778, \"#fb9f3a\"], [0.8888888888888888, \"#fdca26\"], [1.0, \"#f0f921\"]], \"type\": \"heatmap\"}], \"heatmapgl\": [{\"colorbar\": {\"outlinewidth\": 0, \"ticks\": \"\"}, \"colorscale\": [[0.0, \"#0d0887\"], [0.1111111111111111, \"#46039f\"], [0.2222222222222222, \"#7201a8\"], [0.3333333333333333, \"#9c179e\"], [0.4444444444444444, \"#bd3786\"], [0.5555555555555556, \"#d8576b\"], [0.6666666666666666, \"#ed7953\"], [0.7777777777777778, \"#fb9f3a\"], [0.8888888888888888, \"#fdca26\"], [1.0, \"#f0f921\"]], \"type\": \"heatmapgl\"}], \"histogram\": [{\"marker\": {\"colorbar\": {\"outlinewidth\": 0, \"ticks\": \"\"}}, \"type\": \"histogram\"}], \"histogram2d\": [{\"colorbar\": {\"outlinewidth\": 0, \"ticks\": \"\"}, \"colorscale\": [[0.0, \"#0d0887\"], [0.1111111111111111, \"#46039f\"], [0.2222222222222222, \"#7201a8\"], [0.3333333333333333, \"#9c179e\"], [0.4444444444444444, \"#bd3786\"], [0.5555555555555556, \"#d8576b\"], [0.6666666666666666, \"#ed7953\"], [0.7777777777777778, \"#fb9f3a\"], [0.8888888888888888, \"#fdca26\"], [1.0, \"#f0f921\"]], \"type\": \"histogram2d\"}], \"histogram2dcontour\": [{\"colorbar\": {\"outlinewidth\": 0, \"ticks\": \"\"}, \"colorscale\": [[0.0, \"#0d0887\"], [0.1111111111111111, \"#46039f\"], [0.2222222222222222, \"#7201a8\"], [0.3333333333333333, \"#9c179e\"], [0.4444444444444444, \"#bd3786\"], [0.5555555555555556, \"#d8576b\"], [0.6666666666666666, \"#ed7953\"], [0.7777777777777778, \"#fb9f3a\"], [0.8888888888888888, \"#fdca26\"], [1.0, \"#f0f921\"]], \"type\": \"histogram2dcontour\"}], \"mesh3d\": [{\"colorbar\": {\"outlinewidth\": 0, \"ticks\": \"\"}, \"type\": \"mesh3d\"}], \"parcoords\": [{\"line\": {\"colorbar\": {\"outlinewidth\": 0, \"ticks\": \"\"}}, \"type\": \"parcoords\"}], \"pie\": [{\"automargin\": true, \"type\": \"pie\"}], \"scatter\": [{\"marker\": {\"colorbar\": {\"outlinewidth\": 0, \"ticks\": \"\"}}, \"type\": \"scatter\"}], \"scatter3d\": [{\"line\": {\"colorbar\": {\"outlinewidth\": 0, \"ticks\": \"\"}}, \"marker\": {\"colorbar\": {\"outlinewidth\": 0, \"ticks\": \"\"}}, \"type\": \"scatter3d\"}], \"scattercarpet\": [{\"marker\": {\"colorbar\": {\"outlinewidth\": 0, \"ticks\": \"\"}}, \"type\": \"scattercarpet\"}], \"scattergeo\": [{\"marker\": {\"colorbar\": {\"outlinewidth\": 0, \"ticks\": \"\"}}, \"type\": \"scattergeo\"}], \"scattergl\": [{\"marker\": {\"colorbar\": {\"outlinewidth\": 0, \"ticks\": \"\"}}, \"type\": \"scattergl\"}], \"scattermapbox\": [{\"marker\": {\"colorbar\": {\"outlinewidth\": 0, \"ticks\": \"\"}}, \"type\": \"scattermapbox\"}], \"scatterpolar\": [{\"marker\": {\"colorbar\": {\"outlinewidth\": 0, \"ticks\": \"\"}}, \"type\": \"scatterpolar\"}], \"scatterpolargl\": [{\"marker\": {\"colorbar\": {\"outlinewidth\": 0, \"ticks\": \"\"}}, \"type\": \"scatterpolargl\"}], \"scatterternary\": [{\"marker\": {\"colorbar\": {\"outlinewidth\": 0, \"ticks\": \"\"}}, \"type\": \"scatterternary\"}], \"surface\": [{\"colorbar\": {\"outlinewidth\": 0, \"ticks\": \"\"}, \"colorscale\": [[0.0, \"#0d0887\"], [0.1111111111111111, \"#46039f\"], [0.2222222222222222, \"#7201a8\"], [0.3333333333333333, \"#9c179e\"], [0.4444444444444444, \"#bd3786\"], [0.5555555555555556, \"#d8576b\"], [0.6666666666666666, \"#ed7953\"], [0.7777777777777778, \"#fb9f3a\"], [0.8888888888888888, \"#fdca26\"], [1.0, \"#f0f921\"]], \"type\": \"surface\"}], \"table\": [{\"cells\": {\"fill\": {\"color\": \"#EBF0F8\"}, \"line\": {\"color\": \"white\"}}, \"header\": {\"fill\": {\"color\": \"#C8D4E3\"}, \"line\": {\"color\": \"white\"}}, \"type\": \"table\"}]}, \"layout\": {\"annotationdefaults\": {\"arrowcolor\": \"#2a3f5f\", \"arrowhead\": 0, \"arrowwidth\": 1}, \"autotypenumbers\": \"strict\", \"coloraxis\": {\"colorbar\": {\"outlinewidth\": 0, \"ticks\": \"\"}}, \"colorscale\": {\"diverging\": [[0, \"#8e0152\"], [0.1, \"#c51b7d\"], [0.2, \"#de77ae\"], [0.3, \"#f1b6da\"], [0.4, \"#fde0ef\"], [0.5, \"#f7f7f7\"], [0.6, \"#e6f5d0\"], [0.7, \"#b8e186\"], [0.8, \"#7fbc41\"], [0.9, \"#4d9221\"], [1, \"#276419\"]], \"sequential\": [[0.0, \"#0d0887\"], [0.1111111111111111, \"#46039f\"], [0.2222222222222222, \"#7201a8\"], [0.3333333333333333, \"#9c179e\"], [0.4444444444444444, \"#bd3786\"], [0.5555555555555556, \"#d8576b\"], [0.6666666666666666, \"#ed7953\"], [0.7777777777777778, \"#fb9f3a\"], [0.8888888888888888, \"#fdca26\"], [1.0, \"#f0f921\"]], \"sequentialminus\": [[0.0, \"#0d0887\"], [0.1111111111111111, \"#46039f\"], [0.2222222222222222, \"#7201a8\"], [0.3333333333333333, \"#9c179e\"], [0.4444444444444444, \"#bd3786\"], [0.5555555555555556, \"#d8576b\"], [0.6666666666666666, \"#ed7953\"], [0.7777777777777778, \"#fb9f3a\"], [0.8888888888888888, \"#fdca26\"], [1.0, \"#f0f921\"]]}, \"colorway\": [\"#636efa\", \"#EF553B\", \"#00cc96\", \"#ab63fa\", \"#FFA15A\", \"#19d3f3\", \"#FF6692\", \"#B6E880\", \"#FF97FF\", \"#FECB52\"], \"font\": {\"color\": \"#2a3f5f\"}, \"geo\": {\"bgcolor\": \"white\", \"lakecolor\": \"white\", \"landcolor\": \"#E5ECF6\", \"showlakes\": true, \"showland\": true, \"subunitcolor\": \"white\"}, \"hoverlabel\": {\"align\": \"left\"}, \"hovermode\": \"closest\", \"mapbox\": {\"style\": \"light\"}, \"paper_bgcolor\": \"white\", \"plot_bgcolor\": \"#E5ECF6\", \"polar\": {\"angularaxis\": {\"gridcolor\": \"white\", \"linecolor\": \"white\", \"ticks\": \"\"}, \"bgcolor\": \"#E5ECF6\", \"radialaxis\": {\"gridcolor\": \"white\", \"linecolor\": \"white\", \"ticks\": \"\"}}, \"scene\": {\"xaxis\": {\"backgroundcolor\": \"#E5ECF6\", \"gridcolor\": \"white\", \"gridwidth\": 2, \"linecolor\": \"white\", \"showbackground\": true, \"ticks\": \"\", \"zerolinecolor\": \"white\"}, \"yaxis\": {\"backgroundcolor\": \"#E5ECF6\", \"gridcolor\": \"white\", \"gridwidth\": 2, \"linecolor\": \"white\", \"showbackground\": true, \"ticks\": \"\", \"zerolinecolor\": \"white\"}, \"zaxis\": {\"backgroundcolor\": \"#E5ECF6\", \"gridcolor\": \"white\", \"gridwidth\": 2, \"linecolor\": \"white\", \"showbackground\": true, \"ticks\": \"\", \"zerolinecolor\": \"white\"}}, \"shapedefaults\": {\"line\": {\"color\": \"#2a3f5f\"}}, \"ternary\": {\"aaxis\": {\"gridcolor\": \"white\", \"linecolor\": \"white\", \"ticks\": \"\"}, \"baxis\": {\"gridcolor\": \"white\", \"linecolor\": \"white\", \"ticks\": \"\"}, \"bgcolor\": \"#E5ECF6\", \"caxis\": {\"gridcolor\": \"white\", \"linecolor\": \"white\", \"ticks\": \"\"}}, \"title\": {\"x\": 0.05}, \"xaxis\": {\"automargin\": true, \"gridcolor\": \"white\", \"linecolor\": \"white\", \"ticks\": \"\", \"title\": {\"standoff\": 15}, \"zerolinecolor\": \"white\", \"zerolinewidth\": 2}, \"yaxis\": {\"automargin\": true, \"gridcolor\": \"white\", \"linecolor\": \"white\", \"ticks\": \"\", \"title\": {\"standoff\": 15}, \"zerolinecolor\": \"white\", \"zerolinewidth\": 2}}}, \"title\": {\"text\": \"Latent Reconstruction Difference\", \"x\": 0.5}, \"xaxis\": {\"anchor\": \"y\", \"domain\": [0.0, 1.0], \"title\": {\"text\": \"Baseline Firing Rate [Hz]\"}}, \"yaxis\": {\"anchor\": \"x\", \"domain\": [0.0, 1.0], \"title\": {\"text\": \"Training Trials\"}}},                        {\"responsive\": true}                    ).then(function(){\n",
       "                            \n",
       "var gd = document.getElementById('2f8deb01-1f75-4a27-a13c-96ef6aed8638');\n",
       "var x = new MutationObserver(function (mutations, observer) {{\n",
       "        var display = window.getComputedStyle(gd).display;\n",
       "        if (!display || display === 'none') {{\n",
       "            console.log([gd, 'removed!']);\n",
       "            Plotly.purge(gd);\n",
       "            observer.disconnect();\n",
       "        }}\n",
       "}});\n",
       "\n",
       "// Listen for the removal of the full notebook cells\n",
       "var notebookContainer = gd.closest('#notebook-container');\n",
       "if (notebookContainer) {{\n",
       "    x.observe(notebookContainer, {childList: true});\n",
       "}}\n",
       "\n",
       "// Listen for the clearing of the current output cell\n",
       "var outputEl = gd.closest('.output');\n",
       "if (outputEl) {{\n",
       "    x.observe(outputEl, {childList: true});\n",
       "}}\n",
       "\n",
       "                        })                };                });            </script>        </div>"
      ]
     },
     "metadata": {},
     "output_type": "display_data"
    }
   ],
   "source": [
    "new_avg_r2 = pd.pivot_table(new_df, values='test_r2', index=['trials'],\n",
    "                                    columns=['baseline_rate'], aggfunc=np.mean)\n",
    "tndm_avg_r2 = pd.pivot_table(tndm_df, values='test_r2', index=['trials'],\n",
    "                                    columns=['baseline_rate'], aggfunc=np.mean)\n",
    "\n",
    "zmin=min([new_avg_r2.values.min(), tndm_avg_r2.values.min()])\n",
    "zmax=max([new_avg_r2.values.max(), tndm_avg_r2.values.max()])\n",
    "text_func=np.vectorize(lambda x: '%.1f' % x)\n",
    "fig = make_subplots(rows=1, cols=2)\n",
    "\n",
    "\n",
    "fig.add_trace(\n",
    "    go.Heatmap(\n",
    "        z=new_avg_r2.values,\n",
    "        x=['%d' % (x) for x in new_avg_r2.columns.tolist()],\n",
    "        y=['%d' % (x) for x in new_avg_r2.index.tolist()],\n",
    "        zmin=zmin,\n",
    "        zmax=zmax),\n",
    "    row=1, col=1\n",
    ")\n",
    "\n",
    "fig.add_trace(\n",
    "    go.Heatmap(\n",
    "        z=tndm_avg_r2.values,\n",
    "        x=['%d' % (x) for x in tndm_avg_r2.columns.tolist()],\n",
    "        y=['%d' % (x) for x in tndm_avg_r2.index.tolist()],\n",
    "        zmin=zmin,\n",
    "        zmax=zmax),\n",
    "    row=1, col=2\n",
    ")\n",
    "\n",
    "\n",
    "fig.update_layout(\n",
    "    title_text='Latent Reconstruction Performance', title_x=0.5,\n",
    "    annotations=[\n",
    "        dict(\n",
    "            showarrow=False,\n",
    "            x=iy,\n",
    "            y=ix,\n",
    "            xref='x2',\n",
    "            text='%.2f' % (tndm_avg_r2.iloc[ix, iy])) \n",
    "            for ix,iy in np.ndindex(tndm_avg_r2.values.shape)] + [\n",
    "        dict(\n",
    "            showarrow=False,\n",
    "            x=iy,\n",
    "            y=ix,\n",
    "            xref='x1',\n",
    "            text='%.2f' % (new_avg_r2.iloc[ix, iy])) \n",
    "            for ix,iy in np.ndindex(new_avg_r2.values.shape)] + [\n",
    "        dict(\n",
    "            showarrow=False,\n",
    "            xref='x domain',\n",
    "            x=1.9,\n",
    "            yref='y domain',\n",
    "            y=-0.22,\n",
    "            text='Average R2 on a 1000 trials test set, for 3 independent model runs.'),\n",
    "        dict(\n",
    "            showarrow=False,\n",
    "            xref='x domain',\n",
    "            x=0.5,\n",
    "            yref='y domain',\n",
    "            y=1.08,\n",
    "            text='LFADS'),\n",
    "        dict(\n",
    "            showarrow=False,\n",
    "            xref='x domain',\n",
    "            x=1.8,\n",
    "            yref='y domain',\n",
    "            y=1.08,\n",
    "            text='TNDM'),\n",
    "    ])\n",
    "fig['layout']['xaxis1'].update(title='Baseline Firing Rate [Hz]')\n",
    "fig['layout']['xaxis2'].update(title='Baseline Firing Rate [Hz]')\n",
    "fig['layout']['yaxis1'].update(title='Training Trials')\n",
    "fig['layout']['yaxis2'].update(title='Training Trials')\n",
    "\n",
    "fig_diff = make_subplots(rows=1, cols=1)\n",
    "\n",
    "fig_diff.add_trace(\n",
    "    go.Heatmap(\n",
    "        z=tndm_avg_r2.values - new_avg_r2.values,\n",
    "        x=['%d' % (x) for x in new_avg_r2.columns.tolist()],\n",
    "        y=['%d' % (x) for x in new_avg_r2.index.tolist()]),\n",
    "    row=1, col=1\n",
    ")\n",
    "\n",
    "fig_diff.update_layout(\n",
    "    title_text='Latent Reconstruction Difference', title_x=0.5,\n",
    "    annotations=[\n",
    "    dict(\n",
    "        showarrow=False,\n",
    "        x=iy,\n",
    "        y=ix,\n",
    "        xref='x1',\n",
    "        text='%.2f' % (tndm_avg_r2.iloc[ix, iy] - new_avg_r2.iloc[ix, iy]))\n",
    "        for ix,iy in np.ndindex(tndm_avg_r2.values.shape)] +\n",
    "    [\n",
    "        dict(\n",
    "            showarrow=False,\n",
    "            xref='x domain',\n",
    "            x=0.5,\n",
    "            yref='y domain',\n",
    "            y=-0.22,\n",
    "            text='Difference in average R2 on a 1000 trials test set, for 3 independent model runs.'),\n",
    "    ])\n",
    "fig_diff['layout']['xaxis1'].update(title='Baseline Firing Rate [Hz]')\n",
    "fig_diff['layout']['yaxis1'].update(title='Training Trials')\n",
    "\n",
    "fig.show()\n",
    "fig_diff.show()"
   ]
  },
  {
   "cell_type": "code",
   "execution_count": 12,
   "id": "872a0f74",
   "metadata": {},
   "outputs": [
    {
     "data": {
      "application/vnd.plotly.v1+json": {
       "config": {
        "plotlyServerURL": "https://plot.ly"
       },
       "data": [
        {
         "type": "heatmap",
         "x": [
          "5",
          "10",
          "15"
         ],
         "xaxis": "x",
         "y": [
          "50",
          "100",
          "200"
         ],
         "yaxis": "y",
         "z": [
          [
           745.2149583333334,
           1206.538625,
           1585.4880416666667
          ],
          [
           740.1571250000001,
           1177.2868333333333,
           1527.3445416666666
          ],
          [
           736.0220833333333,
           1173.270625,
           1529.1093333333336
          ]
         ],
         "zmax": 1585.4880416666667,
         "zmin": 736.0220833333333
        },
        {
         "type": "heatmap",
         "x": [
          "5",
          "10",
          "15"
         ],
         "xaxis": "x2",
         "y": [
          "50",
          "100",
          "200"
         ],
         "yaxis": "y2",
         "z": [
          [
           739.1741041666668,
           1192.3297916666668,
           1560.5460416666665
          ],
          [
           738.9231666666668,
           1175.0389583333333,
           1522.3982500000002
          ],
          [
           736.3741458333334,
           1174.006625,
           1529.7808750000002
          ]
         ],
         "zmax": 1585.4880416666667,
         "zmin": 736.0220833333333
        }
       ],
       "layout": {
        "annotations": [
         {
          "showarrow": false,
          "text": "745.21",
          "x": 0,
          "xref": "x2",
          "y": 0
         },
         {
          "showarrow": false,
          "text": "1206.54",
          "x": 1,
          "xref": "x2",
          "y": 0
         },
         {
          "showarrow": false,
          "text": "1585.49",
          "x": 2,
          "xref": "x2",
          "y": 0
         },
         {
          "showarrow": false,
          "text": "740.16",
          "x": 0,
          "xref": "x2",
          "y": 1
         },
         {
          "showarrow": false,
          "text": "1177.29",
          "x": 1,
          "xref": "x2",
          "y": 1
         },
         {
          "showarrow": false,
          "text": "1527.34",
          "x": 2,
          "xref": "x2",
          "y": 1
         },
         {
          "showarrow": false,
          "text": "736.02",
          "x": 0,
          "xref": "x2",
          "y": 2
         },
         {
          "showarrow": false,
          "text": "1173.27",
          "x": 1,
          "xref": "x2",
          "y": 2
         },
         {
          "showarrow": false,
          "text": "1529.11",
          "x": 2,
          "xref": "x2",
          "y": 2
         },
         {
          "showarrow": false,
          "text": "739.17",
          "x": 0,
          "xref": "x",
          "y": 0
         },
         {
          "showarrow": false,
          "text": "1192.33",
          "x": 1,
          "xref": "x",
          "y": 0
         },
         {
          "showarrow": false,
          "text": "1560.55",
          "x": 2,
          "xref": "x",
          "y": 0
         },
         {
          "showarrow": false,
          "text": "738.92",
          "x": 0,
          "xref": "x",
          "y": 1
         },
         {
          "showarrow": false,
          "text": "1175.04",
          "x": 1,
          "xref": "x",
          "y": 1
         },
         {
          "showarrow": false,
          "text": "1522.40",
          "x": 2,
          "xref": "x",
          "y": 1
         },
         {
          "showarrow": false,
          "text": "736.37",
          "x": 0,
          "xref": "x",
          "y": 2
         },
         {
          "showarrow": false,
          "text": "1174.01",
          "x": 1,
          "xref": "x",
          "y": 2
         },
         {
          "showarrow": false,
          "text": "1529.78",
          "x": 2,
          "xref": "x",
          "y": 2
         },
         {
          "showarrow": false,
          "text": "Average log-likelihood loss (Hp: Poisson) on a 1000 trials test set, for 3 independent model runs.",
          "x": 2.1,
          "xref": "x domain",
          "y": -0.22,
          "yref": "y domain"
         },
         {
          "showarrow": false,
          "text": "LFADS",
          "x": 0.5,
          "xref": "x domain",
          "y": 1.08,
          "yref": "y domain"
         },
         {
          "showarrow": false,
          "text": "TNDM",
          "x": 1.8,
          "xref": "x domain",
          "y": 1.08,
          "yref": "y domain"
         }
        ],
        "template": {
         "data": {
          "bar": [
           {
            "error_x": {
             "color": "#2a3f5f"
            },
            "error_y": {
             "color": "#2a3f5f"
            },
            "marker": {
             "line": {
              "color": "#E5ECF6",
              "width": 0.5
             }
            },
            "type": "bar"
           }
          ],
          "barpolar": [
           {
            "marker": {
             "line": {
              "color": "#E5ECF6",
              "width": 0.5
             }
            },
            "type": "barpolar"
           }
          ],
          "carpet": [
           {
            "aaxis": {
             "endlinecolor": "#2a3f5f",
             "gridcolor": "white",
             "linecolor": "white",
             "minorgridcolor": "white",
             "startlinecolor": "#2a3f5f"
            },
            "baxis": {
             "endlinecolor": "#2a3f5f",
             "gridcolor": "white",
             "linecolor": "white",
             "minorgridcolor": "white",
             "startlinecolor": "#2a3f5f"
            },
            "type": "carpet"
           }
          ],
          "choropleth": [
           {
            "colorbar": {
             "outlinewidth": 0,
             "ticks": ""
            },
            "type": "choropleth"
           }
          ],
          "contour": [
           {
            "colorbar": {
             "outlinewidth": 0,
             "ticks": ""
            },
            "colorscale": [
             [
              0,
              "#0d0887"
             ],
             [
              0.1111111111111111,
              "#46039f"
             ],
             [
              0.2222222222222222,
              "#7201a8"
             ],
             [
              0.3333333333333333,
              "#9c179e"
             ],
             [
              0.4444444444444444,
              "#bd3786"
             ],
             [
              0.5555555555555556,
              "#d8576b"
             ],
             [
              0.6666666666666666,
              "#ed7953"
             ],
             [
              0.7777777777777778,
              "#fb9f3a"
             ],
             [
              0.8888888888888888,
              "#fdca26"
             ],
             [
              1,
              "#f0f921"
             ]
            ],
            "type": "contour"
           }
          ],
          "contourcarpet": [
           {
            "colorbar": {
             "outlinewidth": 0,
             "ticks": ""
            },
            "type": "contourcarpet"
           }
          ],
          "heatmap": [
           {
            "colorbar": {
             "outlinewidth": 0,
             "ticks": ""
            },
            "colorscale": [
             [
              0,
              "#0d0887"
             ],
             [
              0.1111111111111111,
              "#46039f"
             ],
             [
              0.2222222222222222,
              "#7201a8"
             ],
             [
              0.3333333333333333,
              "#9c179e"
             ],
             [
              0.4444444444444444,
              "#bd3786"
             ],
             [
              0.5555555555555556,
              "#d8576b"
             ],
             [
              0.6666666666666666,
              "#ed7953"
             ],
             [
              0.7777777777777778,
              "#fb9f3a"
             ],
             [
              0.8888888888888888,
              "#fdca26"
             ],
             [
              1,
              "#f0f921"
             ]
            ],
            "type": "heatmap"
           }
          ],
          "heatmapgl": [
           {
            "colorbar": {
             "outlinewidth": 0,
             "ticks": ""
            },
            "colorscale": [
             [
              0,
              "#0d0887"
             ],
             [
              0.1111111111111111,
              "#46039f"
             ],
             [
              0.2222222222222222,
              "#7201a8"
             ],
             [
              0.3333333333333333,
              "#9c179e"
             ],
             [
              0.4444444444444444,
              "#bd3786"
             ],
             [
              0.5555555555555556,
              "#d8576b"
             ],
             [
              0.6666666666666666,
              "#ed7953"
             ],
             [
              0.7777777777777778,
              "#fb9f3a"
             ],
             [
              0.8888888888888888,
              "#fdca26"
             ],
             [
              1,
              "#f0f921"
             ]
            ],
            "type": "heatmapgl"
           }
          ],
          "histogram": [
           {
            "marker": {
             "colorbar": {
              "outlinewidth": 0,
              "ticks": ""
             }
            },
            "type": "histogram"
           }
          ],
          "histogram2d": [
           {
            "colorbar": {
             "outlinewidth": 0,
             "ticks": ""
            },
            "colorscale": [
             [
              0,
              "#0d0887"
             ],
             [
              0.1111111111111111,
              "#46039f"
             ],
             [
              0.2222222222222222,
              "#7201a8"
             ],
             [
              0.3333333333333333,
              "#9c179e"
             ],
             [
              0.4444444444444444,
              "#bd3786"
             ],
             [
              0.5555555555555556,
              "#d8576b"
             ],
             [
              0.6666666666666666,
              "#ed7953"
             ],
             [
              0.7777777777777778,
              "#fb9f3a"
             ],
             [
              0.8888888888888888,
              "#fdca26"
             ],
             [
              1,
              "#f0f921"
             ]
            ],
            "type": "histogram2d"
           }
          ],
          "histogram2dcontour": [
           {
            "colorbar": {
             "outlinewidth": 0,
             "ticks": ""
            },
            "colorscale": [
             [
              0,
              "#0d0887"
             ],
             [
              0.1111111111111111,
              "#46039f"
             ],
             [
              0.2222222222222222,
              "#7201a8"
             ],
             [
              0.3333333333333333,
              "#9c179e"
             ],
             [
              0.4444444444444444,
              "#bd3786"
             ],
             [
              0.5555555555555556,
              "#d8576b"
             ],
             [
              0.6666666666666666,
              "#ed7953"
             ],
             [
              0.7777777777777778,
              "#fb9f3a"
             ],
             [
              0.8888888888888888,
              "#fdca26"
             ],
             [
              1,
              "#f0f921"
             ]
            ],
            "type": "histogram2dcontour"
           }
          ],
          "mesh3d": [
           {
            "colorbar": {
             "outlinewidth": 0,
             "ticks": ""
            },
            "type": "mesh3d"
           }
          ],
          "parcoords": [
           {
            "line": {
             "colorbar": {
              "outlinewidth": 0,
              "ticks": ""
             }
            },
            "type": "parcoords"
           }
          ],
          "pie": [
           {
            "automargin": true,
            "type": "pie"
           }
          ],
          "scatter": [
           {
            "marker": {
             "colorbar": {
              "outlinewidth": 0,
              "ticks": ""
             }
            },
            "type": "scatter"
           }
          ],
          "scatter3d": [
           {
            "line": {
             "colorbar": {
              "outlinewidth": 0,
              "ticks": ""
             }
            },
            "marker": {
             "colorbar": {
              "outlinewidth": 0,
              "ticks": ""
             }
            },
            "type": "scatter3d"
           }
          ],
          "scattercarpet": [
           {
            "marker": {
             "colorbar": {
              "outlinewidth": 0,
              "ticks": ""
             }
            },
            "type": "scattercarpet"
           }
          ],
          "scattergeo": [
           {
            "marker": {
             "colorbar": {
              "outlinewidth": 0,
              "ticks": ""
             }
            },
            "type": "scattergeo"
           }
          ],
          "scattergl": [
           {
            "marker": {
             "colorbar": {
              "outlinewidth": 0,
              "ticks": ""
             }
            },
            "type": "scattergl"
           }
          ],
          "scattermapbox": [
           {
            "marker": {
             "colorbar": {
              "outlinewidth": 0,
              "ticks": ""
             }
            },
            "type": "scattermapbox"
           }
          ],
          "scatterpolar": [
           {
            "marker": {
             "colorbar": {
              "outlinewidth": 0,
              "ticks": ""
             }
            },
            "type": "scatterpolar"
           }
          ],
          "scatterpolargl": [
           {
            "marker": {
             "colorbar": {
              "outlinewidth": 0,
              "ticks": ""
             }
            },
            "type": "scatterpolargl"
           }
          ],
          "scatterternary": [
           {
            "marker": {
             "colorbar": {
              "outlinewidth": 0,
              "ticks": ""
             }
            },
            "type": "scatterternary"
           }
          ],
          "surface": [
           {
            "colorbar": {
             "outlinewidth": 0,
             "ticks": ""
            },
            "colorscale": [
             [
              0,
              "#0d0887"
             ],
             [
              0.1111111111111111,
              "#46039f"
             ],
             [
              0.2222222222222222,
              "#7201a8"
             ],
             [
              0.3333333333333333,
              "#9c179e"
             ],
             [
              0.4444444444444444,
              "#bd3786"
             ],
             [
              0.5555555555555556,
              "#d8576b"
             ],
             [
              0.6666666666666666,
              "#ed7953"
             ],
             [
              0.7777777777777778,
              "#fb9f3a"
             ],
             [
              0.8888888888888888,
              "#fdca26"
             ],
             [
              1,
              "#f0f921"
             ]
            ],
            "type": "surface"
           }
          ],
          "table": [
           {
            "cells": {
             "fill": {
              "color": "#EBF0F8"
             },
             "line": {
              "color": "white"
             }
            },
            "header": {
             "fill": {
              "color": "#C8D4E3"
             },
             "line": {
              "color": "white"
             }
            },
            "type": "table"
           }
          ]
         },
         "layout": {
          "annotationdefaults": {
           "arrowcolor": "#2a3f5f",
           "arrowhead": 0,
           "arrowwidth": 1
          },
          "autotypenumbers": "strict",
          "coloraxis": {
           "colorbar": {
            "outlinewidth": 0,
            "ticks": ""
           }
          },
          "colorscale": {
           "diverging": [
            [
             0,
             "#8e0152"
            ],
            [
             0.1,
             "#c51b7d"
            ],
            [
             0.2,
             "#de77ae"
            ],
            [
             0.3,
             "#f1b6da"
            ],
            [
             0.4,
             "#fde0ef"
            ],
            [
             0.5,
             "#f7f7f7"
            ],
            [
             0.6,
             "#e6f5d0"
            ],
            [
             0.7,
             "#b8e186"
            ],
            [
             0.8,
             "#7fbc41"
            ],
            [
             0.9,
             "#4d9221"
            ],
            [
             1,
             "#276419"
            ]
           ],
           "sequential": [
            [
             0,
             "#0d0887"
            ],
            [
             0.1111111111111111,
             "#46039f"
            ],
            [
             0.2222222222222222,
             "#7201a8"
            ],
            [
             0.3333333333333333,
             "#9c179e"
            ],
            [
             0.4444444444444444,
             "#bd3786"
            ],
            [
             0.5555555555555556,
             "#d8576b"
            ],
            [
             0.6666666666666666,
             "#ed7953"
            ],
            [
             0.7777777777777778,
             "#fb9f3a"
            ],
            [
             0.8888888888888888,
             "#fdca26"
            ],
            [
             1,
             "#f0f921"
            ]
           ],
           "sequentialminus": [
            [
             0,
             "#0d0887"
            ],
            [
             0.1111111111111111,
             "#46039f"
            ],
            [
             0.2222222222222222,
             "#7201a8"
            ],
            [
             0.3333333333333333,
             "#9c179e"
            ],
            [
             0.4444444444444444,
             "#bd3786"
            ],
            [
             0.5555555555555556,
             "#d8576b"
            ],
            [
             0.6666666666666666,
             "#ed7953"
            ],
            [
             0.7777777777777778,
             "#fb9f3a"
            ],
            [
             0.8888888888888888,
             "#fdca26"
            ],
            [
             1,
             "#f0f921"
            ]
           ]
          },
          "colorway": [
           "#636efa",
           "#EF553B",
           "#00cc96",
           "#ab63fa",
           "#FFA15A",
           "#19d3f3",
           "#FF6692",
           "#B6E880",
           "#FF97FF",
           "#FECB52"
          ],
          "font": {
           "color": "#2a3f5f"
          },
          "geo": {
           "bgcolor": "white",
           "lakecolor": "white",
           "landcolor": "#E5ECF6",
           "showlakes": true,
           "showland": true,
           "subunitcolor": "white"
          },
          "hoverlabel": {
           "align": "left"
          },
          "hovermode": "closest",
          "mapbox": {
           "style": "light"
          },
          "paper_bgcolor": "white",
          "plot_bgcolor": "#E5ECF6",
          "polar": {
           "angularaxis": {
            "gridcolor": "white",
            "linecolor": "white",
            "ticks": ""
           },
           "bgcolor": "#E5ECF6",
           "radialaxis": {
            "gridcolor": "white",
            "linecolor": "white",
            "ticks": ""
           }
          },
          "scene": {
           "xaxis": {
            "backgroundcolor": "#E5ECF6",
            "gridcolor": "white",
            "gridwidth": 2,
            "linecolor": "white",
            "showbackground": true,
            "ticks": "",
            "zerolinecolor": "white"
           },
           "yaxis": {
            "backgroundcolor": "#E5ECF6",
            "gridcolor": "white",
            "gridwidth": 2,
            "linecolor": "white",
            "showbackground": true,
            "ticks": "",
            "zerolinecolor": "white"
           },
           "zaxis": {
            "backgroundcolor": "#E5ECF6",
            "gridcolor": "white",
            "gridwidth": 2,
            "linecolor": "white",
            "showbackground": true,
            "ticks": "",
            "zerolinecolor": "white"
           }
          },
          "shapedefaults": {
           "line": {
            "color": "#2a3f5f"
           }
          },
          "ternary": {
           "aaxis": {
            "gridcolor": "white",
            "linecolor": "white",
            "ticks": ""
           },
           "baxis": {
            "gridcolor": "white",
            "linecolor": "white",
            "ticks": ""
           },
           "bgcolor": "#E5ECF6",
           "caxis": {
            "gridcolor": "white",
            "linecolor": "white",
            "ticks": ""
           }
          },
          "title": {
           "x": 0.05
          },
          "xaxis": {
           "automargin": true,
           "gridcolor": "white",
           "linecolor": "white",
           "ticks": "",
           "title": {
            "standoff": 15
           },
           "zerolinecolor": "white",
           "zerolinewidth": 2
          },
          "yaxis": {
           "automargin": true,
           "gridcolor": "white",
           "linecolor": "white",
           "ticks": "",
           "title": {
            "standoff": 15
           },
           "zerolinecolor": "white",
           "zerolinewidth": 2
          }
         }
        },
        "title": {
         "text": "Latent Reconstruction Performance",
         "x": 0.5
        },
        "xaxis": {
         "anchor": "y",
         "domain": [
          0,
          0.45
         ],
         "title": {
          "text": "Baseline Firing Rate [Hz]"
         }
        },
        "xaxis2": {
         "anchor": "y2",
         "domain": [
          0.55,
          1
         ],
         "title": {
          "text": "Baseline Firing Rate [Hz]"
         }
        },
        "yaxis": {
         "anchor": "x",
         "domain": [
          0,
          1
         ],
         "title": {
          "text": "Training Trials"
         }
        },
        "yaxis2": {
         "anchor": "x2",
         "domain": [
          0,
          1
         ],
         "title": {
          "text": "Training Trials"
         }
        }
       }
      },
      "text/html": [
       "<div>                            <div id=\"0eda7748-b94f-4174-bafa-8ae5a9c5374c\" class=\"plotly-graph-div\" style=\"height:525px; width:100%;\"></div>            <script type=\"text/javascript\">                require([\"plotly\"], function(Plotly) {                    window.PLOTLYENV=window.PLOTLYENV || {};                                    if (document.getElementById(\"0eda7748-b94f-4174-bafa-8ae5a9c5374c\")) {                    Plotly.newPlot(                        \"0eda7748-b94f-4174-bafa-8ae5a9c5374c\",                        [{\"type\": \"heatmap\", \"x\": [\"5\", \"10\", \"15\"], \"xaxis\": \"x\", \"y\": [\"50\", \"100\", \"200\"], \"yaxis\": \"y\", \"z\": [[745.2149583333334, 1206.538625, 1585.4880416666667], [740.1571250000001, 1177.2868333333333, 1527.3445416666666], [736.0220833333333, 1173.270625, 1529.1093333333336]], \"zmax\": 1585.4880416666667, \"zmin\": 736.0220833333333}, {\"type\": \"heatmap\", \"x\": [\"5\", \"10\", \"15\"], \"xaxis\": \"x2\", \"y\": [\"50\", \"100\", \"200\"], \"yaxis\": \"y2\", \"z\": [[739.1741041666668, 1192.3297916666668, 1560.5460416666665], [738.9231666666668, 1175.0389583333333, 1522.3982500000002], [736.3741458333334, 1174.006625, 1529.7808750000002]], \"zmax\": 1585.4880416666667, \"zmin\": 736.0220833333333}],                        {\"annotations\": [{\"showarrow\": false, \"text\": \"745.21\", \"x\": 0, \"xref\": \"x2\", \"y\": 0}, {\"showarrow\": false, \"text\": \"1206.54\", \"x\": 1, \"xref\": \"x2\", \"y\": 0}, {\"showarrow\": false, \"text\": \"1585.49\", \"x\": 2, \"xref\": \"x2\", \"y\": 0}, {\"showarrow\": false, \"text\": \"740.16\", \"x\": 0, \"xref\": \"x2\", \"y\": 1}, {\"showarrow\": false, \"text\": \"1177.29\", \"x\": 1, \"xref\": \"x2\", \"y\": 1}, {\"showarrow\": false, \"text\": \"1527.34\", \"x\": 2, \"xref\": \"x2\", \"y\": 1}, {\"showarrow\": false, \"text\": \"736.02\", \"x\": 0, \"xref\": \"x2\", \"y\": 2}, {\"showarrow\": false, \"text\": \"1173.27\", \"x\": 1, \"xref\": \"x2\", \"y\": 2}, {\"showarrow\": false, \"text\": \"1529.11\", \"x\": 2, \"xref\": \"x2\", \"y\": 2}, {\"showarrow\": false, \"text\": \"739.17\", \"x\": 0, \"xref\": \"x\", \"y\": 0}, {\"showarrow\": false, \"text\": \"1192.33\", \"x\": 1, \"xref\": \"x\", \"y\": 0}, {\"showarrow\": false, \"text\": \"1560.55\", \"x\": 2, \"xref\": \"x\", \"y\": 0}, {\"showarrow\": false, \"text\": \"738.92\", \"x\": 0, \"xref\": \"x\", \"y\": 1}, {\"showarrow\": false, \"text\": \"1175.04\", \"x\": 1, \"xref\": \"x\", \"y\": 1}, {\"showarrow\": false, \"text\": \"1522.40\", \"x\": 2, \"xref\": \"x\", \"y\": 1}, {\"showarrow\": false, \"text\": \"736.37\", \"x\": 0, \"xref\": \"x\", \"y\": 2}, {\"showarrow\": false, \"text\": \"1174.01\", \"x\": 1, \"xref\": \"x\", \"y\": 2}, {\"showarrow\": false, \"text\": \"1529.78\", \"x\": 2, \"xref\": \"x\", \"y\": 2}, {\"showarrow\": false, \"text\": \"Average log-likelihood loss (Hp: Poisson) on a 1000 trials test set, for 3 independent model runs.\", \"x\": 2.1, \"xref\": \"x domain\", \"y\": -0.22, \"yref\": \"y domain\"}, {\"showarrow\": false, \"text\": \"LFADS\", \"x\": 0.5, \"xref\": \"x domain\", \"y\": 1.08, \"yref\": \"y domain\"}, {\"showarrow\": false, \"text\": \"TNDM\", \"x\": 1.8, \"xref\": \"x domain\", \"y\": 1.08, \"yref\": \"y domain\"}], \"template\": {\"data\": {\"bar\": [{\"error_x\": {\"color\": \"#2a3f5f\"}, \"error_y\": {\"color\": \"#2a3f5f\"}, \"marker\": {\"line\": {\"color\": \"#E5ECF6\", \"width\": 0.5}}, \"type\": \"bar\"}], \"barpolar\": [{\"marker\": {\"line\": {\"color\": \"#E5ECF6\", \"width\": 0.5}}, \"type\": \"barpolar\"}], \"carpet\": [{\"aaxis\": {\"endlinecolor\": \"#2a3f5f\", \"gridcolor\": \"white\", \"linecolor\": \"white\", \"minorgridcolor\": \"white\", \"startlinecolor\": \"#2a3f5f\"}, \"baxis\": {\"endlinecolor\": \"#2a3f5f\", \"gridcolor\": \"white\", \"linecolor\": \"white\", \"minorgridcolor\": \"white\", \"startlinecolor\": \"#2a3f5f\"}, \"type\": \"carpet\"}], \"choropleth\": [{\"colorbar\": {\"outlinewidth\": 0, \"ticks\": \"\"}, \"type\": \"choropleth\"}], \"contour\": [{\"colorbar\": {\"outlinewidth\": 0, \"ticks\": \"\"}, \"colorscale\": [[0.0, \"#0d0887\"], [0.1111111111111111, \"#46039f\"], [0.2222222222222222, \"#7201a8\"], [0.3333333333333333, \"#9c179e\"], [0.4444444444444444, \"#bd3786\"], [0.5555555555555556, \"#d8576b\"], [0.6666666666666666, \"#ed7953\"], [0.7777777777777778, \"#fb9f3a\"], [0.8888888888888888, \"#fdca26\"], [1.0, \"#f0f921\"]], \"type\": \"contour\"}], \"contourcarpet\": [{\"colorbar\": {\"outlinewidth\": 0, \"ticks\": \"\"}, \"type\": \"contourcarpet\"}], \"heatmap\": [{\"colorbar\": {\"outlinewidth\": 0, \"ticks\": \"\"}, \"colorscale\": [[0.0, \"#0d0887\"], [0.1111111111111111, \"#46039f\"], [0.2222222222222222, \"#7201a8\"], [0.3333333333333333, \"#9c179e\"], [0.4444444444444444, \"#bd3786\"], [0.5555555555555556, \"#d8576b\"], [0.6666666666666666, \"#ed7953\"], [0.7777777777777778, \"#fb9f3a\"], [0.8888888888888888, \"#fdca26\"], [1.0, \"#f0f921\"]], \"type\": \"heatmap\"}], \"heatmapgl\": [{\"colorbar\": {\"outlinewidth\": 0, \"ticks\": \"\"}, \"colorscale\": [[0.0, \"#0d0887\"], [0.1111111111111111, \"#46039f\"], [0.2222222222222222, \"#7201a8\"], [0.3333333333333333, \"#9c179e\"], [0.4444444444444444, \"#bd3786\"], [0.5555555555555556, \"#d8576b\"], [0.6666666666666666, \"#ed7953\"], [0.7777777777777778, \"#fb9f3a\"], [0.8888888888888888, \"#fdca26\"], [1.0, \"#f0f921\"]], \"type\": \"heatmapgl\"}], \"histogram\": [{\"marker\": {\"colorbar\": {\"outlinewidth\": 0, \"ticks\": \"\"}}, \"type\": \"histogram\"}], \"histogram2d\": [{\"colorbar\": {\"outlinewidth\": 0, \"ticks\": \"\"}, \"colorscale\": [[0.0, \"#0d0887\"], [0.1111111111111111, \"#46039f\"], [0.2222222222222222, \"#7201a8\"], [0.3333333333333333, \"#9c179e\"], [0.4444444444444444, \"#bd3786\"], [0.5555555555555556, \"#d8576b\"], [0.6666666666666666, \"#ed7953\"], [0.7777777777777778, \"#fb9f3a\"], [0.8888888888888888, \"#fdca26\"], [1.0, \"#f0f921\"]], \"type\": \"histogram2d\"}], \"histogram2dcontour\": [{\"colorbar\": {\"outlinewidth\": 0, \"ticks\": \"\"}, \"colorscale\": [[0.0, \"#0d0887\"], [0.1111111111111111, \"#46039f\"], [0.2222222222222222, \"#7201a8\"], [0.3333333333333333, \"#9c179e\"], [0.4444444444444444, \"#bd3786\"], [0.5555555555555556, \"#d8576b\"], [0.6666666666666666, \"#ed7953\"], [0.7777777777777778, \"#fb9f3a\"], [0.8888888888888888, \"#fdca26\"], [1.0, \"#f0f921\"]], \"type\": \"histogram2dcontour\"}], \"mesh3d\": [{\"colorbar\": {\"outlinewidth\": 0, \"ticks\": \"\"}, \"type\": \"mesh3d\"}], \"parcoords\": [{\"line\": {\"colorbar\": {\"outlinewidth\": 0, \"ticks\": \"\"}}, \"type\": \"parcoords\"}], \"pie\": [{\"automargin\": true, \"type\": \"pie\"}], \"scatter\": [{\"marker\": {\"colorbar\": {\"outlinewidth\": 0, \"ticks\": \"\"}}, \"type\": \"scatter\"}], \"scatter3d\": [{\"line\": {\"colorbar\": {\"outlinewidth\": 0, \"ticks\": \"\"}}, \"marker\": {\"colorbar\": {\"outlinewidth\": 0, \"ticks\": \"\"}}, \"type\": \"scatter3d\"}], \"scattercarpet\": [{\"marker\": {\"colorbar\": {\"outlinewidth\": 0, \"ticks\": \"\"}}, \"type\": \"scattercarpet\"}], \"scattergeo\": [{\"marker\": {\"colorbar\": {\"outlinewidth\": 0, \"ticks\": \"\"}}, \"type\": \"scattergeo\"}], \"scattergl\": [{\"marker\": {\"colorbar\": {\"outlinewidth\": 0, \"ticks\": \"\"}}, \"type\": \"scattergl\"}], \"scattermapbox\": [{\"marker\": {\"colorbar\": {\"outlinewidth\": 0, \"ticks\": \"\"}}, \"type\": \"scattermapbox\"}], \"scatterpolar\": [{\"marker\": {\"colorbar\": {\"outlinewidth\": 0, \"ticks\": \"\"}}, \"type\": \"scatterpolar\"}], \"scatterpolargl\": [{\"marker\": {\"colorbar\": {\"outlinewidth\": 0, \"ticks\": \"\"}}, \"type\": \"scatterpolargl\"}], \"scatterternary\": [{\"marker\": {\"colorbar\": {\"outlinewidth\": 0, \"ticks\": \"\"}}, \"type\": \"scatterternary\"}], \"surface\": [{\"colorbar\": {\"outlinewidth\": 0, \"ticks\": \"\"}, \"colorscale\": [[0.0, \"#0d0887\"], [0.1111111111111111, \"#46039f\"], [0.2222222222222222, \"#7201a8\"], [0.3333333333333333, \"#9c179e\"], [0.4444444444444444, \"#bd3786\"], [0.5555555555555556, \"#d8576b\"], [0.6666666666666666, \"#ed7953\"], [0.7777777777777778, \"#fb9f3a\"], [0.8888888888888888, \"#fdca26\"], [1.0, \"#f0f921\"]], \"type\": \"surface\"}], \"table\": [{\"cells\": {\"fill\": {\"color\": \"#EBF0F8\"}, \"line\": {\"color\": \"white\"}}, \"header\": {\"fill\": {\"color\": \"#C8D4E3\"}, \"line\": {\"color\": \"white\"}}, \"type\": \"table\"}]}, \"layout\": {\"annotationdefaults\": {\"arrowcolor\": \"#2a3f5f\", \"arrowhead\": 0, \"arrowwidth\": 1}, \"autotypenumbers\": \"strict\", \"coloraxis\": {\"colorbar\": {\"outlinewidth\": 0, \"ticks\": \"\"}}, \"colorscale\": {\"diverging\": [[0, \"#8e0152\"], [0.1, \"#c51b7d\"], [0.2, \"#de77ae\"], [0.3, \"#f1b6da\"], [0.4, \"#fde0ef\"], [0.5, \"#f7f7f7\"], [0.6, \"#e6f5d0\"], [0.7, \"#b8e186\"], [0.8, \"#7fbc41\"], [0.9, \"#4d9221\"], [1, \"#276419\"]], \"sequential\": [[0.0, \"#0d0887\"], [0.1111111111111111, \"#46039f\"], [0.2222222222222222, \"#7201a8\"], [0.3333333333333333, \"#9c179e\"], [0.4444444444444444, \"#bd3786\"], [0.5555555555555556, \"#d8576b\"], [0.6666666666666666, \"#ed7953\"], [0.7777777777777778, \"#fb9f3a\"], [0.8888888888888888, \"#fdca26\"], [1.0, \"#f0f921\"]], \"sequentialminus\": [[0.0, \"#0d0887\"], [0.1111111111111111, \"#46039f\"], [0.2222222222222222, \"#7201a8\"], [0.3333333333333333, \"#9c179e\"], [0.4444444444444444, \"#bd3786\"], [0.5555555555555556, \"#d8576b\"], [0.6666666666666666, \"#ed7953\"], [0.7777777777777778, \"#fb9f3a\"], [0.8888888888888888, \"#fdca26\"], [1.0, \"#f0f921\"]]}, \"colorway\": [\"#636efa\", \"#EF553B\", \"#00cc96\", \"#ab63fa\", \"#FFA15A\", \"#19d3f3\", \"#FF6692\", \"#B6E880\", \"#FF97FF\", \"#FECB52\"], \"font\": {\"color\": \"#2a3f5f\"}, \"geo\": {\"bgcolor\": \"white\", \"lakecolor\": \"white\", \"landcolor\": \"#E5ECF6\", \"showlakes\": true, \"showland\": true, \"subunitcolor\": \"white\"}, \"hoverlabel\": {\"align\": \"left\"}, \"hovermode\": \"closest\", \"mapbox\": {\"style\": \"light\"}, \"paper_bgcolor\": \"white\", \"plot_bgcolor\": \"#E5ECF6\", \"polar\": {\"angularaxis\": {\"gridcolor\": \"white\", \"linecolor\": \"white\", \"ticks\": \"\"}, \"bgcolor\": \"#E5ECF6\", \"radialaxis\": {\"gridcolor\": \"white\", \"linecolor\": \"white\", \"ticks\": \"\"}}, \"scene\": {\"xaxis\": {\"backgroundcolor\": \"#E5ECF6\", \"gridcolor\": \"white\", \"gridwidth\": 2, \"linecolor\": \"white\", \"showbackground\": true, \"ticks\": \"\", \"zerolinecolor\": \"white\"}, \"yaxis\": {\"backgroundcolor\": \"#E5ECF6\", \"gridcolor\": \"white\", \"gridwidth\": 2, \"linecolor\": \"white\", \"showbackground\": true, \"ticks\": \"\", \"zerolinecolor\": \"white\"}, \"zaxis\": {\"backgroundcolor\": \"#E5ECF6\", \"gridcolor\": \"white\", \"gridwidth\": 2, \"linecolor\": \"white\", \"showbackground\": true, \"ticks\": \"\", \"zerolinecolor\": \"white\"}}, \"shapedefaults\": {\"line\": {\"color\": \"#2a3f5f\"}}, \"ternary\": {\"aaxis\": {\"gridcolor\": \"white\", \"linecolor\": \"white\", \"ticks\": \"\"}, \"baxis\": {\"gridcolor\": \"white\", \"linecolor\": \"white\", \"ticks\": \"\"}, \"bgcolor\": \"#E5ECF6\", \"caxis\": {\"gridcolor\": \"white\", \"linecolor\": \"white\", \"ticks\": \"\"}}, \"title\": {\"x\": 0.05}, \"xaxis\": {\"automargin\": true, \"gridcolor\": \"white\", \"linecolor\": \"white\", \"ticks\": \"\", \"title\": {\"standoff\": 15}, \"zerolinecolor\": \"white\", \"zerolinewidth\": 2}, \"yaxis\": {\"automargin\": true, \"gridcolor\": \"white\", \"linecolor\": \"white\", \"ticks\": \"\", \"title\": {\"standoff\": 15}, \"zerolinecolor\": \"white\", \"zerolinewidth\": 2}}}, \"title\": {\"text\": \"Latent Reconstruction Performance\", \"x\": 0.5}, \"xaxis\": {\"anchor\": \"y\", \"domain\": [0.0, 0.45], \"title\": {\"text\": \"Baseline Firing Rate [Hz]\"}}, \"xaxis2\": {\"anchor\": \"y2\", \"domain\": [0.55, 1.0], \"title\": {\"text\": \"Baseline Firing Rate [Hz]\"}}, \"yaxis\": {\"anchor\": \"x\", \"domain\": [0.0, 1.0], \"title\": {\"text\": \"Training Trials\"}}, \"yaxis2\": {\"anchor\": \"x2\", \"domain\": [0.0, 1.0], \"title\": {\"text\": \"Training Trials\"}}},                        {\"responsive\": true}                    ).then(function(){\n",
       "                            \n",
       "var gd = document.getElementById('0eda7748-b94f-4174-bafa-8ae5a9c5374c');\n",
       "var x = new MutationObserver(function (mutations, observer) {{\n",
       "        var display = window.getComputedStyle(gd).display;\n",
       "        if (!display || display === 'none') {{\n",
       "            console.log([gd, 'removed!']);\n",
       "            Plotly.purge(gd);\n",
       "            observer.disconnect();\n",
       "        }}\n",
       "}});\n",
       "\n",
       "// Listen for the removal of the full notebook cells\n",
       "var notebookContainer = gd.closest('#notebook-container');\n",
       "if (notebookContainer) {{\n",
       "    x.observe(notebookContainer, {childList: true});\n",
       "}}\n",
       "\n",
       "// Listen for the clearing of the current output cell\n",
       "var outputEl = gd.closest('.output');\n",
       "if (outputEl) {{\n",
       "    x.observe(outputEl, {childList: true});\n",
       "}}\n",
       "\n",
       "                        })                };                });            </script>        </div>"
      ]
     },
     "metadata": {},
     "output_type": "display_data"
    },
    {
     "data": {
      "application/vnd.plotly.v1+json": {
       "config": {
        "plotlyServerURL": "https://plot.ly"
       },
       "data": [
        {
         "type": "heatmap",
         "x": [
          "5",
          "10",
          "15"
         ],
         "xaxis": "x",
         "y": [
          "50",
          "100",
          "200"
         ],
         "yaxis": "y",
         "z": [
          [
           -6.040854166666577,
           -14.208833333333132,
           -24.942000000000235
          ],
          [
           -1.2339583333332484,
           -2.247875000000022,
           -4.946291666666411
          ],
          [
           0.35206250000010186,
           0.7359999999998763,
           0.6715416666665988
          ]
         ]
        }
       ],
       "layout": {
        "annotations": [
         {
          "showarrow": false,
          "text": "-6.04",
          "x": 0,
          "xref": "x",
          "y": 0
         },
         {
          "showarrow": false,
          "text": "-14.21",
          "x": 1,
          "xref": "x",
          "y": 0
         },
         {
          "showarrow": false,
          "text": "-24.94",
          "x": 2,
          "xref": "x",
          "y": 0
         },
         {
          "showarrow": false,
          "text": "-1.23",
          "x": 0,
          "xref": "x",
          "y": 1
         },
         {
          "showarrow": false,
          "text": "-2.25",
          "x": 1,
          "xref": "x",
          "y": 1
         },
         {
          "showarrow": false,
          "text": "-4.95",
          "x": 2,
          "xref": "x",
          "y": 1
         },
         {
          "showarrow": false,
          "text": "0.35",
          "x": 0,
          "xref": "x",
          "y": 2
         },
         {
          "showarrow": false,
          "text": "0.74",
          "x": 1,
          "xref": "x",
          "y": 2
         },
         {
          "showarrow": false,
          "text": "0.67",
          "x": 2,
          "xref": "x",
          "y": 2
         },
         {
          "showarrow": false,
          "text": "Difference in average log-likelihood loss (Hp: Poisson) on a 1000 trials test set, for 3 independent model runs.",
          "x": 0.5,
          "xref": "x domain",
          "y": -0.22,
          "yref": "y domain"
         }
        ],
        "template": {
         "data": {
          "bar": [
           {
            "error_x": {
             "color": "#2a3f5f"
            },
            "error_y": {
             "color": "#2a3f5f"
            },
            "marker": {
             "line": {
              "color": "#E5ECF6",
              "width": 0.5
             }
            },
            "type": "bar"
           }
          ],
          "barpolar": [
           {
            "marker": {
             "line": {
              "color": "#E5ECF6",
              "width": 0.5
             }
            },
            "type": "barpolar"
           }
          ],
          "carpet": [
           {
            "aaxis": {
             "endlinecolor": "#2a3f5f",
             "gridcolor": "white",
             "linecolor": "white",
             "minorgridcolor": "white",
             "startlinecolor": "#2a3f5f"
            },
            "baxis": {
             "endlinecolor": "#2a3f5f",
             "gridcolor": "white",
             "linecolor": "white",
             "minorgridcolor": "white",
             "startlinecolor": "#2a3f5f"
            },
            "type": "carpet"
           }
          ],
          "choropleth": [
           {
            "colorbar": {
             "outlinewidth": 0,
             "ticks": ""
            },
            "type": "choropleth"
           }
          ],
          "contour": [
           {
            "colorbar": {
             "outlinewidth": 0,
             "ticks": ""
            },
            "colorscale": [
             [
              0,
              "#0d0887"
             ],
             [
              0.1111111111111111,
              "#46039f"
             ],
             [
              0.2222222222222222,
              "#7201a8"
             ],
             [
              0.3333333333333333,
              "#9c179e"
             ],
             [
              0.4444444444444444,
              "#bd3786"
             ],
             [
              0.5555555555555556,
              "#d8576b"
             ],
             [
              0.6666666666666666,
              "#ed7953"
             ],
             [
              0.7777777777777778,
              "#fb9f3a"
             ],
             [
              0.8888888888888888,
              "#fdca26"
             ],
             [
              1,
              "#f0f921"
             ]
            ],
            "type": "contour"
           }
          ],
          "contourcarpet": [
           {
            "colorbar": {
             "outlinewidth": 0,
             "ticks": ""
            },
            "type": "contourcarpet"
           }
          ],
          "heatmap": [
           {
            "colorbar": {
             "outlinewidth": 0,
             "ticks": ""
            },
            "colorscale": [
             [
              0,
              "#0d0887"
             ],
             [
              0.1111111111111111,
              "#46039f"
             ],
             [
              0.2222222222222222,
              "#7201a8"
             ],
             [
              0.3333333333333333,
              "#9c179e"
             ],
             [
              0.4444444444444444,
              "#bd3786"
             ],
             [
              0.5555555555555556,
              "#d8576b"
             ],
             [
              0.6666666666666666,
              "#ed7953"
             ],
             [
              0.7777777777777778,
              "#fb9f3a"
             ],
             [
              0.8888888888888888,
              "#fdca26"
             ],
             [
              1,
              "#f0f921"
             ]
            ],
            "type": "heatmap"
           }
          ],
          "heatmapgl": [
           {
            "colorbar": {
             "outlinewidth": 0,
             "ticks": ""
            },
            "colorscale": [
             [
              0,
              "#0d0887"
             ],
             [
              0.1111111111111111,
              "#46039f"
             ],
             [
              0.2222222222222222,
              "#7201a8"
             ],
             [
              0.3333333333333333,
              "#9c179e"
             ],
             [
              0.4444444444444444,
              "#bd3786"
             ],
             [
              0.5555555555555556,
              "#d8576b"
             ],
             [
              0.6666666666666666,
              "#ed7953"
             ],
             [
              0.7777777777777778,
              "#fb9f3a"
             ],
             [
              0.8888888888888888,
              "#fdca26"
             ],
             [
              1,
              "#f0f921"
             ]
            ],
            "type": "heatmapgl"
           }
          ],
          "histogram": [
           {
            "marker": {
             "colorbar": {
              "outlinewidth": 0,
              "ticks": ""
             }
            },
            "type": "histogram"
           }
          ],
          "histogram2d": [
           {
            "colorbar": {
             "outlinewidth": 0,
             "ticks": ""
            },
            "colorscale": [
             [
              0,
              "#0d0887"
             ],
             [
              0.1111111111111111,
              "#46039f"
             ],
             [
              0.2222222222222222,
              "#7201a8"
             ],
             [
              0.3333333333333333,
              "#9c179e"
             ],
             [
              0.4444444444444444,
              "#bd3786"
             ],
             [
              0.5555555555555556,
              "#d8576b"
             ],
             [
              0.6666666666666666,
              "#ed7953"
             ],
             [
              0.7777777777777778,
              "#fb9f3a"
             ],
             [
              0.8888888888888888,
              "#fdca26"
             ],
             [
              1,
              "#f0f921"
             ]
            ],
            "type": "histogram2d"
           }
          ],
          "histogram2dcontour": [
           {
            "colorbar": {
             "outlinewidth": 0,
             "ticks": ""
            },
            "colorscale": [
             [
              0,
              "#0d0887"
             ],
             [
              0.1111111111111111,
              "#46039f"
             ],
             [
              0.2222222222222222,
              "#7201a8"
             ],
             [
              0.3333333333333333,
              "#9c179e"
             ],
             [
              0.4444444444444444,
              "#bd3786"
             ],
             [
              0.5555555555555556,
              "#d8576b"
             ],
             [
              0.6666666666666666,
              "#ed7953"
             ],
             [
              0.7777777777777778,
              "#fb9f3a"
             ],
             [
              0.8888888888888888,
              "#fdca26"
             ],
             [
              1,
              "#f0f921"
             ]
            ],
            "type": "histogram2dcontour"
           }
          ],
          "mesh3d": [
           {
            "colorbar": {
             "outlinewidth": 0,
             "ticks": ""
            },
            "type": "mesh3d"
           }
          ],
          "parcoords": [
           {
            "line": {
             "colorbar": {
              "outlinewidth": 0,
              "ticks": ""
             }
            },
            "type": "parcoords"
           }
          ],
          "pie": [
           {
            "automargin": true,
            "type": "pie"
           }
          ],
          "scatter": [
           {
            "marker": {
             "colorbar": {
              "outlinewidth": 0,
              "ticks": ""
             }
            },
            "type": "scatter"
           }
          ],
          "scatter3d": [
           {
            "line": {
             "colorbar": {
              "outlinewidth": 0,
              "ticks": ""
             }
            },
            "marker": {
             "colorbar": {
              "outlinewidth": 0,
              "ticks": ""
             }
            },
            "type": "scatter3d"
           }
          ],
          "scattercarpet": [
           {
            "marker": {
             "colorbar": {
              "outlinewidth": 0,
              "ticks": ""
             }
            },
            "type": "scattercarpet"
           }
          ],
          "scattergeo": [
           {
            "marker": {
             "colorbar": {
              "outlinewidth": 0,
              "ticks": ""
             }
            },
            "type": "scattergeo"
           }
          ],
          "scattergl": [
           {
            "marker": {
             "colorbar": {
              "outlinewidth": 0,
              "ticks": ""
             }
            },
            "type": "scattergl"
           }
          ],
          "scattermapbox": [
           {
            "marker": {
             "colorbar": {
              "outlinewidth": 0,
              "ticks": ""
             }
            },
            "type": "scattermapbox"
           }
          ],
          "scatterpolar": [
           {
            "marker": {
             "colorbar": {
              "outlinewidth": 0,
              "ticks": ""
             }
            },
            "type": "scatterpolar"
           }
          ],
          "scatterpolargl": [
           {
            "marker": {
             "colorbar": {
              "outlinewidth": 0,
              "ticks": ""
             }
            },
            "type": "scatterpolargl"
           }
          ],
          "scatterternary": [
           {
            "marker": {
             "colorbar": {
              "outlinewidth": 0,
              "ticks": ""
             }
            },
            "type": "scatterternary"
           }
          ],
          "surface": [
           {
            "colorbar": {
             "outlinewidth": 0,
             "ticks": ""
            },
            "colorscale": [
             [
              0,
              "#0d0887"
             ],
             [
              0.1111111111111111,
              "#46039f"
             ],
             [
              0.2222222222222222,
              "#7201a8"
             ],
             [
              0.3333333333333333,
              "#9c179e"
             ],
             [
              0.4444444444444444,
              "#bd3786"
             ],
             [
              0.5555555555555556,
              "#d8576b"
             ],
             [
              0.6666666666666666,
              "#ed7953"
             ],
             [
              0.7777777777777778,
              "#fb9f3a"
             ],
             [
              0.8888888888888888,
              "#fdca26"
             ],
             [
              1,
              "#f0f921"
             ]
            ],
            "type": "surface"
           }
          ],
          "table": [
           {
            "cells": {
             "fill": {
              "color": "#EBF0F8"
             },
             "line": {
              "color": "white"
             }
            },
            "header": {
             "fill": {
              "color": "#C8D4E3"
             },
             "line": {
              "color": "white"
             }
            },
            "type": "table"
           }
          ]
         },
         "layout": {
          "annotationdefaults": {
           "arrowcolor": "#2a3f5f",
           "arrowhead": 0,
           "arrowwidth": 1
          },
          "autotypenumbers": "strict",
          "coloraxis": {
           "colorbar": {
            "outlinewidth": 0,
            "ticks": ""
           }
          },
          "colorscale": {
           "diverging": [
            [
             0,
             "#8e0152"
            ],
            [
             0.1,
             "#c51b7d"
            ],
            [
             0.2,
             "#de77ae"
            ],
            [
             0.3,
             "#f1b6da"
            ],
            [
             0.4,
             "#fde0ef"
            ],
            [
             0.5,
             "#f7f7f7"
            ],
            [
             0.6,
             "#e6f5d0"
            ],
            [
             0.7,
             "#b8e186"
            ],
            [
             0.8,
             "#7fbc41"
            ],
            [
             0.9,
             "#4d9221"
            ],
            [
             1,
             "#276419"
            ]
           ],
           "sequential": [
            [
             0,
             "#0d0887"
            ],
            [
             0.1111111111111111,
             "#46039f"
            ],
            [
             0.2222222222222222,
             "#7201a8"
            ],
            [
             0.3333333333333333,
             "#9c179e"
            ],
            [
             0.4444444444444444,
             "#bd3786"
            ],
            [
             0.5555555555555556,
             "#d8576b"
            ],
            [
             0.6666666666666666,
             "#ed7953"
            ],
            [
             0.7777777777777778,
             "#fb9f3a"
            ],
            [
             0.8888888888888888,
             "#fdca26"
            ],
            [
             1,
             "#f0f921"
            ]
           ],
           "sequentialminus": [
            [
             0,
             "#0d0887"
            ],
            [
             0.1111111111111111,
             "#46039f"
            ],
            [
             0.2222222222222222,
             "#7201a8"
            ],
            [
             0.3333333333333333,
             "#9c179e"
            ],
            [
             0.4444444444444444,
             "#bd3786"
            ],
            [
             0.5555555555555556,
             "#d8576b"
            ],
            [
             0.6666666666666666,
             "#ed7953"
            ],
            [
             0.7777777777777778,
             "#fb9f3a"
            ],
            [
             0.8888888888888888,
             "#fdca26"
            ],
            [
             1,
             "#f0f921"
            ]
           ]
          },
          "colorway": [
           "#636efa",
           "#EF553B",
           "#00cc96",
           "#ab63fa",
           "#FFA15A",
           "#19d3f3",
           "#FF6692",
           "#B6E880",
           "#FF97FF",
           "#FECB52"
          ],
          "font": {
           "color": "#2a3f5f"
          },
          "geo": {
           "bgcolor": "white",
           "lakecolor": "white",
           "landcolor": "#E5ECF6",
           "showlakes": true,
           "showland": true,
           "subunitcolor": "white"
          },
          "hoverlabel": {
           "align": "left"
          },
          "hovermode": "closest",
          "mapbox": {
           "style": "light"
          },
          "paper_bgcolor": "white",
          "plot_bgcolor": "#E5ECF6",
          "polar": {
           "angularaxis": {
            "gridcolor": "white",
            "linecolor": "white",
            "ticks": ""
           },
           "bgcolor": "#E5ECF6",
           "radialaxis": {
            "gridcolor": "white",
            "linecolor": "white",
            "ticks": ""
           }
          },
          "scene": {
           "xaxis": {
            "backgroundcolor": "#E5ECF6",
            "gridcolor": "white",
            "gridwidth": 2,
            "linecolor": "white",
            "showbackground": true,
            "ticks": "",
            "zerolinecolor": "white"
           },
           "yaxis": {
            "backgroundcolor": "#E5ECF6",
            "gridcolor": "white",
            "gridwidth": 2,
            "linecolor": "white",
            "showbackground": true,
            "ticks": "",
            "zerolinecolor": "white"
           },
           "zaxis": {
            "backgroundcolor": "#E5ECF6",
            "gridcolor": "white",
            "gridwidth": 2,
            "linecolor": "white",
            "showbackground": true,
            "ticks": "",
            "zerolinecolor": "white"
           }
          },
          "shapedefaults": {
           "line": {
            "color": "#2a3f5f"
           }
          },
          "ternary": {
           "aaxis": {
            "gridcolor": "white",
            "linecolor": "white",
            "ticks": ""
           },
           "baxis": {
            "gridcolor": "white",
            "linecolor": "white",
            "ticks": ""
           },
           "bgcolor": "#E5ECF6",
           "caxis": {
            "gridcolor": "white",
            "linecolor": "white",
            "ticks": ""
           }
          },
          "title": {
           "x": 0.05
          },
          "xaxis": {
           "automargin": true,
           "gridcolor": "white",
           "linecolor": "white",
           "ticks": "",
           "title": {
            "standoff": 15
           },
           "zerolinecolor": "white",
           "zerolinewidth": 2
          },
          "yaxis": {
           "automargin": true,
           "gridcolor": "white",
           "linecolor": "white",
           "ticks": "",
           "title": {
            "standoff": 15
           },
           "zerolinecolor": "white",
           "zerolinewidth": 2
          }
         }
        },
        "title": {
         "text": "Latent Reconstruction Difference",
         "x": 0.5
        },
        "xaxis": {
         "anchor": "y",
         "domain": [
          0,
          1
         ],
         "title": {
          "text": "Baseline Firing Rate [Hz]"
         }
        },
        "yaxis": {
         "anchor": "x",
         "domain": [
          0,
          1
         ],
         "title": {
          "text": "Training Trials"
         }
        }
       }
      },
      "text/html": [
       "<div>                            <div id=\"01a78121-4dee-4ef0-9900-34708561f864\" class=\"plotly-graph-div\" style=\"height:525px; width:100%;\"></div>            <script type=\"text/javascript\">                require([\"plotly\"], function(Plotly) {                    window.PLOTLYENV=window.PLOTLYENV || {};                                    if (document.getElementById(\"01a78121-4dee-4ef0-9900-34708561f864\")) {                    Plotly.newPlot(                        \"01a78121-4dee-4ef0-9900-34708561f864\",                        [{\"type\": \"heatmap\", \"x\": [\"5\", \"10\", \"15\"], \"xaxis\": \"x\", \"y\": [\"50\", \"100\", \"200\"], \"yaxis\": \"y\", \"z\": [[-6.040854166666577, -14.208833333333132, -24.942000000000235], [-1.2339583333332484, -2.247875000000022, -4.946291666666411], [0.35206250000010186, 0.7359999999998763, 0.6715416666665988]]}],                        {\"annotations\": [{\"showarrow\": false, \"text\": \"-6.04\", \"x\": 0, \"xref\": \"x\", \"y\": 0}, {\"showarrow\": false, \"text\": \"-14.21\", \"x\": 1, \"xref\": \"x\", \"y\": 0}, {\"showarrow\": false, \"text\": \"-24.94\", \"x\": 2, \"xref\": \"x\", \"y\": 0}, {\"showarrow\": false, \"text\": \"-1.23\", \"x\": 0, \"xref\": \"x\", \"y\": 1}, {\"showarrow\": false, \"text\": \"-2.25\", \"x\": 1, \"xref\": \"x\", \"y\": 1}, {\"showarrow\": false, \"text\": \"-4.95\", \"x\": 2, \"xref\": \"x\", \"y\": 1}, {\"showarrow\": false, \"text\": \"0.35\", \"x\": 0, \"xref\": \"x\", \"y\": 2}, {\"showarrow\": false, \"text\": \"0.74\", \"x\": 1, \"xref\": \"x\", \"y\": 2}, {\"showarrow\": false, \"text\": \"0.67\", \"x\": 2, \"xref\": \"x\", \"y\": 2}, {\"showarrow\": false, \"text\": \"Difference in average log-likelihood loss (Hp: Poisson) on a 1000 trials test set, for 3 independent model runs.\", \"x\": 0.5, \"xref\": \"x domain\", \"y\": -0.22, \"yref\": \"y domain\"}], \"template\": {\"data\": {\"bar\": [{\"error_x\": {\"color\": \"#2a3f5f\"}, \"error_y\": {\"color\": \"#2a3f5f\"}, \"marker\": {\"line\": {\"color\": \"#E5ECF6\", \"width\": 0.5}}, \"type\": \"bar\"}], \"barpolar\": [{\"marker\": {\"line\": {\"color\": \"#E5ECF6\", \"width\": 0.5}}, \"type\": \"barpolar\"}], \"carpet\": [{\"aaxis\": {\"endlinecolor\": \"#2a3f5f\", \"gridcolor\": \"white\", \"linecolor\": \"white\", \"minorgridcolor\": \"white\", \"startlinecolor\": \"#2a3f5f\"}, \"baxis\": {\"endlinecolor\": \"#2a3f5f\", \"gridcolor\": \"white\", \"linecolor\": \"white\", \"minorgridcolor\": \"white\", \"startlinecolor\": \"#2a3f5f\"}, \"type\": \"carpet\"}], \"choropleth\": [{\"colorbar\": {\"outlinewidth\": 0, \"ticks\": \"\"}, \"type\": \"choropleth\"}], \"contour\": [{\"colorbar\": {\"outlinewidth\": 0, \"ticks\": \"\"}, \"colorscale\": [[0.0, \"#0d0887\"], [0.1111111111111111, \"#46039f\"], [0.2222222222222222, \"#7201a8\"], [0.3333333333333333, \"#9c179e\"], [0.4444444444444444, \"#bd3786\"], [0.5555555555555556, \"#d8576b\"], [0.6666666666666666, \"#ed7953\"], [0.7777777777777778, \"#fb9f3a\"], [0.8888888888888888, \"#fdca26\"], [1.0, \"#f0f921\"]], \"type\": \"contour\"}], \"contourcarpet\": [{\"colorbar\": {\"outlinewidth\": 0, \"ticks\": \"\"}, \"type\": \"contourcarpet\"}], \"heatmap\": [{\"colorbar\": {\"outlinewidth\": 0, \"ticks\": \"\"}, \"colorscale\": [[0.0, \"#0d0887\"], [0.1111111111111111, \"#46039f\"], [0.2222222222222222, \"#7201a8\"], [0.3333333333333333, \"#9c179e\"], [0.4444444444444444, \"#bd3786\"], [0.5555555555555556, \"#d8576b\"], [0.6666666666666666, \"#ed7953\"], [0.7777777777777778, \"#fb9f3a\"], [0.8888888888888888, \"#fdca26\"], [1.0, \"#f0f921\"]], \"type\": \"heatmap\"}], \"heatmapgl\": [{\"colorbar\": {\"outlinewidth\": 0, \"ticks\": \"\"}, \"colorscale\": [[0.0, \"#0d0887\"], [0.1111111111111111, \"#46039f\"], [0.2222222222222222, \"#7201a8\"], [0.3333333333333333, \"#9c179e\"], [0.4444444444444444, \"#bd3786\"], [0.5555555555555556, \"#d8576b\"], [0.6666666666666666, \"#ed7953\"], [0.7777777777777778, \"#fb9f3a\"], [0.8888888888888888, \"#fdca26\"], [1.0, \"#f0f921\"]], \"type\": \"heatmapgl\"}], \"histogram\": [{\"marker\": {\"colorbar\": {\"outlinewidth\": 0, \"ticks\": \"\"}}, \"type\": \"histogram\"}], \"histogram2d\": [{\"colorbar\": {\"outlinewidth\": 0, \"ticks\": \"\"}, \"colorscale\": [[0.0, \"#0d0887\"], [0.1111111111111111, \"#46039f\"], [0.2222222222222222, \"#7201a8\"], [0.3333333333333333, \"#9c179e\"], [0.4444444444444444, \"#bd3786\"], [0.5555555555555556, \"#d8576b\"], [0.6666666666666666, \"#ed7953\"], [0.7777777777777778, \"#fb9f3a\"], [0.8888888888888888, \"#fdca26\"], [1.0, \"#f0f921\"]], \"type\": \"histogram2d\"}], \"histogram2dcontour\": [{\"colorbar\": {\"outlinewidth\": 0, \"ticks\": \"\"}, \"colorscale\": [[0.0, \"#0d0887\"], [0.1111111111111111, \"#46039f\"], [0.2222222222222222, \"#7201a8\"], [0.3333333333333333, \"#9c179e\"], [0.4444444444444444, \"#bd3786\"], [0.5555555555555556, \"#d8576b\"], [0.6666666666666666, \"#ed7953\"], [0.7777777777777778, \"#fb9f3a\"], [0.8888888888888888, \"#fdca26\"], [1.0, \"#f0f921\"]], \"type\": \"histogram2dcontour\"}], \"mesh3d\": [{\"colorbar\": {\"outlinewidth\": 0, \"ticks\": \"\"}, \"type\": \"mesh3d\"}], \"parcoords\": [{\"line\": {\"colorbar\": {\"outlinewidth\": 0, \"ticks\": \"\"}}, \"type\": \"parcoords\"}], \"pie\": [{\"automargin\": true, \"type\": \"pie\"}], \"scatter\": [{\"marker\": {\"colorbar\": {\"outlinewidth\": 0, \"ticks\": \"\"}}, \"type\": \"scatter\"}], \"scatter3d\": [{\"line\": {\"colorbar\": {\"outlinewidth\": 0, \"ticks\": \"\"}}, \"marker\": {\"colorbar\": {\"outlinewidth\": 0, \"ticks\": \"\"}}, \"type\": \"scatter3d\"}], \"scattercarpet\": [{\"marker\": {\"colorbar\": {\"outlinewidth\": 0, \"ticks\": \"\"}}, \"type\": \"scattercarpet\"}], \"scattergeo\": [{\"marker\": {\"colorbar\": {\"outlinewidth\": 0, \"ticks\": \"\"}}, \"type\": \"scattergeo\"}], \"scattergl\": [{\"marker\": {\"colorbar\": {\"outlinewidth\": 0, \"ticks\": \"\"}}, \"type\": \"scattergl\"}], \"scattermapbox\": [{\"marker\": {\"colorbar\": {\"outlinewidth\": 0, \"ticks\": \"\"}}, \"type\": \"scattermapbox\"}], \"scatterpolar\": [{\"marker\": {\"colorbar\": {\"outlinewidth\": 0, \"ticks\": \"\"}}, \"type\": \"scatterpolar\"}], \"scatterpolargl\": [{\"marker\": {\"colorbar\": {\"outlinewidth\": 0, \"ticks\": \"\"}}, \"type\": \"scatterpolargl\"}], \"scatterternary\": [{\"marker\": {\"colorbar\": {\"outlinewidth\": 0, \"ticks\": \"\"}}, \"type\": \"scatterternary\"}], \"surface\": [{\"colorbar\": {\"outlinewidth\": 0, \"ticks\": \"\"}, \"colorscale\": [[0.0, \"#0d0887\"], [0.1111111111111111, \"#46039f\"], [0.2222222222222222, \"#7201a8\"], [0.3333333333333333, \"#9c179e\"], [0.4444444444444444, \"#bd3786\"], [0.5555555555555556, \"#d8576b\"], [0.6666666666666666, \"#ed7953\"], [0.7777777777777778, \"#fb9f3a\"], [0.8888888888888888, \"#fdca26\"], [1.0, \"#f0f921\"]], \"type\": \"surface\"}], \"table\": [{\"cells\": {\"fill\": {\"color\": \"#EBF0F8\"}, \"line\": {\"color\": \"white\"}}, \"header\": {\"fill\": {\"color\": \"#C8D4E3\"}, \"line\": {\"color\": \"white\"}}, \"type\": \"table\"}]}, \"layout\": {\"annotationdefaults\": {\"arrowcolor\": \"#2a3f5f\", \"arrowhead\": 0, \"arrowwidth\": 1}, \"autotypenumbers\": \"strict\", \"coloraxis\": {\"colorbar\": {\"outlinewidth\": 0, \"ticks\": \"\"}}, \"colorscale\": {\"diverging\": [[0, \"#8e0152\"], [0.1, \"#c51b7d\"], [0.2, \"#de77ae\"], [0.3, \"#f1b6da\"], [0.4, \"#fde0ef\"], [0.5, \"#f7f7f7\"], [0.6, \"#e6f5d0\"], [0.7, \"#b8e186\"], [0.8, \"#7fbc41\"], [0.9, \"#4d9221\"], [1, \"#276419\"]], \"sequential\": [[0.0, \"#0d0887\"], [0.1111111111111111, \"#46039f\"], [0.2222222222222222, \"#7201a8\"], [0.3333333333333333, \"#9c179e\"], [0.4444444444444444, \"#bd3786\"], [0.5555555555555556, \"#d8576b\"], [0.6666666666666666, \"#ed7953\"], [0.7777777777777778, \"#fb9f3a\"], [0.8888888888888888, \"#fdca26\"], [1.0, \"#f0f921\"]], \"sequentialminus\": [[0.0, \"#0d0887\"], [0.1111111111111111, \"#46039f\"], [0.2222222222222222, \"#7201a8\"], [0.3333333333333333, \"#9c179e\"], [0.4444444444444444, \"#bd3786\"], [0.5555555555555556, \"#d8576b\"], [0.6666666666666666, \"#ed7953\"], [0.7777777777777778, \"#fb9f3a\"], [0.8888888888888888, \"#fdca26\"], [1.0, \"#f0f921\"]]}, \"colorway\": [\"#636efa\", \"#EF553B\", \"#00cc96\", \"#ab63fa\", \"#FFA15A\", \"#19d3f3\", \"#FF6692\", \"#B6E880\", \"#FF97FF\", \"#FECB52\"], \"font\": {\"color\": \"#2a3f5f\"}, \"geo\": {\"bgcolor\": \"white\", \"lakecolor\": \"white\", \"landcolor\": \"#E5ECF6\", \"showlakes\": true, \"showland\": true, \"subunitcolor\": \"white\"}, \"hoverlabel\": {\"align\": \"left\"}, \"hovermode\": \"closest\", \"mapbox\": {\"style\": \"light\"}, \"paper_bgcolor\": \"white\", \"plot_bgcolor\": \"#E5ECF6\", \"polar\": {\"angularaxis\": {\"gridcolor\": \"white\", \"linecolor\": \"white\", \"ticks\": \"\"}, \"bgcolor\": \"#E5ECF6\", \"radialaxis\": {\"gridcolor\": \"white\", \"linecolor\": \"white\", \"ticks\": \"\"}}, \"scene\": {\"xaxis\": {\"backgroundcolor\": \"#E5ECF6\", \"gridcolor\": \"white\", \"gridwidth\": 2, \"linecolor\": \"white\", \"showbackground\": true, \"ticks\": \"\", \"zerolinecolor\": \"white\"}, \"yaxis\": {\"backgroundcolor\": \"#E5ECF6\", \"gridcolor\": \"white\", \"gridwidth\": 2, \"linecolor\": \"white\", \"showbackground\": true, \"ticks\": \"\", \"zerolinecolor\": \"white\"}, \"zaxis\": {\"backgroundcolor\": \"#E5ECF6\", \"gridcolor\": \"white\", \"gridwidth\": 2, \"linecolor\": \"white\", \"showbackground\": true, \"ticks\": \"\", \"zerolinecolor\": \"white\"}}, \"shapedefaults\": {\"line\": {\"color\": \"#2a3f5f\"}}, \"ternary\": {\"aaxis\": {\"gridcolor\": \"white\", \"linecolor\": \"white\", \"ticks\": \"\"}, \"baxis\": {\"gridcolor\": \"white\", \"linecolor\": \"white\", \"ticks\": \"\"}, \"bgcolor\": \"#E5ECF6\", \"caxis\": {\"gridcolor\": \"white\", \"linecolor\": \"white\", \"ticks\": \"\"}}, \"title\": {\"x\": 0.05}, \"xaxis\": {\"automargin\": true, \"gridcolor\": \"white\", \"linecolor\": \"white\", \"ticks\": \"\", \"title\": {\"standoff\": 15}, \"zerolinecolor\": \"white\", \"zerolinewidth\": 2}, \"yaxis\": {\"automargin\": true, \"gridcolor\": \"white\", \"linecolor\": \"white\", \"ticks\": \"\", \"title\": {\"standoff\": 15}, \"zerolinecolor\": \"white\", \"zerolinewidth\": 2}}}, \"title\": {\"text\": \"Latent Reconstruction Difference\", \"x\": 0.5}, \"xaxis\": {\"anchor\": \"y\", \"domain\": [0.0, 1.0], \"title\": {\"text\": \"Baseline Firing Rate [Hz]\"}}, \"yaxis\": {\"anchor\": \"x\", \"domain\": [0.0, 1.0], \"title\": {\"text\": \"Training Trials\"}}},                        {\"responsive\": true}                    ).then(function(){\n",
       "                            \n",
       "var gd = document.getElementById('01a78121-4dee-4ef0-9900-34708561f864');\n",
       "var x = new MutationObserver(function (mutations, observer) {{\n",
       "        var display = window.getComputedStyle(gd).display;\n",
       "        if (!display || display === 'none') {{\n",
       "            console.log([gd, 'removed!']);\n",
       "            Plotly.purge(gd);\n",
       "            observer.disconnect();\n",
       "        }}\n",
       "}});\n",
       "\n",
       "// Listen for the removal of the full notebook cells\n",
       "var notebookContainer = gd.closest('#notebook-container');\n",
       "if (notebookContainer) {{\n",
       "    x.observe(notebookContainer, {childList: true});\n",
       "}}\n",
       "\n",
       "// Listen for the clearing of the current output cell\n",
       "var outputEl = gd.closest('.output');\n",
       "if (outputEl) {{\n",
       "    x.observe(outputEl, {childList: true});\n",
       "}}\n",
       "\n",
       "                        })                };                });            </script>        </div>"
      ]
     },
     "metadata": {},
     "output_type": "display_data"
    }
   ],
   "source": [
    "new_avg_likelihood = pd.pivot_table(new_df, values='test_likelihood', index=['trials'],\n",
    "                                    columns=['baseline_rate'], aggfunc=np.mean)\n",
    "new_avg_likelihood.head()\n",
    "tndm_avg_likelihood = pd.pivot_table(tndm_df, values='test_likelihood', index=['trials'],\n",
    "                                    columns=['baseline_rate'], aggfunc=np.mean)\n",
    "\n",
    "zmin=min([new_avg_likelihood.values.min(), tndm_avg_likelihood.values.min()])\n",
    "zmax=max([new_avg_likelihood.values.max(), tndm_avg_likelihood.values.max()])\n",
    "text_func=np.vectorize(lambda x: '%.1f' % x)\n",
    "fig = make_subplots(rows=1, cols=2)\n",
    "\n",
    "fig.add_trace(\n",
    "    go.Heatmap(\n",
    "        z=new_avg_likelihood.values,\n",
    "        x=['%d' % (x) for x in new_avg_likelihood.columns.tolist()],\n",
    "        y=['%d' % (x) for x in new_avg_likelihood.index.tolist()],\n",
    "        zmin=zmin,\n",
    "        zmax=zmax),\n",
    "    row=1, col=1\n",
    ")\n",
    "\n",
    "fig.add_trace(\n",
    "    go.Heatmap(\n",
    "        z=tndm_avg_likelihood.values,\n",
    "        x=['%d' % (x) for x in tndm_avg_likelihood.columns.tolist()],\n",
    "        y=['%d' % (x) for x in tndm_avg_likelihood.index.tolist()],\n",
    "        zmin=zmin,\n",
    "        zmax=zmax),\n",
    "    row=1, col=2\n",
    ")\n",
    "\n",
    "fig.update_layout(\n",
    "    title_text='Latent Reconstruction Performance', title_x=0.5,\n",
    "    annotations=[\n",
    "        dict(\n",
    "            showarrow=False,\n",
    "            x=iy,\n",
    "            y=ix,\n",
    "            xref='x2',\n",
    "            text='%.2f' % (new_avg_likelihood.iloc[ix, iy])) \n",
    "            for ix,iy in np.ndindex(new_avg_likelihood.values.shape)] + [\n",
    "        dict(\n",
    "            showarrow=False,\n",
    "            x=iy,\n",
    "            y=ix,\n",
    "            xref='x1',\n",
    "            text='%.2f' % (tndm_avg_likelihood.iloc[ix, iy])) \n",
    "            for ix,iy in np.ndindex(tndm_avg_likelihood.values.shape)] + [\n",
    "        dict(\n",
    "            showarrow=False,\n",
    "            xref='x domain',\n",
    "            x=2.1,\n",
    "            yref='y domain',\n",
    "            y=-0.22,\n",
    "            text='Average log-likelihood loss (Hp: Poisson) on a 1000 trials test set, for 3 independent model runs.'),\n",
    "        dict(\n",
    "            showarrow=False,\n",
    "            xref='x domain',\n",
    "            x=0.5,\n",
    "            yref='y domain',\n",
    "            y=1.08,\n",
    "            text='LFADS'),\n",
    "        dict(\n",
    "            showarrow=False,\n",
    "            xref='x domain',\n",
    "            x=1.8,\n",
    "            yref='y domain',\n",
    "            y=1.08,\n",
    "            text='TNDM'),\n",
    "    ])\n",
    "fig['layout']['xaxis1'].update(title='Baseline Firing Rate [Hz]')\n",
    "fig['layout']['xaxis2'].update(title='Baseline Firing Rate [Hz]')\n",
    "fig['layout']['yaxis1'].update(title='Training Trials')\n",
    "fig['layout']['yaxis2'].update(title='Training Trials')\n",
    "\n",
    "fig_diff = make_subplots(rows=1, cols=1)\n",
    "\n",
    "fig_diff.add_trace(\n",
    "    go.Heatmap(\n",
    "        z=tndm_avg_likelihood.values - new_avg_likelihood.values,\n",
    "        x=['%d' % (x) for x in new_avg_likelihood.columns.tolist()],\n",
    "        y=['%d' % (x) for x in new_avg_likelihood.index.tolist()]),\n",
    "    row=1, col=1\n",
    ")\n",
    "\n",
    "fig_diff.update_layout(\n",
    "    title_text='Latent Reconstruction Difference', title_x=0.5,\n",
    "    annotations=[\n",
    "    dict(\n",
    "        showarrow=False,\n",
    "        x=iy,\n",
    "        y=ix,\n",
    "        xref='x1',\n",
    "        text='%.2f' % (tndm_avg_likelihood.iloc[ix, iy] - new_avg_likelihood.iloc[ix, iy])) \n",
    "        for ix,iy in np.ndindex(new_avg_likelihood.values.shape)] +\n",
    "    [\n",
    "        dict(\n",
    "            showarrow=False,\n",
    "            xref='x domain',\n",
    "            x=0.5,\n",
    "            yref='y domain',\n",
    "            y=-0.22,\n",
    "            text='Difference in average log-likelihood loss (Hp: Poisson) on a 1000 trials test set, for 3 independent model runs.'),\n",
    "    ])\n",
    "fig_diff['layout']['xaxis1'].update(title='Baseline Firing Rate [Hz]')\n",
    "fig_diff['layout']['yaxis1'].update(title='Training Trials')\n",
    "\n",
    "fig.show()\n",
    "fig_diff.show()\n",
    "\n"
   ]
  },
  {
   "cell_type": "code",
   "execution_count": null,
   "id": "65d77d0f",
   "metadata": {},
   "outputs": [],
   "source": []
  }
 ],
 "metadata": {
  "kernelspec": {
   "display_name": "latentneural",
   "language": "python",
   "name": "latentneural"
  },
  "language_info": {
   "codemirror_mode": {
    "name": "ipython",
    "version": 3
   },
   "file_extension": ".py",
   "mimetype": "text/x-python",
   "name": "python",
   "nbconvert_exporter": "python",
   "pygments_lexer": "ipython3",
   "version": "3.8.10"
  }
 },
 "nbformat": 4,
 "nbformat_minor": 5
}
