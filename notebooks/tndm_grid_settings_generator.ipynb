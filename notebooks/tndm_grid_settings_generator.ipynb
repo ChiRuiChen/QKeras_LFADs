{
 "cells": [
  {
   "cell_type": "code",
   "execution_count": 1,
   "metadata": {},
   "outputs": [],
   "source": [
    "from latentneural.lorenz import LorenzGenerator, ic\n",
    "from latentneural.data import DataManager\n",
    "from latentneural.utils import logger\n",
    "import numpy as np\n",
    "import tensorflow as tf\n",
    "import os\n",
    "import yaml\n",
    "from copy import deepcopy"
   ]
  },
  {
   "cell_type": "code",
   "execution_count": 2,
   "metadata": {},
   "outputs": [],
   "source": [
    "step = 0.01 # Time step in the simulatio (in seconds)\n",
    "stop = 1 # Final time for the simulation (in seconds)\n",
    "neurons = 30 # Number of neurons\n",
    "base_rate = 5 # Base frequency (in Hz)\n",
    "latent_dim = 3 # Lorenz latent variables encoded in neural activity (relevant+irrelevant)\n",
    "relevant_dim = 2 # Lorenz latent variables encoded in behavioural activity (relevant)\n",
    "behaviour_dim = 4 # Behavioural channels\n",
    "conditions = 1 # Number of conditions to be tested (each condition has different weight matrices to convert latent variables into firing rates and behaviour)\n",
    "trials = 1000 # Number of trials to be tested for each condition\n",
    "initial_conditions = ic.uniform(low=-10, high=10) # Sample initial conditions of Lorenz system from uniform distribution\n",
    "behaviour_sigma=1 # Standard deviation noise added to behaviour\n",
    "seed=0"
   ]
  },
  {
   "cell_type": "code",
   "execution_count": 3,
   "metadata": {},
   "outputs": [
    {
     "name": "stdout",
     "output_type": "stream",
     "text": [
      "{'data': {'behavioural_keys': {'test': 'test_behaviours', 'train': 'train_behaviours', 'validation': 'valid_behaviours'}, 'dataset_filename': 'dataset.h5', 'directory': './latentneural/data/storage/lorenz/grid/{{name}}', 'latent_keys': {'test': 'test_latent', 'train': 'train_latent', 'validation': 'valid_latent'}, 'metadata_filename': 'metadata.json', 'neural_keys': {'test': 'test_data', 'train': 'train_data', 'validation': 'valid_data'}}, 'model': {'settings': {'default_layer_settings': {'kernel_initializer': {'arguments': {'distribution': 'normal', 'mode': 'fan_in', 'scale': 1.0}, 'type': 'variance_scaling'}, 'kernel_regularizer': {'arguments': {'l': 0.1}, 'type': 'l2'}}, 'encoded_dim': 64, 'relevant_factors': 2, 'irrelevant_factors': 1, 'full_logs': False, 'layers': {'behavioural_dense': {'behaviour_sigma': 2.0, 'behaviour_type': 'synchronous', 'kernel_initializer': {'arguments': {'distribution': 'normal', 'mode': 'fan_in', 'scale': 1.0}, 'type': 'variance_scaling'}, 'kernel_regularizer': {'arguments': {'l': 0.1}, 'type': 'l2'}}, 'encoder': {'dropout': 0.05, 'kernel_initializer': {'arguments': {'distribution': 'normal', 'mode': 'fan_in', 'scale': 1.0}, 'type': 'variance_scaling'}, 'kernel_regularizer': {'arguments': {'l': 0.1}, 'type': 'l2'}, 'var_max': 0.1, 'var_min': 0.1}, 'irrelevant_decoder': {'kernel_initializer': {'arguments': {'distribution': 'normal', 'mode': 'fan_in', 'scale': 1.0}, 'type': 'variance_scaling'}, 'kernel_regularizer': {'arguments': {'l': 2}, 'type': 'l2'}, 'original_cell': False, 'recurrent_regularizer': {'arguments': {'l': 2}, 'type': 'l2'}}, 'relevant_decoder': {'kernel_initializer': {'arguments': {'distribution': 'normal', 'mode': 'fan_in', 'scale': 1.0}, 'type': 'variance_scaling'}, 'kernel_regularizer': {'arguments': {'l': 2}, 'type': 'l2'}, 'original_cell': False, 'recurrent_regularizer': {'arguments': {'l': 2}, 'type': 'l2'}}}, 'max_grad_norm': 200, 'timestep': 0.01}, 'type': 'tndm'}, 'output': {'directory': './latentneural/data/storage/lorenz/grid/{{name}}/results_tndm_long.21'}, 'runtime': {'batch_size': 16, 'epochs': 10000, 'learning_rate': {'factor': 0.95, 'initial': 0.01, 'min_lr': 1e-05, 'patience': 15, 'terminating': 0.0001}, 'optimizer': {'arguments': {'beta_1': 0.9, 'beta_2': 0.999, 'epsilon': 0.1}, 'type': 'adam'}, 'weights': {'initial': [1.0, 1.0, 0.0, 0.0, 0.0, 0.0], 'max_weight': [1.0, 1.0, 1.0, 1.0, 1.0, 1.0], 'min_weight': [1.0, 1.0, 0.0, 0.0, 0.0, 0.0], 'update_rate': [0.0, 0.0, 0.0002, 0.0002, 0.0002, 0.0002], 'update_start': [0, 0, 0, 0, 0, 0]}}, 'seed': 0}\n"
     ]
    }
   ],
   "source": [
    "with open(os.path.join('..', 'latentneural', 'data', 'storage', \\\n",
    "                       'lorenz', 'grid', 'settings_template.tndm.long.yaml'), 'r') as f:\n",
    "   training_settings_template = yaml.safe_load(f)\n",
    "print(training_settings_template)"
   ]
  },
  {
   "cell_type": "code",
   "execution_count": 4,
   "metadata": {},
   "outputs": [
    {
     "name": "stdout",
     "output_type": "stream",
     "text": [
      "[16:54:15.837] INFO [latentneural.utils.logging.<module>:26] Training settings stored.\n",
      "[16:54:15.839] INFO [latentneural.utils.logging.<module>:27] Stored train_trials=50|baselinerate=5|behaviour_sigma=0.5\n",
      "[16:54:15.850] INFO [latentneural.utils.logging.<module>:26] Training settings stored.\n",
      "[16:54:15.851] INFO [latentneural.utils.logging.<module>:27] Stored train_trials=100|baselinerate=5|behaviour_sigma=0.5\n",
      "[16:54:15.864] INFO [latentneural.utils.logging.<module>:26] Training settings stored.\n",
      "[16:54:15.866] INFO [latentneural.utils.logging.<module>:27] Stored train_trials=200|baselinerate=5|behaviour_sigma=0.5\n",
      "[16:54:15.877] INFO [latentneural.utils.logging.<module>:26] Training settings stored.\n",
      "[16:54:15.878] INFO [latentneural.utils.logging.<module>:27] Stored train_trials=50|baselinerate=10|behaviour_sigma=0.5\n",
      "[16:54:15.890] INFO [latentneural.utils.logging.<module>:26] Training settings stored.\n",
      "[16:54:15.891] INFO [latentneural.utils.logging.<module>:27] Stored train_trials=100|baselinerate=10|behaviour_sigma=0.5\n",
      "[16:54:15.902] INFO [latentneural.utils.logging.<module>:26] Training settings stored.\n",
      "[16:54:15.903] INFO [latentneural.utils.logging.<module>:27] Stored train_trials=200|baselinerate=10|behaviour_sigma=0.5\n",
      "[16:54:15.914] INFO [latentneural.utils.logging.<module>:26] Training settings stored.\n",
      "[16:54:15.915] INFO [latentneural.utils.logging.<module>:27] Stored train_trials=50|baselinerate=15|behaviour_sigma=0.5\n",
      "[16:54:15.935] INFO [latentneural.utils.logging.<module>:26] Training settings stored.\n",
      "[16:54:15.936] INFO [latentneural.utils.logging.<module>:27] Stored train_trials=100|baselinerate=15|behaviour_sigma=0.5\n",
      "[16:54:15.948] INFO [latentneural.utils.logging.<module>:26] Training settings stored.\n",
      "[16:54:15.949] INFO [latentneural.utils.logging.<module>:27] Stored train_trials=200|baselinerate=15|behaviour_sigma=0.5\n",
      "[16:54:15.969] INFO [latentneural.utils.logging.<module>:26] Training settings stored.\n",
      "[16:54:15.970] INFO [latentneural.utils.logging.<module>:27] Stored train_trials=50|baselinerate=5|behaviour_sigma=1.0\n",
      "[16:54:15.981] INFO [latentneural.utils.logging.<module>:26] Training settings stored.\n",
      "[16:54:15.982] INFO [latentneural.utils.logging.<module>:27] Stored train_trials=100|baselinerate=5|behaviour_sigma=1.0\n",
      "[16:54:16.003] INFO [latentneural.utils.logging.<module>:26] Training settings stored.\n",
      "[16:54:16.004] INFO [latentneural.utils.logging.<module>:27] Stored train_trials=200|baselinerate=5|behaviour_sigma=1.0\n",
      "[16:54:16.017] INFO [latentneural.utils.logging.<module>:26] Training settings stored.\n",
      "[16:54:16.018] INFO [latentneural.utils.logging.<module>:27] Stored train_trials=50|baselinerate=10|behaviour_sigma=1.0\n",
      "[16:54:16.030] INFO [latentneural.utils.logging.<module>:26] Training settings stored.\n",
      "[16:54:16.031] INFO [latentneural.utils.logging.<module>:27] Stored train_trials=100|baselinerate=10|behaviour_sigma=1.0\n",
      "[16:54:16.043] INFO [latentneural.utils.logging.<module>:26] Training settings stored.\n",
      "[16:54:16.044] INFO [latentneural.utils.logging.<module>:27] Stored train_trials=200|baselinerate=10|behaviour_sigma=1.0\n",
      "[16:54:16.062] INFO [latentneural.utils.logging.<module>:26] Training settings stored.\n",
      "[16:54:16.064] INFO [latentneural.utils.logging.<module>:27] Stored train_trials=50|baselinerate=15|behaviour_sigma=1.0\n",
      "[16:54:16.074] INFO [latentneural.utils.logging.<module>:26] Training settings stored.\n",
      "[16:54:16.075] INFO [latentneural.utils.logging.<module>:27] Stored train_trials=100|baselinerate=15|behaviour_sigma=1.0\n",
      "[16:54:16.087] INFO [latentneural.utils.logging.<module>:26] Training settings stored.\n",
      "[16:54:16.088] INFO [latentneural.utils.logging.<module>:27] Stored train_trials=200|baselinerate=15|behaviour_sigma=1.0\n",
      "[16:54:16.101] INFO [latentneural.utils.logging.<module>:26] Training settings stored.\n",
      "[16:54:16.102] INFO [latentneural.utils.logging.<module>:27] Stored train_trials=50|baselinerate=5|behaviour_sigma=2.0\n",
      "[16:54:16.114] INFO [latentneural.utils.logging.<module>:26] Training settings stored.\n",
      "[16:54:16.115] INFO [latentneural.utils.logging.<module>:27] Stored train_trials=100|baselinerate=5|behaviour_sigma=2.0\n",
      "[16:54:16.136] INFO [latentneural.utils.logging.<module>:26] Training settings stored.\n",
      "[16:54:16.137] INFO [latentneural.utils.logging.<module>:27] Stored train_trials=200|baselinerate=5|behaviour_sigma=2.0\n",
      "[16:54:16.157] INFO [latentneural.utils.logging.<module>:26] Training settings stored.\n",
      "[16:54:16.158] INFO [latentneural.utils.logging.<module>:27] Stored train_trials=50|baselinerate=10|behaviour_sigma=2.0\n",
      "[16:54:16.179] INFO [latentneural.utils.logging.<module>:26] Training settings stored.\n",
      "[16:54:16.180] INFO [latentneural.utils.logging.<module>:27] Stored train_trials=100|baselinerate=10|behaviour_sigma=2.0\n",
      "[16:54:16.200] INFO [latentneural.utils.logging.<module>:26] Training settings stored.\n",
      "[16:54:16.201] INFO [latentneural.utils.logging.<module>:27] Stored train_trials=200|baselinerate=10|behaviour_sigma=2.0\n",
      "[16:54:16.213] INFO [latentneural.utils.logging.<module>:26] Training settings stored.\n",
      "[16:54:16.214] INFO [latentneural.utils.logging.<module>:27] Stored train_trials=50|baselinerate=15|behaviour_sigma=2.0\n",
      "[16:54:16.225] INFO [latentneural.utils.logging.<module>:26] Training settings stored.\n",
      "[16:54:16.226] INFO [latentneural.utils.logging.<module>:27] Stored train_trials=100|baselinerate=15|behaviour_sigma=2.0\n",
      "[16:54:16.244] INFO [latentneural.utils.logging.<module>:26] Training settings stored.\n",
      "[16:54:16.245] INFO [latentneural.utils.logging.<module>:27] Stored train_trials=200|baselinerate=15|behaviour_sigma=2.0\n"
     ]
    }
   ],
   "source": [
    "np.random.seed(seed)\n",
    "tf.random.set_seed(seed)\n",
    "\n",
    "for behaviour_sigma in [0.5, 1, 2]:\n",
    "    for base_rate in [5, 10, 15]:\n",
    "        for train_num in [50, 100, 200]:\n",
    "            valid_num = train_num\n",
    "            test_num = trials\n",
    "\n",
    "            dirname = 'train_trials=%d|baselinerate=%d|behaviour_sigma=%.1f' % \\\n",
    "                (train_num, base_rate, behaviour_sigma)\n",
    "            data_dir = os.path.join('..', 'latentneural', 'data', 'storage', 'lorenz', 'grid', \\\n",
    "                                    dirname)\n",
    "            training_settings = deepcopy(training_settings_template)\n",
    "            training_settings['data']['directory'] = \\\n",
    "                training_settings['data']['directory'].replace('{{name}}', dirname)\n",
    "            training_settings['output']['directory'] = \\\n",
    "                training_settings['output']['directory'].replace('{{name}}', dirname)\n",
    "            \n",
    "            # keeping ratio of behaviour sigmas constant\n",
    "            # training_settings['model']['settings']['layers']['behavioural_dense']['behaviour_sigma'] *= \\\n",
    "            #     (behaviour_sigma / 0.5)\n",
    "            \n",
    "            with open(os.path.join(data_dir, 'training_settings.tndm.long.21.yaml'), 'w') as fp:\n",
    "                yaml.dump(training_settings, fp)\n",
    "            logger.info('Training settings stored.')\n",
    "            logger.info('Stored train_trials=%d|baselinerate=%d|behaviour_sigma=%.1f' % \\\n",
    "                (train_num, base_rate, behaviour_sigma))"
   ]
  }
 ],
 "metadata": {
  "kernelspec": {
   "display_name": "latentneural",
   "language": "python",
   "name": "latentneural"
  },
  "language_info": {
   "codemirror_mode": {
    "name": "ipython",
    "version": 3
   },
   "file_extension": ".py",
   "mimetype": "text/x-python",
   "name": "python",
   "nbconvert_exporter": "python",
   "pygments_lexer": "ipython3",
   "version": "3.8.10"
  },
  "metadata": {
   "interpreter": {
    "hash": "1ff63d4d10c80c355101950545778da81857c7b6dbd37ac71d711732e5d5d456"
   }
  }
 },
 "nbformat": 4,
 "nbformat_minor": 2
}
